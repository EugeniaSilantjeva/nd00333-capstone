{
 "cells": [
  {
   "cell_type": "markdown",
   "metadata": {},
   "source": [
    "# Automated ML\n",
    "\n",
    "TODO: Import Dependencies. In the cell below, import all the dependencies that you will need to complete the project."
   ]
  },
  {
   "cell_type": "code",
   "execution_count": 2,
   "metadata": {
    "gather": {
     "logged": 1598423888013
    },
    "jupyter": {
     "outputs_hidden": false,
     "source_hidden": false
    },
    "nteract": {
     "transient": {
      "deleting": false
     }
    }
   },
   "outputs": [
    {
     "name": "stdout",
     "output_type": "stream",
     "text": [
      "SDK version: 1.20.0\n"
     ]
    }
   ],
   "source": [
    "import os\n",
    "\n",
    "from azureml.core.experiment import Experiment\n",
    "from azureml.core.workspace import Workspace\n",
    "from azureml.train.automl import AutoMLConfig\n",
    "from azureml.core.dataset import Dataset\n",
    "\n",
    "from azureml.core.compute import ComputeTarget, AmlCompute\n",
    "from azureml.core.compute_target import ComputeTargetException\n",
    "\n",
    "from azureml.core.model import InferenceConfig\n",
    "from azureml.core.environment import Environment\n",
    "from azureml.core.webservice import AciWebservice\n",
    "\n",
    "import requests\n",
    "import json\n",
    "\n",
    "# Check core SDK version number\n",
    "print(\"SDK version:\", azureml.core.VERSION)"
   ]
  },
  {
   "cell_type": "code",
   "execution_count": 3,
   "metadata": {
    "gather": {
     "logged": 1598423890461
    },
    "jupyter": {
     "outputs_hidden": false,
     "source_hidden": false
    },
    "nteract": {
     "transient": {
      "deleting": false
     }
    }
   },
   "outputs": [],
   "source": [
    "ws = Workspace.from_config()\n",
    "\n",
    "# Choosing a name for experiment\n",
    "experiment_name = 'AutoML-Experiment'\n",
    "\n",
    "experiment=Experiment(ws, experiment_name)\n",
    "#project_folder = './pipeline-project'\n"
   ]
  },
  {
   "cell_type": "markdown",
   "metadata": {},
   "source": [
    "# Compute Cluster"
   ]
  },
  {
   "cell_type": "code",
   "execution_count": 4,
   "metadata": {},
   "outputs": [
    {
     "name": "stdout",
     "output_type": "stream",
     "text": [
      "Found existing cluster, use it.\n",
      "\n",
      "Running\n"
     ]
    }
   ],
   "source": [
    "cpu_cluster_name = \"cpu-cluster\"\n",
    "\n",
    "# Verifying that cluster does not exist already\n",
    "try:\n",
    "    cpu_cluster = ComputeTarget(workspace=ws, name=cpu_cluster_name)\n",
    "    print('Found existing cluster, use it.')\n",
    "except ComputeTargetException:\n",
    "    compute_config = AmlCompute.provisioning_configuration(vm_size='STANDARD_D2_V2',\n",
    "                                                          max_nodes=4)\n",
    "    cpu_cluster = ComputeTarget.create(ws, cpu_cluster_name, compute_config)\n",
    "\n",
    "cpu_cluster.wait_for_completion(show_output=True)"
   ]
  },
  {
   "cell_type": "markdown",
   "metadata": {},
   "source": [
    "# Dataset\n",
    "\n",
    "\n",
    "TODO: In this markdown cell, give an overview of the dataset you are using. Also mention the task you will be performing.\n",
    "\n",
    "\n",
    "The dataset \"Heart Failure Prediction\" contains 12 clinical features of 299 patients with heart failure and a target variable \"DEATH EVENT\" indicating if the patient deceased during the follow-up period (boolean). Machine Learning can help detect and manage high-risk patients at an earlier stage. \n",
    "\n",
    "To solve this binary classification problem, I will use the 12 features to predict possible death events with the help of an ML algorithm.  \n",
    "\n",
    "\n",
    "TODO: Get data. In the cell below, write code to access the data you will be using in this project. Remember that the dataset needs to be external."
   ]
  },
  {
   "cell_type": "code",
   "execution_count": 5,
   "metadata": {},
   "outputs": [],
   "source": [
    "found = False\n",
    "key = \"Heart Failure Prediction\"\n",
    "description_text = \"Heart Failure Prediction DataSet for Udacity Project 3\"\n",
    "\n",
    "if key in ws.datasets.keys(): \n",
    "        found = True\n",
    "        dataset = ws.datasets[key] \n",
    "\n",
    "if not found:\n",
    "        # Creating Dataset and register it into Workspace\n",
    "        example_data = 'https://github.com/EugeniaSilantjeva/nd00333-capstone/blob/master/heart_failure_clinical_records_dataset.csv'\n",
    "        dataset = Dataset.Tabular.from_delimited_files(example_data)        \n",
    "        # Registering Dataset in Workspace\n",
    "        dataset = dataset.register(workspace=ws,\n",
    "                                   name=key,\n",
    "                                   description=description_text)"
   ]
  },
  {
   "cell_type": "code",
   "execution_count": 6,
   "metadata": {},
   "outputs": [
    {
     "data": {
      "text/html": [
       "<div>\n",
       "<style scoped>\n",
       "    .dataframe tbody tr th:only-of-type {\n",
       "        vertical-align: middle;\n",
       "    }\n",
       "\n",
       "    .dataframe tbody tr th {\n",
       "        vertical-align: top;\n",
       "    }\n",
       "\n",
       "    .dataframe thead th {\n",
       "        text-align: right;\n",
       "    }\n",
       "</style>\n",
       "<table border=\"1\" class=\"dataframe\">\n",
       "  <thead>\n",
       "    <tr style=\"text-align: right;\">\n",
       "      <th></th>\n",
       "      <th>age</th>\n",
       "      <th>anaemia</th>\n",
       "      <th>creatinine_phosphokinase</th>\n",
       "      <th>diabetes</th>\n",
       "      <th>ejection_fraction</th>\n",
       "      <th>high_blood_pressure</th>\n",
       "      <th>platelets</th>\n",
       "      <th>serum_creatinine</th>\n",
       "      <th>serum_sodium</th>\n",
       "      <th>sex</th>\n",
       "      <th>smoking</th>\n",
       "      <th>time</th>\n",
       "      <th>DEATH_EVENT</th>\n",
       "    </tr>\n",
       "  </thead>\n",
       "  <tbody>\n",
       "    <tr>\n",
       "      <th>0</th>\n",
       "      <td>75.0</td>\n",
       "      <td>0</td>\n",
       "      <td>582</td>\n",
       "      <td>0</td>\n",
       "      <td>20</td>\n",
       "      <td>1</td>\n",
       "      <td>265000.00</td>\n",
       "      <td>1.9</td>\n",
       "      <td>130</td>\n",
       "      <td>1</td>\n",
       "      <td>0</td>\n",
       "      <td>4</td>\n",
       "      <td>1</td>\n",
       "    </tr>\n",
       "    <tr>\n",
       "      <th>1</th>\n",
       "      <td>55.0</td>\n",
       "      <td>0</td>\n",
       "      <td>7861</td>\n",
       "      <td>0</td>\n",
       "      <td>38</td>\n",
       "      <td>0</td>\n",
       "      <td>263358.03</td>\n",
       "      <td>1.1</td>\n",
       "      <td>136</td>\n",
       "      <td>1</td>\n",
       "      <td>0</td>\n",
       "      <td>6</td>\n",
       "      <td>1</td>\n",
       "    </tr>\n",
       "    <tr>\n",
       "      <th>2</th>\n",
       "      <td>65.0</td>\n",
       "      <td>0</td>\n",
       "      <td>146</td>\n",
       "      <td>0</td>\n",
       "      <td>20</td>\n",
       "      <td>0</td>\n",
       "      <td>162000.00</td>\n",
       "      <td>1.3</td>\n",
       "      <td>129</td>\n",
       "      <td>1</td>\n",
       "      <td>1</td>\n",
       "      <td>7</td>\n",
       "      <td>1</td>\n",
       "    </tr>\n",
       "    <tr>\n",
       "      <th>3</th>\n",
       "      <td>50.0</td>\n",
       "      <td>1</td>\n",
       "      <td>111</td>\n",
       "      <td>0</td>\n",
       "      <td>20</td>\n",
       "      <td>0</td>\n",
       "      <td>210000.00</td>\n",
       "      <td>1.9</td>\n",
       "      <td>137</td>\n",
       "      <td>1</td>\n",
       "      <td>0</td>\n",
       "      <td>7</td>\n",
       "      <td>1</td>\n",
       "    </tr>\n",
       "    <tr>\n",
       "      <th>4</th>\n",
       "      <td>65.0</td>\n",
       "      <td>1</td>\n",
       "      <td>160</td>\n",
       "      <td>1</td>\n",
       "      <td>20</td>\n",
       "      <td>0</td>\n",
       "      <td>327000.00</td>\n",
       "      <td>2.7</td>\n",
       "      <td>116</td>\n",
       "      <td>0</td>\n",
       "      <td>0</td>\n",
       "      <td>8</td>\n",
       "      <td>1</td>\n",
       "    </tr>\n",
       "  </tbody>\n",
       "</table>\n",
       "</div>"
      ],
      "text/plain": [
       "    age  anaemia  creatinine_phosphokinase  diabetes  ejection_fraction  \\\n",
       "0  75.0        0                       582         0                 20   \n",
       "1  55.0        0                      7861         0                 38   \n",
       "2  65.0        0                       146         0                 20   \n",
       "3  50.0        1                       111         0                 20   \n",
       "4  65.0        1                       160         1                 20   \n",
       "\n",
       "   high_blood_pressure  platelets  serum_creatinine  serum_sodium  sex  \\\n",
       "0                    1  265000.00               1.9           130    1   \n",
       "1                    0  263358.03               1.1           136    1   \n",
       "2                    0  162000.00               1.3           129    1   \n",
       "3                    0  210000.00               1.9           137    1   \n",
       "4                    0  327000.00               2.7           116    0   \n",
       "\n",
       "   smoking  time  DEATH_EVENT  \n",
       "0        0     4            1  \n",
       "1        0     6            1  \n",
       "2        1     7            1  \n",
       "3        0     7            1  \n",
       "4        0     8            1  "
      ]
     },
     "execution_count": 6,
     "metadata": {},
     "output_type": "execute_result"
    }
   ],
   "source": [
    "dataset.take(5).to_pandas_dataframe()"
   ]
  },
  {
   "cell_type": "code",
   "execution_count": 7,
   "metadata": {},
   "outputs": [
    {
     "data": {
      "text/html": [
       "<div>\n",
       "<style scoped>\n",
       "    .dataframe tbody tr th:only-of-type {\n",
       "        vertical-align: middle;\n",
       "    }\n",
       "\n",
       "    .dataframe tbody tr th {\n",
       "        vertical-align: top;\n",
       "    }\n",
       "\n",
       "    .dataframe thead th {\n",
       "        text-align: right;\n",
       "    }\n",
       "</style>\n",
       "<table border=\"1\" class=\"dataframe\">\n",
       "  <thead>\n",
       "    <tr style=\"text-align: right;\">\n",
       "      <th></th>\n",
       "      <th>age</th>\n",
       "      <th>anaemia</th>\n",
       "      <th>creatinine_phosphokinase</th>\n",
       "      <th>diabetes</th>\n",
       "      <th>ejection_fraction</th>\n",
       "      <th>high_blood_pressure</th>\n",
       "      <th>platelets</th>\n",
       "      <th>serum_creatinine</th>\n",
       "      <th>serum_sodium</th>\n",
       "      <th>sex</th>\n",
       "      <th>smoking</th>\n",
       "      <th>time</th>\n",
       "      <th>DEATH_EVENT</th>\n",
       "    </tr>\n",
       "  </thead>\n",
       "  <tbody>\n",
       "    <tr>\n",
       "      <th>count</th>\n",
       "      <td>299.000000</td>\n",
       "      <td>299.000000</td>\n",
       "      <td>299.000000</td>\n",
       "      <td>299.000000</td>\n",
       "      <td>299.000000</td>\n",
       "      <td>299.000000</td>\n",
       "      <td>299.000000</td>\n",
       "      <td>299.00000</td>\n",
       "      <td>299.000000</td>\n",
       "      <td>299.000000</td>\n",
       "      <td>299.00000</td>\n",
       "      <td>299.000000</td>\n",
       "      <td>299.00000</td>\n",
       "    </tr>\n",
       "    <tr>\n",
       "      <th>mean</th>\n",
       "      <td>60.833893</td>\n",
       "      <td>0.431438</td>\n",
       "      <td>581.839465</td>\n",
       "      <td>0.418060</td>\n",
       "      <td>38.083612</td>\n",
       "      <td>0.351171</td>\n",
       "      <td>263358.029264</td>\n",
       "      <td>1.39388</td>\n",
       "      <td>136.625418</td>\n",
       "      <td>0.648829</td>\n",
       "      <td>0.32107</td>\n",
       "      <td>130.260870</td>\n",
       "      <td>0.32107</td>\n",
       "    </tr>\n",
       "    <tr>\n",
       "      <th>std</th>\n",
       "      <td>11.894809</td>\n",
       "      <td>0.496107</td>\n",
       "      <td>970.287881</td>\n",
       "      <td>0.494067</td>\n",
       "      <td>11.834841</td>\n",
       "      <td>0.478136</td>\n",
       "      <td>97804.236869</td>\n",
       "      <td>1.03451</td>\n",
       "      <td>4.412477</td>\n",
       "      <td>0.478136</td>\n",
       "      <td>0.46767</td>\n",
       "      <td>77.614208</td>\n",
       "      <td>0.46767</td>\n",
       "    </tr>\n",
       "    <tr>\n",
       "      <th>min</th>\n",
       "      <td>40.000000</td>\n",
       "      <td>0.000000</td>\n",
       "      <td>23.000000</td>\n",
       "      <td>0.000000</td>\n",
       "      <td>14.000000</td>\n",
       "      <td>0.000000</td>\n",
       "      <td>25100.000000</td>\n",
       "      <td>0.50000</td>\n",
       "      <td>113.000000</td>\n",
       "      <td>0.000000</td>\n",
       "      <td>0.00000</td>\n",
       "      <td>4.000000</td>\n",
       "      <td>0.00000</td>\n",
       "    </tr>\n",
       "    <tr>\n",
       "      <th>25%</th>\n",
       "      <td>51.000000</td>\n",
       "      <td>0.000000</td>\n",
       "      <td>116.500000</td>\n",
       "      <td>0.000000</td>\n",
       "      <td>30.000000</td>\n",
       "      <td>0.000000</td>\n",
       "      <td>212500.000000</td>\n",
       "      <td>0.90000</td>\n",
       "      <td>134.000000</td>\n",
       "      <td>0.000000</td>\n",
       "      <td>0.00000</td>\n",
       "      <td>73.000000</td>\n",
       "      <td>0.00000</td>\n",
       "    </tr>\n",
       "    <tr>\n",
       "      <th>50%</th>\n",
       "      <td>60.000000</td>\n",
       "      <td>0.000000</td>\n",
       "      <td>250.000000</td>\n",
       "      <td>0.000000</td>\n",
       "      <td>38.000000</td>\n",
       "      <td>0.000000</td>\n",
       "      <td>262000.000000</td>\n",
       "      <td>1.10000</td>\n",
       "      <td>137.000000</td>\n",
       "      <td>1.000000</td>\n",
       "      <td>0.00000</td>\n",
       "      <td>115.000000</td>\n",
       "      <td>0.00000</td>\n",
       "    </tr>\n",
       "    <tr>\n",
       "      <th>75%</th>\n",
       "      <td>70.000000</td>\n",
       "      <td>1.000000</td>\n",
       "      <td>582.000000</td>\n",
       "      <td>1.000000</td>\n",
       "      <td>45.000000</td>\n",
       "      <td>1.000000</td>\n",
       "      <td>303500.000000</td>\n",
       "      <td>1.40000</td>\n",
       "      <td>140.000000</td>\n",
       "      <td>1.000000</td>\n",
       "      <td>1.00000</td>\n",
       "      <td>203.000000</td>\n",
       "      <td>1.00000</td>\n",
       "    </tr>\n",
       "    <tr>\n",
       "      <th>max</th>\n",
       "      <td>95.000000</td>\n",
       "      <td>1.000000</td>\n",
       "      <td>7861.000000</td>\n",
       "      <td>1.000000</td>\n",
       "      <td>80.000000</td>\n",
       "      <td>1.000000</td>\n",
       "      <td>850000.000000</td>\n",
       "      <td>9.40000</td>\n",
       "      <td>148.000000</td>\n",
       "      <td>1.000000</td>\n",
       "      <td>1.00000</td>\n",
       "      <td>285.000000</td>\n",
       "      <td>1.00000</td>\n",
       "    </tr>\n",
       "  </tbody>\n",
       "</table>\n",
       "</div>"
      ],
      "text/plain": [
       "              age     anaemia  creatinine_phosphokinase    diabetes  \\\n",
       "count  299.000000  299.000000                299.000000  299.000000   \n",
       "mean    60.833893    0.431438                581.839465    0.418060   \n",
       "std     11.894809    0.496107                970.287881    0.494067   \n",
       "min     40.000000    0.000000                 23.000000    0.000000   \n",
       "25%     51.000000    0.000000                116.500000    0.000000   \n",
       "50%     60.000000    0.000000                250.000000    0.000000   \n",
       "75%     70.000000    1.000000                582.000000    1.000000   \n",
       "max     95.000000    1.000000               7861.000000    1.000000   \n",
       "\n",
       "       ejection_fraction  high_blood_pressure      platelets  \\\n",
       "count         299.000000           299.000000     299.000000   \n",
       "mean           38.083612             0.351171  263358.029264   \n",
       "std            11.834841             0.478136   97804.236869   \n",
       "min            14.000000             0.000000   25100.000000   \n",
       "25%            30.000000             0.000000  212500.000000   \n",
       "50%            38.000000             0.000000  262000.000000   \n",
       "75%            45.000000             1.000000  303500.000000   \n",
       "max            80.000000             1.000000  850000.000000   \n",
       "\n",
       "       serum_creatinine  serum_sodium         sex    smoking        time  \\\n",
       "count         299.00000    299.000000  299.000000  299.00000  299.000000   \n",
       "mean            1.39388    136.625418    0.648829    0.32107  130.260870   \n",
       "std             1.03451      4.412477    0.478136    0.46767   77.614208   \n",
       "min             0.50000    113.000000    0.000000    0.00000    4.000000   \n",
       "25%             0.90000    134.000000    0.000000    0.00000   73.000000   \n",
       "50%             1.10000    137.000000    1.000000    0.00000  115.000000   \n",
       "75%             1.40000    140.000000    1.000000    1.00000  203.000000   \n",
       "max             9.40000    148.000000    1.000000    1.00000  285.000000   \n",
       "\n",
       "       DEATH_EVENT  \n",
       "count    299.00000  \n",
       "mean       0.32107  \n",
       "std        0.46767  \n",
       "min        0.00000  \n",
       "25%        0.00000  \n",
       "50%        0.00000  \n",
       "75%        1.00000  \n",
       "max        1.00000  "
      ]
     },
     "execution_count": 7,
     "metadata": {},
     "output_type": "execute_result"
    }
   ],
   "source": [
    "df = dataset.to_pandas_dataframe()\n",
    "df.describe()"
   ]
  },
  {
   "cell_type": "code",
   "execution_count": 8,
   "metadata": {},
   "outputs": [
    {
     "data": {
      "text/html": [
       "<div>\n",
       "<style scoped>\n",
       "    .dataframe tbody tr th:only-of-type {\n",
       "        vertical-align: middle;\n",
       "    }\n",
       "\n",
       "    .dataframe tbody tr th {\n",
       "        vertical-align: top;\n",
       "    }\n",
       "\n",
       "    .dataframe thead th {\n",
       "        text-align: right;\n",
       "    }\n",
       "</style>\n",
       "<table border=\"1\" class=\"dataframe\">\n",
       "  <thead>\n",
       "    <tr style=\"text-align: right;\">\n",
       "      <th></th>\n",
       "      <th>age</th>\n",
       "      <th>anaemia</th>\n",
       "      <th>creatinine_phosphokinase</th>\n",
       "      <th>diabetes</th>\n",
       "      <th>ejection_fraction</th>\n",
       "      <th>high_blood_pressure</th>\n",
       "      <th>platelets</th>\n",
       "      <th>serum_creatinine</th>\n",
       "      <th>serum_sodium</th>\n",
       "      <th>sex</th>\n",
       "      <th>smoking</th>\n",
       "      <th>time</th>\n",
       "      <th>DEATH_EVENT</th>\n",
       "    </tr>\n",
       "  </thead>\n",
       "  <tbody>\n",
       "  </tbody>\n",
       "</table>\n",
       "</div>"
      ],
      "text/plain": [
       "Empty DataFrame\n",
       "Columns: [age, anaemia, creatinine_phosphokinase, diabetes, ejection_fraction, high_blood_pressure, platelets, serum_creatinine, serum_sodium, sex, smoking, time, DEATH_EVENT]\n",
       "Index: []"
      ]
     },
     "execution_count": 8,
     "metadata": {},
     "output_type": "execute_result"
    }
   ],
   "source": [
    "df[df.isnull().any(axis=1)]"
   ]
  },
  {
   "cell_type": "code",
   "execution_count": 9,
   "metadata": {},
   "outputs": [
    {
     "data": {
      "text/plain": [
       "0    203\n",
       "1     96\n",
       "Name: DEATH_EVENT, dtype: int64"
      ]
     },
     "execution_count": 9,
     "metadata": {},
     "output_type": "execute_result"
    }
   ],
   "source": [
    "df[\"DEATH_EVENT\"].value_counts()"
   ]
  },
  {
   "cell_type": "raw",
   "metadata": {},
   "source": [
    "## AutoML Configuration\n",
    "\n",
    "TODO: Explain why you chose the automl settings and cofiguration you used below.\n",
    "\n",
    "automl settings: experiment_timeout_minutes - maximum amount of time the experiment can take. I set 20 minutes to save time. \n",
    "max_concurrent_iterations - maximum number of parallel runs executed on a AmlCompute cluster. Because it should be less than or equal to the number of nodes, it is set to 4. The primary metric is Under the Curve Weighted, **AUC_weighted**, to deal with class imbalance.\n",
    "\n",
    "AutoMLConfig: This is a binary classification task. \"dataset\" is what I have imported earlier from the registered dataset in Azure Workspace. The label inside the dataset I'm trying to predict is \"DEATH_EVENT\". To save time and resources, the enable_early_stopping parameter is set to True.\n",
    "\n"
   ]
  },
  {
   "cell_type": "code",
   "execution_count": 10,
   "metadata": {
    "gather": {
     "logged": 1598429217746
    },
    "jupyter": {
     "outputs_hidden": false,
     "source_hidden": false
    },
    "nteract": {
     "transient": {
      "deleting": false
     }
    }
   },
   "outputs": [],
   "source": [
    "# TODO: Put your automl settings here\n",
    "automl_settings = {\n",
    "    \"experiment_timeout_minutes\": 20,\n",
    "    \"max_concurrent_iterations\": 4,\n",
    "    \"primary_metric\" : 'AUC_weighted'\n",
    "}\n",
    "\n",
    "# TODO: Put your automl config here\n",
    "automl_config = AutoMLConfig(compute_target=cpu_cluster,\n",
    "                             task = \"classification\",\n",
    "                             training_data=dataset,\n",
    "                             label_column_name=\"DEATH_EVENT\",   \n",
    "                             enable_early_stopping= True,\n",
    "                             featurization= 'auto',\n",
    "                             debug_log = \"automl_errors.log\",\n",
    "                             **automl_settings\n",
    "                            )\n"
   ]
  },
  {
   "cell_type": "code",
   "execution_count": 11,
   "metadata": {
    "gather": {
     "logged": 1598431107951
    },
    "jupyter": {
     "outputs_hidden": false,
     "source_hidden": false
    },
    "nteract": {
     "transient": {
      "deleting": false
     }
    }
   },
   "outputs": [
    {
     "name": "stdout",
     "output_type": "stream",
     "text": [
      "Running on remote.\n"
     ]
    }
   ],
   "source": [
    "# TODO: Submit your experiment\n",
    "automl_run = experiment.submit(automl_config)"
   ]
  },
  {
   "cell_type": "markdown",
   "metadata": {},
   "source": [
    "## Run Details\n",
    "\n",
    "\n",
    "TODO: In the cell below, use the `RunDetails` widget to show the different experiments."
   ]
  },
  {
   "cell_type": "code",
   "execution_count": 15,
   "metadata": {
    "gather": {
     "logged": 1598431121770
    },
    "jupyter": {
     "outputs_hidden": false,
     "source_hidden": false
    },
    "nteract": {
     "transient": {
      "deleting": false
     }
    }
   },
   "outputs": [
    {
     "data": {
      "application/vnd.jupyter.widget-view+json": {
       "model_id": "2f783da3d7f941c292ef6d45b19aae50",
       "version_major": 2,
       "version_minor": 0
      },
      "text/plain": [
       "_AutoMLWidget(widget_settings={'childWidgetDisplay': 'popup', 'send_telemetry': False, 'log_level': 'INFO', 's…"
      ]
     },
     "metadata": {},
     "output_type": "display_data"
    },
    {
     "data": {
      "application/aml.mini.widget.v1": "{\"status\": \"Completed\", \"workbench_run_details_uri\": \"https://ml.azure.com/experiments/AutoML-Experiment/runs/AutoML_68866b9b-1325-46cb-ac93-a8130014da6e?wsid=/subscriptions/610d6e37-4747-4a20-80eb-3aad70a55f43/resourcegroups/aml-quickstarts-136159/workspaces/quick-starts-ws-136159\", \"run_id\": \"AutoML_68866b9b-1325-46cb-ac93-a8130014da6e\", \"run_properties\": {\"run_id\": \"AutoML_68866b9b-1325-46cb-ac93-a8130014da6e\", \"created_utc\": \"2021-01-26T18:35:03.705176Z\", \"properties\": {\"num_iterations\": \"1000\", \"training_type\": \"TrainFull\", \"acquisition_function\": \"EI\", \"primary_metric\": \"AUC_weighted\", \"train_split\": \"0\", \"acquisition_parameter\": \"0\", \"num_cross_validation\": null, \"target\": \"cpu-cluster\", \"AMLSettingsJsonString\": \"{\\\"path\\\":null,\\\"name\\\":\\\"AutoML-Experiment\\\",\\\"subscription_id\\\":\\\"610d6e37-4747-4a20-80eb-3aad70a55f43\\\",\\\"resource_group\\\":\\\"aml-quickstarts-136159\\\",\\\"workspace_name\\\":\\\"quick-starts-ws-136159\\\",\\\"region\\\":\\\"southcentralus\\\",\\\"compute_target\\\":\\\"cpu-cluster\\\",\\\"spark_service\\\":null,\\\"azure_service\\\":\\\"remote\\\",\\\"many_models\\\":false,\\\"pipeline_fetch_max_batch_size\\\":1,\\\"iterations\\\":1000,\\\"primary_metric\\\":\\\"AUC_weighted\\\",\\\"task_type\\\":\\\"classification\\\",\\\"data_script\\\":null,\\\"validation_size\\\":0.0,\\\"n_cross_validations\\\":null,\\\"y_min\\\":null,\\\"y_max\\\":null,\\\"num_classes\\\":null,\\\"featurization\\\":\\\"auto\\\",\\\"_ignore_package_version_incompatibilities\\\":false,\\\"is_timeseries\\\":false,\\\"max_cores_per_iteration\\\":1,\\\"max_concurrent_iterations\\\":4,\\\"iteration_timeout_minutes\\\":null,\\\"mem_in_mb\\\":null,\\\"enforce_time_on_windows\\\":false,\\\"experiment_timeout_minutes\\\":20,\\\"experiment_exit_score\\\":null,\\\"whitelist_models\\\":null,\\\"blacklist_algos\\\":[\\\"TensorFlowLinearClassifier\\\",\\\"TensorFlowDNN\\\"],\\\"supported_models\\\":[\\\"LogisticRegression\\\",\\\"BernoulliNaiveBayes\\\",\\\"LinearSVM\\\",\\\"KNN\\\",\\\"ExtremeRandomTrees\\\",\\\"AveragedPerceptronClassifier\\\",\\\"TensorFlowDNN\\\",\\\"GradientBoosting\\\",\\\"RandomForest\\\",\\\"DecisionTree\\\",\\\"SVM\\\",\\\"LightGBM\\\",\\\"XGBoostClassifier\\\",\\\"TensorFlowLinearClassifier\\\",\\\"MultinomialNaiveBayes\\\",\\\"SGD\\\"],\\\"auto_blacklist\\\":true,\\\"blacklist_samples_reached\\\":false,\\\"exclude_nan_labels\\\":true,\\\"verbosity\\\":20,\\\"_debug_log\\\":\\\"azureml_automl.log\\\",\\\"show_warnings\\\":false,\\\"model_explainability\\\":true,\\\"service_url\\\":null,\\\"sdk_url\\\":null,\\\"sdk_packages\\\":null,\\\"enable_onnx_compatible_models\\\":false,\\\"enable_split_onnx_featurizer_estimator_models\\\":false,\\\"vm_type\\\":\\\"STANDARD_DS12_V2\\\",\\\"telemetry_verbosity\\\":20,\\\"send_telemetry\\\":true,\\\"enable_dnn\\\":false,\\\"scenario\\\":\\\"SDK-1.13.0\\\",\\\"environment_label\\\":null,\\\"force_text_dnn\\\":false,\\\"enable_feature_sweeping\\\":true,\\\"enable_early_stopping\\\":true,\\\"early_stopping_n_iters\\\":10,\\\"metrics\\\":null,\\\"enable_ensembling\\\":true,\\\"enable_stack_ensembling\\\":true,\\\"ensemble_iterations\\\":15,\\\"enable_tf\\\":false,\\\"enable_subsampling\\\":null,\\\"subsample_seed\\\":null,\\\"enable_nimbusml\\\":false,\\\"enable_streaming\\\":false,\\\"force_streaming\\\":false,\\\"track_child_runs\\\":true,\\\"allowed_private_models\\\":[],\\\"label_column_name\\\":\\\"DEATH_EVENT\\\",\\\"weight_column_name\\\":null,\\\"cv_split_column_names\\\":null,\\\"enable_local_managed\\\":false,\\\"_local_managed_run_id\\\":null,\\\"cost_mode\\\":1,\\\"lag_length\\\":0,\\\"metric_operation\\\":\\\"maximize\\\",\\\"preprocess\\\":true}\", \"DataPrepJsonString\": \"{\\\\\\\"training_data\\\\\\\": \\\\\\\"{\\\\\\\\\\\\\\\"blocks\\\\\\\\\\\\\\\": [{\\\\\\\\\\\\\\\"id\\\\\\\\\\\\\\\": \\\\\\\\\\\\\\\"36f02811-c1c1-4bf5-aa96-ddb771b749f1\\\\\\\\\\\\\\\", \\\\\\\\\\\\\\\"type\\\\\\\\\\\\\\\": \\\\\\\\\\\\\\\"Microsoft.DPrep.GetDatastoreFilesBlock\\\\\\\\\\\\\\\", \\\\\\\\\\\\\\\"arguments\\\\\\\\\\\\\\\": {\\\\\\\\\\\\\\\"datastores\\\\\\\\\\\\\\\": [{\\\\\\\\\\\\\\\"datastoreName\\\\\\\\\\\\\\\": \\\\\\\\\\\\\\\"workspaceblobstore\\\\\\\\\\\\\\\", \\\\\\\\\\\\\\\"path\\\\\\\\\\\\\\\": \\\\\\\\\\\\\\\"UI/01-26-2021_062358_UTC/heart_failure_clinical_records_dataset.csv\\\\\\\\\\\\\\\", \\\\\\\\\\\\\\\"resourceGroup\\\\\\\\\\\\\\\": \\\\\\\\\\\\\\\"aml-quickstarts-136159\\\\\\\\\\\\\\\", \\\\\\\\\\\\\\\"subscription\\\\\\\\\\\\\\\": \\\\\\\\\\\\\\\"610d6e37-4747-4a20-80eb-3aad70a55f43\\\\\\\\\\\\\\\", \\\\\\\\\\\\\\\"workspaceName\\\\\\\\\\\\\\\": \\\\\\\\\\\\\\\"quick-starts-ws-136159\\\\\\\\\\\\\\\"}]}, \\\\\\\\\\\\\\\"localData\\\\\\\\\\\\\\\": {}, \\\\\\\\\\\\\\\"isEnabled\\\\\\\\\\\\\\\": true, \\\\\\\\\\\\\\\"name\\\\\\\\\\\\\\\": null, \\\\\\\\\\\\\\\"annotation\\\\\\\\\\\\\\\": null}, {\\\\\\\\\\\\\\\"id\\\\\\\\\\\\\\\": \\\\\\\\\\\\\\\"45c6b23d-9454-492e-a263-79f2d0fd61b4\\\\\\\\\\\\\\\", \\\\\\\\\\\\\\\"type\\\\\\\\\\\\\\\": \\\\\\\\\\\\\\\"Microsoft.DPrep.ParseDelimitedBlock\\\\\\\\\\\\\\\", \\\\\\\\\\\\\\\"arguments\\\\\\\\\\\\\\\": {\\\\\\\\\\\\\\\"columnHeadersMode\\\\\\\\\\\\\\\": 1, \\\\\\\\\\\\\\\"fileEncoding\\\\\\\\\\\\\\\": 0, \\\\\\\\\\\\\\\"handleQuotedLineBreaks\\\\\\\\\\\\\\\": false, \\\\\\\\\\\\\\\"preview\\\\\\\\\\\\\\\": false, \\\\\\\\\\\\\\\"separator\\\\\\\\\\\\\\\": \\\\\\\\\\\\\\\",\\\\\\\\\\\\\\\", \\\\\\\\\\\\\\\"skipRows\\\\\\\\\\\\\\\": 0, \\\\\\\\\\\\\\\"skipRowsMode\\\\\\\\\\\\\\\": 0}, \\\\\\\\\\\\\\\"localData\\\\\\\\\\\\\\\": {}, \\\\\\\\\\\\\\\"isEnabled\\\\\\\\\\\\\\\": true, \\\\\\\\\\\\\\\"name\\\\\\\\\\\\\\\": null, \\\\\\\\\\\\\\\"annotation\\\\\\\\\\\\\\\": null}, {\\\\\\\\\\\\\\\"id\\\\\\\\\\\\\\\": \\\\\\\\\\\\\\\"3e11f548-cad0-4839-9a36-3ce534a26399\\\\\\\\\\\\\\\", \\\\\\\\\\\\\\\"type\\\\\\\\\\\\\\\": \\\\\\\\\\\\\\\"Microsoft.DPrep.DropColumnsBlock\\\\\\\\\\\\\\\", \\\\\\\\\\\\\\\"arguments\\\\\\\\\\\\\\\": {\\\\\\\\\\\\\\\"columns\\\\\\\\\\\\\\\": {\\\\\\\\\\\\\\\"type\\\\\\\\\\\\\\\": 0, \\\\\\\\\\\\\\\"details\\\\\\\\\\\\\\\": {\\\\\\\\\\\\\\\"selectedColumns\\\\\\\\\\\\\\\": [\\\\\\\\\\\\\\\"Path\\\\\\\\\\\\\\\"]}}}, \\\\\\\\\\\\\\\"localData\\\\\\\\\\\\\\\": {}, \\\\\\\\\\\\\\\"isEnabled\\\\\\\\\\\\\\\": true, \\\\\\\\\\\\\\\"name\\\\\\\\\\\\\\\": null, \\\\\\\\\\\\\\\"annotation\\\\\\\\\\\\\\\": null}, {\\\\\\\\\\\\\\\"id\\\\\\\\\\\\\\\": \\\\\\\\\\\\\\\"5eb6f61a-a8a4-41c5-b1ec-0507658f6052\\\\\\\\\\\\\\\", \\\\\\\\\\\\\\\"type\\\\\\\\\\\\\\\": \\\\\\\\\\\\\\\"Microsoft.DPrep.SetColumnTypesBlock\\\\\\\\\\\\\\\", \\\\\\\\\\\\\\\"arguments\\\\\\\\\\\\\\\": {\\\\\\\\\\\\\\\"columnConversion\\\\\\\\\\\\\\\": [{\\\\\\\\\\\\\\\"column\\\\\\\\\\\\\\\": {\\\\\\\\\\\\\\\"type\\\\\\\\\\\\\\\": 2, \\\\\\\\\\\\\\\"details\\\\\\\\\\\\\\\": {\\\\\\\\\\\\\\\"selectedColumn\\\\\\\\\\\\\\\": \\\\\\\\\\\\\\\"Path\\\\\\\\\\\\\\\"}}, \\\\\\\\\\\\\\\"typeProperty\\\\\\\\\\\\\\\": 0}, {\\\\\\\\\\\\\\\"column\\\\\\\\\\\\\\\": {\\\\\\\\\\\\\\\"type\\\\\\\\\\\\\\\": 2, \\\\\\\\\\\\\\\"details\\\\\\\\\\\\\\\": {\\\\\\\\\\\\\\\"selectedColumn\\\\\\\\\\\\\\\": \\\\\\\\\\\\\\\"age\\\\\\\\\\\\\\\"}}, \\\\\\\\\\\\\\\"typeProperty\\\\\\\\\\\\\\\": 3}, {\\\\\\\\\\\\\\\"column\\\\\\\\\\\\\\\": {\\\\\\\\\\\\\\\"type\\\\\\\\\\\\\\\": 2, \\\\\\\\\\\\\\\"details\\\\\\\\\\\\\\\": {\\\\\\\\\\\\\\\"selectedColumn\\\\\\\\\\\\\\\": \\\\\\\\\\\\\\\"anaemia\\\\\\\\\\\\\\\"}}, \\\\\\\\\\\\\\\"typeProperty\\\\\\\\\\\\\\\": 2}, {\\\\\\\\\\\\\\\"column\\\\\\\\\\\\\\\": {\\\\\\\\\\\\\\\"type\\\\\\\\\\\\\\\": 2, \\\\\\\\\\\\\\\"details\\\\\\\\\\\\\\\": {\\\\\\\\\\\\\\\"selectedColumn\\\\\\\\\\\\\\\": \\\\\\\\\\\\\\\"creatinine_phosphokinase\\\\\\\\\\\\\\\"}}, \\\\\\\\\\\\\\\"typeProperty\\\\\\\\\\\\\\\": 2}, {\\\\\\\\\\\\\\\"column\\\\\\\\\\\\\\\": {\\\\\\\\\\\\\\\"type\\\\\\\\\\\\\\\": 2, \\\\\\\\\\\\\\\"details\\\\\\\\\\\\\\\": {\\\\\\\\\\\\\\\"selectedColumn\\\\\\\\\\\\\\\": \\\\\\\\\\\\\\\"diabetes\\\\\\\\\\\\\\\"}}, \\\\\\\\\\\\\\\"typeProperty\\\\\\\\\\\\\\\": 2}, {\\\\\\\\\\\\\\\"column\\\\\\\\\\\\\\\": {\\\\\\\\\\\\\\\"type\\\\\\\\\\\\\\\": 2, \\\\\\\\\\\\\\\"details\\\\\\\\\\\\\\\": {\\\\\\\\\\\\\\\"selectedColumn\\\\\\\\\\\\\\\": \\\\\\\\\\\\\\\"ejection_fraction\\\\\\\\\\\\\\\"}}, \\\\\\\\\\\\\\\"typeProperty\\\\\\\\\\\\\\\": 2}, {\\\\\\\\\\\\\\\"column\\\\\\\\\\\\\\\": {\\\\\\\\\\\\\\\"type\\\\\\\\\\\\\\\": 2, \\\\\\\\\\\\\\\"details\\\\\\\\\\\\\\\": {\\\\\\\\\\\\\\\"selectedColumn\\\\\\\\\\\\\\\": \\\\\\\\\\\\\\\"high_blood_pressure\\\\\\\\\\\\\\\"}}, \\\\\\\\\\\\\\\"typeProperty\\\\\\\\\\\\\\\": 2}, {\\\\\\\\\\\\\\\"column\\\\\\\\\\\\\\\": {\\\\\\\\\\\\\\\"type\\\\\\\\\\\\\\\": 2, \\\\\\\\\\\\\\\"details\\\\\\\\\\\\\\\": {\\\\\\\\\\\\\\\"selectedColumn\\\\\\\\\\\\\\\": \\\\\\\\\\\\\\\"platelets\\\\\\\\\\\\\\\"}}, \\\\\\\\\\\\\\\"typeProperty\\\\\\\\\\\\\\\": 3}, {\\\\\\\\\\\\\\\"column\\\\\\\\\\\\\\\": {\\\\\\\\\\\\\\\"type\\\\\\\\\\\\\\\": 2, \\\\\\\\\\\\\\\"details\\\\\\\\\\\\\\\": {\\\\\\\\\\\\\\\"selectedColumn\\\\\\\\\\\\\\\": \\\\\\\\\\\\\\\"serum_creatinine\\\\\\\\\\\\\\\"}}, \\\\\\\\\\\\\\\"typeProperty\\\\\\\\\\\\\\\": 3}, {\\\\\\\\\\\\\\\"column\\\\\\\\\\\\\\\": {\\\\\\\\\\\\\\\"type\\\\\\\\\\\\\\\": 2, \\\\\\\\\\\\\\\"details\\\\\\\\\\\\\\\": {\\\\\\\\\\\\\\\"selectedColumn\\\\\\\\\\\\\\\": \\\\\\\\\\\\\\\"serum_sodium\\\\\\\\\\\\\\\"}}, \\\\\\\\\\\\\\\"typeProperty\\\\\\\\\\\\\\\": 2}, {\\\\\\\\\\\\\\\"column\\\\\\\\\\\\\\\": {\\\\\\\\\\\\\\\"type\\\\\\\\\\\\\\\": 2, \\\\\\\\\\\\\\\"details\\\\\\\\\\\\\\\": {\\\\\\\\\\\\\\\"selectedColumn\\\\\\\\\\\\\\\": \\\\\\\\\\\\\\\"sex\\\\\\\\\\\\\\\"}}, \\\\\\\\\\\\\\\"typeProperty\\\\\\\\\\\\\\\": 2}, {\\\\\\\\\\\\\\\"column\\\\\\\\\\\\\\\": {\\\\\\\\\\\\\\\"type\\\\\\\\\\\\\\\": 2, \\\\\\\\\\\\\\\"details\\\\\\\\\\\\\\\": {\\\\\\\\\\\\\\\"selectedColumn\\\\\\\\\\\\\\\": \\\\\\\\\\\\\\\"smoking\\\\\\\\\\\\\\\"}}, \\\\\\\\\\\\\\\"typeProperty\\\\\\\\\\\\\\\": 2}, {\\\\\\\\\\\\\\\"column\\\\\\\\\\\\\\\": {\\\\\\\\\\\\\\\"type\\\\\\\\\\\\\\\": 2, \\\\\\\\\\\\\\\"details\\\\\\\\\\\\\\\": {\\\\\\\\\\\\\\\"selectedColumn\\\\\\\\\\\\\\\": \\\\\\\\\\\\\\\"time\\\\\\\\\\\\\\\"}}, \\\\\\\\\\\\\\\"typeProperty\\\\\\\\\\\\\\\": 2}, {\\\\\\\\\\\\\\\"column\\\\\\\\\\\\\\\": {\\\\\\\\\\\\\\\"type\\\\\\\\\\\\\\\": 2, \\\\\\\\\\\\\\\"details\\\\\\\\\\\\\\\": {\\\\\\\\\\\\\\\"selectedColumn\\\\\\\\\\\\\\\": \\\\\\\\\\\\\\\"DEATH_EVENT\\\\\\\\\\\\\\\"}}, \\\\\\\\\\\\\\\"typeProperty\\\\\\\\\\\\\\\": 2}]}, \\\\\\\\\\\\\\\"localData\\\\\\\\\\\\\\\": {}, \\\\\\\\\\\\\\\"isEnabled\\\\\\\\\\\\\\\": true, \\\\\\\\\\\\\\\"name\\\\\\\\\\\\\\\": null, \\\\\\\\\\\\\\\"annotation\\\\\\\\\\\\\\\": null}], \\\\\\\\\\\\\\\"inspectors\\\\\\\\\\\\\\\": [], \\\\\\\\\\\\\\\"meta\\\\\\\\\\\\\\\": {\\\\\\\\\\\\\\\"savedDatasetId\\\\\\\\\\\\\\\": \\\\\\\\\\\\\\\"88ff1967-6828-4c0a-86a0-170e7d340465\\\\\\\\\\\\\\\", \\\\\\\\\\\\\\\"datasetType\\\\\\\\\\\\\\\": \\\\\\\\\\\\\\\"tabular\\\\\\\\\\\\\\\", \\\\\\\\\\\\\\\"subscriptionId\\\\\\\\\\\\\\\": \\\\\\\\\\\\\\\"610d6e37-4747-4a20-80eb-3aad70a55f43\\\\\\\\\\\\\\\", \\\\\\\\\\\\\\\"workspaceId\\\\\\\\\\\\\\\": \\\\\\\\\\\\\\\"27cbb865-75d1-4053-b4ed-a3e5b21a0ec1\\\\\\\\\\\\\\\", \\\\\\\\\\\\\\\"workspaceLocation\\\\\\\\\\\\\\\": \\\\\\\\\\\\\\\"southcentralus\\\\\\\\\\\\\\\"}}\\\\\\\", \\\\\\\"activities\\\\\\\": 0}\", \"EnableSubsampling\": null, \"runTemplate\": \"AutoML\", \"azureml.runsource\": \"automl\", \"display_task_type\": \"classification\", \"dependencies_versions\": \"{\\\"azureml-widgets\\\": \\\"1.20.0\\\", \\\"azureml-train\\\": \\\"1.20.0\\\", \\\"azureml-train-restclients-hyperdrive\\\": \\\"1.20.0\\\", \\\"azureml-train-core\\\": \\\"1.20.0\\\", \\\"azureml-train-automl\\\": \\\"1.20.0\\\", \\\"azureml-train-automl-runtime\\\": \\\"1.20.0\\\", \\\"azureml-train-automl-client\\\": \\\"1.20.0\\\", \\\"azureml-tensorboard\\\": \\\"1.20.0\\\", \\\"azureml-telemetry\\\": \\\"1.20.0\\\", \\\"azureml-sdk\\\": \\\"1.20.0\\\", \\\"azureml-samples\\\": \\\"0+unknown\\\", \\\"azureml-pipeline\\\": \\\"1.20.0\\\", \\\"azureml-pipeline-steps\\\": \\\"1.20.0\\\", \\\"azureml-pipeline-core\\\": \\\"1.20.0\\\", \\\"azureml-opendatasets\\\": \\\"1.20.0\\\", \\\"azureml-model-management-sdk\\\": \\\"1.0.1b6.post1\\\", \\\"azureml-mlflow\\\": \\\"1.20.0.post1\\\", \\\"azureml-interpret\\\": \\\"1.20.0\\\", \\\"azureml-explain-model\\\": \\\"1.20.0\\\", \\\"azureml-defaults\\\": \\\"1.20.0\\\", \\\"azureml-dataset-runtime\\\": \\\"1.20.0\\\", \\\"azureml-dataprep\\\": \\\"2.7.3\\\", \\\"azureml-dataprep-rslex\\\": \\\"1.5.0\\\", \\\"azureml-dataprep-native\\\": \\\"27.0.0\\\", \\\"azureml-datadrift\\\": \\\"1.20.0\\\", \\\"azureml-core\\\": \\\"1.20.0\\\", \\\"azureml-contrib-services\\\": \\\"1.20.0\\\", \\\"azureml-contrib-server\\\": \\\"1.20.0\\\", \\\"azureml-contrib-reinforcementlearning\\\": \\\"1.20.0\\\", \\\"azureml-contrib-pipeline-steps\\\": \\\"1.20.0\\\", \\\"azureml-contrib-notebook\\\": \\\"1.20.0\\\", \\\"azureml-contrib-interpret\\\": \\\"1.20.0\\\", \\\"azureml-contrib-gbdt\\\": \\\"1.20.0\\\", \\\"azureml-contrib-fairness\\\": \\\"1.20.0\\\", \\\"azureml-contrib-dataset\\\": \\\"1.20.0\\\", \\\"azureml-cli-common\\\": \\\"1.20.0\\\", \\\"azureml-automl-runtime\\\": \\\"1.20.0\\\", \\\"azureml-automl-core\\\": \\\"1.20.0\\\", \\\"azureml-accel-models\\\": \\\"1.20.0\\\"}\", \"_aml_system_scenario_identification\": \"Remote.Parent\", \"ClientType\": \"SDK\", \"environment_cpu_name\": \"AzureML-AutoML\", \"environment_cpu_label\": \"prod\", \"environment_gpu_name\": \"AzureML-AutoML-GPU\", \"environment_gpu_label\": \"prod\", \"root_attribution\": \"automl\", \"attribution\": \"AutoML\", \"Orchestrator\": \"AutoML\", \"CancelUri\": \"https://southcentralus.experiments.azureml.net/jasmine/v1.0/subscriptions/610d6e37-4747-4a20-80eb-3aad70a55f43/resourceGroups/aml-quickstarts-136159/providers/Microsoft.MachineLearningServices/workspaces/quick-starts-ws-136159/experimentids/b905837b-d0a8-4fa2-ace8-e3ec038fe9f5/cancel/AutoML_68866b9b-1325-46cb-ac93-a8130014da6e\", \"ClientSdkVersion\": \"1.20.0.post1\", \"snapshotId\": \"00000000-0000-0000-0000-000000000000\", \"SetupRunId\": \"AutoML_68866b9b-1325-46cb-ac93-a8130014da6e_setup\", \"SetupRunContainerId\": \"dcid.AutoML_68866b9b-1325-46cb-ac93-a8130014da6e_setup\", \"FeaturizationRunJsonPath\": \"featurizer_container.json\", \"FeaturizationRunId\": \"AutoML_68866b9b-1325-46cb-ac93-a8130014da6e_featurize\", \"ProblemInfoJsonString\": \"{\\\"dataset_num_categorical\\\": 0, \\\"is_sparse\\\": false, \\\"subsampling\\\": false, \\\"dataset_classes\\\": 2, \\\"dataset_features\\\": 12, \\\"dataset_samples\\\": 299, \\\"single_frequency_class_detected\\\": false}\", \"ModelExplainRunId\": \"AutoML_68866b9b-1325-46cb-ac93-a8130014da6e_ModelExplain\"}, \"tags\": {\"model_explain_run\": \"best_run\", \"_aml_system_azureml.automlComponent\": \"AutoML\", \"pipeline_id\": \"\", \"score\": \"\", \"predicted_cost\": \"\", \"fit_time\": \"\", \"training_percent\": \"\", \"iteration\": \"\", \"run_preprocessor\": \"\", \"run_algorithm\": \"\", \"dynamic_whitelisting_iterations\": \"<25>;<30>;<35>;<40>;<45>;<50>;\", \"automl_best_child_run_id\": \"AutoML_68866b9b-1325-46cb-ac93-a8130014da6e_54\", \"model_explain_best_run_child_id\": \"AutoML_68866b9b-1325-46cb-ac93-a8130014da6e_54\"}, \"end_time_utc\": \"2021-01-26T18:57:36.123062Z\", \"status\": \"Completed\", \"log_files\": {}, \"log_groups\": [], \"run_duration\": \"0:22:32\"}, \"child_runs\": [{\"run_id\": \"AutoML_68866b9b-1325-46cb-ac93-a8130014da6e_0\", \"run_number\": 5, \"metric\": null, \"status\": \"Completed\", \"run_type\": \"azureml.scriptrun\", \"training_percent\": \"100\", \"start_time\": \"2021-01-26T18:39:33.52249Z\", \"end_time\": \"2021-01-26T18:40:15.622506Z\", \"created_time\": \"2021-01-26T18:39:22.324801Z\", \"created_time_dt\": \"2021-01-26T18:39:22.324801Z\", \"duration\": \"0:00:53\", \"iteration\": \"0\", \"goal\": \"AUC_weighted_max\", \"run_name\": \"MaxAbsScaler, LightGBM\", \"run_properties\": \"copy=True\", \"primary_metric\": 0.88409554, \"best_metric\": 0.88409554}, {\"run_id\": \"AutoML_68866b9b-1325-46cb-ac93-a8130014da6e_3\", \"run_number\": 6, \"metric\": null, \"status\": \"Completed\", \"run_type\": \"azureml.scriptrun\", \"training_percent\": \"100\", \"start_time\": \"2021-01-26T18:39:33.303322Z\", \"end_time\": \"2021-01-26T18:40:24.35211Z\", \"created_time\": \"2021-01-26T18:39:22.369951Z\", \"created_time_dt\": \"2021-01-26T18:39:22.369951Z\", \"duration\": \"0:01:01\", \"iteration\": \"3\", \"goal\": \"AUC_weighted_max\", \"run_name\": \"RobustScaler, ExtremeRandomTrees\", \"run_properties\": \"copy=True, quantile_range=[10, 90], with_centering=False,\\n             with_scaling=False\", \"primary_metric\": 0.8820869, \"best_metric\": 0.9053164}, {\"run_id\": \"AutoML_68866b9b-1325-46cb-ac93-a8130014da6e_2\", \"run_number\": 7, \"metric\": null, \"status\": \"Completed\", \"run_type\": \"azureml.scriptrun\", \"training_percent\": \"100\", \"start_time\": \"2021-01-26T18:39:35.82345Z\", \"end_time\": \"2021-01-26T18:40:21.428604Z\", \"created_time\": \"2021-01-26T18:39:22.412041Z\", \"created_time_dt\": \"2021-01-26T18:39:22.412041Z\", \"duration\": \"0:00:59\", \"iteration\": \"2\", \"goal\": \"AUC_weighted_max\", \"run_name\": \"MinMaxScaler, RandomForest\", \"run_properties\": \"copy=True, feature_range=(0, 1\", \"primary_metric\": 0.9053164, \"best_metric\": 0.9053164}, {\"run_id\": \"AutoML_68866b9b-1325-46cb-ac93-a8130014da6e_1\", \"run_number\": 8, \"metric\": null, \"status\": \"Completed\", \"run_type\": \"azureml.scriptrun\", \"training_percent\": \"100\", \"start_time\": \"2021-01-26T18:39:34.113581Z\", \"end_time\": \"2021-01-26T18:40:15.992907Z\", \"created_time\": \"2021-01-26T18:39:22.426317Z\", \"created_time_dt\": \"2021-01-26T18:39:22.426317Z\", \"duration\": \"0:00:53\", \"iteration\": \"1\", \"goal\": \"AUC_weighted_max\", \"run_name\": \"MaxAbsScaler, XGBoostClassifier\", \"run_properties\": \"copy=True\", \"primary_metric\": 0.88473694, \"best_metric\": 0.88473694}, {\"run_id\": \"AutoML_68866b9b-1325-46cb-ac93-a8130014da6e_4\", \"run_number\": 9, \"metric\": null, \"status\": \"Completed\", \"run_type\": \"azureml.scriptrun\", \"training_percent\": \"100\", \"start_time\": \"2021-01-26T18:40:34.002296Z\", \"end_time\": \"2021-01-26T18:41:25.050912Z\", \"created_time\": \"2021-01-26T18:40:16.857886Z\", \"created_time_dt\": \"2021-01-26T18:40:16.857886Z\", \"duration\": \"0:01:08\", \"iteration\": \"4\", \"goal\": \"AUC_weighted_max\", \"run_name\": \"MinMaxScaler, RandomForest\", \"run_properties\": \"copy=True, feature_range=(0, 1\", \"primary_metric\": 0.9034974, \"best_metric\": 0.9053164}, {\"run_id\": \"AutoML_68866b9b-1325-46cb-ac93-a8130014da6e_5\", \"run_number\": 10, \"metric\": null, \"status\": \"Completed\", \"run_type\": \"azureml.scriptrun\", \"training_percent\": \"100\", \"start_time\": \"2021-01-26T18:40:34.517502Z\", \"end_time\": \"2021-01-26T18:41:24.557651Z\", \"created_time\": \"2021-01-26T18:40:16.89797Z\", \"created_time_dt\": \"2021-01-26T18:40:16.89797Z\", \"duration\": \"0:01:07\", \"iteration\": \"5\", \"goal\": \"AUC_weighted_max\", \"run_name\": \"MinMaxScaler, RandomForest\", \"run_properties\": \"copy=True, feature_range=(0, 1\", \"primary_metric\": 0.88879916, \"best_metric\": 0.9053164}, {\"run_id\": \"AutoML_68866b9b-1325-46cb-ac93-a8130014da6e_6\", \"run_number\": 11, \"metric\": null, \"status\": \"Completed\", \"run_type\": \"azureml.scriptrun\", \"training_percent\": \"100\", \"start_time\": \"2021-01-26T18:40:36.382326Z\", \"end_time\": \"2021-01-26T18:41:25.135374Z\", \"created_time\": \"2021-01-26T18:40:24.234982Z\", \"created_time_dt\": \"2021-01-26T18:40:24.234982Z\", \"duration\": \"0:01:00\", \"iteration\": \"6\", \"goal\": \"AUC_weighted_max\", \"run_name\": \"StandardScalerWrapper, RandomForest\", \"run_properties\": \"<azureml.automl.runtime.shared.model_wrappers.StandardScalerWrapper object at 0x7ff068490668\", \"primary_metric\": 0.89819269, \"best_metric\": 0.9053164}, {\"run_id\": \"AutoML_68866b9b-1325-46cb-ac93-a8130014da6e_7\", \"run_number\": 12, \"metric\": null, \"status\": \"Completed\", \"run_type\": \"azureml.scriptrun\", \"training_percent\": \"100\", \"start_time\": \"2021-01-26T18:40:40.957729Z\", \"end_time\": \"2021-01-26T18:41:26.6189Z\", \"created_time\": \"2021-01-26T18:40:28.981136Z\", \"created_time_dt\": \"2021-01-26T18:40:28.981136Z\", \"duration\": \"0:00:57\", \"iteration\": \"7\", \"goal\": \"AUC_weighted_max\", \"run_name\": \"MinMaxScaler, ExtremeRandomTrees\", \"run_properties\": \"copy=True, feature_range=(0, 1\", \"primary_metric\": 0.89095139, \"best_metric\": 0.9053164}, {\"run_id\": \"AutoML_68866b9b-1325-46cb-ac93-a8130014da6e_9\", \"run_number\": 13, \"metric\": null, \"status\": \"Completed\", \"run_type\": \"azureml.scriptrun\", \"training_percent\": \"100\", \"start_time\": \"2021-01-26T18:41:37.895571Z\", \"end_time\": \"2021-01-26T18:42:30.210784Z\", \"created_time\": \"2021-01-26T18:41:27.642878Z\", \"created_time_dt\": \"2021-01-26T18:41:27.642878Z\", \"duration\": \"0:01:02\", \"iteration\": \"9\", \"goal\": \"AUC_weighted_max\", \"run_name\": \"SparseNormalizer, KNN\", \"run_properties\": \"<azureml.automl.runtime.shared.model_wrappers.SparseNormalizer object at 0x7f2cb0169438\", \"primary_metric\": 0.7496161, \"best_metric\": 0.9053164}, {\"run_id\": \"AutoML_68866b9b-1325-46cb-ac93-a8130014da6e_8\", \"run_number\": 14, \"metric\": null, \"status\": \"Completed\", \"run_type\": \"azureml.scriptrun\", \"training_percent\": \"100\", \"start_time\": \"2021-01-26T18:41:39.087503Z\", \"end_time\": \"2021-01-26T18:42:31.224953Z\", \"created_time\": \"2021-01-26T18:41:27.669672Z\", \"created_time_dt\": \"2021-01-26T18:41:27.669672Z\", \"duration\": \"0:01:03\", \"iteration\": \"8\", \"goal\": \"AUC_weighted_max\", \"run_name\": \"MinMaxScaler, ExtremeRandomTrees\", \"run_properties\": \"copy=True, feature_range=(0, 1\", \"primary_metric\": 0.88290699, \"best_metric\": 0.9053164}, {\"run_id\": \"AutoML_68866b9b-1325-46cb-ac93-a8130014da6e_11\", \"run_number\": 15, \"metric\": null, \"status\": \"Completed\", \"run_type\": \"azureml.scriptrun\", \"training_percent\": \"100\", \"start_time\": \"2021-01-26T18:41:44.380953Z\", \"end_time\": \"2021-01-26T18:42:36.042209Z\", \"created_time\": \"2021-01-26T18:41:31.943242Z\", \"created_time_dt\": \"2021-01-26T18:41:31.943242Z\", \"duration\": \"0:01:04\", \"iteration\": \"11\", \"goal\": \"AUC_weighted_max\", \"run_name\": \"RobustScaler, ExtremeRandomTrees\", \"run_properties\": \"copy=True, quantile_range=[10, 90], with_centering=True,\\n             with_scaling=False\", \"primary_metric\": 0.8920829, \"best_metric\": 0.9053164}, {\"run_id\": \"AutoML_68866b9b-1325-46cb-ac93-a8130014da6e_10\", \"run_number\": 16, \"metric\": null, \"status\": \"Completed\", \"run_type\": \"azureml.scriptrun\", \"training_percent\": \"100\", \"start_time\": \"2021-01-26T18:41:41.620502Z\", \"end_time\": \"2021-01-26T18:42:33.838026Z\", \"created_time\": \"2021-01-26T18:41:31.947198Z\", \"created_time_dt\": \"2021-01-26T18:41:31.947198Z\", \"duration\": \"0:01:01\", \"iteration\": \"10\", \"goal\": \"AUC_weighted_max\", \"run_name\": \"MinMaxScaler, ExtremeRandomTrees\", \"run_properties\": \"copy=True, feature_range=(0, 1\", \"primary_metric\": 0.86386972, \"best_metric\": 0.9053164}, {\"run_id\": \"AutoML_68866b9b-1325-46cb-ac93-a8130014da6e_12\", \"run_number\": 17, \"metric\": null, \"status\": \"Completed\", \"run_type\": \"azureml.scriptrun\", \"training_percent\": \"100\", \"start_time\": \"2021-01-26T18:42:43.97109Z\", \"end_time\": \"2021-01-26T18:43:32.962241Z\", \"created_time\": \"2021-01-26T18:42:33.086716Z\", \"created_time_dt\": \"2021-01-26T18:42:33.086716Z\", \"duration\": \"0:00:59\", \"iteration\": \"12\", \"goal\": \"AUC_weighted_max\", \"run_name\": \"StandardScalerWrapper, RandomForest\", \"run_properties\": \"<azureml.automl.runtime.shared.model_wrappers.StandardScalerWrapper object at 0x7ff0d4055c18\", \"primary_metric\": 0.89855996, \"best_metric\": 0.9053164}, {\"run_id\": \"AutoML_68866b9b-1325-46cb-ac93-a8130014da6e_13\", \"run_number\": 18, \"metric\": null, \"status\": \"Completed\", \"run_type\": \"azureml.scriptrun\", \"training_percent\": \"100\", \"start_time\": \"2021-01-26T18:42:49.842674Z\", \"end_time\": \"2021-01-26T18:43:39.415634Z\", \"created_time\": \"2021-01-26T18:42:37.768202Z\", \"created_time_dt\": \"2021-01-26T18:42:37.768202Z\", \"duration\": \"0:01:01\", \"iteration\": \"13\", \"goal\": \"AUC_weighted_max\", \"run_name\": \"StandardScalerWrapper, SGD\", \"run_properties\": \"<azureml.automl.runtime.shared.model_wrappers.StandardScalerWrapper object at 0x7fa9ac676eb8\", \"primary_metric\": 0.86964728, \"best_metric\": 0.9053164}, {\"run_id\": \"AutoML_68866b9b-1325-46cb-ac93-a8130014da6e_14\", \"run_number\": 19, \"metric\": null, \"status\": \"Completed\", \"run_type\": \"azureml.scriptrun\", \"training_percent\": \"100\", \"start_time\": \"2021-01-26T18:42:49.199441Z\", \"end_time\": \"2021-01-26T18:43:38.782756Z\", \"created_time\": \"2021-01-26T18:42:37.779647Z\", \"created_time_dt\": \"2021-01-26T18:42:37.779647Z\", \"duration\": \"0:01:01\", \"iteration\": \"14\", \"goal\": \"AUC_weighted_max\", \"run_name\": \"RobustScaler, RandomForest\", \"run_properties\": \"copy=True, quantile_range=[10, 90], with_centering=True,\\n             with_scaling=False\", \"primary_metric\": 0.88655949, \"best_metric\": 0.9053164}, {\"run_id\": \"AutoML_68866b9b-1325-46cb-ac93-a8130014da6e_15\", \"run_number\": 20, \"metric\": null, \"status\": \"Completed\", \"run_type\": \"azureml.scriptrun\", \"training_percent\": \"100\", \"start_time\": \"2021-01-26T18:42:55.143209Z\", \"end_time\": \"2021-01-26T18:43:44.114709Z\", \"created_time\": \"2021-01-26T18:42:42.160631Z\", \"created_time_dt\": \"2021-01-26T18:42:42.160631Z\", \"duration\": \"0:01:01\", \"iteration\": \"15\", \"goal\": \"AUC_weighted_max\", \"run_name\": \"StandardScalerWrapper, KNN\", \"run_properties\": \"<azureml.automl.runtime.shared.model_wrappers.StandardScalerWrapper object at 0x7fe09c577320\", \"primary_metric\": 0.52030533, \"best_metric\": 0.9053164}, {\"run_id\": \"AutoML_68866b9b-1325-46cb-ac93-a8130014da6e_16\", \"run_number\": 21, \"metric\": null, \"status\": \"Completed\", \"run_type\": \"azureml.scriptrun\", \"training_percent\": \"100\", \"start_time\": \"2021-01-26T18:43:47.5357Z\", \"end_time\": \"2021-01-26T18:44:33.162886Z\", \"created_time\": \"2021-01-26T18:43:35.806734Z\", \"created_time_dt\": \"2021-01-26T18:43:35.806734Z\", \"duration\": \"0:00:57\", \"iteration\": \"16\", \"goal\": \"AUC_weighted_max\", \"run_name\": \"MinMaxScaler, RandomForest\", \"run_properties\": \"copy=True, feature_range=(0, 1\", \"primary_metric\": 0.89367378, \"best_metric\": 0.9053164}, {\"run_id\": \"AutoML_68866b9b-1325-46cb-ac93-a8130014da6e_17\", \"run_number\": 22, \"metric\": null, \"status\": \"Completed\", \"run_type\": \"azureml.scriptrun\", \"training_percent\": \"100\", \"start_time\": \"2021-01-26T18:43:53.6198Z\", \"end_time\": \"2021-01-26T18:45:17.753779Z\", \"created_time\": \"2021-01-26T18:43:41.694775Z\", \"created_time_dt\": \"2021-01-26T18:43:41.694775Z\", \"duration\": \"0:01:36\", \"iteration\": \"17\", \"goal\": \"AUC_weighted_max\", \"run_name\": \"MinMaxScaler, ExtremeRandomTrees\", \"run_properties\": \"copy=True, feature_range=(0, 1\", \"primary_metric\": 0.82490681, \"best_metric\": 0.9053164}, {\"run_id\": \"AutoML_68866b9b-1325-46cb-ac93-a8130014da6e_18\", \"run_number\": 23, \"metric\": null, \"status\": \"Completed\", \"run_type\": \"azureml.scriptrun\", \"training_percent\": \"100\", \"start_time\": \"2021-01-26T18:43:57.239741Z\", \"end_time\": \"2021-01-26T18:44:44.0282Z\", \"created_time\": \"2021-01-26T18:43:46.153556Z\", \"created_time_dt\": \"2021-01-26T18:43:46.153556Z\", \"duration\": \"0:00:57\", \"iteration\": \"18\", \"goal\": \"AUC_weighted_max\", \"run_name\": \"MaxAbsScaler, RandomForest\", \"run_properties\": \"copy=True\", \"primary_metric\": 0.88750552, \"best_metric\": 0.9053164}, {\"run_id\": \"AutoML_68866b9b-1325-46cb-ac93-a8130014da6e_19\", \"run_number\": 24, \"metric\": null, \"status\": \"Completed\", \"run_type\": \"azureml.scriptrun\", \"training_percent\": \"100\", \"start_time\": \"2021-01-26T18:44:02.050894Z\", \"end_time\": \"2021-01-26T18:44:45.247038Z\", \"created_time\": \"2021-01-26T18:43:50.208251Z\", \"created_time_dt\": \"2021-01-26T18:43:50.208251Z\", \"duration\": \"0:00:55\", \"iteration\": \"19\", \"goal\": \"AUC_weighted_max\", \"run_name\": \"StandardScalerWrapper, XGBoostClassifier\", \"run_properties\": \"<azureml.automl.runtime.shared.model_wrappers.StandardScalerWrapper object at 0x7effe60f60f0\", \"primary_metric\": 0.90890998, \"best_metric\": 0.90890998}, {\"run_id\": \"AutoML_68866b9b-1325-46cb-ac93-a8130014da6e_20\", \"run_number\": 25, \"metric\": null, \"status\": \"Completed\", \"run_type\": \"azureml.scriptrun\", \"training_percent\": \"100\", \"start_time\": \"2021-01-26T18:44:49.622581Z\", \"end_time\": \"2021-01-26T18:45:36.541027Z\", \"created_time\": \"2021-01-26T18:44:36.263448Z\", \"created_time_dt\": \"2021-01-26T18:44:36.263448Z\", \"duration\": \"0:01:00\", \"iteration\": \"20\", \"goal\": \"AUC_weighted_max\", \"run_name\": \"MaxAbsScaler, RandomForest\", \"run_properties\": \"copy=True\", \"primary_metric\": 0.88919979, \"best_metric\": 0.90890998}, {\"run_id\": \"AutoML_68866b9b-1325-46cb-ac93-a8130014da6e_21\", \"run_number\": 26, \"metric\": null, \"status\": \"Completed\", \"run_type\": \"azureml.scriptrun\", \"training_percent\": \"100\", \"start_time\": \"2021-01-26T18:44:58.305805Z\", \"end_time\": \"2021-01-26T18:45:43.372935Z\", \"created_time\": \"2021-01-26T18:44:47.303333Z\", \"created_time_dt\": \"2021-01-26T18:44:47.303333Z\", \"duration\": \"0:00:56\", \"iteration\": \"21\", \"goal\": \"AUC_weighted_max\", \"run_name\": \"MaxAbsScaler, ExtremeRandomTrees\", \"run_properties\": \"copy=True\", \"primary_metric\": 0.8563609, \"best_metric\": 0.90890998}, {\"run_id\": \"AutoML_68866b9b-1325-46cb-ac93-a8130014da6e_22\", \"run_number\": 27, \"metric\": null, \"status\": \"Completed\", \"run_type\": \"azureml.scriptrun\", \"training_percent\": \"100\", \"start_time\": \"2021-01-26T18:45:03.579006Z\", \"end_time\": \"2021-01-26T18:45:46.487183Z\", \"created_time\": \"2021-01-26T18:44:51.507446Z\", \"created_time_dt\": \"2021-01-26T18:44:51.507446Z\", \"duration\": \"0:00:54\", \"iteration\": \"22\", \"goal\": \"AUC_weighted_max\", \"run_name\": \"MaxAbsScaler, ExtremeRandomTrees\", \"run_properties\": \"copy=True\", \"primary_metric\": 0.8715962, \"best_metric\": 0.90890998}, {\"run_id\": \"AutoML_68866b9b-1325-46cb-ac93-a8130014da6e_23\", \"run_number\": 28, \"metric\": null, \"status\": \"Completed\", \"run_type\": \"azureml.scriptrun\", \"training_percent\": \"100\", \"start_time\": \"2021-01-26T18:45:34.498318Z\", \"end_time\": \"2021-01-26T18:46:30.381917Z\", \"created_time\": \"2021-01-26T18:45:21.336591Z\", \"created_time_dt\": \"2021-01-26T18:45:21.336591Z\", \"duration\": \"0:01:09\", \"iteration\": \"23\", \"goal\": \"AUC_weighted_max\", \"run_name\": \"MinMaxScaler, ExtremeRandomTrees\", \"run_properties\": \"copy=True, feature_range=(0, 1\", \"primary_metric\": 0.90847913, \"best_metric\": 0.90890998}, {\"run_id\": \"AutoML_68866b9b-1325-46cb-ac93-a8130014da6e_24\", \"run_number\": 29, \"metric\": null, \"status\": \"Completed\", \"run_type\": \"azureml.scriptrun\", \"training_percent\": \"100\", \"start_time\": \"2021-01-26T18:45:50.26231Z\", \"end_time\": \"2021-01-26T18:46:38.681472Z\", \"created_time\": \"2021-01-26T18:45:40.348518Z\", \"created_time_dt\": \"2021-01-26T18:45:40.348518Z\", \"duration\": \"0:00:58\", \"iteration\": \"24\", \"goal\": \"AUC_weighted_max\", \"run_name\": \"StandardScalerWrapper, XGBoostClassifier\", \"run_properties\": \"<azureml.automl.runtime.shared.model_wrappers.StandardScalerWrapper object at 0x7fc0fecfcfd0\", \"primary_metric\": 0.8972491, \"best_metric\": 0.90890998}, {\"run_id\": \"AutoML_68866b9b-1325-46cb-ac93-a8130014da6e_25\", \"run_number\": 30, \"metric\": null, \"status\": \"Completed\", \"run_type\": \"azureml.scriptrun\", \"training_percent\": \"100\", \"start_time\": \"2021-01-26T18:45:58.061186Z\", \"end_time\": \"2021-01-26T18:46:43.149345Z\", \"created_time\": \"2021-01-26T18:45:47.571849Z\", \"created_time_dt\": \"2021-01-26T18:45:47.571849Z\", \"duration\": \"0:00:55\", \"iteration\": \"25\", \"goal\": \"AUC_weighted_max\", \"run_name\": \"StandardScalerWrapper, XGBoostClassifier\", \"run_properties\": \"<azureml.automl.runtime.shared.model_wrappers.StandardScalerWrapper object at 0x7fe0a9291128\", \"primary_metric\": 0.90648573, \"best_metric\": 0.90890998}, {\"run_id\": \"AutoML_68866b9b-1325-46cb-ac93-a8130014da6e_26\", \"run_number\": 31, \"metric\": null, \"status\": \"Completed\", \"run_type\": \"azureml.scriptrun\", \"training_percent\": \"100\", \"start_time\": \"2021-01-26T18:46:06.011719Z\", \"end_time\": \"2021-01-26T18:47:08.681215Z\", \"created_time\": \"2021-01-26T18:45:52.92006Z\", \"created_time_dt\": \"2021-01-26T18:45:52.92006Z\", \"duration\": \"0:01:15\", \"iteration\": \"26\", \"goal\": \"AUC_weighted_max\", \"run_name\": \"MaxAbsScaler, ExtremeRandomTrees\", \"run_properties\": \"copy=True\", \"primary_metric\": 0.89662527, \"best_metric\": 0.90890998}, {\"run_id\": \"AutoML_68866b9b-1325-46cb-ac93-a8130014da6e_27\", \"run_number\": 32, \"metric\": null, \"status\": \"Completed\", \"run_type\": \"azureml.scriptrun\", \"training_percent\": \"100\", \"start_time\": \"2021-01-26T18:46:46.918887Z\", \"end_time\": \"2021-01-26T18:47:26.939162Z\", \"created_time\": \"2021-01-26T18:46:33.525084Z\", \"created_time_dt\": \"2021-01-26T18:46:33.525084Z\", \"duration\": \"0:00:53\", \"iteration\": \"27\", \"goal\": \"AUC_weighted_max\", \"run_name\": \"RobustScaler, LightGBM\", \"run_properties\": \"copy=True, quantile_range=[10, 90], with_centering=True,\\n             with_scaling=True\", \"primary_metric\": 0.90121699, \"best_metric\": 0.90890998}, {\"run_id\": \"AutoML_68866b9b-1325-46cb-ac93-a8130014da6e_28\", \"run_number\": 33, \"metric\": null, \"status\": \"Completed\", \"run_type\": \"azureml.scriptrun\", \"training_percent\": \"100\", \"start_time\": \"2021-01-26T18:46:54.629159Z\", \"end_time\": \"2021-01-26T18:48:09.088234Z\", \"created_time\": \"2021-01-26T18:46:42.242601Z\", \"created_time_dt\": \"2021-01-26T18:46:42.242601Z\", \"duration\": \"0:01:26\", \"iteration\": \"28\", \"goal\": \"AUC_weighted_max\", \"run_name\": \"MinMaxScaler, RandomForest\", \"run_properties\": \"copy=True, feature_range=(0, 1\", \"primary_metric\": 0.90447796, \"best_metric\": 0.90890998}, {\"run_id\": \"AutoML_68866b9b-1325-46cb-ac93-a8130014da6e_29\", \"run_number\": 34, \"metric\": null, \"status\": \"Completed\", \"run_type\": \"azureml.scriptrun\", \"training_percent\": \"100\", \"start_time\": \"2021-01-26T18:46:59.4359Z\", \"end_time\": \"2021-01-26T18:48:06.796145Z\", \"created_time\": \"2021-01-26T18:46:47.464818Z\", \"created_time_dt\": \"2021-01-26T18:46:47.464818Z\", \"duration\": \"0:01:19\", \"iteration\": \"29\", \"goal\": \"AUC_weighted_max\", \"run_name\": \"RobustScaler, LightGBM\", \"run_properties\": \"copy=True, quantile_range=[10, 90], with_centering=False,\\n             with_scaling=True\", \"primary_metric\": 0.87551836, \"best_metric\": 0.90890998}, {\"run_id\": \"AutoML_68866b9b-1325-46cb-ac93-a8130014da6e_30\", \"run_number\": 35, \"metric\": null, \"status\": \"Completed\", \"run_type\": \"azureml.scriptrun\", \"training_percent\": \"100\", \"start_time\": \"2021-01-26T18:47:25.04557Z\", \"end_time\": \"2021-01-26T18:48:08.131943Z\", \"created_time\": \"2021-01-26T18:47:12.883817Z\", \"created_time_dt\": \"2021-01-26T18:47:12.883817Z\", \"duration\": \"0:00:55\", \"iteration\": \"30\", \"goal\": \"AUC_weighted_max\", \"run_name\": \"PCA, XGBoostClassifier\", \"run_properties\": \"copy=True, iterated_power='auto', n_components=0.01, random_state=None,\\n    svd_solver='auto', tol=0.0, whiten=False\", \"primary_metric\": 0.49299273, \"best_metric\": 0.90890998}, {\"run_id\": \"AutoML_68866b9b-1325-46cb-ac93-a8130014da6e_31\", \"run_number\": 36, \"metric\": null, \"status\": \"Completed\", \"run_type\": \"azureml.scriptrun\", \"training_percent\": \"100\", \"start_time\": \"2021-01-26T18:47:40.697566Z\", \"end_time\": \"2021-01-26T18:48:37.144205Z\", \"created_time\": \"2021-01-26T18:47:30.088212Z\", \"created_time_dt\": \"2021-01-26T18:47:30.088212Z\", \"duration\": \"0:01:07\", \"iteration\": \"31\", \"goal\": \"AUC_weighted_max\", \"run_name\": \"StandardScalerWrapper, LightGBM\", \"run_properties\": \"<azureml.automl.runtime.shared.model_wrappers.StandardScalerWrapper object at 0x7f580d724940\", \"primary_metric\": 0.90693727, \"best_metric\": 0.90890998}, {\"run_id\": \"AutoML_68866b9b-1325-46cb-ac93-a8130014da6e_33\", \"run_number\": 37, \"metric\": null, \"status\": \"Completed\", \"run_type\": \"azureml.scriptrun\", \"training_percent\": \"100\", \"start_time\": \"2021-01-26T18:48:22.610873Z\", \"end_time\": \"2021-01-26T18:49:20.19259Z\", \"created_time\": \"2021-01-26T18:48:10.511654Z\", \"created_time_dt\": \"2021-01-26T18:48:10.511654Z\", \"duration\": \"0:01:09\", \"iteration\": \"33\", \"goal\": \"AUC_weighted_max\", \"run_name\": \"MinMaxScaler, LightGBM\", \"run_properties\": \"copy=True, feature_range=(0, 1\", \"primary_metric\": 0.90374627, \"best_metric\": 0.90890998}, {\"run_id\": \"AutoML_68866b9b-1325-46cb-ac93-a8130014da6e_32\", \"run_number\": 38, \"metric\": null, \"status\": \"Completed\", \"run_type\": \"azureml.scriptrun\", \"training_percent\": \"100\", \"start_time\": \"2021-01-26T18:48:22.612133Z\", \"end_time\": \"2021-01-26T18:49:14.287491Z\", \"created_time\": \"2021-01-26T18:48:10.693544Z\", \"created_time_dt\": \"2021-01-26T18:48:10.693544Z\", \"duration\": \"0:01:03\", \"iteration\": \"32\", \"goal\": \"AUC_weighted_max\", \"run_name\": \"RobustScaler, LightGBM\", \"run_properties\": \"copy=True, quantile_range=[25, 75], with_centering=False,\\n             with_scaling=True\", \"primary_metric\": 0.9079882, \"best_metric\": 0.90890998}, {\"run_id\": \"AutoML_68866b9b-1325-46cb-ac93-a8130014da6e_34\", \"run_number\": 39, \"metric\": null, \"status\": \"Completed\", \"run_type\": \"azureml.scriptrun\", \"training_percent\": \"100\", \"start_time\": \"2021-01-26T18:48:27.633187Z\", \"end_time\": \"2021-01-26T18:49:15.117525Z\", \"created_time\": \"2021-01-26T18:48:15.674234Z\", \"created_time_dt\": \"2021-01-26T18:48:15.674234Z\", \"duration\": \"0:00:59\", \"iteration\": \"34\", \"goal\": \"AUC_weighted_max\", \"run_name\": \"MaxAbsScaler, LightGBM\", \"run_properties\": \"copy=True\", \"primary_metric\": 0.91496584, \"best_metric\": 0.91496584}, {\"run_id\": \"AutoML_68866b9b-1325-46cb-ac93-a8130014da6e_35\", \"run_number\": 40, \"metric\": null, \"status\": \"Completed\", \"run_type\": \"azureml.scriptrun\", \"training_percent\": \"100\", \"start_time\": \"2021-01-26T18:48:53.59923Z\", \"end_time\": \"2021-01-26T18:49:42.452927Z\", \"created_time\": \"2021-01-26T18:48:42.065346Z\", \"created_time_dt\": \"2021-01-26T18:48:42.065346Z\", \"duration\": \"0:01:00\", \"iteration\": \"35\", \"goal\": \"AUC_weighted_max\", \"run_name\": \"StandardScalerWrapper, XGBoostClassifier\", \"run_properties\": \"<azureml.automl.runtime.shared.model_wrappers.StandardScalerWrapper object at 0x7f42767606a0\", \"primary_metric\": 0.90180206, \"best_metric\": 0.91496584}, {\"run_id\": \"AutoML_68866b9b-1325-46cb-ac93-a8130014da6e_36\", \"run_number\": 41, \"metric\": null, \"status\": \"Completed\", \"run_type\": \"azureml.scriptrun\", \"training_percent\": \"100\", \"start_time\": \"2021-01-26T18:49:52.181194Z\", \"end_time\": \"2021-01-26T18:50:37.367731Z\", \"created_time\": \"2021-01-26T18:49:17.506008Z\", \"created_time_dt\": \"2021-01-26T18:49:17.506008Z\", \"duration\": \"0:01:19\", \"iteration\": \"36\", \"goal\": \"AUC_weighted_max\", \"run_name\": \"StandardScalerWrapper, XGBoostClassifier\", \"run_properties\": \"<azureml.automl.runtime.shared.model_wrappers.StandardScalerWrapper object at 0x7f51a83db2b0\", \"primary_metric\": 0.90830307, \"best_metric\": 0.91496584}, {\"run_id\": \"AutoML_68866b9b-1325-46cb-ac93-a8130014da6e_37\", \"run_number\": 42, \"metric\": null, \"status\": \"Completed\", \"run_type\": \"azureml.scriptrun\", \"training_percent\": \"100\", \"start_time\": \"2021-01-26T18:49:53.863506Z\", \"end_time\": \"2021-01-26T18:50:44.414558Z\", \"created_time\": \"2021-01-26T18:49:17.573892Z\", \"created_time_dt\": \"2021-01-26T18:49:17.573892Z\", \"duration\": \"0:01:26\", \"iteration\": \"37\", \"goal\": \"AUC_weighted_max\", \"run_name\": \"MaxAbsScaler, RandomForest\", \"run_properties\": \"copy=True\", \"primary_metric\": 0.90292445, \"best_metric\": 0.91496584}, {\"run_id\": \"AutoML_68866b9b-1325-46cb-ac93-a8130014da6e_38\", \"run_number\": 43, \"metric\": null, \"status\": \"Completed\", \"run_type\": \"azureml.scriptrun\", \"training_percent\": \"100\", \"start_time\": \"2021-01-26T18:49:51.025832Z\", \"end_time\": \"2021-01-26T18:50:40.072725Z\", \"created_time\": \"2021-01-26T18:49:22.633423Z\", \"created_time_dt\": \"2021-01-26T18:49:22.633423Z\", \"duration\": \"0:01:17\", \"iteration\": \"38\", \"goal\": \"AUC_weighted_max\", \"run_name\": \"StandardScalerWrapper, XGBoostClassifier\", \"run_properties\": \"<azureml.automl.runtime.shared.model_wrappers.StandardScalerWrapper object at 0x7f42a5861ba8\", \"primary_metric\": 0.91624913, \"best_metric\": 0.91624913}, {\"run_id\": \"AutoML_68866b9b-1325-46cb-ac93-a8130014da6e_39\", \"run_number\": 44, \"metric\": null, \"status\": \"Completed\", \"run_type\": \"azureml.scriptrun\", \"training_percent\": \"100\", \"start_time\": \"2021-01-26T18:49:57.410733Z\", \"end_time\": \"2021-01-26T18:50:46.756439Z\", \"created_time\": \"2021-01-26T18:49:44.957166Z\", \"created_time_dt\": \"2021-01-26T18:49:44.957166Z\", \"duration\": \"0:01:01\", \"iteration\": \"39\", \"goal\": \"AUC_weighted_max\", \"run_name\": \"StandardScalerWrapper, LightGBM\", \"run_properties\": \"<azureml.automl.runtime.shared.model_wrappers.StandardScalerWrapper object at 0x7fdcf8f0c9b0\", \"primary_metric\": 0.90435347, \"best_metric\": 0.91624913}, {\"run_id\": \"AutoML_68866b9b-1325-46cb-ac93-a8130014da6e_40\", \"run_number\": 45, \"metric\": null, \"status\": \"Completed\", \"run_type\": \"azureml.scriptrun\", \"training_percent\": \"100\", \"start_time\": \"2021-01-26T18:50:56.676801Z\", \"end_time\": \"2021-01-26T18:51:40.76911Z\", \"created_time\": \"2021-01-26T18:50:40.314154Z\", \"created_time_dt\": \"2021-01-26T18:50:40.314154Z\", \"duration\": \"0:01:00\", \"iteration\": \"40\", \"goal\": \"AUC_weighted_max\", \"run_name\": \"MinMaxScaler, LightGBM\", \"run_properties\": \"copy=True, feature_range=(0, 1\", \"primary_metric\": 0.90833278, \"best_metric\": 0.91624913}, {\"run_id\": \"AutoML_68866b9b-1325-46cb-ac93-a8130014da6e_41\", \"run_number\": 46, \"metric\": null, \"status\": \"Completed\", \"run_type\": \"azureml.scriptrun\", \"training_percent\": \"100\", \"start_time\": \"2021-01-26T18:50:57.414375Z\", \"end_time\": \"2021-01-26T18:51:47.440193Z\", \"created_time\": \"2021-01-26T18:50:44.502696Z\", \"created_time_dt\": \"2021-01-26T18:50:44.502696Z\", \"duration\": \"0:01:02\", \"iteration\": \"41\", \"goal\": \"AUC_weighted_max\", \"run_name\": \"MinMaxScaler, LightGBM\", \"run_properties\": \"copy=True, feature_range=(0, 1\", \"primary_metric\": 0.90939954, \"best_metric\": 0.91624913}, {\"run_id\": \"AutoML_68866b9b-1325-46cb-ac93-a8130014da6e_42\", \"run_number\": 47, \"metric\": null, \"status\": \"Completed\", \"run_type\": \"azureml.scriptrun\", \"training_percent\": \"100\", \"start_time\": \"2021-01-26T18:51:00.064927Z\", \"end_time\": \"2021-01-26T18:51:50.87978Z\", \"created_time\": \"2021-01-26T18:50:47.906546Z\", \"created_time_dt\": \"2021-01-26T18:50:47.906546Z\", \"duration\": \"0:01:02\", \"iteration\": \"42\", \"goal\": \"AUC_weighted_max\", \"run_name\": \"MaxAbsScaler, GradientBoosting\", \"run_properties\": \"copy=True\", \"primary_metric\": 0.90773346, \"best_metric\": 0.91624913}, {\"run_id\": \"AutoML_68866b9b-1325-46cb-ac93-a8130014da6e_43\", \"run_number\": 48, \"metric\": null, \"status\": \"Completed\", \"run_type\": \"azureml.scriptrun\", \"training_percent\": \"100\", \"start_time\": \"2021-01-26T18:51:06.446492Z\", \"end_time\": \"2021-01-26T18:52:20.191328Z\", \"created_time\": \"2021-01-26T18:50:51.925497Z\", \"created_time_dt\": \"2021-01-26T18:50:51.925497Z\", \"duration\": \"0:01:28\", \"iteration\": \"43\", \"goal\": \"AUC_weighted_max\", \"run_name\": \"MinMaxScaler, ExtremeRandomTrees\", \"run_properties\": \"copy=True, feature_range=(0, 1\", \"primary_metric\": 0.8881878, \"best_metric\": 0.91624913}, {\"run_id\": \"AutoML_68866b9b-1325-46cb-ac93-a8130014da6e_44\", \"run_number\": 49, \"metric\": null, \"status\": \"Completed\", \"run_type\": \"azureml.scriptrun\", \"training_percent\": \"100\", \"start_time\": \"2021-01-26T18:51:55.258711Z\", \"end_time\": \"2021-01-26T18:52:45.277281Z\", \"created_time\": \"2021-01-26T18:51:42.628787Z\", \"created_time_dt\": \"2021-01-26T18:51:42.628787Z\", \"duration\": \"0:01:02\", \"iteration\": \"44\", \"goal\": \"AUC_weighted_max\", \"run_name\": \"StandardScalerWrapper, GradientBoosting\", \"run_properties\": \"<azureml.automl.runtime.shared.model_wrappers.StandardScalerWrapper object at 0x7f9556b47048\", \"primary_metric\": 0.91250234, \"best_metric\": 0.91624913}, {\"run_id\": \"AutoML_68866b9b-1325-46cb-ac93-a8130014da6e_45\", \"run_number\": 50, \"metric\": null, \"status\": \"Completed\", \"run_type\": \"azureml.scriptrun\", \"training_percent\": \"100\", \"start_time\": \"2021-01-26T18:52:00.177731Z\", \"end_time\": \"2021-01-26T18:52:47.710126Z\", \"created_time\": \"2021-01-26T18:51:50.420668Z\", \"created_time_dt\": \"2021-01-26T18:51:50.420668Z\", \"duration\": \"0:00:57\", \"iteration\": \"45\", \"goal\": \"AUC_weighted_max\", \"run_name\": \"StandardScalerWrapper, XGBoostClassifier\", \"run_properties\": \"<azureml.automl.runtime.shared.model_wrappers.StandardScalerWrapper object at 0x7fdefa7f9748\", \"primary_metric\": 0.90404835, \"best_metric\": 0.91624913}, {\"run_id\": \"AutoML_68866b9b-1325-46cb-ac93-a8130014da6e_46\", \"run_number\": 51, \"metric\": null, \"status\": \"Completed\", \"run_type\": \"azureml.scriptrun\", \"training_percent\": \"100\", \"start_time\": \"2021-01-26T18:52:03.934561Z\", \"end_time\": \"2021-01-26T18:52:49.97008Z\", \"created_time\": \"2021-01-26T18:51:53.596255Z\", \"created_time_dt\": \"2021-01-26T18:51:53.596255Z\", \"duration\": \"0:00:56\", \"iteration\": \"46\", \"goal\": \"AUC_weighted_max\", \"run_name\": \"RobustScaler, LightGBM\", \"run_properties\": \"copy=True, quantile_range=[25, 75], with_centering=True,\\n             with_scaling=True\", \"primary_metric\": 0.89889021, \"best_metric\": 0.91624913}, {\"run_id\": \"AutoML_68866b9b-1325-46cb-ac93-a8130014da6e_47\", \"run_number\": 52, \"metric\": null, \"status\": \"Completed\", \"run_type\": \"azureml.scriptrun\", \"training_percent\": \"100\", \"start_time\": \"2021-01-26T18:52:33.562412Z\", \"end_time\": \"2021-01-26T18:53:19.607794Z\", \"created_time\": \"2021-01-26T18:52:22.2265Z\", \"created_time_dt\": \"2021-01-26T18:52:22.2265Z\", \"duration\": \"0:00:57\", \"iteration\": \"47\", \"goal\": \"AUC_weighted_max\", \"run_name\": \"StandardScalerWrapper, XGBoostClassifier\", \"run_properties\": \"<azureml.automl.runtime.shared.model_wrappers.StandardScalerWrapper object at 0x7efd049d6080\", \"primary_metric\": 0.90440284, \"best_metric\": 0.91624913}, {\"run_id\": \"AutoML_68866b9b-1325-46cb-ac93-a8130014da6e_48\", \"run_number\": 53, \"metric\": null, \"status\": \"Completed\", \"run_type\": \"azureml.scriptrun\", \"training_percent\": \"100\", \"start_time\": \"2021-01-26T18:52:58.695666Z\", \"end_time\": \"2021-01-26T18:53:46.458124Z\", \"created_time\": \"2021-01-26T18:52:47.081574Z\", \"created_time_dt\": \"2021-01-26T18:52:47.081574Z\", \"duration\": \"0:00:59\", \"iteration\": \"48\", \"goal\": \"AUC_weighted_max\", \"run_name\": \"MinMaxScaler, LightGBM\", \"run_properties\": \"copy=True, feature_range=(0, 1\", \"primary_metric\": 0.89569622, \"best_metric\": 0.91624913}, {\"run_id\": \"AutoML_68866b9b-1325-46cb-ac93-a8130014da6e_49\", \"run_number\": 54, \"metric\": null, \"status\": \"Completed\", \"run_type\": \"azureml.scriptrun\", \"training_percent\": \"100\", \"start_time\": \"2021-01-26T18:53:04.257676Z\", \"end_time\": \"2021-01-26T18:53:48.798559Z\", \"created_time\": \"2021-01-26T18:52:51.036168Z\", \"created_time_dt\": \"2021-01-26T18:52:51.036168Z\", \"duration\": \"0:00:57\", \"iteration\": \"49\", \"goal\": \"AUC_weighted_max\", \"run_name\": \"StandardScalerWrapper, LightGBM\", \"run_properties\": \"<azureml.automl.runtime.shared.model_wrappers.StandardScalerWrapper object at 0x7fb941d45fd0\", \"primary_metric\": 0.90468899, \"best_metric\": 0.91624913}, {\"run_id\": \"AutoML_68866b9b-1325-46cb-ac93-a8130014da6e_50\", \"run_number\": 55, \"metric\": null, \"status\": \"Canceled\", \"run_type\": \"azureml.scriptrun\", \"training_percent\": \"100\", \"start_time\": \"2021-01-26T18:53:08.649063Z\", \"end_time\": \"2021-01-26T18:54:31.812166Z\", \"created_time\": \"2021-01-26T18:52:55.346357Z\", \"created_time_dt\": \"2021-01-26T18:52:55.346357Z\", \"duration\": \"0:01:36\", \"iteration\": \"50\", \"goal\": \"AUC_weighted_max\", \"run_name\": \"PCA, XGBoostClassifier\", \"run_properties\": \"copy=True, iterated_power='auto', n_components=0.15842105263157896,\\n    random_state=None, svd_solver='auto', tol=0.0, whiten=True\", \"primary_metric\": 0.5, \"best_metric\": 0.91624913}, {\"run_id\": \"AutoML_68866b9b-1325-46cb-ac93-a8130014da6e_51\", \"run_number\": 56, \"metric\": null, \"status\": \"Completed\", \"run_type\": \"azureml.scriptrun\", \"training_percent\": \"100\", \"start_time\": \"2021-01-26T18:53:32.974847Z\", \"end_time\": \"2021-01-26T18:54:23.48881Z\", \"created_time\": \"2021-01-26T18:53:21.603181Z\", \"created_time_dt\": \"2021-01-26T18:53:21.603181Z\", \"duration\": \"0:01:01\", \"iteration\": \"51\", \"goal\": \"AUC_weighted_max\", \"run_name\": \"StandardScalerWrapper, LightGBM\", \"run_properties\": \"<azureml.automl.runtime.shared.model_wrappers.StandardScalerWrapper object at 0x7f9a9e2f4828\", \"primary_metric\": 0.90296981, \"best_metric\": 0.91624913}, {\"run_id\": \"AutoML_68866b9b-1325-46cb-ac93-a8130014da6e_52\", \"run_number\": 57, \"metric\": null, \"status\": \"Canceled\", \"run_type\": \"azureml.scriptrun\", \"training_percent\": \"100\", \"start_time\": \"2021-01-26T18:53:59.878814Z\", \"end_time\": \"2021-01-26T18:54:32.262633Z\", \"created_time\": \"2021-01-26T18:53:48.272761Z\", \"created_time_dt\": \"2021-01-26T18:53:48.272761Z\", \"duration\": \"0:00:43\", \"iteration\": \"52\", \"goal\": null, \"run_name\": \"RobustScaler, ExtremeRandomTrees\", \"run_properties\": null}, {\"run_id\": \"AutoML_68866b9b-1325-46cb-ac93-a8130014da6e_53\", \"run_number\": 58, \"metric\": null, \"status\": \"Canceled\", \"run_type\": \"azureml.scriptrun\", \"training_percent\": \"100\", \"start_time\": \"2021-01-26T18:54:02.404389Z\", \"end_time\": \"2021-01-26T18:54:32.77273Z\", \"created_time\": \"2021-01-26T18:53:51.469534Z\", \"created_time_dt\": \"2021-01-26T18:53:51.469534Z\", \"duration\": \"0:00:41\", \"iteration\": \"53\", \"goal\": \"AUC_weighted_max\", \"run_name\": \"RobustScaler, GradientBoosting\", \"run_properties\": \"copy=True, quantile_range=[10, 90], with_centering=False,\\n             with_scaling=True\", \"primary_metric\": 0.91512162, \"best_metric\": 0.91624913}, {\"run_id\": \"AutoML_68866b9b-1325-46cb-ac93-a8130014da6e_54\", \"run_number\": 59, \"metric\": null, \"status\": \"Completed\", \"run_type\": \"azureml.scriptrun\", \"training_percent\": \"100\", \"start_time\": \"2021-01-26T18:54:46.544146Z\", \"end_time\": \"2021-01-26T18:57:26.21563Z\", \"created_time\": \"2021-01-26T18:54:33.691669Z\", \"created_time_dt\": \"2021-01-26T18:54:33.691669Z\", \"duration\": \"0:02:52\", \"iteration\": \"54\", \"goal\": \"AUC_weighted_max\", \"run_name\": \"VotingEnsemble\", \"run_properties\": \"classification_labels=None,\\n                              estimators=[('38',\\n                                           Pipeline(memory=None,\\n                                                    steps=[('standardscalerwrapper',\\n                                                            <azureml.automl.runtime.shared.model_wrappers.StandardScalerWrapper object at 0x7f244c6ad6a0>\", \"primary_metric\": 0.91878274, \"best_metric\": 0.91878274}, {\"run_id\": \"AutoML_68866b9b-1325-46cb-ac93-a8130014da6e_55\", \"run_number\": 60, \"metric\": null, \"status\": \"Completed\", \"run_type\": \"azureml.scriptrun\", \"training_percent\": \"100\", \"start_time\": \"2021-01-26T18:54:46.640772Z\", \"end_time\": \"2021-01-26T18:57:26.249123Z\", \"created_time\": \"2021-01-26T18:54:33.727285Z\", \"created_time_dt\": \"2021-01-26T18:54:33.727285Z\", \"duration\": \"0:02:52\", \"iteration\": \"55\", \"goal\": \"AUC_weighted_max\", \"run_name\": \"StackEnsemble\", \"run_properties\": \"base_learners=[('38',\\n                                        Pipeline(memory=None,\\n                                                 steps=[('standardscalerwrapper',\\n                                                         <azureml.automl.runtime.shared.model_wrappers.StandardScalerWrapper object at 0x7fc4f41c2ba8>\", \"primary_metric\": 0.91194264, \"best_metric\": 0.91878274}], \"children_metrics\": {\"categories\": [0], \"series\": {\"f1_score_macro\": [{\"categories\": [\"0\", \"1\", \"2\", \"3\", \"4\", \"5\", \"6\", \"7\", \"8\", \"9\", \"10\", \"11\", \"12\", \"13\", \"14\", \"15\", \"16\", \"17\", \"18\", \"19\", \"20\", \"21\", \"22\", \"23\", \"24\", \"25\", \"26\", \"27\", \"28\", \"29\", \"30\", \"31\", \"32\", \"33\", \"34\", \"35\", \"36\", \"37\", \"38\", \"39\", \"40\", \"41\", \"42\", \"43\", \"44\", \"45\", \"46\", \"47\", \"48\", \"49\", \"50\", \"51\", \"53\", \"54\", \"55\"], \"mode\": \"markers\", \"name\": \"f1_score_macro\", \"stepped\": false, \"type\": \"scatter\", \"data\": [0.8043314151248963, 0.8078501228997539, 0.7997886888819368, 0.7276026039512311, 0.8085236943960252, 0.7907427668949408, 0.7846702466028386, 0.7900682556170299, 0.7096832842260339, 0.6844538166645457, 0.685089676088934, 0.805093517966298, 0.7941647959914686, 0.786520686032605, 0.8073956475444015, 0.5251633085767229, 0.6841102785378534, 0.7295586844334716, 0.7941322994341121, 0.7859560894600321, 0.7917622496837957, 0.769877461291998, 0.8044948176029122, 0.7953612836398373, 0.8262619022743494, 0.813375475019462, 0.7986644892730717, 0.7800442186857623, 0.8092915373792847, 0.7012302070465836, 0.44160411121559495, 0.8237268694980224, 0.8085227146791351, 0.8103274940034245, 0.8265601046063485, 0.8256745716842024, 0.8103686036186035, 0.7810544889641704, 0.8023815936900827, 0.8154341759106373, 0.8289913821663447, 0.8158728650410557, 0.826234999765424, 0.8190630518096194, 0.8213487247742834, 0.8072257111725403, 0.8100050783394872, 0.8047743751420995, 0.7540677356597105, 0.8084484988019112, 0.4024893878511494, 0.8108214879945235, 0.8214706602285811, 0.8155001733775256, 0.47597905772828736]}, {\"categories\": [\"0\", \"1\", \"2\", \"3\", \"4\", \"5\", \"6\", \"7\", \"8\", \"9\", \"10\", \"11\", \"12\", \"13\", \"14\", \"15\", \"16\", \"17\", \"18\", \"19\", \"20\", \"21\", \"22\", \"23\", \"24\", \"25\", \"26\", \"27\", \"28\", \"29\", \"30\", \"31\", \"32\", \"33\", \"34\", \"35\", \"36\", \"37\", \"38\", \"39\", \"40\", \"41\", \"42\", \"43\", \"44\", \"45\", \"46\", \"47\", \"48\", \"49\", \"50\", \"51\", \"53\", \"54\", \"55\"], \"mode\": \"lines\", \"name\": \"f1_score_macro_max\", \"stepped\": true, \"type\": \"scatter\", \"data\": [0.8043314151248963, 0.8078501228997539, 0.8078501228997539, 0.8078501228997539, 0.8085236943960252, 0.8085236943960252, 0.8085236943960252, 0.8085236943960252, 0.8085236943960252, 0.8085236943960252, 0.8085236943960252, 0.8085236943960252, 0.8085236943960252, 0.8085236943960252, 0.8085236943960252, 0.8085236943960252, 0.8085236943960252, 0.8085236943960252, 0.8085236943960252, 0.8085236943960252, 0.8085236943960252, 0.8085236943960252, 0.8085236943960252, 0.8085236943960252, 0.8262619022743494, 0.8262619022743494, 0.8262619022743494, 0.8262619022743494, 0.8262619022743494, 0.8262619022743494, 0.8262619022743494, 0.8262619022743494, 0.8262619022743494, 0.8262619022743494, 0.8265601046063485, 0.8265601046063485, 0.8265601046063485, 0.8265601046063485, 0.8265601046063485, 0.8265601046063485, 0.8289913821663447, 0.8289913821663447, 0.8289913821663447, 0.8289913821663447, 0.8289913821663447, 0.8289913821663447, 0.8289913821663447, 0.8289913821663447, 0.8289913821663447, 0.8289913821663447, 0.8289913821663447, 0.8289913821663447, 0.8289913821663447, 0.8289913821663447, 0.8289913821663447]}], \"AUC_weighted\": [{\"categories\": [\"0\", \"1\", \"2\", \"3\", \"4\", \"5\", \"6\", \"7\", \"8\", \"9\", \"10\", \"11\", \"12\", \"13\", \"14\", \"15\", \"16\", \"17\", \"18\", \"19\", \"20\", \"21\", \"22\", \"23\", \"24\", \"25\", \"26\", \"27\", \"28\", \"29\", \"30\", \"31\", \"32\", \"33\", \"34\", \"35\", \"36\", \"37\", \"38\", \"39\", \"40\", \"41\", \"42\", \"43\", \"44\", \"45\", \"46\", \"47\", \"48\", \"49\", \"50\", \"51\", \"53\", \"54\", \"55\"], \"mode\": \"markers\", \"name\": \"AUC_weighted\", \"stepped\": false, \"type\": \"scatter\", \"data\": [0.8840955354735103, 0.8847369443591411, 0.9053164029144007, 0.882086898708123, 0.9034974039182277, 0.8887991603129475, 0.8981926884482496, 0.8909513902509897, 0.8829069907971508, 0.7496161006793443, 0.8638697178827615, 0.8920829009006928, 0.898559956297199, 0.8696472759908115, 0.8865594865787658, 0.5203053263648802, 0.8936737751273218, 0.8249068134763787, 0.8875055157106644, 0.9089099837731132, 0.8891997874985001, 0.8563609031086721, 0.8715961951155886, 0.9084791293671156, 0.8972491004355421, 0.9064857260355546, 0.8966252746490733, 0.9012169939836415, 0.9044779648396352, 0.8755183608450199, 0.4929927309490238, 0.9069372666955047, 0.9079881997759, 0.9037462671005578, 0.9149658402704169, 0.9018020629637334, 0.9083030667357898, 0.9029244543616398, 0.9162491258339085, 0.9043534713485515, 0.90833278263181, 0.9093995361977626, 0.9077334590043401, 0.8881877998410607, 0.9125023355490175, 0.904048346987363, 0.8988902073200128, 0.904402837187391, 0.8956962236233975, 0.9046889850064337, 0.5, 0.9029698141654091, 0.9151216242461666, 0.918782735549898, 0.9119426397295392]}, {\"categories\": [\"0\", \"1\", \"2\", \"3\", \"4\", \"5\", \"6\", \"7\", \"8\", \"9\", \"10\", \"11\", \"12\", \"13\", \"14\", \"15\", \"16\", \"17\", \"18\", \"19\", \"20\", \"21\", \"22\", \"23\", \"24\", \"25\", \"26\", \"27\", \"28\", \"29\", \"30\", \"31\", \"32\", \"33\", \"34\", \"35\", \"36\", \"37\", \"38\", \"39\", \"40\", \"41\", \"42\", \"43\", \"44\", \"45\", \"46\", \"47\", \"48\", \"49\", \"50\", \"51\", \"53\", \"54\", \"55\"], \"mode\": \"lines\", \"name\": \"AUC_weighted_max\", \"stepped\": true, \"type\": \"scatter\", \"data\": [0.8840955354735103, 0.8847369443591411, 0.9053164029144007, 0.9053164029144007, 0.9053164029144007, 0.9053164029144007, 0.9053164029144007, 0.9053164029144007, 0.9053164029144007, 0.9053164029144007, 0.9053164029144007, 0.9053164029144007, 0.9053164029144007, 0.9053164029144007, 0.9053164029144007, 0.9053164029144007, 0.9053164029144007, 0.9053164029144007, 0.9053164029144007, 0.9089099837731132, 0.9089099837731132, 0.9089099837731132, 0.9089099837731132, 0.9089099837731132, 0.9089099837731132, 0.9089099837731132, 0.9089099837731132, 0.9089099837731132, 0.9089099837731132, 0.9089099837731132, 0.9089099837731132, 0.9089099837731132, 0.9089099837731132, 0.9089099837731132, 0.9149658402704169, 0.9149658402704169, 0.9149658402704169, 0.9149658402704169, 0.9162491258339085, 0.9162491258339085, 0.9162491258339085, 0.9162491258339085, 0.9162491258339085, 0.9162491258339085, 0.9162491258339085, 0.9162491258339085, 0.9162491258339085, 0.9162491258339085, 0.9162491258339085, 0.9162491258339085, 0.9162491258339085, 0.9162491258339085, 0.9162491258339085, 0.918782735549898, 0.918782735549898]}], \"f1_score_weighted\": [{\"categories\": [\"0\", \"1\", \"2\", \"3\", \"4\", \"5\", \"6\", \"7\", \"8\", \"9\", \"10\", \"11\", \"12\", \"13\", \"14\", \"15\", \"16\", \"17\", \"18\", \"19\", \"20\", \"21\", \"22\", \"23\", \"24\", \"25\", \"26\", \"27\", \"28\", \"29\", \"30\", \"31\", \"32\", \"33\", \"34\", \"35\", \"36\", \"37\", \"38\", \"39\", \"40\", \"41\", \"42\", \"43\", \"44\", \"45\", \"46\", \"47\", \"48\", \"49\", \"50\", \"51\", \"53\", \"54\", \"55\"], \"mode\": \"markers\", \"name\": \"f1_score_weighted\", \"stepped\": false, \"type\": \"scatter\", \"data\": [0.8333388901455894, 0.8342588560383983, 0.8321844545624965, 0.7798279359042517, 0.8366752335972001, 0.8231743214473349, 0.8227745749796908, 0.8249347691430137, 0.7658950376831999, 0.743922190318357, 0.7462415447197052, 0.8353086708412482, 0.8206380772706965, 0.8190519819982247, 0.8367389433803387, 0.6071892452709331, 0.739714998776024, 0.7652952140381994, 0.8234086867846125, 0.8208423832388133, 0.8261132615562745, 0.8014531020889546, 0.8347055238330363, 0.8269349729107512, 0.8513159987919836, 0.843458559593851, 0.8295644740435032, 0.8176558550810734, 0.8378026796876673, 0.7623739005239016, 0.5696375983785669, 0.8482115030624963, 0.8405229075778019, 0.8368174208799493, 0.8538200149334557, 0.852730875034247, 0.8377527514630962, 0.8083222117396278, 0.8308082153855999, 0.8441500163423766, 0.856281337412138, 0.8430209198749342, 0.8535883895269742, 0.8466370701573693, 0.8475946679904751, 0.8345625774821486, 0.8417270896840684, 0.8339433523290098, 0.7972638716395719, 0.8365798402115654, 0.5534120288954022, 0.8399076688317308, 0.8493964079627092, 0.8430083888124805, 0.6054689853138544]}, {\"categories\": [\"0\", \"1\", \"2\", \"3\", \"4\", \"5\", \"6\", \"7\", \"8\", \"9\", \"10\", \"11\", \"12\", \"13\", \"14\", \"15\", \"16\", \"17\", \"18\", \"19\", \"20\", \"21\", \"22\", \"23\", \"24\", \"25\", \"26\", \"27\", \"28\", \"29\", \"30\", \"31\", \"32\", \"33\", \"34\", \"35\", \"36\", \"37\", \"38\", \"39\", \"40\", \"41\", \"42\", \"43\", \"44\", \"45\", \"46\", \"47\", \"48\", \"49\", \"50\", \"51\", \"53\", \"54\", \"55\"], \"mode\": \"lines\", \"name\": \"f1_score_weighted_max\", \"stepped\": true, \"type\": \"scatter\", \"data\": [0.8333388901455894, 0.8342588560383983, 0.8342588560383983, 0.8342588560383983, 0.8366752335972001, 0.8366752335972001, 0.8366752335972001, 0.8366752335972001, 0.8366752335972001, 0.8366752335972001, 0.8366752335972001, 0.8366752335972001, 0.8366752335972001, 0.8366752335972001, 0.8367389433803387, 0.8367389433803387, 0.8367389433803387, 0.8367389433803387, 0.8367389433803387, 0.8367389433803387, 0.8367389433803387, 0.8367389433803387, 0.8367389433803387, 0.8367389433803387, 0.8513159987919836, 0.8513159987919836, 0.8513159987919836, 0.8513159987919836, 0.8513159987919836, 0.8513159987919836, 0.8513159987919836, 0.8513159987919836, 0.8513159987919836, 0.8513159987919836, 0.8538200149334557, 0.8538200149334557, 0.8538200149334557, 0.8538200149334557, 0.8538200149334557, 0.8538200149334557, 0.856281337412138, 0.856281337412138, 0.856281337412138, 0.856281337412138, 0.856281337412138, 0.856281337412138, 0.856281337412138, 0.856281337412138, 0.856281337412138, 0.856281337412138, 0.856281337412138, 0.856281337412138, 0.856281337412138, 0.856281337412138, 0.856281337412138]}], \"norm_macro_recall\": [{\"categories\": [\"0\", \"1\", \"2\", \"3\", \"4\", \"5\", \"6\", \"7\", \"8\", \"9\", \"10\", \"11\", \"12\", \"13\", \"14\", \"15\", \"16\", \"17\", \"18\", \"19\", \"20\", \"21\", \"22\", \"23\", \"24\", \"25\", \"26\", \"27\", \"28\", \"29\", \"30\", \"31\", \"32\", \"33\", \"34\", \"35\", \"36\", \"37\", \"38\", \"39\", \"40\", \"41\", \"42\", \"43\", \"44\", \"45\", \"46\", \"47\", \"48\", \"49\", \"50\", \"51\", \"53\", \"54\", \"55\"], \"mode\": \"markers\", \"name\": \"norm_macro_recall\", \"stepped\": false, \"type\": \"scatter\", \"data\": [0.6154165791620023, 0.626049804187676, 0.6177464948603392, 0.42620732496590613, 0.6342830387893318, 0.584374010619434, 0.579701932697356, 0.5518081641851664, 0.393546151280705, 0.3560714227928186, 0.3716193646170763, 0.574905990272123, 0.6463138676731355, 0.5794678263511216, 0.6463295945727296, 0.1267612930547713, 0.3538686431163548, 0.49948522574552323, 0.6337251040975298, 0.5662958359337078, 0.5946912183290902, 0.5755450896675154, 0.628111999366004, 0.6166270691551012, 0.6526002464989878, 0.6380894867273585, 0.6220601594566125, 0.5375237657714773, 0.6681007079622641, 0.3834193190486096, 0.034145021645021624, 0.6464321995700714, 0.6101306122684841, 0.6219590849653779, 0.6590665885728815, 0.659134941272813, 0.6257378368516812, 0.6301926555519233, 0.6302108887171816, 0.6478477839856559, 0.6581068027446746, 0.6447049268427987, 0.6549321995700714, 0.6202476208637535, 0.6472619253997971, 0.6287950516937931, 0.6156547825426543, 0.6277270407573612, 0.48450175999947165, 0.630166687304559, 0.0, 0.6321551432930151, 0.6436767883146601, 0.6402676974055692, 0.10739538239538238]}, {\"categories\": [\"0\", \"1\", \"2\", \"3\", \"4\", \"5\", \"6\", \"7\", \"8\", \"9\", \"10\", \"11\", \"12\", \"13\", \"14\", \"15\", \"16\", \"17\", \"18\", \"19\", \"20\", \"21\", \"22\", \"23\", \"24\", \"25\", \"26\", \"27\", \"28\", \"29\", \"30\", \"31\", \"32\", \"33\", \"34\", \"35\", \"36\", \"37\", \"38\", \"39\", \"40\", \"41\", \"42\", \"43\", \"44\", \"45\", \"46\", \"47\", \"48\", \"49\", \"50\", \"51\", \"53\", \"54\", \"55\"], \"mode\": \"lines\", \"name\": \"norm_macro_recall_max\", \"stepped\": true, \"type\": \"scatter\", \"data\": [0.6154165791620023, 0.626049804187676, 0.626049804187676, 0.626049804187676, 0.6342830387893318, 0.6342830387893318, 0.6342830387893318, 0.6342830387893318, 0.6342830387893318, 0.6342830387893318, 0.6342830387893318, 0.6342830387893318, 0.6463138676731355, 0.6463138676731355, 0.6463295945727296, 0.6463295945727296, 0.6463295945727296, 0.6463295945727296, 0.6463295945727296, 0.6463295945727296, 0.6463295945727296, 0.6463295945727296, 0.6463295945727296, 0.6463295945727296, 0.6526002464989878, 0.6526002464989878, 0.6526002464989878, 0.6526002464989878, 0.6681007079622641, 0.6681007079622641, 0.6681007079622641, 0.6681007079622641, 0.6681007079622641, 0.6681007079622641, 0.6681007079622641, 0.6681007079622641, 0.6681007079622641, 0.6681007079622641, 0.6681007079622641, 0.6681007079622641, 0.6681007079622641, 0.6681007079622641, 0.6681007079622641, 0.6681007079622641, 0.6681007079622641, 0.6681007079622641, 0.6681007079622641, 0.6681007079622641, 0.6681007079622641, 0.6681007079622641, 0.6681007079622641, 0.6681007079622641, 0.6681007079622641, 0.6681007079622641, 0.6681007079622641]}], \"log_loss\": [{\"categories\": [\"0\", \"1\", \"2\", \"3\", \"4\", \"5\", \"6\", \"7\", \"8\", \"9\", \"10\", \"11\", \"12\", \"13\", \"14\", \"15\", \"16\", \"17\", \"18\", \"19\", \"20\", \"21\", \"22\", \"23\", \"24\", \"25\", \"26\", \"27\", \"28\", \"29\", \"30\", \"31\", \"32\", \"33\", \"34\", \"35\", \"36\", \"37\", \"38\", \"39\", \"40\", \"41\", \"42\", \"43\", \"44\", \"45\", \"46\", \"47\", \"48\", \"49\", \"50\", \"51\", \"53\", \"54\", \"55\"], \"mode\": \"markers\", \"name\": \"log_loss\", \"stepped\": false, \"type\": \"scatter\", \"data\": [0.4772179826627182, 0.41764279466886123, 0.3681825552713828, 0.45757359743335757, 0.370852731052307, 0.3976979022109536, 0.4691288782045403, 0.39262881272691535, 0.4716680706813824, 1.2837639362986895, 0.47928883541064826, 0.4288205799287989, 0.4296841864168508, 0.41887570350144987, 0.43481657258672685, 0.7617709563916407, 0.47181071777795847, 0.6365644122158987, 0.5212340156738887, 0.4652367527361444, 0.4988933808364099, 0.5107422827085026, 0.47788535457620485, 0.3881670850292872, 0.41574399491775516, 0.3609769014346481, 0.41007434856902963, 0.4535041639358635, 0.4646222145452838, 0.4602831134399269, 0.67179372279914, 0.35630025791434355, 0.3601344323199459, 0.3630664696403344, 0.3523686383639027, 0.37163026247776076, 0.3817523471092498, 0.4475396245565701, 0.3914347797581329, 0.3739790947757638, 0.35935790798584194, 0.3753146667923598, 0.35722936203323696, 0.39913787424570074, 0.3515329369432288, 0.4216793333102463, 0.3950120103682447, 0.4920934378969738, 0.4552451808806226, 0.3663230475278144, 0.6338707158147872, 0.3637011031922178, 0.34733604862737816, 0.3679641237756437, 0.5822216369415643]}, {\"categories\": [\"0\", \"1\", \"2\", \"3\", \"4\", \"5\", \"6\", \"7\", \"8\", \"9\", \"10\", \"11\", \"12\", \"13\", \"14\", \"15\", \"16\", \"17\", \"18\", \"19\", \"20\", \"21\", \"22\", \"23\", \"24\", \"25\", \"26\", \"27\", \"28\", \"29\", \"30\", \"31\", \"32\", \"33\", \"34\", \"35\", \"36\", \"37\", \"38\", \"39\", \"40\", \"41\", \"42\", \"43\", \"44\", \"45\", \"46\", \"47\", \"48\", \"49\", \"50\", \"51\", \"53\", \"54\", \"55\"], \"mode\": \"lines\", \"name\": \"log_loss_min\", \"stepped\": true, \"type\": \"scatter\", \"data\": [0.4772179826627182, 0.41764279466886123, 0.3681825552713828, 0.3681825552713828, 0.3681825552713828, 0.3681825552713828, 0.3681825552713828, 0.3681825552713828, 0.3681825552713828, 0.3681825552713828, 0.3681825552713828, 0.3681825552713828, 0.3681825552713828, 0.3681825552713828, 0.3681825552713828, 0.3681825552713828, 0.3681825552713828, 0.3681825552713828, 0.3681825552713828, 0.3681825552713828, 0.3681825552713828, 0.3681825552713828, 0.3681825552713828, 0.3681825552713828, 0.3681825552713828, 0.3609769014346481, 0.3609769014346481, 0.3609769014346481, 0.3609769014346481, 0.3609769014346481, 0.3609769014346481, 0.35630025791434355, 0.35630025791434355, 0.35630025791434355, 0.3523686383639027, 0.3523686383639027, 0.3523686383639027, 0.3523686383639027, 0.3523686383639027, 0.3523686383639027, 0.3523686383639027, 0.3523686383639027, 0.3523686383639027, 0.3523686383639027, 0.3515329369432288, 0.3515329369432288, 0.3515329369432288, 0.3515329369432288, 0.3515329369432288, 0.3515329369432288, 0.3515329369432288, 0.3515329369432288, 0.34733604862737816, 0.34733604862737816, 0.34733604862737816]}], \"recall_score_weighted\": [{\"categories\": [\"0\", \"1\", \"2\", \"3\", \"4\", \"5\", \"6\", \"7\", \"8\", \"9\", \"10\", \"11\", \"12\", \"13\", \"14\", \"15\", \"16\", \"17\", \"18\", \"19\", \"20\", \"21\", \"22\", \"23\", \"24\", \"25\", \"26\", \"27\", \"28\", \"29\", \"30\", \"31\", \"32\", \"33\", \"34\", \"35\", \"36\", \"37\", \"38\", \"39\", \"40\", \"41\", \"42\", \"43\", \"44\", \"45\", \"46\", \"47\", \"48\", \"49\", \"50\", \"51\", \"53\", \"54\", \"55\"], \"mode\": \"markers\", \"name\": \"recall_score_weighted\", \"stepped\": false, \"type\": \"scatter\", \"data\": [0.8359770114942527, 0.8358620689655172, 0.8325287356321839, 0.7996551724137932, 0.835977011494253, 0.8293103448275861, 0.8257471264367815, 0.8362068965517242, 0.7928735632183909, 0.7659770114942528, 0.7826436781609195, 0.8463218390804599, 0.8154022988505748, 0.822528735632184, 0.8359770114942527, 0.6389655172413793, 0.7727586206896551, 0.7625287356321839, 0.8190804597701149, 0.8258620689655173, 0.8291954022988506, 0.798735632183908, 0.835977011494253, 0.8258620689655173, 0.8527586206896552, 0.8458620689655172, 0.8291954022988506, 0.8293103448275861, 0.8324137931034482, 0.7894252873563219, 0.652528735632184, 0.8527586206896552, 0.8462068965517242, 0.8391954022988506, 0.8559770114942531, 0.8559770114942531, 0.8427586206896553, 0.8022988505747127, 0.8326436781609194, 0.8458620689655174, 0.859425287356322, 0.8458620689655174, 0.8562068965517243, 0.8527586206896552, 0.8493103448275864, 0.8360919540229886, 0.8459770114942529, 0.8358620689655172, 0.8160919540229885, 0.8393103448275863, 0.6791954022988507, 0.8425287356321839, 0.8527586206896552, 0.8459770114942529, 0.7059770114942528]}, {\"categories\": [\"0\", \"1\", \"2\", \"3\", \"4\", \"5\", \"6\", \"7\", \"8\", \"9\", \"10\", \"11\", \"12\", \"13\", \"14\", \"15\", \"16\", \"17\", \"18\", \"19\", \"20\", \"21\", \"22\", \"23\", \"24\", \"25\", \"26\", \"27\", \"28\", \"29\", \"30\", \"31\", \"32\", \"33\", \"34\", \"35\", \"36\", \"37\", \"38\", \"39\", \"40\", \"41\", \"42\", \"43\", \"44\", \"45\", \"46\", \"47\", \"48\", \"49\", \"50\", \"51\", \"53\", \"54\", \"55\"], \"mode\": \"lines\", \"name\": \"recall_score_weighted_max\", \"stepped\": true, \"type\": \"scatter\", \"data\": [0.8359770114942527, 0.8359770114942527, 0.8359770114942527, 0.8359770114942527, 0.835977011494253, 0.835977011494253, 0.835977011494253, 0.8362068965517242, 0.8362068965517242, 0.8362068965517242, 0.8362068965517242, 0.8463218390804599, 0.8463218390804599, 0.8463218390804599, 0.8463218390804599, 0.8463218390804599, 0.8463218390804599, 0.8463218390804599, 0.8463218390804599, 0.8463218390804599, 0.8463218390804599, 0.8463218390804599, 0.8463218390804599, 0.8463218390804599, 0.8527586206896552, 0.8527586206896552, 0.8527586206896552, 0.8527586206896552, 0.8527586206896552, 0.8527586206896552, 0.8527586206896552, 0.8527586206896552, 0.8527586206896552, 0.8527586206896552, 0.8559770114942531, 0.8559770114942531, 0.8559770114942531, 0.8559770114942531, 0.8559770114942531, 0.8559770114942531, 0.859425287356322, 0.859425287356322, 0.859425287356322, 0.859425287356322, 0.859425287356322, 0.859425287356322, 0.859425287356322, 0.859425287356322, 0.859425287356322, 0.859425287356322, 0.859425287356322, 0.859425287356322, 0.859425287356322, 0.859425287356322, 0.859425287356322]}], \"precision_score_macro\": [{\"categories\": [\"0\", \"1\", \"2\", \"3\", \"4\", \"5\", \"6\", \"7\", \"8\", \"9\", \"10\", \"11\", \"12\", \"13\", \"14\", \"15\", \"16\", \"17\", \"18\", \"19\", \"20\", \"21\", \"22\", \"23\", \"24\", \"25\", \"26\", \"27\", \"28\", \"29\", \"30\", \"31\", \"32\", \"33\", \"34\", \"35\", \"36\", \"37\", \"38\", \"39\", \"40\", \"41\", \"42\", \"43\", \"44\", \"45\", \"46\", \"47\", \"48\", \"49\", \"50\", \"51\", \"53\", \"54\", \"55\"], \"mode\": \"markers\", \"name\": \"precision_score_macro\", \"stepped\": false, \"type\": \"scatter\", \"data\": [0.8167365852764965, 0.8232986049897815, 0.8141892013215543, 0.8223774450187493, 0.8109703392134406, 0.8167586227356047, 0.7987741318783519, 0.8564643356262349, 0.843444055944056, 0.7703082497212932, 0.8276985144485144, 0.8766095317725753, 0.7919561536562478, 0.8151354336929281, 0.8087280322017165, 0.5543597592139792, 0.8026718374218375, 0.7354778373800113, 0.7936089152393502, 0.8096246520451326, 0.8067417184265009, 0.7739174139302016, 0.8169466192562167, 0.8007232219964419, 0.8429787919525772, 0.8332875115080997, 0.8053872227255253, 0.8342430830039526, 0.8026569264069263, 0.8274318274318275, 0.526270472822197, 0.8491763263022853, 0.8421012104473202, 0.8301036612577534, 0.8445306572512455, 0.8474256788962672, 0.8344842773026917, 0.7792168622141532, 0.8118681875811034, 0.827639433803958, 0.8476124534743461, 0.8320143632223657, 0.8475694444444445, 0.8567798324863543, 0.8374976442639486, 0.8195018235641806, 0.8394089156245906, 0.8143602641320034, 0.8481224407637452, 0.8237792207792207, 0.33959770114942534, 0.8309611442049523, 0.8440422181111542, 0.8313385650297415, 0.4264342674868991]}, {\"categories\": [\"0\", \"1\", \"2\", \"3\", \"4\", \"5\", \"6\", \"7\", \"8\", \"9\", \"10\", \"11\", \"12\", \"13\", \"14\", \"15\", \"16\", \"17\", \"18\", \"19\", \"20\", \"21\", \"22\", \"23\", \"24\", \"25\", \"26\", \"27\", \"28\", \"29\", \"30\", \"31\", \"32\", \"33\", \"34\", \"35\", \"36\", \"37\", \"38\", \"39\", \"40\", \"41\", \"42\", \"43\", \"44\", \"45\", \"46\", \"47\", \"48\", \"49\", \"50\", \"51\", \"53\", \"54\", \"55\"], \"mode\": \"lines\", \"name\": \"precision_score_macro_max\", \"stepped\": true, \"type\": \"scatter\", \"data\": [0.8167365852764965, 0.8232986049897815, 0.8232986049897815, 0.8232986049897815, 0.8232986049897815, 0.8232986049897815, 0.8232986049897815, 0.8564643356262349, 0.8564643356262349, 0.8564643356262349, 0.8564643356262349, 0.8766095317725753, 0.8766095317725753, 0.8766095317725753, 0.8766095317725753, 0.8766095317725753, 0.8766095317725753, 0.8766095317725753, 0.8766095317725753, 0.8766095317725753, 0.8766095317725753, 0.8766095317725753, 0.8766095317725753, 0.8766095317725753, 0.8766095317725753, 0.8766095317725753, 0.8766095317725753, 0.8766095317725753, 0.8766095317725753, 0.8766095317725753, 0.8766095317725753, 0.8766095317725753, 0.8766095317725753, 0.8766095317725753, 0.8766095317725753, 0.8766095317725753, 0.8766095317725753, 0.8766095317725753, 0.8766095317725753, 0.8766095317725753, 0.8766095317725753, 0.8766095317725753, 0.8766095317725753, 0.8766095317725753, 0.8766095317725753, 0.8766095317725753, 0.8766095317725753, 0.8766095317725753, 0.8766095317725753, 0.8766095317725753, 0.8766095317725753, 0.8766095317725753, 0.8766095317725753, 0.8766095317725753, 0.8766095317725753]}], \"recall_score_macro\": [{\"categories\": [\"0\", \"1\", \"2\", \"3\", \"4\", \"5\", \"6\", \"7\", \"8\", \"9\", \"10\", \"11\", \"12\", \"13\", \"14\", \"15\", \"16\", \"17\", \"18\", \"19\", \"20\", \"21\", \"22\", \"23\", \"24\", \"25\", \"26\", \"27\", \"28\", \"29\", \"30\", \"31\", \"32\", \"33\", \"34\", \"35\", \"36\", \"37\", \"38\", \"39\", \"40\", \"41\", \"42\", \"43\", \"44\", \"45\", \"46\", \"47\", \"48\", \"49\", \"50\", \"51\", \"53\", \"54\", \"55\"], \"mode\": \"markers\", \"name\": \"recall_score_macro\", \"stepped\": false, \"type\": \"scatter\", \"data\": [0.8077082895810014, 0.8130249020938379, 0.8088732474301696, 0.713103662482953, 0.817141519394666, 0.7921870053097169, 0.7898509663486781, 0.7759040820925833, 0.6967730756403526, 0.6780357113964093, 0.6858096823085381, 0.7874529951360614, 0.8231569338365677, 0.7897339131755607, 0.8231647972863648, 0.5513534193685796, 0.6769343215581775, 0.7497426128727616, 0.8168625520487648, 0.7831479179668539, 0.7973456091645451, 0.7877725448337577, 0.8140559996830021, 0.8083135345775506, 0.826300123249494, 0.8190447433636792, 0.8110300797283063, 0.7687618828857387, 0.8340503539811319, 0.6917096595243046, 0.497057093491304, 0.8232160997850357, 0.805065306134242, 0.8109795424826889, 0.8295332942864407, 0.8295674706364066, 0.8128689184258405, 0.8150963277759617, 0.8151054443585908, 0.823923891992828, 0.8290534013723374, 0.8223524634213994, 0.8274660997850356, 0.8101238104318768, 0.8236309626998987, 0.8143975258468966, 0.8078273912713272, 0.8138635203786805, 0.7422508799997358, 0.8150833436522795, 0.5, 0.8160775716465075, 0.8218383941573301, 0.8201338487027845, 0.5536976911976912]}, {\"categories\": [\"0\", \"1\", \"2\", \"3\", \"4\", \"5\", \"6\", \"7\", \"8\", \"9\", \"10\", \"11\", \"12\", \"13\", \"14\", \"15\", \"16\", \"17\", \"18\", \"19\", \"20\", \"21\", \"22\", \"23\", \"24\", \"25\", \"26\", \"27\", \"28\", \"29\", \"30\", \"31\", \"32\", \"33\", \"34\", \"35\", \"36\", \"37\", \"38\", \"39\", \"40\", \"41\", \"42\", \"43\", \"44\", \"45\", \"46\", \"47\", \"48\", \"49\", \"50\", \"51\", \"53\", \"54\", \"55\"], \"mode\": \"lines\", \"name\": \"recall_score_macro_max\", \"stepped\": true, \"type\": \"scatter\", \"data\": [0.8077082895810014, 0.8130249020938379, 0.8130249020938379, 0.8130249020938379, 0.817141519394666, 0.817141519394666, 0.817141519394666, 0.817141519394666, 0.817141519394666, 0.817141519394666, 0.817141519394666, 0.817141519394666, 0.8231569338365677, 0.8231569338365677, 0.8231647972863648, 0.8231647972863648, 0.8231647972863648, 0.8231647972863648, 0.8231647972863648, 0.8231647972863648, 0.8231647972863648, 0.8231647972863648, 0.8231647972863648, 0.8231647972863648, 0.826300123249494, 0.826300123249494, 0.826300123249494, 0.826300123249494, 0.8340503539811319, 0.8340503539811319, 0.8340503539811319, 0.8340503539811319, 0.8340503539811319, 0.8340503539811319, 0.8340503539811319, 0.8340503539811319, 0.8340503539811319, 0.8340503539811319, 0.8340503539811319, 0.8340503539811319, 0.8340503539811319, 0.8340503539811319, 0.8340503539811319, 0.8340503539811319, 0.8340503539811319, 0.8340503539811319, 0.8340503539811319, 0.8340503539811319, 0.8340503539811319, 0.8340503539811319, 0.8340503539811319, 0.8340503539811319, 0.8340503539811319, 0.8340503539811319, 0.8340503539811319]}], \"accuracy\": [{\"categories\": [\"0\", \"1\", \"2\", \"3\", \"4\", \"5\", \"6\", \"7\", \"8\", \"9\", \"10\", \"11\", \"12\", \"13\", \"14\", \"15\", \"16\", \"17\", \"18\", \"19\", \"20\", \"21\", \"22\", \"23\", \"24\", \"25\", \"26\", \"27\", \"28\", \"29\", \"30\", \"31\", \"32\", \"33\", \"34\", \"35\", \"36\", \"37\", \"38\", \"39\", \"40\", \"41\", \"42\", \"43\", \"44\", \"45\", \"46\", \"47\", \"48\", \"49\", \"50\", \"51\", \"53\", \"54\", \"55\"], \"mode\": \"markers\", \"name\": \"accuracy\", \"stepped\": false, \"type\": \"scatter\", \"data\": [0.8359770114942527, 0.8358620689655172, 0.8325287356321839, 0.7996551724137932, 0.835977011494253, 0.8293103448275861, 0.8257471264367815, 0.8362068965517242, 0.7928735632183909, 0.7659770114942528, 0.7826436781609195, 0.8463218390804599, 0.8154022988505748, 0.822528735632184, 0.8359770114942527, 0.6389655172413793, 0.7727586206896551, 0.7625287356321839, 0.8190804597701149, 0.8258620689655173, 0.8291954022988506, 0.798735632183908, 0.835977011494253, 0.8258620689655173, 0.8527586206896552, 0.8458620689655172, 0.8291954022988506, 0.8293103448275861, 0.8324137931034482, 0.7894252873563219, 0.652528735632184, 0.8527586206896552, 0.8462068965517242, 0.8391954022988506, 0.8559770114942531, 0.8559770114942531, 0.8427586206896553, 0.8022988505747127, 0.8326436781609194, 0.8458620689655174, 0.859425287356322, 0.8458620689655174, 0.8562068965517243, 0.8527586206896552, 0.8493103448275864, 0.8360919540229886, 0.8459770114942529, 0.8358620689655172, 0.8160919540229885, 0.8393103448275863, 0.6791954022988507, 0.8425287356321839, 0.8527586206896552, 0.8459770114942529, 0.7059770114942528]}, {\"categories\": [\"0\", \"1\", \"2\", \"3\", \"4\", \"5\", \"6\", \"7\", \"8\", \"9\", \"10\", \"11\", \"12\", \"13\", \"14\", \"15\", \"16\", \"17\", \"18\", \"19\", \"20\", \"21\", \"22\", \"23\", \"24\", \"25\", \"26\", \"27\", \"28\", \"29\", \"30\", \"31\", \"32\", \"33\", \"34\", \"35\", \"36\", \"37\", \"38\", \"39\", \"40\", \"41\", \"42\", \"43\", \"44\", \"45\", \"46\", \"47\", \"48\", \"49\", \"50\", \"51\", \"53\", \"54\", \"55\"], \"mode\": \"lines\", \"name\": \"accuracy_max\", \"stepped\": true, \"type\": \"scatter\", \"data\": [0.8359770114942527, 0.8359770114942527, 0.8359770114942527, 0.8359770114942527, 0.835977011494253, 0.835977011494253, 0.835977011494253, 0.8362068965517242, 0.8362068965517242, 0.8362068965517242, 0.8362068965517242, 0.8463218390804599, 0.8463218390804599, 0.8463218390804599, 0.8463218390804599, 0.8463218390804599, 0.8463218390804599, 0.8463218390804599, 0.8463218390804599, 0.8463218390804599, 0.8463218390804599, 0.8463218390804599, 0.8463218390804599, 0.8463218390804599, 0.8527586206896552, 0.8527586206896552, 0.8527586206896552, 0.8527586206896552, 0.8527586206896552, 0.8527586206896552, 0.8527586206896552, 0.8527586206896552, 0.8527586206896552, 0.8527586206896552, 0.8559770114942531, 0.8559770114942531, 0.8559770114942531, 0.8559770114942531, 0.8559770114942531, 0.8559770114942531, 0.859425287356322, 0.859425287356322, 0.859425287356322, 0.859425287356322, 0.859425287356322, 0.859425287356322, 0.859425287356322, 0.859425287356322, 0.859425287356322, 0.859425287356322, 0.859425287356322, 0.859425287356322, 0.859425287356322, 0.859425287356322, 0.859425287356322]}], \"matthews_correlation\": [{\"categories\": [\"0\", \"1\", \"2\", \"3\", \"4\", \"5\", \"6\", \"7\", \"8\", \"9\", \"10\", \"11\", \"12\", \"13\", \"14\", \"15\", \"16\", \"17\", \"18\", \"19\", \"20\", \"21\", \"22\", \"23\", \"24\", \"25\", \"26\", \"27\", \"28\", \"29\", \"30\", \"31\", \"32\", \"33\", \"34\", \"35\", \"36\", \"37\", \"38\", \"39\", \"40\", \"41\", \"42\", \"43\", \"44\", \"45\", \"46\", \"47\", \"48\", \"49\", \"50\", \"51\", \"53\", \"54\", \"55\"], \"mode\": \"markers\", \"name\": \"matthews_correlation\", \"stepped\": false, \"type\": \"scatter\", \"data\": [0.6231314496952846, 0.6345538749068885, 0.6206863126737971, 0.5212167407344881, 0.6272012435045972, 0.6066467345710277, 0.5869485991419385, 0.6234152585557847, 0.5137365605866506, 0.4352854456898543, 0.4802465631132872, 0.6560397243009991, 0.6134670990886045, 0.602374560767889, 0.6308795029989829, 0.10426477830980234, 0.46012050396786225, 0.4835380728173068, 0.6089586133713542, 0.591194297640371, 0.6021295028611755, 0.5602120920777521, 0.62955815846834, 0.6076186934908903, 0.6677643390133987, 0.6495099681047801, 0.6149012912643966, 0.5978057098886025, 0.6350282763174719, 0.49293969164411316, 0.009186633356419813, 0.6700116905837972, 0.6436233334789339, 0.6393968851050753, 0.6716963993805515, 0.6742479090605011, 0.645231802447919, 0.5921270125557561, 0.6252413951244264, 0.6498727349177373, 0.6751037678403895, 0.6526134690629803, 0.6723445803557333, 0.6637880866126921, 0.6595972208577929, 0.632427539208652, 0.6434029706068845, 0.6268489117693183, 0.5749254117703237, 0.6370867042236033, 0.0, 0.6442156967189452, 0.663403620357957, 0.6498179395265595, 0.10845648039985759]}, {\"categories\": [\"0\", \"1\", \"2\", \"3\", \"4\", \"5\", \"6\", \"7\", \"8\", \"9\", \"10\", \"11\", \"12\", \"13\", \"14\", \"15\", \"16\", \"17\", \"18\", \"19\", \"20\", \"21\", \"22\", \"23\", \"24\", \"25\", \"26\", \"27\", \"28\", \"29\", \"30\", \"31\", \"32\", \"33\", \"34\", \"35\", \"36\", \"37\", \"38\", \"39\", \"40\", \"41\", \"42\", \"43\", \"44\", \"45\", \"46\", \"47\", \"48\", \"49\", \"50\", \"51\", \"53\", \"54\", \"55\"], \"mode\": \"lines\", \"name\": \"matthews_correlation_max\", \"stepped\": true, \"type\": \"scatter\", \"data\": [0.6231314496952846, 0.6345538749068885, 0.6345538749068885, 0.6345538749068885, 0.6345538749068885, 0.6345538749068885, 0.6345538749068885, 0.6345538749068885, 0.6345538749068885, 0.6345538749068885, 0.6345538749068885, 0.6560397243009991, 0.6560397243009991, 0.6560397243009991, 0.6560397243009991, 0.6560397243009991, 0.6560397243009991, 0.6560397243009991, 0.6560397243009991, 0.6560397243009991, 0.6560397243009991, 0.6560397243009991, 0.6560397243009991, 0.6560397243009991, 0.6677643390133987, 0.6677643390133987, 0.6677643390133987, 0.6677643390133987, 0.6677643390133987, 0.6677643390133987, 0.6677643390133987, 0.6700116905837972, 0.6700116905837972, 0.6700116905837972, 0.6716963993805515, 0.6742479090605011, 0.6742479090605011, 0.6742479090605011, 0.6742479090605011, 0.6742479090605011, 0.6751037678403895, 0.6751037678403895, 0.6751037678403895, 0.6751037678403895, 0.6751037678403895, 0.6751037678403895, 0.6751037678403895, 0.6751037678403895, 0.6751037678403895, 0.6751037678403895, 0.6751037678403895, 0.6751037678403895, 0.6751037678403895, 0.6751037678403895, 0.6751037678403895]}], \"average_precision_score_macro\": [{\"categories\": [\"0\", \"1\", \"2\", \"3\", \"4\", \"5\", \"6\", \"7\", \"8\", \"9\", \"10\", \"11\", \"12\", \"13\", \"14\", \"15\", \"16\", \"17\", \"18\", \"19\", \"20\", \"21\", \"22\", \"23\", \"24\", \"25\", \"26\", \"27\", \"28\", \"29\", \"30\", \"31\", \"32\", \"33\", \"34\", \"35\", \"36\", \"37\", \"38\", \"39\", \"40\", \"41\", \"42\", \"43\", \"44\", \"45\", \"46\", \"47\", \"48\", \"49\", \"50\", \"51\", \"53\", \"54\", \"55\"], \"mode\": \"markers\", \"name\": \"average_precision_score_macro\", \"stepped\": false, \"type\": \"scatter\", \"data\": [0.8807888197525153, 0.8807340475847678, 0.9028564282181373, 0.8780214291764376, 0.8940984915101818, 0.8839199169257071, 0.8768396508421729, 0.8908238710204159, 0.8753014146267433, 0.7610796181270093, 0.8573835530362304, 0.891233153225033, 0.8906896057800532, 0.8573674193210717, 0.873028626378097, 0.5793782772753733, 0.8780927567713576, 0.8240218749718604, 0.8822620227498004, 0.8985389415472792, 0.8737457023210728, 0.8512792132174244, 0.866359954156177, 0.8981996416728093, 0.8899079547823548, 0.8977551272261447, 0.8918616816218613, 0.8845525197702238, 0.8958008374508151, 0.8703489656455086, 0.5358257789724934, 0.9005597426779138, 0.8989069367598566, 0.8978243729654729, 0.9072441185547925, 0.8919189233799157, 0.8982888203505445, 0.89992089695797, 0.9111010041844736, 0.8985117011095509, 0.9025733185388978, 0.9004781331242733, 0.9023249043631181, 0.8825541849698902, 0.9077347759941772, 0.8957501909987171, 0.8881552075891712, 0.8971386062150419, 0.8909324015619735, 0.8981639754416999, 0.5, 0.8953880461539155, 0.9104948855080959, 0.912225745351893, 0.9072873506688964]}, {\"categories\": [\"0\", \"1\", \"2\", \"3\", \"4\", \"5\", \"6\", \"7\", \"8\", \"9\", \"10\", \"11\", \"12\", \"13\", \"14\", \"15\", \"16\", \"17\", \"18\", \"19\", \"20\", \"21\", \"22\", \"23\", \"24\", \"25\", \"26\", \"27\", \"28\", \"29\", \"30\", \"31\", \"32\", \"33\", \"34\", \"35\", \"36\", \"37\", \"38\", \"39\", \"40\", \"41\", \"42\", \"43\", \"44\", \"45\", \"46\", \"47\", \"48\", \"49\", \"50\", \"51\", \"53\", \"54\", \"55\"], \"mode\": \"lines\", \"name\": \"average_precision_score_macro_max\", \"stepped\": true, \"type\": \"scatter\", \"data\": [0.8807888197525153, 0.8807888197525153, 0.9028564282181373, 0.9028564282181373, 0.9028564282181373, 0.9028564282181373, 0.9028564282181373, 0.9028564282181373, 0.9028564282181373, 0.9028564282181373, 0.9028564282181373, 0.9028564282181373, 0.9028564282181373, 0.9028564282181373, 0.9028564282181373, 0.9028564282181373, 0.9028564282181373, 0.9028564282181373, 0.9028564282181373, 0.9028564282181373, 0.9028564282181373, 0.9028564282181373, 0.9028564282181373, 0.9028564282181373, 0.9028564282181373, 0.9028564282181373, 0.9028564282181373, 0.9028564282181373, 0.9028564282181373, 0.9028564282181373, 0.9028564282181373, 0.9028564282181373, 0.9028564282181373, 0.9028564282181373, 0.9072441185547925, 0.9072441185547925, 0.9072441185547925, 0.9072441185547925, 0.9111010041844736, 0.9111010041844736, 0.9111010041844736, 0.9111010041844736, 0.9111010041844736, 0.9111010041844736, 0.9111010041844736, 0.9111010041844736, 0.9111010041844736, 0.9111010041844736, 0.9111010041844736, 0.9111010041844736, 0.9111010041844736, 0.9111010041844736, 0.9111010041844736, 0.912225745351893, 0.912225745351893]}], \"AUC_macro\": [{\"categories\": [\"0\", \"1\", \"2\", \"3\", \"4\", \"5\", \"6\", \"7\", \"8\", \"9\", \"10\", \"11\", \"12\", \"13\", \"14\", \"15\", \"16\", \"17\", \"18\", \"19\", \"20\", \"21\", \"22\", \"23\", \"24\", \"25\", \"26\", \"27\", \"28\", \"29\", \"30\", \"31\", \"32\", \"33\", \"34\", \"35\", \"36\", \"37\", \"38\", \"39\", \"40\", \"41\", \"42\", \"43\", \"44\", \"45\", \"46\", \"47\", \"48\", \"49\", \"50\", \"51\", \"53\", \"54\", \"55\"], \"mode\": \"markers\", \"name\": \"AUC_macro\", \"stepped\": false, \"type\": \"scatter\", \"data\": [0.8840955354735103, 0.8847369443591411, 0.9053164029144005, 0.882086898708123, 0.9034974039182277, 0.8887991603129475, 0.898170836098811, 0.8909513902509897, 0.8829069907971508, 0.7496161006793443, 0.8638697178827615, 0.8920829009006928, 0.898559956297199, 0.8696472759908115, 0.8865594865787658, 0.5203053263648802, 0.893673775127322, 0.8249068134763785, 0.8875055157106644, 0.9089099837731132, 0.8891997874985004, 0.8563609031086721, 0.8715961951155886, 0.9084791293671157, 0.8972491004355421, 0.9064857260355546, 0.8966252746490733, 0.9012169939836416, 0.9044779648396352, 0.8755183608450199, 0.4929927309490238, 0.9069372666955047, 0.9079881997759, 0.9037462671005578, 0.9149658402704169, 0.9018020629637332, 0.9083030667357898, 0.9029244543616398, 0.9162491258339085, 0.9043534713485515, 0.90833278263181, 0.9093995361977626, 0.9077334590043401, 0.8881877998410607, 0.9125023355490175, 0.904048346987363, 0.8988902073200128, 0.904402837187391, 0.8956962236233974, 0.9046889850064337, 0.5, 0.9029698141654091, 0.9151216242461666, 0.918782735549898, 0.9119426397295392]}, {\"categories\": [\"0\", \"1\", \"2\", \"3\", \"4\", \"5\", \"6\", \"7\", \"8\", \"9\", \"10\", \"11\", \"12\", \"13\", \"14\", \"15\", \"16\", \"17\", \"18\", \"19\", \"20\", \"21\", \"22\", \"23\", \"24\", \"25\", \"26\", \"27\", \"28\", \"29\", \"30\", \"31\", \"32\", \"33\", \"34\", \"35\", \"36\", \"37\", \"38\", \"39\", \"40\", \"41\", \"42\", \"43\", \"44\", \"45\", \"46\", \"47\", \"48\", \"49\", \"50\", \"51\", \"53\", \"54\", \"55\"], \"mode\": \"lines\", \"name\": \"AUC_macro_max\", \"stepped\": true, \"type\": \"scatter\", \"data\": [0.8840955354735103, 0.8847369443591411, 0.9053164029144005, 0.9053164029144005, 0.9053164029144005, 0.9053164029144005, 0.9053164029144005, 0.9053164029144005, 0.9053164029144005, 0.9053164029144005, 0.9053164029144005, 0.9053164029144005, 0.9053164029144005, 0.9053164029144005, 0.9053164029144005, 0.9053164029144005, 0.9053164029144005, 0.9053164029144005, 0.9053164029144005, 0.9089099837731132, 0.9089099837731132, 0.9089099837731132, 0.9089099837731132, 0.9089099837731132, 0.9089099837731132, 0.9089099837731132, 0.9089099837731132, 0.9089099837731132, 0.9089099837731132, 0.9089099837731132, 0.9089099837731132, 0.9089099837731132, 0.9089099837731132, 0.9089099837731132, 0.9149658402704169, 0.9149658402704169, 0.9149658402704169, 0.9149658402704169, 0.9162491258339085, 0.9162491258339085, 0.9162491258339085, 0.9162491258339085, 0.9162491258339085, 0.9162491258339085, 0.9162491258339085, 0.9162491258339085, 0.9162491258339085, 0.9162491258339085, 0.9162491258339085, 0.9162491258339085, 0.9162491258339085, 0.9162491258339085, 0.9162491258339085, 0.918782735549898, 0.918782735549898]}], \"average_precision_score_weighted\": [{\"categories\": [\"0\", \"1\", \"2\", \"3\", \"4\", \"5\", \"6\", \"7\", \"8\", \"9\", \"10\", \"11\", \"12\", \"13\", \"14\", \"15\", \"16\", \"17\", \"18\", \"19\", \"20\", \"21\", \"22\", \"23\", \"24\", \"25\", \"26\", \"27\", \"28\", \"29\", \"30\", \"31\", \"32\", \"33\", \"34\", \"35\", \"36\", \"37\", \"38\", \"39\", \"40\", \"41\", \"42\", \"43\", \"44\", \"45\", \"46\", \"47\", \"48\", \"49\", \"50\", \"51\", \"53\", \"54\", \"55\"], \"mode\": \"markers\", \"name\": \"average_precision_score_weighted\", \"stepped\": false, \"type\": \"scatter\", \"data\": [0.9061112830231934, 0.907154018724502, 0.9259703096163678, 0.9074576201688161, 0.9193891540674246, 0.9078288544212754, 0.9123324815529031, 0.9149124804496317, 0.9024176769610628, 0.7960613547349917, 0.8868128908637634, 0.9136488236367704, 0.9165785928878494, 0.8925036428929408, 0.9043798898361439, 0.6358285919365991, 0.9071885290356928, 0.8611903814836788, 0.9099334311818691, 0.9235801903509394, 0.9036671046886747, 0.8833750494121674, 0.8976536212851283, 0.920547662538446, 0.9156161129856415, 0.9231220461575816, 0.9154245420157686, 0.9104481826698162, 0.9207108293281616, 0.9020342574900214, 0.6107285795757821, 0.9237640649615168, 0.9240450785681368, 0.9218947438222017, 0.9306555798720227, 0.9184940716383986, 0.9219508843788763, 0.9216608338968179, 0.9332072357543103, 0.9222798256911753, 0.9242475134483736, 0.9252684628514677, 0.9258336456495713, 0.9051942664511818, 0.9298515103993921, 0.9201261014703446, 0.9170249327224926, 0.9214620848707193, 0.9177201657071832, 0.922336020459578, 0.5827102655568768, 0.9197105424336882, 0.9318503071998224, 0.9339625410286605, 0.9292135578679259]}, {\"categories\": [\"0\", \"1\", \"2\", \"3\", \"4\", \"5\", \"6\", \"7\", \"8\", \"9\", \"10\", \"11\", \"12\", \"13\", \"14\", \"15\", \"16\", \"17\", \"18\", \"19\", \"20\", \"21\", \"22\", \"23\", \"24\", \"25\", \"26\", \"27\", \"28\", \"29\", \"30\", \"31\", \"32\", \"33\", \"34\", \"35\", \"36\", \"37\", \"38\", \"39\", \"40\", \"41\", \"42\", \"43\", \"44\", \"45\", \"46\", \"47\", \"48\", \"49\", \"50\", \"51\", \"53\", \"54\", \"55\"], \"mode\": \"lines\", \"name\": \"average_precision_score_weighted_max\", \"stepped\": true, \"type\": \"scatter\", \"data\": [0.9061112830231934, 0.907154018724502, 0.9259703096163678, 0.9259703096163678, 0.9259703096163678, 0.9259703096163678, 0.9259703096163678, 0.9259703096163678, 0.9259703096163678, 0.9259703096163678, 0.9259703096163678, 0.9259703096163678, 0.9259703096163678, 0.9259703096163678, 0.9259703096163678, 0.9259703096163678, 0.9259703096163678, 0.9259703096163678, 0.9259703096163678, 0.9259703096163678, 0.9259703096163678, 0.9259703096163678, 0.9259703096163678, 0.9259703096163678, 0.9259703096163678, 0.9259703096163678, 0.9259703096163678, 0.9259703096163678, 0.9259703096163678, 0.9259703096163678, 0.9259703096163678, 0.9259703096163678, 0.9259703096163678, 0.9259703096163678, 0.9306555798720227, 0.9306555798720227, 0.9306555798720227, 0.9306555798720227, 0.9332072357543103, 0.9332072357543103, 0.9332072357543103, 0.9332072357543103, 0.9332072357543103, 0.9332072357543103, 0.9332072357543103, 0.9332072357543103, 0.9332072357543103, 0.9332072357543103, 0.9332072357543103, 0.9332072357543103, 0.9332072357543103, 0.9332072357543103, 0.9332072357543103, 0.9339625410286605, 0.9339625410286605]}], \"average_precision_score_micro\": [{\"categories\": [\"0\", \"1\", \"2\", \"3\", \"4\", \"5\", \"6\", \"7\", \"8\", \"9\", \"10\", \"11\", \"12\", \"13\", \"14\", \"15\", \"16\", \"17\", \"18\", \"19\", \"20\", \"21\", \"22\", \"23\", \"24\", \"25\", \"26\", \"27\", \"28\", \"29\", \"30\", \"31\", \"32\", \"33\", \"34\", \"35\", \"36\", \"37\", \"38\", \"39\", \"40\", \"41\", \"42\", \"43\", \"44\", \"45\", \"46\", \"47\", \"48\", \"49\", \"50\", \"51\", \"53\", \"54\", \"55\"], \"mode\": \"markers\", \"name\": \"average_precision_score_micro\", \"stepped\": false, \"type\": \"scatter\", \"data\": [0.9020054536251629, 0.9033793522124445, 0.9173900964470508, 0.8901916566079352, 0.9141188327364768, 0.9026500895272058, 0.9118007724136875, 0.9108370115619138, 0.882699882320001, 0.7964089391804331, 0.8689625914740831, 0.8988732898672016, 0.894194988723821, 0.88843709911365, 0.8999607124744893, 0.6466874753087125, 0.8830766049604387, 0.8514050937878382, 0.8950558693422505, 0.9145380507917885, 0.9050288942127332, 0.8605110491292693, 0.8931269174564088, 0.9055781177532852, 0.9111051060172054, 0.9213384079682214, 0.9081360220686967, 0.8937346070170612, 0.9105256000629373, 0.8844144796206204, 0.6616728196128462, 0.9201852745831353, 0.9213096228579941, 0.9190332414413522, 0.9280482962062372, 0.9176329084564185, 0.914437946215872, 0.8951224255220742, 0.9225050962062167, 0.9196642307030096, 0.9206321939513495, 0.9223522049030393, 0.9232735356148896, 0.9002360358082997, 0.9246607502727425, 0.914319866702289, 0.9133121810565583, 0.9123110717403458, 0.8968752769755367, 0.9183713558675001, 0.6309528339278636, 0.9191724047531228, 0.9289920617197058, 0.9273003286310745, 0.8792626306192082]}, {\"categories\": [\"0\", \"1\", \"2\", \"3\", \"4\", \"5\", \"6\", \"7\", \"8\", \"9\", \"10\", \"11\", \"12\", \"13\", \"14\", \"15\", \"16\", \"17\", \"18\", \"19\", \"20\", \"21\", \"22\", \"23\", \"24\", \"25\", \"26\", \"27\", \"28\", \"29\", \"30\", \"31\", \"32\", \"33\", \"34\", \"35\", \"36\", \"37\", \"38\", \"39\", \"40\", \"41\", \"42\", \"43\", \"44\", \"45\", \"46\", \"47\", \"48\", \"49\", \"50\", \"51\", \"53\", \"54\", \"55\"], \"mode\": \"lines\", \"name\": \"average_precision_score_micro_max\", \"stepped\": true, \"type\": \"scatter\", \"data\": [0.9020054536251629, 0.9033793522124445, 0.9173900964470508, 0.9173900964470508, 0.9173900964470508, 0.9173900964470508, 0.9173900964470508, 0.9173900964470508, 0.9173900964470508, 0.9173900964470508, 0.9173900964470508, 0.9173900964470508, 0.9173900964470508, 0.9173900964470508, 0.9173900964470508, 0.9173900964470508, 0.9173900964470508, 0.9173900964470508, 0.9173900964470508, 0.9173900964470508, 0.9173900964470508, 0.9173900964470508, 0.9173900964470508, 0.9173900964470508, 0.9173900964470508, 0.9213384079682214, 0.9213384079682214, 0.9213384079682214, 0.9213384079682214, 0.9213384079682214, 0.9213384079682214, 0.9213384079682214, 0.9213384079682214, 0.9213384079682214, 0.9280482962062372, 0.9280482962062372, 0.9280482962062372, 0.9280482962062372, 0.9280482962062372, 0.9280482962062372, 0.9280482962062372, 0.9280482962062372, 0.9280482962062372, 0.9280482962062372, 0.9280482962062372, 0.9280482962062372, 0.9280482962062372, 0.9280482962062372, 0.9280482962062372, 0.9280482962062372, 0.9280482962062372, 0.9280482962062372, 0.9289920617197058, 0.9289920617197058, 0.9289920617197058]}], \"precision_score_micro\": [{\"categories\": [\"0\", \"1\", \"2\", \"3\", \"4\", \"5\", \"6\", \"7\", \"8\", \"9\", \"10\", \"11\", \"12\", \"13\", \"14\", \"15\", \"16\", \"17\", \"18\", \"19\", \"20\", \"21\", \"22\", \"23\", \"24\", \"25\", \"26\", \"27\", \"28\", \"29\", \"30\", \"31\", \"32\", \"33\", \"34\", \"35\", \"36\", \"37\", \"38\", \"39\", \"40\", \"41\", \"42\", \"43\", \"44\", \"45\", \"46\", \"47\", \"48\", \"49\", \"50\", \"51\", \"53\", \"54\", \"55\"], \"mode\": \"markers\", \"name\": \"precision_score_micro\", \"stepped\": false, \"type\": \"scatter\", \"data\": [0.8359770114942527, 0.8358620689655172, 0.8325287356321839, 0.7996551724137932, 0.835977011494253, 0.8293103448275861, 0.8257471264367815, 0.8362068965517242, 0.7928735632183909, 0.7659770114942528, 0.7826436781609195, 0.8463218390804599, 0.8154022988505748, 0.822528735632184, 0.8359770114942527, 0.6389655172413793, 0.7727586206896551, 0.7625287356321839, 0.8190804597701149, 0.8258620689655173, 0.8291954022988506, 0.798735632183908, 0.835977011494253, 0.8258620689655173, 0.8527586206896552, 0.8458620689655172, 0.8291954022988506, 0.8293103448275861, 0.8324137931034482, 0.7894252873563219, 0.652528735632184, 0.8527586206896552, 0.8462068965517242, 0.8391954022988506, 0.8559770114942531, 0.8559770114942531, 0.8427586206896553, 0.8022988505747127, 0.8326436781609194, 0.8458620689655174, 0.859425287356322, 0.8458620689655174, 0.8562068965517243, 0.8527586206896552, 0.8493103448275864, 0.8360919540229886, 0.8459770114942529, 0.8358620689655172, 0.8160919540229885, 0.8393103448275863, 0.6791954022988507, 0.8425287356321839, 0.8527586206896552, 0.8459770114942529, 0.7059770114942528]}, {\"categories\": [\"0\", \"1\", \"2\", \"3\", \"4\", \"5\", \"6\", \"7\", \"8\", \"9\", \"10\", \"11\", \"12\", \"13\", \"14\", \"15\", \"16\", \"17\", \"18\", \"19\", \"20\", \"21\", \"22\", \"23\", \"24\", \"25\", \"26\", \"27\", \"28\", \"29\", \"30\", \"31\", \"32\", \"33\", \"34\", \"35\", \"36\", \"37\", \"38\", \"39\", \"40\", \"41\", \"42\", \"43\", \"44\", \"45\", \"46\", \"47\", \"48\", \"49\", \"50\", \"51\", \"53\", \"54\", \"55\"], \"mode\": \"lines\", \"name\": \"precision_score_micro_max\", \"stepped\": true, \"type\": \"scatter\", \"data\": [0.8359770114942527, 0.8359770114942527, 0.8359770114942527, 0.8359770114942527, 0.835977011494253, 0.835977011494253, 0.835977011494253, 0.8362068965517242, 0.8362068965517242, 0.8362068965517242, 0.8362068965517242, 0.8463218390804599, 0.8463218390804599, 0.8463218390804599, 0.8463218390804599, 0.8463218390804599, 0.8463218390804599, 0.8463218390804599, 0.8463218390804599, 0.8463218390804599, 0.8463218390804599, 0.8463218390804599, 0.8463218390804599, 0.8463218390804599, 0.8527586206896552, 0.8527586206896552, 0.8527586206896552, 0.8527586206896552, 0.8527586206896552, 0.8527586206896552, 0.8527586206896552, 0.8527586206896552, 0.8527586206896552, 0.8527586206896552, 0.8559770114942531, 0.8559770114942531, 0.8559770114942531, 0.8559770114942531, 0.8559770114942531, 0.8559770114942531, 0.859425287356322, 0.859425287356322, 0.859425287356322, 0.859425287356322, 0.859425287356322, 0.859425287356322, 0.859425287356322, 0.859425287356322, 0.859425287356322, 0.859425287356322, 0.859425287356322, 0.859425287356322, 0.859425287356322, 0.859425287356322, 0.859425287356322]}], \"AUC_micro\": [{\"categories\": [\"0\", \"1\", \"2\", \"3\", \"4\", \"5\", \"6\", \"7\", \"8\", \"9\", \"10\", \"11\", \"12\", \"13\", \"14\", \"15\", \"16\", \"17\", \"18\", \"19\", \"20\", \"21\", \"22\", \"23\", \"24\", \"25\", \"26\", \"27\", \"28\", \"29\", \"30\", \"31\", \"32\", \"33\", \"34\", \"35\", \"36\", \"37\", \"38\", \"39\", \"40\", \"41\", \"42\", \"43\", \"44\", \"45\", \"46\", \"47\", \"48\", \"49\", \"50\", \"51\", \"53\", \"54\", \"55\"], \"mode\": \"markers\", \"name\": \"AUC_micro\", \"stepped\": false, \"type\": \"scatter\", \"data\": [0.9035422116527941, 0.9042166732725592, 0.9114272691240586, 0.8848969480776854, 0.9136436781609195, 0.9005441934205312, 0.9111689787290264, 0.9083647773814242, 0.875049015722024, 0.8096416963931828, 0.8630977672083497, 0.8983082309420004, 0.8918464790593209, 0.8847274408772625, 0.8993823490553574, 0.6464215880565465, 0.8743394107543928, 0.8466730083234244, 0.8913999207292906, 0.9104369137270446, 0.9050773550006607, 0.8615718060509975, 0.8931836438102787, 0.9122810146650812, 0.9086903157616595, 0.9170879904875149, 0.9095811864182851, 0.8922186550402961, 0.9098171488968159, 0.8759476813317478, 0.6647781741313251, 0.9176883339939227, 0.9181093935790725, 0.914928127890078, 0.924395957193817, 0.9126533227639053, 0.9129301096578148, 0.8902597436913726, 0.9187760602457391, 0.9164525036332408, 0.9193569824283261, 0.9180392390011891, 0.9191093935790724, 0.9026591359492668, 0.9203803672876205, 0.9127039239001189, 0.9101561632976616, 0.9099593077024706, 0.8900568106751223, 0.9148423834059981, 0.6791954022988507, 0.9160568106751221, 0.9251971198308893, 0.9231893248777909, 0.8635402298850575]}, {\"categories\": [\"0\", \"1\", \"2\", \"3\", \"4\", \"5\", \"6\", \"7\", \"8\", \"9\", \"10\", \"11\", \"12\", \"13\", \"14\", \"15\", \"16\", \"17\", \"18\", \"19\", \"20\", \"21\", \"22\", \"23\", \"24\", \"25\", \"26\", \"27\", \"28\", \"29\", \"30\", \"31\", \"32\", \"33\", \"34\", \"35\", \"36\", \"37\", \"38\", \"39\", \"40\", \"41\", \"42\", \"43\", \"44\", \"45\", \"46\", \"47\", \"48\", \"49\", \"50\", \"51\", \"53\", \"54\", \"55\"], \"mode\": \"lines\", \"name\": \"AUC_micro_max\", \"stepped\": true, \"type\": \"scatter\", \"data\": [0.9035422116527941, 0.9042166732725592, 0.9114272691240586, 0.9114272691240586, 0.9136436781609195, 0.9136436781609195, 0.9136436781609195, 0.9136436781609195, 0.9136436781609195, 0.9136436781609195, 0.9136436781609195, 0.9136436781609195, 0.9136436781609195, 0.9136436781609195, 0.9136436781609195, 0.9136436781609195, 0.9136436781609195, 0.9136436781609195, 0.9136436781609195, 0.9136436781609195, 0.9136436781609195, 0.9136436781609195, 0.9136436781609195, 0.9136436781609195, 0.9136436781609195, 0.9170879904875149, 0.9170879904875149, 0.9170879904875149, 0.9170879904875149, 0.9170879904875149, 0.9170879904875149, 0.9176883339939227, 0.9181093935790725, 0.9181093935790725, 0.924395957193817, 0.924395957193817, 0.924395957193817, 0.924395957193817, 0.924395957193817, 0.924395957193817, 0.924395957193817, 0.924395957193817, 0.924395957193817, 0.924395957193817, 0.924395957193817, 0.924395957193817, 0.924395957193817, 0.924395957193817, 0.924395957193817, 0.924395957193817, 0.924395957193817, 0.924395957193817, 0.9251971198308893, 0.9251971198308893, 0.9251971198308893]}], \"weighted_accuracy\": [{\"categories\": [\"0\", \"1\", \"2\", \"3\", \"4\", \"5\", \"6\", \"7\", \"8\", \"9\", \"10\", \"11\", \"12\", \"13\", \"14\", \"15\", \"16\", \"17\", \"18\", \"19\", \"20\", \"21\", \"22\", \"23\", \"24\", \"25\", \"26\", \"27\", \"28\", \"29\", \"30\", \"31\", \"32\", \"33\", \"34\", \"35\", \"36\", \"37\", \"38\", \"39\", \"40\", \"41\", \"42\", \"43\", \"44\", \"45\", \"46\", \"47\", \"48\", \"49\", \"50\", \"51\", \"53\", \"54\", \"55\"], \"mode\": \"markers\", \"name\": \"weighted_accuracy\", \"stepped\": false, \"type\": \"scatter\", \"data\": [0.8541321922200625, 0.8502962163535492, 0.8489945197929621, 0.8541031076249569, 0.8477609627798577, 0.8521399054206361, 0.8488277664847634, 0.8748736148664698, 0.8539204825147948, 0.8227930918585225, 0.8466507998879663, 0.8849161020465666, 0.8088469588521393, 0.8435084368086869, 0.8409890601662153, 0.6980167624045801, 0.8333193073699998, 0.7700573213782237, 0.8194518504948689, 0.8533454461004967, 0.8503449831242129, 0.8061622905826507, 0.8486540713070297, 0.8372521042827842, 0.8690531957355143, 0.8636307625136908, 0.8410834986985485, 0.8698785636398008, 0.83046632099358, 0.851047604892688, 0.7511615119325157, 0.8715220921866678, 0.8711136558919115, 0.8569395266107008, 0.8730349739872242, 0.873064350111779, 0.8616014284246205, 0.7928024482744076, 0.8441535944770392, 0.8605096082772281, 0.8788210310016584, 0.8612584169906385, 0.8741622149796907, 0.8813245746069697, 0.8646057949939557, 0.8504285321690315, 0.8680971104650039, 0.8503893943344712, 0.8634714766758579, 0.8547619628438745, 0.7931711479234276, 0.8604128009818302, 0.8727011094447572, 0.8626227152301743, 0.8014263073980992]}, {\"categories\": [\"0\", \"1\", \"2\", \"3\", \"4\", \"5\", \"6\", \"7\", \"8\", \"9\", \"10\", \"11\", \"12\", \"13\", \"14\", \"15\", \"16\", \"17\", \"18\", \"19\", \"20\", \"21\", \"22\", \"23\", \"24\", \"25\", \"26\", \"27\", \"28\", \"29\", \"30\", \"31\", \"32\", \"33\", \"34\", \"35\", \"36\", \"37\", \"38\", \"39\", \"40\", \"41\", \"42\", \"43\", \"44\", \"45\", \"46\", \"47\", \"48\", \"49\", \"50\", \"51\", \"53\", \"54\", \"55\"], \"mode\": \"lines\", \"name\": \"weighted_accuracy_max\", \"stepped\": true, \"type\": \"scatter\", \"data\": [0.8541321922200625, 0.8541321922200625, 0.8541321922200625, 0.8541321922200625, 0.8541321922200625, 0.8541321922200625, 0.8541321922200625, 0.8748736148664698, 0.8748736148664698, 0.8748736148664698, 0.8748736148664698, 0.8849161020465666, 0.8849161020465666, 0.8849161020465666, 0.8849161020465666, 0.8849161020465666, 0.8849161020465666, 0.8849161020465666, 0.8849161020465666, 0.8849161020465666, 0.8849161020465666, 0.8849161020465666, 0.8849161020465666, 0.8849161020465666, 0.8849161020465666, 0.8849161020465666, 0.8849161020465666, 0.8849161020465666, 0.8849161020465666, 0.8849161020465666, 0.8849161020465666, 0.8849161020465666, 0.8849161020465666, 0.8849161020465666, 0.8849161020465666, 0.8849161020465666, 0.8849161020465666, 0.8849161020465666, 0.8849161020465666, 0.8849161020465666, 0.8849161020465666, 0.8849161020465666, 0.8849161020465666, 0.8849161020465666, 0.8849161020465666, 0.8849161020465666, 0.8849161020465666, 0.8849161020465666, 0.8849161020465666, 0.8849161020465666, 0.8849161020465666, 0.8849161020465666, 0.8849161020465666, 0.8849161020465666, 0.8849161020465666]}], \"balanced_accuracy\": [{\"categories\": [\"0\", \"1\", \"2\", \"3\", \"4\", \"5\", \"6\", \"7\", \"8\", \"9\", \"10\", \"11\", \"12\", \"13\", \"14\", \"15\", \"16\", \"17\", \"18\", \"19\", \"20\", \"21\", \"22\", \"23\", \"24\", \"25\", \"26\", \"27\", \"28\", \"29\", \"30\", \"31\", \"32\", \"33\", \"34\", \"35\", \"36\", \"37\", \"38\", \"39\", \"40\", \"41\", \"42\", \"43\", \"44\", \"45\", \"46\", \"47\", \"48\", \"49\", \"50\", \"51\", \"53\", \"54\", \"55\"], \"mode\": \"markers\", \"name\": \"balanced_accuracy\", \"stepped\": false, \"type\": \"scatter\", \"data\": [0.8077082895810014, 0.8130249020938379, 0.8088732474301696, 0.713103662482953, 0.817141519394666, 0.7921870053097169, 0.7898509663486781, 0.7759040820925833, 0.6967730756403526, 0.6780357113964093, 0.6858096823085381, 0.7874529951360614, 0.8231569338365677, 0.7897339131755607, 0.8231647972863648, 0.5513534193685796, 0.6769343215581775, 0.7497426128727616, 0.8168625520487648, 0.7831479179668539, 0.7973456091645451, 0.7877725448337577, 0.8140559996830021, 0.8083135345775506, 0.826300123249494, 0.8190447433636792, 0.8110300797283063, 0.7687618828857387, 0.8340503539811319, 0.6917096595243046, 0.497057093491304, 0.8232160997850357, 0.805065306134242, 0.8109795424826889, 0.8295332942864407, 0.8295674706364066, 0.8128689184258405, 0.8150963277759617, 0.8151054443585908, 0.823923891992828, 0.8290534013723374, 0.8223524634213994, 0.8274660997850356, 0.8101238104318768, 0.8236309626998987, 0.8143975258468966, 0.8078273912713272, 0.8138635203786805, 0.7422508799997358, 0.8150833436522795, 0.5, 0.8160775716465075, 0.8218383941573301, 0.8201338487027845, 0.5536976911976912]}, {\"categories\": [\"0\", \"1\", \"2\", \"3\", \"4\", \"5\", \"6\", \"7\", \"8\", \"9\", \"10\", \"11\", \"12\", \"13\", \"14\", \"15\", \"16\", \"17\", \"18\", \"19\", \"20\", \"21\", \"22\", \"23\", \"24\", \"25\", \"26\", \"27\", \"28\", \"29\", \"30\", \"31\", \"32\", \"33\", \"34\", \"35\", \"36\", \"37\", \"38\", \"39\", \"40\", \"41\", \"42\", \"43\", \"44\", \"45\", \"46\", \"47\", \"48\", \"49\", \"50\", \"51\", \"53\", \"54\", \"55\"], \"mode\": \"lines\", \"name\": \"balanced_accuracy_max\", \"stepped\": true, \"type\": \"scatter\", \"data\": [0.8077082895810014, 0.8130249020938379, 0.8130249020938379, 0.8130249020938379, 0.817141519394666, 0.817141519394666, 0.817141519394666, 0.817141519394666, 0.817141519394666, 0.817141519394666, 0.817141519394666, 0.817141519394666, 0.8231569338365677, 0.8231569338365677, 0.8231647972863648, 0.8231647972863648, 0.8231647972863648, 0.8231647972863648, 0.8231647972863648, 0.8231647972863648, 0.8231647972863648, 0.8231647972863648, 0.8231647972863648, 0.8231647972863648, 0.826300123249494, 0.826300123249494, 0.826300123249494, 0.826300123249494, 0.8340503539811319, 0.8340503539811319, 0.8340503539811319, 0.8340503539811319, 0.8340503539811319, 0.8340503539811319, 0.8340503539811319, 0.8340503539811319, 0.8340503539811319, 0.8340503539811319, 0.8340503539811319, 0.8340503539811319, 0.8340503539811319, 0.8340503539811319, 0.8340503539811319, 0.8340503539811319, 0.8340503539811319, 0.8340503539811319, 0.8340503539811319, 0.8340503539811319, 0.8340503539811319, 0.8340503539811319, 0.8340503539811319, 0.8340503539811319, 0.8340503539811319, 0.8340503539811319, 0.8340503539811319]}], \"precision_score_weighted\": [{\"categories\": [\"0\", \"1\", \"2\", \"3\", \"4\", \"5\", \"6\", \"7\", \"8\", \"9\", \"10\", \"11\", \"12\", \"13\", \"14\", \"15\", \"16\", \"17\", \"18\", \"19\", \"20\", \"21\", \"22\", \"23\", \"24\", \"25\", \"26\", \"27\", \"28\", \"29\", \"30\", \"31\", \"32\", \"33\", \"34\", \"35\", \"36\", \"37\", \"38\", \"39\", \"40\", \"41\", \"42\", \"43\", \"44\", \"45\", \"46\", \"47\", \"48\", \"49\", \"50\", \"51\", \"53\", \"54\", \"55\"], \"mode\": \"markers\", \"name\": \"precision_score_weighted\", \"stepped\": false, \"type\": \"scatter\", \"data\": [0.8443308716969533, 0.8506678986628277, 0.850637195705654, 0.8204590573344696, 0.846672043893116, 0.8427700220133415, 0.8363855015108653, 0.8539623983554782, 0.8276268521814497, 0.7837569262377359, 0.8168760971467867, 0.8682984283499277, 0.8478223026267816, 0.8438501419573876, 0.8524480628600412, 0.6261394969463244, 0.792445505941483, 0.7895856804642412, 0.845845702058783, 0.8350718081947862, 0.8409647418354315, 0.8224366384400337, 0.852874544943884, 0.843677223789026, 0.8639893703223803, 0.8626701746003977, 0.8462086182233008, 0.8421278292671845, 0.8565738688195585, 0.8189123966710173, 0.5988585743758158, 0.8654258625740899, 0.8600331043920644, 0.8525631424973298, 0.8689854082173554, 0.8713326905646379, 0.8572630173204517, 0.8401396519331824, 0.8485641745206742, 0.8607423853204346, 0.8696610661315441, 0.8606891354302281, 0.869329602262361, 0.8655507642282755, 0.8621421700072375, 0.849949087220649, 0.8586429867077043, 0.8482883767351534, 0.841397228237733, 0.8534010134182548, 0.47055053507728895, 0.858722569917499, 0.8654092350650071, 0.8584103624570156, 0.5395639333443326]}, {\"categories\": [\"0\", \"1\", \"2\", \"3\", \"4\", \"5\", \"6\", \"7\", \"8\", \"9\", \"10\", \"11\", \"12\", \"13\", \"14\", \"15\", \"16\", \"17\", \"18\", \"19\", \"20\", \"21\", \"22\", \"23\", \"24\", \"25\", \"26\", \"27\", \"28\", \"29\", \"30\", \"31\", \"32\", \"33\", \"34\", \"35\", \"36\", \"37\", \"38\", \"39\", \"40\", \"41\", \"42\", \"43\", \"44\", \"45\", \"46\", \"47\", \"48\", \"49\", \"50\", \"51\", \"53\", \"54\", \"55\"], \"mode\": \"lines\", \"name\": \"precision_score_weighted_max\", \"stepped\": true, \"type\": \"scatter\", \"data\": [0.8443308716969533, 0.8506678986628277, 0.8506678986628277, 0.8506678986628277, 0.8506678986628277, 0.8506678986628277, 0.8506678986628277, 0.8539623983554782, 0.8539623983554782, 0.8539623983554782, 0.8539623983554782, 0.8682984283499277, 0.8682984283499277, 0.8682984283499277, 0.8682984283499277, 0.8682984283499277, 0.8682984283499277, 0.8682984283499277, 0.8682984283499277, 0.8682984283499277, 0.8682984283499277, 0.8682984283499277, 0.8682984283499277, 0.8682984283499277, 0.8682984283499277, 0.8682984283499277, 0.8682984283499277, 0.8682984283499277, 0.8682984283499277, 0.8682984283499277, 0.8682984283499277, 0.8682984283499277, 0.8682984283499277, 0.8682984283499277, 0.8689854082173554, 0.8713326905646379, 0.8713326905646379, 0.8713326905646379, 0.8713326905646379, 0.8713326905646379, 0.8713326905646379, 0.8713326905646379, 0.8713326905646379, 0.8713326905646379, 0.8713326905646379, 0.8713326905646379, 0.8713326905646379, 0.8713326905646379, 0.8713326905646379, 0.8713326905646379, 0.8713326905646379, 0.8713326905646379, 0.8713326905646379, 0.8713326905646379, 0.8713326905646379]}], \"recall_score_micro\": [{\"categories\": [\"0\", \"1\", \"2\", \"3\", \"4\", \"5\", \"6\", \"7\", \"8\", \"9\", \"10\", \"11\", \"12\", \"13\", \"14\", \"15\", \"16\", \"17\", \"18\", \"19\", \"20\", \"21\", \"22\", \"23\", \"24\", \"25\", \"26\", \"27\", \"28\", \"29\", \"30\", \"31\", \"32\", \"33\", \"34\", \"35\", \"36\", \"37\", \"38\", \"39\", \"40\", \"41\", \"42\", \"43\", \"44\", \"45\", \"46\", \"47\", \"48\", \"49\", \"50\", \"51\", \"53\", \"54\", \"55\"], \"mode\": \"markers\", \"name\": \"recall_score_micro\", \"stepped\": false, \"type\": \"scatter\", \"data\": [0.8359770114942527, 0.8358620689655172, 0.8325287356321839, 0.7996551724137932, 0.835977011494253, 0.8293103448275861, 0.8257471264367815, 0.8362068965517242, 0.7928735632183909, 0.7659770114942528, 0.7826436781609195, 0.8463218390804599, 0.8154022988505748, 0.822528735632184, 0.8359770114942527, 0.6389655172413793, 0.7727586206896551, 0.7625287356321839, 0.8190804597701149, 0.8258620689655173, 0.8291954022988506, 0.798735632183908, 0.835977011494253, 0.8258620689655173, 0.8527586206896552, 0.8458620689655172, 0.8291954022988506, 0.8293103448275861, 0.8324137931034482, 0.7894252873563219, 0.652528735632184, 0.8527586206896552, 0.8462068965517242, 0.8391954022988506, 0.8559770114942531, 0.8559770114942531, 0.8427586206896553, 0.8022988505747127, 0.8326436781609194, 0.8458620689655174, 0.859425287356322, 0.8458620689655174, 0.8562068965517243, 0.8527586206896552, 0.8493103448275864, 0.8360919540229886, 0.8459770114942529, 0.8358620689655172, 0.8160919540229885, 0.8393103448275863, 0.6791954022988507, 0.8425287356321839, 0.8527586206896552, 0.8459770114942529, 0.7059770114942528]}, {\"categories\": [\"0\", \"1\", \"2\", \"3\", \"4\", \"5\", \"6\", \"7\", \"8\", \"9\", \"10\", \"11\", \"12\", \"13\", \"14\", \"15\", \"16\", \"17\", \"18\", \"19\", \"20\", \"21\", \"22\", \"23\", \"24\", \"25\", \"26\", \"27\", \"28\", \"29\", \"30\", \"31\", \"32\", \"33\", \"34\", \"35\", \"36\", \"37\", \"38\", \"39\", \"40\", \"41\", \"42\", \"43\", \"44\", \"45\", \"46\", \"47\", \"48\", \"49\", \"50\", \"51\", \"53\", \"54\", \"55\"], \"mode\": \"lines\", \"name\": \"recall_score_micro_max\", \"stepped\": true, \"type\": \"scatter\", \"data\": [0.8359770114942527, 0.8359770114942527, 0.8359770114942527, 0.8359770114942527, 0.835977011494253, 0.835977011494253, 0.835977011494253, 0.8362068965517242, 0.8362068965517242, 0.8362068965517242, 0.8362068965517242, 0.8463218390804599, 0.8463218390804599, 0.8463218390804599, 0.8463218390804599, 0.8463218390804599, 0.8463218390804599, 0.8463218390804599, 0.8463218390804599, 0.8463218390804599, 0.8463218390804599, 0.8463218390804599, 0.8463218390804599, 0.8463218390804599, 0.8527586206896552, 0.8527586206896552, 0.8527586206896552, 0.8527586206896552, 0.8527586206896552, 0.8527586206896552, 0.8527586206896552, 0.8527586206896552, 0.8527586206896552, 0.8527586206896552, 0.8559770114942531, 0.8559770114942531, 0.8559770114942531, 0.8559770114942531, 0.8559770114942531, 0.8559770114942531, 0.859425287356322, 0.859425287356322, 0.859425287356322, 0.859425287356322, 0.859425287356322, 0.859425287356322, 0.859425287356322, 0.859425287356322, 0.859425287356322, 0.859425287356322, 0.859425287356322, 0.859425287356322, 0.859425287356322, 0.859425287356322, 0.859425287356322]}], \"f1_score_micro\": [{\"categories\": [\"0\", \"1\", \"2\", \"3\", \"4\", \"5\", \"6\", \"7\", \"8\", \"9\", \"10\", \"11\", \"12\", \"13\", \"14\", \"15\", \"16\", \"17\", \"18\", \"19\", \"20\", \"21\", \"22\", \"23\", \"24\", \"25\", \"26\", \"27\", \"28\", \"29\", \"30\", \"31\", \"32\", \"33\", \"34\", \"35\", \"36\", \"37\", \"38\", \"39\", \"40\", \"41\", \"42\", \"43\", \"44\", \"45\", \"46\", \"47\", \"48\", \"49\", \"50\", \"51\", \"53\", \"54\", \"55\"], \"mode\": \"markers\", \"name\": \"f1_score_micro\", \"stepped\": false, \"type\": \"scatter\", \"data\": [0.8359770114942527, 0.8358620689655172, 0.8325287356321839, 0.7996551724137932, 0.835977011494253, 0.8293103448275861, 0.8257471264367817, 0.8362068965517242, 0.7928735632183909, 0.7659770114942528, 0.7826436781609195, 0.8463218390804599, 0.8154022988505748, 0.822528735632184, 0.8359770114942527, 0.6389655172413793, 0.7727586206896551, 0.7625287356321839, 0.8190804597701149, 0.8258620689655173, 0.8291954022988506, 0.798735632183908, 0.835977011494253, 0.8258620689655173, 0.8527586206896552, 0.8458620689655172, 0.8291954022988506, 0.8293103448275861, 0.8324137931034482, 0.7894252873563219, 0.652528735632184, 0.8527586206896552, 0.8462068965517242, 0.8391954022988506, 0.8559770114942531, 0.8559770114942531, 0.8427586206896553, 0.8022988505747127, 0.8326436781609197, 0.8458620689655174, 0.859425287356322, 0.8458620689655174, 0.8562068965517243, 0.8527586206896552, 0.8493103448275864, 0.8360919540229886, 0.8459770114942529, 0.8358620689655172, 0.8160919540229885, 0.8393103448275863, 0.6791954022988507, 0.8425287356321839, 0.8527586206896552, 0.8459770114942529, 0.7059770114942528]}, {\"categories\": [\"0\", \"1\", \"2\", \"3\", \"4\", \"5\", \"6\", \"7\", \"8\", \"9\", \"10\", \"11\", \"12\", \"13\", \"14\", \"15\", \"16\", \"17\", \"18\", \"19\", \"20\", \"21\", \"22\", \"23\", \"24\", \"25\", \"26\", \"27\", \"28\", \"29\", \"30\", \"31\", \"32\", \"33\", \"34\", \"35\", \"36\", \"37\", \"38\", \"39\", \"40\", \"41\", \"42\", \"43\", \"44\", \"45\", \"46\", \"47\", \"48\", \"49\", \"50\", \"51\", \"53\", \"54\", \"55\"], \"mode\": \"lines\", \"name\": \"f1_score_micro_max\", \"stepped\": true, \"type\": \"scatter\", \"data\": [0.8359770114942527, 0.8359770114942527, 0.8359770114942527, 0.8359770114942527, 0.835977011494253, 0.835977011494253, 0.835977011494253, 0.8362068965517242, 0.8362068965517242, 0.8362068965517242, 0.8362068965517242, 0.8463218390804599, 0.8463218390804599, 0.8463218390804599, 0.8463218390804599, 0.8463218390804599, 0.8463218390804599, 0.8463218390804599, 0.8463218390804599, 0.8463218390804599, 0.8463218390804599, 0.8463218390804599, 0.8463218390804599, 0.8463218390804599, 0.8527586206896552, 0.8527586206896552, 0.8527586206896552, 0.8527586206896552, 0.8527586206896552, 0.8527586206896552, 0.8527586206896552, 0.8527586206896552, 0.8527586206896552, 0.8527586206896552, 0.8559770114942531, 0.8559770114942531, 0.8559770114942531, 0.8559770114942531, 0.8559770114942531, 0.8559770114942531, 0.859425287356322, 0.859425287356322, 0.859425287356322, 0.859425287356322, 0.859425287356322, 0.859425287356322, 0.859425287356322, 0.859425287356322, 0.859425287356322, 0.859425287356322, 0.859425287356322, 0.859425287356322, 0.859425287356322, 0.859425287356322, 0.859425287356322]}]}, \"metricName\": null, \"primaryMetricName\": \"AUC_weighted\", \"showLegend\": false}, \"run_metrics\": [{\"name\": \"experiment_status\", \"run_id\": \"AutoML_68866b9b-1325-46cb-ac93-a8130014da6e\", \"categories\": [0, 1, 2, 3, 4, 5, 6, 7, 8, 9, 10, 11, 12, 13], \"series\": [{\"data\": [\"DatasetEvaluation\", \"FeaturesGeneration\", \"DatasetFeaturization\", \"DatasetFeaturizationCompleted\", \"DatasetCrossValidationSplit\", \"ModelSelection\", \"BestRunExplainModel\", \"ModelExplanationDataSetSetup\", \"PickSurrogateModel\", \"EngineeredFeatureExplanations\", \"EngineeredFeatureExplanations\", \"RawFeaturesExplanations\", \"RawFeaturesExplanations\", \"BestRunExplainModel\"]}]}, {\"name\": \"experiment_status_description\", \"run_id\": \"AutoML_68866b9b-1325-46cb-ac93-a8130014da6e\", \"categories\": [0, 1, 2, 3, 4, 5, 6, 7, 8, 9, 10, 11, 12, 13], \"series\": [{\"data\": [\"Gathering dataset statistics.\", \"Generating features for the dataset.\", \"Beginning to fit featurizers and featurize the dataset.\", \"Completed fit featurizers and featurizing the dataset.\", \"Generating individually featurized CV splits.\", \"Beginning model selection.\", \"Best run model explanations started\", \"Model explanations data setup completed\", \"Choosing LightGBM as the surrogate model for explanations\", \"Computation of engineered features started\", \"Computation of engineered features completed\", \"Computation of raw features started\", \"Computation of raw features completed\", \"Best run model explanations completed\"]}]}, {\"name\": \"accuracy\", \"run_id\": \"AutoML_68866b9b-1325-46cb-ac93-a8130014da6e\", \"categories\": [0], \"series\": [{\"data\": [0.8459770114942529]}]}, {\"name\": \"AUC_weighted\", \"run_id\": \"AutoML_68866b9b-1325-46cb-ac93-a8130014da6e\", \"categories\": [0], \"series\": [{\"data\": [0.918782735549898]}]}, {\"name\": \"matthews_correlation\", \"run_id\": \"AutoML_68866b9b-1325-46cb-ac93-a8130014da6e\", \"categories\": [0], \"series\": [{\"data\": [0.6498179395265595]}]}, {\"name\": \"f1_score_macro\", \"run_id\": \"AutoML_68866b9b-1325-46cb-ac93-a8130014da6e\", \"categories\": [0], \"series\": [{\"data\": [0.8155001733775256]}]}, {\"name\": \"norm_macro_recall\", \"run_id\": \"AutoML_68866b9b-1325-46cb-ac93-a8130014da6e\", \"categories\": [0], \"series\": [{\"data\": [0.6402676974055692]}]}, {\"name\": \"weighted_accuracy\", \"run_id\": \"AutoML_68866b9b-1325-46cb-ac93-a8130014da6e\", \"categories\": [0], \"series\": [{\"data\": [0.8626227152301743]}]}, {\"name\": \"recall_score_weighted\", \"run_id\": \"AutoML_68866b9b-1325-46cb-ac93-a8130014da6e\", \"categories\": [0], \"series\": [{\"data\": [0.8459770114942529]}]}, {\"name\": \"AUC_macro\", \"run_id\": \"AutoML_68866b9b-1325-46cb-ac93-a8130014da6e\", \"categories\": [0], \"series\": [{\"data\": [0.918782735549898]}]}, {\"name\": \"precision_score_micro\", \"run_id\": \"AutoML_68866b9b-1325-46cb-ac93-a8130014da6e\", \"categories\": [0], \"series\": [{\"data\": [0.8459770114942529]}]}, {\"name\": \"balanced_accuracy\", \"run_id\": \"AutoML_68866b9b-1325-46cb-ac93-a8130014da6e\", \"categories\": [0], \"series\": [{\"data\": [0.8201338487027845]}]}, {\"name\": \"average_precision_score_micro\", \"run_id\": \"AutoML_68866b9b-1325-46cb-ac93-a8130014da6e\", \"categories\": [0], \"series\": [{\"data\": [0.9273003286310745]}]}, {\"name\": \"f1_score_weighted\", \"run_id\": \"AutoML_68866b9b-1325-46cb-ac93-a8130014da6e\", \"categories\": [0], \"series\": [{\"data\": [0.8430083888124805]}]}, {\"name\": \"precision_score_macro\", \"run_id\": \"AutoML_68866b9b-1325-46cb-ac93-a8130014da6e\", \"categories\": [0], \"series\": [{\"data\": [0.8313385650297415]}]}, {\"name\": \"average_precision_score_macro\", \"run_id\": \"AutoML_68866b9b-1325-46cb-ac93-a8130014da6e\", \"categories\": [0], \"series\": [{\"data\": [0.912225745351893]}]}, {\"name\": \"recall_score_micro\", \"run_id\": \"AutoML_68866b9b-1325-46cb-ac93-a8130014da6e\", \"categories\": [0], \"series\": [{\"data\": [0.8459770114942529]}]}, {\"name\": \"average_precision_score_weighted\", \"run_id\": \"AutoML_68866b9b-1325-46cb-ac93-a8130014da6e\", \"categories\": [0], \"series\": [{\"data\": [0.9339625410286605]}]}, {\"name\": \"AUC_micro\", \"run_id\": \"AutoML_68866b9b-1325-46cb-ac93-a8130014da6e\", \"categories\": [0], \"series\": [{\"data\": [0.9231893248777909]}]}, {\"name\": \"recall_score_macro\", \"run_id\": \"AutoML_68866b9b-1325-46cb-ac93-a8130014da6e\", \"categories\": [0], \"series\": [{\"data\": [0.8201338487027845]}]}, {\"name\": \"precision_score_weighted\", \"run_id\": \"AutoML_68866b9b-1325-46cb-ac93-a8130014da6e\", \"categories\": [0], \"series\": [{\"data\": [0.8584103624570156]}]}, {\"name\": \"log_loss\", \"run_id\": \"AutoML_68866b9b-1325-46cb-ac93-a8130014da6e\", \"categories\": [0], \"series\": [{\"data\": [0.3679641237756437]}]}, {\"name\": \"f1_score_micro\", \"run_id\": \"AutoML_68866b9b-1325-46cb-ac93-a8130014da6e\", \"categories\": [0], \"series\": [{\"data\": [0.8459770114942529]}]}], \"run_logs\": \"\\nRun is completed.\", \"graph\": {}, \"widget_settings\": {\"childWidgetDisplay\": \"popup\", \"send_telemetry\": false, \"log_level\": \"INFO\", \"sdk_version\": \"1.20.0\"}, \"loading\": false}"
     },
     "metadata": {},
     "output_type": "display_data"
    },
    {
     "name": "stdout",
     "output_type": "stream",
     "text": [
      "\n",
      "Current status: FeaturesGeneration. Generating features for the dataset.\n",
      "Current status: DatasetCrossValidationSplit. Generating individually featurized CV splits.\n",
      "Current status: ModelSelection. Beginning model selection.\n",
      "\n",
      "****************************************************************************************************\n",
      "DATA GUARDRAILS: \n",
      "\n",
      "TYPE:         Cross validation\n",
      "STATUS:       DONE\n",
      "DESCRIPTION:  Each iteration of the trained model was validated through cross-validation.\n",
      "              \n",
      "DETAILS:      \n",
      "+---------------------------------+\n",
      "|Number of folds                  |\n",
      "+=================================+\n",
      "|10                               |\n",
      "+---------------------------------+\n",
      "\n",
      "****************************************************************************************************\n",
      "\n",
      "TYPE:         Class balancing detection\n",
      "STATUS:       PASSED\n",
      "DESCRIPTION:  Your inputs were analyzed, and all classes are balanced in your training data.\n",
      "              Learn more about imbalanced data: https://aka.ms/AutomatedMLImbalancedData\n",
      "\n",
      "****************************************************************************************************\n",
      "\n",
      "TYPE:         Missing feature values imputation\n",
      "STATUS:       PASSED\n",
      "DESCRIPTION:  No feature missing values were detected in the training data.\n",
      "              Learn more about missing value imputation: https://aka.ms/AutomatedMLFeaturization\n",
      "\n",
      "****************************************************************************************************\n",
      "\n",
      "TYPE:         High cardinality feature detection\n",
      "STATUS:       PASSED\n",
      "DESCRIPTION:  Your inputs were analyzed, and no high cardinality features were detected.\n",
      "              Learn more about high cardinality feature handling: https://aka.ms/AutomatedMLFeaturization\n",
      "\n",
      "****************************************************************************************************\n",
      "\n",
      "****************************************************************************************************\n",
      "ITERATION: The iteration being evaluated.\n",
      "PIPELINE: A summary description of the pipeline being evaluated.\n",
      "DURATION: Time taken for the current iteration.\n",
      "METRIC: The result of computing score on the fitted pipeline.\n",
      "BEST: The best observed score thus far.\n",
      "****************************************************************************************************\n",
      "\n",
      " ITERATION   PIPELINE                                       DURATION      METRIC      BEST\n",
      "         0   MaxAbsScaler LightGBM                          0:00:42       0.8841    0.8841\n",
      "         1   MaxAbsScaler XGBoostClassifier                 0:00:42       0.8847    0.8847\n",
      "         2   MinMaxScaler RandomForest                      0:00:46       0.9053    0.9053\n",
      "         3   RobustScaler ExtremeRandomTrees                0:00:51       0.8821    0.9053\n",
      "         4   MinMaxScaler RandomForest                      0:00:51       0.9035    0.9053\n",
      "         5   MinMaxScaler RandomForest                      0:00:50       0.8888    0.9053\n",
      "         6   StandardScalerWrapper RandomForest             0:00:49       0.8982    0.9053\n",
      "         7   MinMaxScaler ExtremeRandomTrees                0:00:46       0.8910    0.9053\n",
      "        10   MinMaxScaler ExtremeRandomTrees                0:00:52       0.8639    0.9053\n",
      "         8   MinMaxScaler ExtremeRandomTrees                0:00:52       0.8829    0.9053\n",
      "         9   SparseNormalizer KNN                           0:00:52       0.7496    0.9053\n",
      "        11   RobustScaler ExtremeRandomTrees                0:00:52       0.8921    0.9053\n",
      "        12   StandardScalerWrapper RandomForest             0:00:49       0.8986    0.9053\n",
      "        13   StandardScalerWrapper SGD                      0:00:50       0.8696    0.9053\n",
      "        14   RobustScaler RandomForest                      0:00:50       0.8866    0.9053\n",
      "        15   StandardScalerWrapper KNN                      0:00:49       0.5203    0.9053\n",
      "        16   MinMaxScaler RandomForest                      0:00:46       0.8937    0.9053\n",
      "        18   MaxAbsScaler RandomForest                      0:00:47       0.8875    0.9053\n",
      "        19   StandardScalerWrapper XGBoostClassifier        0:00:43       0.9089    0.9089\n",
      "        17   MinMaxScaler ExtremeRandomTrees                0:01:24       0.8249    0.9089\n",
      "        20   MaxAbsScaler RandomForest                      0:00:47       0.8892    0.9089\n",
      "        21   MaxAbsScaler ExtremeRandomTrees                0:00:45       0.8564    0.9089\n",
      "        22   MaxAbsScaler ExtremeRandomTrees                0:00:43       0.8716    0.9089\n",
      "        23   MinMaxScaler ExtremeRandomTrees                0:00:56       0.9085    0.9089\n",
      "        24   StandardScalerWrapper XGBoostClassifier        0:00:48       0.8972    0.9089\n",
      "        25   StandardScalerWrapper XGBoostClassifier        0:00:45       0.9065    0.9089\n",
      "        26   MaxAbsScaler ExtremeRandomTrees                0:01:03       0.8966    0.9089\n",
      "        27   RobustScaler LightGBM                          0:00:40       0.9012    0.9089\n",
      "        28   MinMaxScaler RandomForest                      0:01:14       0.9045    0.9089\n",
      "        29   RobustScaler LightGBM                          0:01:07       0.8755    0.9089\n",
      "        30   PCA XGBoostClassifier                          0:00:43       0.4930    0.9089\n",
      "        31   StandardScalerWrapper LightGBM                 0:00:56       0.9069    0.9089\n",
      "        32   RobustScaler LightGBM                          0:00:52       0.9080    0.9089\n",
      "        34   MaxAbsScaler LightGBM                          0:00:47       0.9150    0.9150\n",
      "        33   MinMaxScaler LightGBM                          0:00:58       0.9037    0.9150\n",
      "        35   StandardScalerWrapper XGBoostClassifier        0:00:49       0.9018    0.9150\n",
      "        36   StandardScalerWrapper XGBoostClassifier        0:00:45       0.9083    0.9150\n",
      "        38   StandardScalerWrapper XGBoostClassifier        0:00:49       0.9162    0.9162\n",
      "        37   MaxAbsScaler RandomForest                      0:00:51       0.9029    0.9162\n",
      "        39   StandardScalerWrapper LightGBM                 0:00:49       0.9044    0.9162\n",
      "        40   MinMaxScaler LightGBM                          0:00:44       0.9083    0.9162\n",
      "        41   MinMaxScaler LightGBM                          0:00:50       0.9094    0.9162\n",
      "        42   MaxAbsScaler GradientBoosting                  0:00:51       0.9077    0.9162\n",
      "        43   MinMaxScaler ExtremeRandomTrees                0:01:14       0.8882    0.9162\n",
      "        44   StandardScalerWrapper GradientBoosting         0:00:50       0.9125    0.9162\n",
      "        45   StandardScalerWrapper XGBoostClassifier        0:00:48       0.9040    0.9162\n",
      "        46   RobustScaler LightGBM                          0:00:46       0.8989    0.9162\n",
      "        47   StandardScalerWrapper XGBoostClassifier        0:00:46       0.9044    0.9162\n",
      "        48   MinMaxScaler LightGBM                          0:00:48       0.8957    0.9162\n",
      "        49   StandardScalerWrapper LightGBM                 0:00:45       0.9047    0.9162\n",
      "        51   StandardScalerWrapper LightGBM                 0:00:51       0.9030    0.9162\n",
      "        50   PCA XGBoostClassifier                          0:01:23       0.5000    0.9162\n",
      "        52   RobustScaler ExtremeRandomTrees                0:00:32          nan    0.9162\n",
      "        53   RobustScaler GradientBoosting                  0:00:30       0.9151    0.9162\n",
      "        54    VotingEnsemble                                0:02:40       0.9188    0.9188\n",
      "        55    StackEnsemble                                 0:02:40       0.9119    0.9188\n"
     ]
    }
   ],
   "source": [
    "from azureml.widgets import RunDetails\n",
    "RunDetails(automl_run).show()\n",
    "automl_run.wait_for_completion(show_output = True)\n",
    "assert(automl_run.get_status() == \"Completed\")"
   ]
  },
  {
   "cell_type": "markdown",
   "metadata": {},
   "source": [
    "## Best Model\n",
    "\n",
    "TODO: In the cell below, get the best model from the automl experiments and display all the properties of the model.\n",
    "\n"
   ]
  },
  {
   "cell_type": "code",
   "execution_count": 22,
   "metadata": {
    "gather": {
     "logged": 1598431425670
    },
    "jupyter": {
     "outputs_hidden": false,
     "source_hidden": false
    },
    "nteract": {
     "transient": {
      "deleting": false
     }
    }
   },
   "outputs": [
    {
     "name": "stdout",
     "output_type": "stream",
     "text": [
      "Best Run ID:  AutoML_68866b9b-1325-46cb-ac93-a8130014da6e_54\n",
      "------------------------------\n",
      "AutoML best run AUC_weighted:  {'AUC_weighted': 0.918782735549898}\n",
      "------------------------------\n",
      "Metrics:  {'f1_score_micro': 0.8459770114942529, 'log_loss': 0.3679641237756437, 'recall_score_macro': 0.8201338487027845, 'AUC_micro': 0.9231893248777909, 'average_precision_score_weighted': 0.9339625410286605, 'precision_score_weighted': 0.8584103624570156, 'recall_score_micro': 0.8459770114942529, 'balanced_accuracy': 0.8201338487027845, 'precision_score_micro': 0.8459770114942529, 'AUC_macro': 0.918782735549898, 'recall_score_weighted': 0.8459770114942529, 'average_precision_score_macro': 0.912225745351893, 'average_precision_score_micro': 0.9273003286310745, 'precision_score_macro': 0.8313385650297415, 'accuracy': 0.8459770114942529, 'f1_score_weighted': 0.8430083888124805, 'matthews_correlation': 0.6498179395265595, 'weighted_accuracy': 0.8626227152301743, 'f1_score_macro': 0.8155001733775256, 'norm_macro_recall': 0.6402676974055692, 'AUC_weighted': 0.918782735549898, 'confusion_matrix': 'aml://artifactId/ExperimentRun/dcid.AutoML_68866b9b-1325-46cb-ac93-a8130014da6e_54/confusion_matrix', 'accuracy_table': 'aml://artifactId/ExperimentRun/dcid.AutoML_68866b9b-1325-46cb-ac93-a8130014da6e_54/accuracy_table'}\n",
      "------------------------------\n",
      "Fitted model and its hyperparameters :  ('prefittedsoftvotingclassifier', PreFittedSoftVotingClassifier(classification_labels=None,\n",
      "                              estimators=[('38',\n",
      "                                           Pipeline(memory=None,\n",
      "                                                    steps=[('standardscalerwrapper',\n",
      "                                                            <azureml.automl.runtime.shared.model_wrappers.StandardScalerWrapper object at 0x7fd5ed29ac88>),\n",
      "                                                           ('xgboostclassifier',\n",
      "                                                            XGBoostClassifier(base_score=0.5,\n",
      "                                                                              booster='gbtree',\n",
      "                                                                              colsample_bylevel=1,\n",
      "                                                                              colsample_bynode=1,\n",
      "                                                                              colsample_bytree=0.8...\n",
      "                                                                               reg_lambda=0.9473684210526315,\n",
      "                                                                               silent=True,\n",
      "                                                                               subsample=0.29736842105263156,\n",
      "                                                                               subsample_for_bin=200000,\n",
      "                                                                               subsample_freq=0,\n",
      "                                                                               verbose=-10))],\n",
      "                                                    verbose=False))],\n",
      "                              flatten_transform=None,\n",
      "                              weights=[0.2857142857142857, 0.07142857142857142,\n",
      "                                       0.14285714285714285, 0.07142857142857142,\n",
      "                                       0.07142857142857142, 0.07142857142857142,\n",
      "                                       0.07142857142857142, 0.07142857142857142,\n",
      "                                       0.07142857142857142,\n",
      "                                       0.07142857142857142]))\n"
     ]
    }
   ],
   "source": [
    "# Retrieving and saving the best automl model\n",
    "automl_best_run, fitted_automl_model = automl_run.get_output() \n",
    "\n",
    "run_dict = automl_best_run.get_details()\n",
    "\n",
    "print(\"Best Run ID: \", run_dict[\"runId\"])\n",
    "print(\"---\"*10)\n",
    "print(\"AutoML best run AUC_weighted: \", automl_best_run.get_metrics(name=\"AUC_weighted\"))\n",
    "print(\"---\"*10)\n",
    "print(\"Metrics: \", automl_best_run.get_metrics())\n",
    "print(\"---\"*10)\n",
    "print(\"Fitted model and its hyperparameters : \", fitted_automl_model.steps[-1])\n",
    "\n"
   ]
  },
  {
   "cell_type": "code",
   "execution_count": 20,
   "metadata": {},
   "outputs": [
    {
     "name": "stdout",
     "output_type": "stream",
     "text": [
      "AutoML Run Summary:  [['StackEnsemble', 1, 0.9119426397295392], ['VotingEnsemble', 1, 0.918782735549898], ['GradientBoosting', 3, 0.9151216242461666], ['ExtremeRandomTrees', 12, nan], ['LightGBM', 14, 0.9149658402704169], ['XGBoostClassifier', 11, 0.9162491258339085], ['RandomForest', 11, 0.9053164029144007], ['KNN', 2, 0.7496161006793443], ['SGD', 1, 0.8696472759908115]]\n"
     ]
    }
   ],
   "source": [
    "print(\"AutoML Run Summary: \", automl_run.summary())"
   ]
  },
  {
   "cell_type": "code",
   "execution_count": 23,
   "metadata": {
    "gather": {
     "logged": 1598431426111
    },
    "jupyter": {
     "outputs_hidden": false,
     "source_hidden": false
    },
    "nteract": {
     "transient": {
      "deleting": false
     }
    }
   },
   "outputs": [],
   "source": [
    "#TODO: Save the best model\n",
    "os.makedirs('outputs', exist_ok=True)\n",
    "\n",
    "model = automl_best_run.register_model(model_name = 'automl_best_model.pkl', model_path = './outputs/')"
   ]
  },
  {
   "cell_type": "markdown",
   "metadata": {},
   "source": [
    "## Model Deployment\n",
    "\n",
    "Remember you have to deploy only one of the two models you trained.. Perform the steps in the rest of this notebook only if you wish to deploy this model.\n",
    "\n",
    "TODO: In the cell below, register the model, create an inference config and deploy the model as a web service."
   ]
  },
  {
   "cell_type": "code",
   "execution_count": 24,
   "metadata": {},
   "outputs": [
    {
     "data": {
      "text/plain": [
       "['accuracy_table',\n",
       " 'automl_driver.py',\n",
       " 'azureml-logs/55_azureml-execution-tvmps_a7e81be7832a0f5136db8f10a5febf3a85ac328586997d310a9103c80e7629a4_d.txt',\n",
       " 'azureml-logs/65_job_prep-tvmps_a7e81be7832a0f5136db8f10a5febf3a85ac328586997d310a9103c80e7629a4_d.txt',\n",
       " 'azureml-logs/70_driver_log.txt',\n",
       " 'azureml-logs/75_job_post-tvmps_a7e81be7832a0f5136db8f10a5febf3a85ac328586997d310a9103c80e7629a4_d.txt',\n",
       " 'azureml-logs/process_info.json',\n",
       " 'azureml-logs/process_status.json',\n",
       " 'confusion_matrix',\n",
       " 'explanation/44d6cd82/classes.interpret.json',\n",
       " 'explanation/44d6cd82/eval_data_viz.interpret.json',\n",
       " 'explanation/44d6cd82/expected_values.interpret.json',\n",
       " 'explanation/44d6cd82/features.interpret.json',\n",
       " 'explanation/44d6cd82/global_names/0.interpret.json',\n",
       " 'explanation/44d6cd82/global_rank/0.interpret.json',\n",
       " 'explanation/44d6cd82/global_values/0.interpret.json',\n",
       " 'explanation/44d6cd82/local_importance_values.interpret.json',\n",
       " 'explanation/44d6cd82/per_class_names/0.interpret.json',\n",
       " 'explanation/44d6cd82/per_class_rank/0.interpret.json',\n",
       " 'explanation/44d6cd82/per_class_values/0.interpret.json',\n",
       " 'explanation/44d6cd82/rich_metadata.interpret.json',\n",
       " 'explanation/44d6cd82/visualization_dict.interpret.json',\n",
       " 'explanation/44d6cd82/ys_pred_proba_viz.interpret.json',\n",
       " 'explanation/44d6cd82/ys_pred_viz.interpret.json',\n",
       " 'explanation/9d905ba6/classes.interpret.json',\n",
       " 'explanation/9d905ba6/eval_data_viz.interpret.json',\n",
       " 'explanation/9d905ba6/expected_values.interpret.json',\n",
       " 'explanation/9d905ba6/features.interpret.json',\n",
       " 'explanation/9d905ba6/global_names/0.interpret.json',\n",
       " 'explanation/9d905ba6/global_rank/0.interpret.json',\n",
       " 'explanation/9d905ba6/global_values/0.interpret.json',\n",
       " 'explanation/9d905ba6/local_importance_values.interpret.json',\n",
       " 'explanation/9d905ba6/per_class_names/0.interpret.json',\n",
       " 'explanation/9d905ba6/per_class_rank/0.interpret.json',\n",
       " 'explanation/9d905ba6/per_class_values/0.interpret.json',\n",
       " 'explanation/9d905ba6/rich_metadata.interpret.json',\n",
       " 'explanation/9d905ba6/visualization_dict.interpret.json',\n",
       " 'logs/azureml/92_azureml.log',\n",
       " 'logs/azureml/azureml_automl.log',\n",
       " 'logs/azureml/dataprep/python_span_d2055177-ebec-4452-a371-c92d3be8a247.jsonl',\n",
       " 'logs/azureml/dataprep/python_span_d63234d2-d224-4b25-8f37-70bfbf7e9f29.jsonl',\n",
       " 'logs/azureml/job_prep_azureml.log',\n",
       " 'logs/azureml/job_release_azureml.log',\n",
       " 'outputs/conda_env_v_1_0_0.yml',\n",
       " 'outputs/env_dependencies.json',\n",
       " 'outputs/internal_cross_validated_models.pkl',\n",
       " 'outputs/model.pkl',\n",
       " 'outputs/pipeline_graph.json',\n",
       " 'outputs/scoring_file_v_1_0_0.py']"
      ]
     },
     "execution_count": 24,
     "metadata": {},
     "output_type": "execute_result"
    }
   ],
   "source": [
    "automl_best_run.get_file_names()"
   ]
  },
  {
   "cell_type": "code",
   "execution_count": 28,
   "metadata": {
    "gather": {
     "logged": 1598431435189
    },
    "jupyter": {
     "outputs_hidden": false,
     "source_hidden": false
    },
    "nteract": {
     "transient": {
      "deleting": false
     }
    }
   },
   "outputs": [
    {
     "name": "stdout",
     "output_type": "stream",
     "text": [
      "Tips: You can try get_logs(): https://aka.ms/debugimage#dockerlog or local deployment: https://aka.ms/debugimage#debug-locally to debug if deployment takes longer than 10 minutes.\n",
      "Running...........................................................................................................................................................................................\n",
      "Failed\n"
     ]
    },
    {
     "name": "stderr",
     "output_type": "stream",
     "text": [
      "ERROR:azureml.core.webservice.webservice:Service deployment polling reached non-successful terminal state, current service state: Failed\n",
      "Operation ID: c0b31aac-cd6c-4b47-aca0-4b300a7d793d\n",
      "More information can be found using '.get_logs()'\n",
      "Error:\n",
      "{\n",
      "  \"code\": \"AciDeploymentFailed\",\n",
      "  \"message\": \"Aci Deployment failed with exception: Your container application crashed. This may be caused by errors in your scoring file's init() function.\\nPlease check the logs for your container instance: hf-prediction. From the AML SDK, you can run print(service.get_logs()) if you have service object to fetch the logs. \\nYou can interactively debug your scoring file locally. Please refer to https://docs.microsoft.com/azure/machine-learning/how-to-debug-visual-studio-code#debug-and-troubleshoot-deployments for more information.\\nYou can also try to run image 27cbb86575d14053b4eda3e5b21a0ec1.azurecr.io/azureml/azureml_779ad2055c9a39d2f7ad6a9132830a35 locally. Please refer to https://aka.ms/debugimage#service-launch-fails for more information.\",\n",
      "  \"details\": [\n",
      "    {\n",
      "      \"code\": \"CrashLoopBackOff\",\n",
      "      \"message\": \"Your container application crashed. This may be caused by errors in your scoring file's init() function.\\nPlease check the logs for your container instance: hf-prediction. From the AML SDK, you can run print(service.get_logs()) if you have service object to fetch the logs. \\nYou can interactively debug your scoring file locally. Please refer to https://docs.microsoft.com/azure/machine-learning/how-to-debug-visual-studio-code#debug-and-troubleshoot-deployments for more information.\\nYou can also try to run image 27cbb86575d14053b4eda3e5b21a0ec1.azurecr.io/azureml/azureml_779ad2055c9a39d2f7ad6a9132830a35 locally. Please refer to https://aka.ms/debugimage#service-launch-fails for more information.\"\n",
      "    },\n",
      "    {\n",
      "      \"code\": \"AciDeploymentFailed\",\n",
      "      \"message\": \"Your container application crashed. Please follow the steps to debug:\\n1. From the AML SDK, you can run print(service.get_logs()) if you have service object to fetch the logs. Please refer to https://aka.ms/debugimage#dockerlog for more information.\\n2. If your container application crashed. This may be caused by errors in your scoring file's init() function. You can try debugging locally first. Please refer to https://aka.ms/debugimage#debug-locally for more information.\\n3. You can also interactively debug your scoring file locally. Please refer to https://docs.microsoft.com/azure/machine-learning/how-to-debug-visual-studio-code#debug-and-troubleshoot-deployments for more information.\\n4. View the diagnostic events to check status of container, it may help you to debug the issue. {\\\"restartCount\\\":3,\\\"currentState\\\":{\\\"state\\\":\\\"Waiting\\\",\\\"startTime\\\":null,\\\"exitCode\\\":null,\\\"finishTime\\\":null,\\\"detailStatus\\\":\\\"CrashLoopBackOff: Back-off 40s restarting failed\\\"},\\\"previousState\\\":{\\\"state\\\":\\\"Terminated\\\",\\\"startTime\\\":\\\"2021-01-26T21:33:06Z\\\",\\\"exitCode\\\":111,\\\"finishTime\\\":\\\"2021-01-26T21:33:08Z\\\",\\\"detailStatus\\\":\\\"Error\\\"},\\\"events\\\":[{\\\"count\\\":2,\\\"firstTimestamp\\\":\\\"2021-01-26T21:28:49Z\\\",\\\"lastTimestamp\\\":\\\"2021-01-26T21:32:20Z\\\",\\\"name\\\":\\\"Pulling\\\",\\\"message\\\":\\\"pulling image \\\\\\\"27cbb86575d14053b4eda3e5b21a0ec1.azurecr.io/azureml/azureml_779ad2055c9a39d2f7ad6a9132830a35\\\\\\\"\\\",\\\"type\\\":\\\"Normal\\\"},{\\\"count\\\":1,\\\"firstTimestamp\\\":\\\"2021-01-26T21:31:56Z\\\",\\\"lastTimestamp\\\":\\\"2021-01-26T21:31:56Z\\\",\\\"name\\\":\\\"Pulled\\\",\\\"message\\\":\\\"Successfully pulled image \\\\\\\"27cbb86575d14053b4eda3e5b21a0ec1.azurecr.io/azureml/azureml_779ad2055c9a39d2f7ad6a9132830a35\\\\\\\"\\\",\\\"type\\\":\\\"Normal\\\"},{\\\"count\\\":1,\\\"firstTimestamp\\\":\\\"2021-01-26T21:32:04Z\\\",\\\"lastTimestamp\\\":\\\"2021-01-26T21:32:04Z\\\",\\\"name\\\":\\\"Created\\\",\\\"message\\\":\\\"Created container\\\",\\\"type\\\":\\\"Normal\\\"},{\\\"count\\\":1,\\\"firstTimestamp\\\":\\\"2021-01-26T21:32:04Z\\\",\\\"lastTimestamp\\\":\\\"2021-01-26T21:32:04Z\\\",\\\"name\\\":\\\"Started\\\",\\\"message\\\":\\\"Started container\\\",\\\"type\\\":\\\"Normal\\\"}]}\"\n",
      "    }\n",
      "  ]\n",
      "}\n",
      "\n"
     ]
    },
    {
     "ename": "WebserviceException",
     "evalue": "WebserviceException:\n\tMessage: Service deployment polling reached non-successful terminal state, current service state: Failed\nOperation ID: c0b31aac-cd6c-4b47-aca0-4b300a7d793d\nMore information can be found using '.get_logs()'\nError:\n{\n  \"code\": \"AciDeploymentFailed\",\n  \"message\": \"Aci Deployment failed with exception: Your container application crashed. This may be caused by errors in your scoring file's init() function.\\nPlease check the logs for your container instance: hf-prediction. From the AML SDK, you can run print(service.get_logs()) if you have service object to fetch the logs. \\nYou can interactively debug your scoring file locally. Please refer to https://docs.microsoft.com/azure/machine-learning/how-to-debug-visual-studio-code#debug-and-troubleshoot-deployments for more information.\\nYou can also try to run image 27cbb86575d14053b4eda3e5b21a0ec1.azurecr.io/azureml/azureml_779ad2055c9a39d2f7ad6a9132830a35 locally. Please refer to https://aka.ms/debugimage#service-launch-fails for more information.\",\n  \"details\": [\n    {\n      \"code\": \"CrashLoopBackOff\",\n      \"message\": \"Your container application crashed. This may be caused by errors in your scoring file's init() function.\\nPlease check the logs for your container instance: hf-prediction. From the AML SDK, you can run print(service.get_logs()) if you have service object to fetch the logs. \\nYou can interactively debug your scoring file locally. Please refer to https://docs.microsoft.com/azure/machine-learning/how-to-debug-visual-studio-code#debug-and-troubleshoot-deployments for more information.\\nYou can also try to run image 27cbb86575d14053b4eda3e5b21a0ec1.azurecr.io/azureml/azureml_779ad2055c9a39d2f7ad6a9132830a35 locally. Please refer to https://aka.ms/debugimage#service-launch-fails for more information.\"\n    },\n    {\n      \"code\": \"AciDeploymentFailed\",\n      \"message\": \"Your container application crashed. Please follow the steps to debug:\\n1. From the AML SDK, you can run print(service.get_logs()) if you have service object to fetch the logs. Please refer to https://aka.ms/debugimage#dockerlog for more information.\\n2. If your container application crashed. This may be caused by errors in your scoring file's init() function. You can try debugging locally first. Please refer to https://aka.ms/debugimage#debug-locally for more information.\\n3. You can also interactively debug your scoring file locally. Please refer to https://docs.microsoft.com/azure/machine-learning/how-to-debug-visual-studio-code#debug-and-troubleshoot-deployments for more information.\\n4. View the diagnostic events to check status of container, it may help you to debug the issue. {\\\"restartCount\\\":3,\\\"currentState\\\":{\\\"state\\\":\\\"Waiting\\\",\\\"startTime\\\":null,\\\"exitCode\\\":null,\\\"finishTime\\\":null,\\\"detailStatus\\\":\\\"CrashLoopBackOff: Back-off 40s restarting failed\\\"},\\\"previousState\\\":{\\\"state\\\":\\\"Terminated\\\",\\\"startTime\\\":\\\"2021-01-26T21:33:06Z\\\",\\\"exitCode\\\":111,\\\"finishTime\\\":\\\"2021-01-26T21:33:08Z\\\",\\\"detailStatus\\\":\\\"Error\\\"},\\\"events\\\":[{\\\"count\\\":2,\\\"firstTimestamp\\\":\\\"2021-01-26T21:28:49Z\\\",\\\"lastTimestamp\\\":\\\"2021-01-26T21:32:20Z\\\",\\\"name\\\":\\\"Pulling\\\",\\\"message\\\":\\\"pulling image \\\\\\\"27cbb86575d14053b4eda3e5b21a0ec1.azurecr.io/azureml/azureml_779ad2055c9a39d2f7ad6a9132830a35\\\\\\\"\\\",\\\"type\\\":\\\"Normal\\\"},{\\\"count\\\":1,\\\"firstTimestamp\\\":\\\"2021-01-26T21:31:56Z\\\",\\\"lastTimestamp\\\":\\\"2021-01-26T21:31:56Z\\\",\\\"name\\\":\\\"Pulled\\\",\\\"message\\\":\\\"Successfully pulled image \\\\\\\"27cbb86575d14053b4eda3e5b21a0ec1.azurecr.io/azureml/azureml_779ad2055c9a39d2f7ad6a9132830a35\\\\\\\"\\\",\\\"type\\\":\\\"Normal\\\"},{\\\"count\\\":1,\\\"firstTimestamp\\\":\\\"2021-01-26T21:32:04Z\\\",\\\"lastTimestamp\\\":\\\"2021-01-26T21:32:04Z\\\",\\\"name\\\":\\\"Created\\\",\\\"message\\\":\\\"Created container\\\",\\\"type\\\":\\\"Normal\\\"},{\\\"count\\\":1,\\\"firstTimestamp\\\":\\\"2021-01-26T21:32:04Z\\\",\\\"lastTimestamp\\\":\\\"2021-01-26T21:32:04Z\\\",\\\"name\\\":\\\"Started\\\",\\\"message\\\":\\\"Started container\\\",\\\"type\\\":\\\"Normal\\\"}]}\"\n    }\n  ]\n}\n\tInnerException None\n\tErrorResponse \n{\n    \"error\": {\n        \"message\": \"Service deployment polling reached non-successful terminal state, current service state: Failed\\nOperation ID: c0b31aac-cd6c-4b47-aca0-4b300a7d793d\\nMore information can be found using '.get_logs()'\\nError:\\n{\\n  \\\"code\\\": \\\"AciDeploymentFailed\\\",\\n  \\\"message\\\": \\\"Aci Deployment failed with exception: Your container application crashed. This may be caused by errors in your scoring file's init() function.\\\\nPlease check the logs for your container instance: hf-prediction. From the AML SDK, you can run print(service.get_logs()) if you have service object to fetch the logs. \\\\nYou can interactively debug your scoring file locally. Please refer to https://docs.microsoft.com/azure/machine-learning/how-to-debug-visual-studio-code#debug-and-troubleshoot-deployments for more information.\\\\nYou can also try to run image 27cbb86575d14053b4eda3e5b21a0ec1.azurecr.io/azureml/azureml_779ad2055c9a39d2f7ad6a9132830a35 locally. Please refer to https://aka.ms/debugimage#service-launch-fails for more information.\\\",\\n  \\\"details\\\": [\\n    {\\n      \\\"code\\\": \\\"CrashLoopBackOff\\\",\\n      \\\"message\\\": \\\"Your container application crashed. This may be caused by errors in your scoring file's init() function.\\\\nPlease check the logs for your container instance: hf-prediction. From the AML SDK, you can run print(service.get_logs()) if you have service object to fetch the logs. \\\\nYou can interactively debug your scoring file locally. Please refer to https://docs.microsoft.com/azure/machine-learning/how-to-debug-visual-studio-code#debug-and-troubleshoot-deployments for more information.\\\\nYou can also try to run image 27cbb86575d14053b4eda3e5b21a0ec1.azurecr.io/azureml/azureml_779ad2055c9a39d2f7ad6a9132830a35 locally. Please refer to https://aka.ms/debugimage#service-launch-fails for more information.\\\"\\n    },\\n    {\\n      \\\"code\\\": \\\"AciDeploymentFailed\\\",\\n      \\\"message\\\": \\\"Your container application crashed. Please follow the steps to debug:\\\\n1. From the AML SDK, you can run print(service.get_logs()) if you have service object to fetch the logs. Please refer to https://aka.ms/debugimage#dockerlog for more information.\\\\n2. If your container application crashed. This may be caused by errors in your scoring file's init() function. You can try debugging locally first. Please refer to https://aka.ms/debugimage#debug-locally for more information.\\\\n3. You can also interactively debug your scoring file locally. Please refer to https://docs.microsoft.com/azure/machine-learning/how-to-debug-visual-studio-code#debug-and-troubleshoot-deployments for more information.\\\\n4. View the diagnostic events to check status of container, it may help you to debug the issue. {\\\\\\\"restartCount\\\\\\\":3,\\\\\\\"currentState\\\\\\\":{\\\\\\\"state\\\\\\\":\\\\\\\"Waiting\\\\\\\",\\\\\\\"startTime\\\\\\\":null,\\\\\\\"exitCode\\\\\\\":null,\\\\\\\"finishTime\\\\\\\":null,\\\\\\\"detailStatus\\\\\\\":\\\\\\\"CrashLoopBackOff: Back-off 40s restarting failed\\\\\\\"},\\\\\\\"previousState\\\\\\\":{\\\\\\\"state\\\\\\\":\\\\\\\"Terminated\\\\\\\",\\\\\\\"startTime\\\\\\\":\\\\\\\"2021-01-26T21:33:06Z\\\\\\\",\\\\\\\"exitCode\\\\\\\":111,\\\\\\\"finishTime\\\\\\\":\\\\\\\"2021-01-26T21:33:08Z\\\\\\\",\\\\\\\"detailStatus\\\\\\\":\\\\\\\"Error\\\\\\\"},\\\\\\\"events\\\\\\\":[{\\\\\\\"count\\\\\\\":2,\\\\\\\"firstTimestamp\\\\\\\":\\\\\\\"2021-01-26T21:28:49Z\\\\\\\",\\\\\\\"lastTimestamp\\\\\\\":\\\\\\\"2021-01-26T21:32:20Z\\\\\\\",\\\\\\\"name\\\\\\\":\\\\\\\"Pulling\\\\\\\",\\\\\\\"message\\\\\\\":\\\\\\\"pulling image \\\\\\\\\\\\\\\"27cbb86575d14053b4eda3e5b21a0ec1.azurecr.io/azureml/azureml_779ad2055c9a39d2f7ad6a9132830a35\\\\\\\\\\\\\\\"\\\\\\\",\\\\\\\"type\\\\\\\":\\\\\\\"Normal\\\\\\\"},{\\\\\\\"count\\\\\\\":1,\\\\\\\"firstTimestamp\\\\\\\":\\\\\\\"2021-01-26T21:31:56Z\\\\\\\",\\\\\\\"lastTimestamp\\\\\\\":\\\\\\\"2021-01-26T21:31:56Z\\\\\\\",\\\\\\\"name\\\\\\\":\\\\\\\"Pulled\\\\\\\",\\\\\\\"message\\\\\\\":\\\\\\\"Successfully pulled image \\\\\\\\\\\\\\\"27cbb86575d14053b4eda3e5b21a0ec1.azurecr.io/azureml/azureml_779ad2055c9a39d2f7ad6a9132830a35\\\\\\\\\\\\\\\"\\\\\\\",\\\\\\\"type\\\\\\\":\\\\\\\"Normal\\\\\\\"},{\\\\\\\"count\\\\\\\":1,\\\\\\\"firstTimestamp\\\\\\\":\\\\\\\"2021-01-26T21:32:04Z\\\\\\\",\\\\\\\"lastTimestamp\\\\\\\":\\\\\\\"2021-01-26T21:32:04Z\\\\\\\",\\\\\\\"name\\\\\\\":\\\\\\\"Created\\\\\\\",\\\\\\\"message\\\\\\\":\\\\\\\"Created container\\\\\\\",\\\\\\\"type\\\\\\\":\\\\\\\"Normal\\\\\\\"},{\\\\\\\"count\\\\\\\":1,\\\\\\\"firstTimestamp\\\\\\\":\\\\\\\"2021-01-26T21:32:04Z\\\\\\\",\\\\\\\"lastTimestamp\\\\\\\":\\\\\\\"2021-01-26T21:32:04Z\\\\\\\",\\\\\\\"name\\\\\\\":\\\\\\\"Started\\\\\\\",\\\\\\\"message\\\\\\\":\\\\\\\"Started container\\\\\\\",\\\\\\\"type\\\\\\\":\\\\\\\"Normal\\\\\\\"}]}\\\"\\n    }\\n  ]\\n}\"\n    }\n}",
     "output_type": "error",
     "traceback": [
      "\u001b[0;31m---------------------------------------------------------------------------\u001b[0m",
      "\u001b[0;31mWebserviceException\u001b[0m                       Traceback (most recent call last)",
      "\u001b[0;32m<ipython-input-28-d369997412a7>\u001b[0m in \u001b[0;36m<module>\u001b[0;34m\u001b[0m\n\u001b[1;32m     27\u001b[0m                        overwrite=True)\n\u001b[1;32m     28\u001b[0m \u001b[0;34m\u001b[0m\u001b[0m\n\u001b[0;32m---> 29\u001b[0;31m \u001b[0mdeployed_model_webservice\u001b[0m\u001b[0;34m.\u001b[0m\u001b[0mwait_for_deployment\u001b[0m\u001b[0;34m(\u001b[0m\u001b[0mshow_output\u001b[0m\u001b[0;34m=\u001b[0m\u001b[0;32mTrue\u001b[0m\u001b[0;34m)\u001b[0m\u001b[0;34m\u001b[0m\u001b[0;34m\u001b[0m\u001b[0m\n\u001b[0m\u001b[1;32m     30\u001b[0m \u001b[0;34m\u001b[0m\u001b[0m\n",
      "\u001b[0;32m/anaconda/envs/azureml_py36/lib/python3.6/site-packages/azureml/core/webservice/webservice.py\u001b[0m in \u001b[0;36mwait_for_deployment\u001b[0;34m(self, show_output, timeout_sec)\u001b[0m\n\u001b[1;32m    913\u001b[0m                                           \u001b[0;34m'Error:\\n'\u001b[0m\u001b[0;34m\u001b[0m\u001b[0;34m\u001b[0m\u001b[0m\n\u001b[1;32m    914\u001b[0m                                           '{}'.format(self.state, self._operation_endpoint.split('/')[-1],\n\u001b[0;32m--> 915\u001b[0;31m                                                       logs_response, error_response), logger=module_logger)\n\u001b[0m\u001b[1;32m    916\u001b[0m             print('{} service creation operation finished, operation \"{}\"'.format(self._webservice_type,\n\u001b[1;32m    917\u001b[0m                                                                                   operation_state))\n",
      "\u001b[0;31mWebserviceException\u001b[0m: WebserviceException:\n\tMessage: Service deployment polling reached non-successful terminal state, current service state: Failed\nOperation ID: c0b31aac-cd6c-4b47-aca0-4b300a7d793d\nMore information can be found using '.get_logs()'\nError:\n{\n  \"code\": \"AciDeploymentFailed\",\n  \"message\": \"Aci Deployment failed with exception: Your container application crashed. This may be caused by errors in your scoring file's init() function.\\nPlease check the logs for your container instance: hf-prediction. From the AML SDK, you can run print(service.get_logs()) if you have service object to fetch the logs. \\nYou can interactively debug your scoring file locally. Please refer to https://docs.microsoft.com/azure/machine-learning/how-to-debug-visual-studio-code#debug-and-troubleshoot-deployments for more information.\\nYou can also try to run image 27cbb86575d14053b4eda3e5b21a0ec1.azurecr.io/azureml/azureml_779ad2055c9a39d2f7ad6a9132830a35 locally. Please refer to https://aka.ms/debugimage#service-launch-fails for more information.\",\n  \"details\": [\n    {\n      \"code\": \"CrashLoopBackOff\",\n      \"message\": \"Your container application crashed. This may be caused by errors in your scoring file's init() function.\\nPlease check the logs for your container instance: hf-prediction. From the AML SDK, you can run print(service.get_logs()) if you have service object to fetch the logs. \\nYou can interactively debug your scoring file locally. Please refer to https://docs.microsoft.com/azure/machine-learning/how-to-debug-visual-studio-code#debug-and-troubleshoot-deployments for more information.\\nYou can also try to run image 27cbb86575d14053b4eda3e5b21a0ec1.azurecr.io/azureml/azureml_779ad2055c9a39d2f7ad6a9132830a35 locally. Please refer to https://aka.ms/debugimage#service-launch-fails for more information.\"\n    },\n    {\n      \"code\": \"AciDeploymentFailed\",\n      \"message\": \"Your container application crashed. Please follow the steps to debug:\\n1. From the AML SDK, you can run print(service.get_logs()) if you have service object to fetch the logs. Please refer to https://aka.ms/debugimage#dockerlog for more information.\\n2. If your container application crashed. This may be caused by errors in your scoring file's init() function. You can try debugging locally first. Please refer to https://aka.ms/debugimage#debug-locally for more information.\\n3. You can also interactively debug your scoring file locally. Please refer to https://docs.microsoft.com/azure/machine-learning/how-to-debug-visual-studio-code#debug-and-troubleshoot-deployments for more information.\\n4. View the diagnostic events to check status of container, it may help you to debug the issue. {\\\"restartCount\\\":3,\\\"currentState\\\":{\\\"state\\\":\\\"Waiting\\\",\\\"startTime\\\":null,\\\"exitCode\\\":null,\\\"finishTime\\\":null,\\\"detailStatus\\\":\\\"CrashLoopBackOff: Back-off 40s restarting failed\\\"},\\\"previousState\\\":{\\\"state\\\":\\\"Terminated\\\",\\\"startTime\\\":\\\"2021-01-26T21:33:06Z\\\",\\\"exitCode\\\":111,\\\"finishTime\\\":\\\"2021-01-26T21:33:08Z\\\",\\\"detailStatus\\\":\\\"Error\\\"},\\\"events\\\":[{\\\"count\\\":2,\\\"firstTimestamp\\\":\\\"2021-01-26T21:28:49Z\\\",\\\"lastTimestamp\\\":\\\"2021-01-26T21:32:20Z\\\",\\\"name\\\":\\\"Pulling\\\",\\\"message\\\":\\\"pulling image \\\\\\\"27cbb86575d14053b4eda3e5b21a0ec1.azurecr.io/azureml/azureml_779ad2055c9a39d2f7ad6a9132830a35\\\\\\\"\\\",\\\"type\\\":\\\"Normal\\\"},{\\\"count\\\":1,\\\"firstTimestamp\\\":\\\"2021-01-26T21:31:56Z\\\",\\\"lastTimestamp\\\":\\\"2021-01-26T21:31:56Z\\\",\\\"name\\\":\\\"Pulled\\\",\\\"message\\\":\\\"Successfully pulled image \\\\\\\"27cbb86575d14053b4eda3e5b21a0ec1.azurecr.io/azureml/azureml_779ad2055c9a39d2f7ad6a9132830a35\\\\\\\"\\\",\\\"type\\\":\\\"Normal\\\"},{\\\"count\\\":1,\\\"firstTimestamp\\\":\\\"2021-01-26T21:32:04Z\\\",\\\"lastTimestamp\\\":\\\"2021-01-26T21:32:04Z\\\",\\\"name\\\":\\\"Created\\\",\\\"message\\\":\\\"Created container\\\",\\\"type\\\":\\\"Normal\\\"},{\\\"count\\\":1,\\\"firstTimestamp\\\":\\\"2021-01-26T21:32:04Z\\\",\\\"lastTimestamp\\\":\\\"2021-01-26T21:32:04Z\\\",\\\"name\\\":\\\"Started\\\",\\\"message\\\":\\\"Started container\\\",\\\"type\\\":\\\"Normal\\\"}]}\"\n    }\n  ]\n}\n\tInnerException None\n\tErrorResponse \n{\n    \"error\": {\n        \"message\": \"Service deployment polling reached non-successful terminal state, current service state: Failed\\nOperation ID: c0b31aac-cd6c-4b47-aca0-4b300a7d793d\\nMore information can be found using '.get_logs()'\\nError:\\n{\\n  \\\"code\\\": \\\"AciDeploymentFailed\\\",\\n  \\\"message\\\": \\\"Aci Deployment failed with exception: Your container application crashed. This may be caused by errors in your scoring file's init() function.\\\\nPlease check the logs for your container instance: hf-prediction. From the AML SDK, you can run print(service.get_logs()) if you have service object to fetch the logs. \\\\nYou can interactively debug your scoring file locally. Please refer to https://docs.microsoft.com/azure/machine-learning/how-to-debug-visual-studio-code#debug-and-troubleshoot-deployments for more information.\\\\nYou can also try to run image 27cbb86575d14053b4eda3e5b21a0ec1.azurecr.io/azureml/azureml_779ad2055c9a39d2f7ad6a9132830a35 locally. Please refer to https://aka.ms/debugimage#service-launch-fails for more information.\\\",\\n  \\\"details\\\": [\\n    {\\n      \\\"code\\\": \\\"CrashLoopBackOff\\\",\\n      \\\"message\\\": \\\"Your container application crashed. This may be caused by errors in your scoring file's init() function.\\\\nPlease check the logs for your container instance: hf-prediction. From the AML SDK, you can run print(service.get_logs()) if you have service object to fetch the logs. \\\\nYou can interactively debug your scoring file locally. Please refer to https://docs.microsoft.com/azure/machine-learning/how-to-debug-visual-studio-code#debug-and-troubleshoot-deployments for more information.\\\\nYou can also try to run image 27cbb86575d14053b4eda3e5b21a0ec1.azurecr.io/azureml/azureml_779ad2055c9a39d2f7ad6a9132830a35 locally. Please refer to https://aka.ms/debugimage#service-launch-fails for more information.\\\"\\n    },\\n    {\\n      \\\"code\\\": \\\"AciDeploymentFailed\\\",\\n      \\\"message\\\": \\\"Your container application crashed. Please follow the steps to debug:\\\\n1. From the AML SDK, you can run print(service.get_logs()) if you have service object to fetch the logs. Please refer to https://aka.ms/debugimage#dockerlog for more information.\\\\n2. If your container application crashed. This may be caused by errors in your scoring file's init() function. You can try debugging locally first. Please refer to https://aka.ms/debugimage#debug-locally for more information.\\\\n3. You can also interactively debug your scoring file locally. Please refer to https://docs.microsoft.com/azure/machine-learning/how-to-debug-visual-studio-code#debug-and-troubleshoot-deployments for more information.\\\\n4. View the diagnostic events to check status of container, it may help you to debug the issue. {\\\\\\\"restartCount\\\\\\\":3,\\\\\\\"currentState\\\\\\\":{\\\\\\\"state\\\\\\\":\\\\\\\"Waiting\\\\\\\",\\\\\\\"startTime\\\\\\\":null,\\\\\\\"exitCode\\\\\\\":null,\\\\\\\"finishTime\\\\\\\":null,\\\\\\\"detailStatus\\\\\\\":\\\\\\\"CrashLoopBackOff: Back-off 40s restarting failed\\\\\\\"},\\\\\\\"previousState\\\\\\\":{\\\\\\\"state\\\\\\\":\\\\\\\"Terminated\\\\\\\",\\\\\\\"startTime\\\\\\\":\\\\\\\"2021-01-26T21:33:06Z\\\\\\\",\\\\\\\"exitCode\\\\\\\":111,\\\\\\\"finishTime\\\\\\\":\\\\\\\"2021-01-26T21:33:08Z\\\\\\\",\\\\\\\"detailStatus\\\\\\\":\\\\\\\"Error\\\\\\\"},\\\\\\\"events\\\\\\\":[{\\\\\\\"count\\\\\\\":2,\\\\\\\"firstTimestamp\\\\\\\":\\\\\\\"2021-01-26T21:28:49Z\\\\\\\",\\\\\\\"lastTimestamp\\\\\\\":\\\\\\\"2021-01-26T21:32:20Z\\\\\\\",\\\\\\\"name\\\\\\\":\\\\\\\"Pulling\\\\\\\",\\\\\\\"message\\\\\\\":\\\\\\\"pulling image \\\\\\\\\\\\\\\"27cbb86575d14053b4eda3e5b21a0ec1.azurecr.io/azureml/azureml_779ad2055c9a39d2f7ad6a9132830a35\\\\\\\\\\\\\\\"\\\\\\\",\\\\\\\"type\\\\\\\":\\\\\\\"Normal\\\\\\\"},{\\\\\\\"count\\\\\\\":1,\\\\\\\"firstTimestamp\\\\\\\":\\\\\\\"2021-01-26T21:31:56Z\\\\\\\",\\\\\\\"lastTimestamp\\\\\\\":\\\\\\\"2021-01-26T21:31:56Z\\\\\\\",\\\\\\\"name\\\\\\\":\\\\\\\"Pulled\\\\\\\",\\\\\\\"message\\\\\\\":\\\\\\\"Successfully pulled image \\\\\\\\\\\\\\\"27cbb86575d14053b4eda3e5b21a0ec1.azurecr.io/azureml/azureml_779ad2055c9a39d2f7ad6a9132830a35\\\\\\\\\\\\\\\"\\\\\\\",\\\\\\\"type\\\\\\\":\\\\\\\"Normal\\\\\\\"},{\\\\\\\"count\\\\\\\":1,\\\\\\\"firstTimestamp\\\\\\\":\\\\\\\"2021-01-26T21:32:04Z\\\\\\\",\\\\\\\"lastTimestamp\\\\\\\":\\\\\\\"2021-01-26T21:32:04Z\\\\\\\",\\\\\\\"name\\\\\\\":\\\\\\\"Created\\\\\\\",\\\\\\\"message\\\\\\\":\\\\\\\"Created container\\\\\\\",\\\\\\\"type\\\\\\\":\\\\\\\"Normal\\\\\\\"},{\\\\\\\"count\\\\\\\":1,\\\\\\\"firstTimestamp\\\\\\\":\\\\\\\"2021-01-26T21:32:04Z\\\\\\\",\\\\\\\"lastTimestamp\\\\\\\":\\\\\\\"2021-01-26T21:32:04Z\\\\\\\",\\\\\\\"name\\\\\\\":\\\\\\\"Started\\\\\\\",\\\\\\\"message\\\\\\\":\\\\\\\"Started container\\\\\\\",\\\\\\\"type\\\\\\\":\\\\\\\"Normal\\\\\\\"}]}\\\"\\n    }\\n  ]\\n}\"\n    }\n}"
     ]
    }
   ],
   "source": [
    "# Reference: https://docs.microsoft.com/en-us/azure/machine-learning/how-to-deploy-existing-model\n",
    "# https://github.com/Azure/MachineLearningNotebooks/blob/master/how-to-use-azureml/deployment/deploy-to-cloud/model-register-and-deploy.ipynb\n",
    "from azureml.core import Model\n",
    "# Downloading the scoring file and conda environment to the same directory where I have saved the trained model\n",
    "scoring_file = \"scoring_file_v_1_0_0.py\"\n",
    "conda_env = \"conda_env_v_1_0_0.yml\"\n",
    "\n",
    "automl_best_run.download_file('outputs/' + scoring_file , 'score.py')\n",
    "automl_best_run.download_file('outputs/' + conda_env, 'env.yml')\n",
    "\n",
    "# Creating the environment\n",
    "env=Environment.from_conda_specification(name='env',file_path = \"env.yml\")\n",
    "\n",
    "# Creating an inference config\n",
    "inference_config = InferenceConfig(entry_script=\"score.py\",\n",
    "                                   environment=env)\n",
    "\n",
    "# Deploying the model as a web service to an Azure Container Instance (ACI)\n",
    "service_name = 'hf-prediction'\n",
    "aci_config = AciWebservice.deploy_configuration(cpu_cores=1, memory_gb=1)\n",
    "\n",
    "deployed_model_webservice = Model.deploy(workspace=ws,\n",
    "                       name=service_name,\n",
    "                       models=[model],\n",
    "                       inference_config=inference_config,\n",
    "                       deployment_config=aci_config,\n",
    "                       overwrite=True)\n",
    "\n",
    "deployed_model_webservice.wait_for_deployment(show_output=True)\n",
    "\n"
   ]
  },
  {
   "cell_type": "code",
   "execution_count": 30,
   "metadata": {},
   "outputs": [
    {
     "name": "stdout",
     "output_type": "stream",
     "text": [
      "2021-01-26T21:35:27,535375562+00:00 - rsyslog/run \n",
      "2021-01-26T21:35:27,536749873+00:00 - iot-server/run \n",
      "2021-01-26T21:35:27,537901882+00:00 - gunicorn/run \n",
      "2021-01-26T21:35:27,539851598+00:00 - nginx/run \n",
      "/usr/sbin/nginx: /azureml-envs/azureml_4f26b5b9300bb3a3b89415c34dafac63/lib/libcrypto.so.1.0.0: no version information available (required by /usr/sbin/nginx)\n",
      "/usr/sbin/nginx: /azureml-envs/azureml_4f26b5b9300bb3a3b89415c34dafac63/lib/libcrypto.so.1.0.0: no version information available (required by /usr/sbin/nginx)\n",
      "/usr/sbin/nginx: /azureml-envs/azureml_4f26b5b9300bb3a3b89415c34dafac63/lib/libssl.so.1.0.0: no version information available (required by /usr/sbin/nginx)\n",
      "/usr/sbin/nginx: /azureml-envs/azureml_4f26b5b9300bb3a3b89415c34dafac63/lib/libssl.so.1.0.0: no version information available (required by /usr/sbin/nginx)\n",
      "/usr/sbin/nginx: /azureml-envs/azureml_4f26b5b9300bb3a3b89415c34dafac63/lib/libssl.so.1.0.0: no version information available (required by /usr/sbin/nginx)\n",
      "rsyslogd: /azureml-envs/azureml_4f26b5b9300bb3a3b89415c34dafac63/lib/libuuid.so.1: no version information available (required by rsyslogd)\n",
      "EdgeHubConnectionString and IOTEDGE_IOTHUBHOSTNAME are not set. Exiting...\n",
      "2021-01-26T21:35:27,660211376+00:00 - iot-server/finish 1 0\n",
      "2021-01-26T21:35:27,661498587+00:00 - Exit code 1 is normal. Not restarting iot-server.\n",
      "Starting gunicorn 19.9.0\n",
      "Listening at: http://127.0.0.1:31311 (12)\n",
      "Using worker: sync\n",
      "worker timeout is set to 300\n",
      "Booting worker with pid: 40\n",
      "SPARK_HOME not set. Skipping PySpark Initialization.\n",
      "Generating new fontManager, this may take some time...\n",
      "Initializing logger\n",
      "2021-01-26 21:35:28,855 | root | INFO | Starting up app insights client\n",
      "2021-01-26 21:35:28,855 | root | INFO | Starting up request id generator\n",
      "2021-01-26 21:35:28,855 | root | INFO | Starting up app insight hooks\n",
      "2021-01-26 21:35:28,855 | root | INFO | Invoking user's init function\n",
      "2021-01-26 21:35:28,862 | root | ERROR | User's init function failed\n",
      "2021-01-26 21:35:28,863 | root | ERROR | Encountered Exception Traceback (most recent call last):\n",
      "  File \"/var/azureml-server/aml_blueprint.py\", line 176, in register\n",
      "    main.init()\n",
      "  File \"/var/azureml-app/score.py\", line 41, in init\n",
      "    model = joblib.load(model_path)\n",
      "  File \"/azureml-envs/azureml_4f26b5b9300bb3a3b89415c34dafac63/lib/python3.6/site-packages/joblib/numpy_pickle.py\", line 597, in load\n",
      "    with open(filename, 'rb') as f:\n",
      "FileNotFoundError: [Errno 2] No such file or directory: 'azureml-models/automl_best_model.pkl/1/model.pkl'\n",
      "\n",
      "Worker exiting (pid: 40)\n",
      "Shutting down: Master\n",
      "Reason: Worker failed to boot.\n",
      "2021-01-26T21:35:29,505898075+00:00 - gunicorn/finish 3 0\n",
      "2021-01-26T21:35:29,507249686+00:00 - Exit code 3 is not normal. Killing image.\n",
      "\n"
     ]
    }
   ],
   "source": [
    "print(deployed_model_webservice.get_logs())"
   ]
  },
  {
   "cell_type": "markdown",
   "metadata": {
    "collapsed": true,
    "gather": {
     "logged": 1598431657736
    },
    "jupyter": {
     "outputs_hidden": false,
     "source_hidden": false
    },
    "nteract": {
     "transient": {
      "deleting": false
     }
    }
   },
   "source": [
    "TODO: In the cell below, send a request to the web service you deployed to test it."
   ]
  },
  {
   "cell_type": "code",
   "execution_count": null,
   "metadata": {
    "gather": {
     "logged": 1598432707604
    },
    "jupyter": {
     "outputs_hidden": false,
     "source_hidden": false
    },
    "nteract": {
     "transient": {
      "deleting": false
     }
    }
   },
   "outputs": [],
   "source": [
    "# Reference: https://github.com/Azure/MachineLearningNotebooks/blob/master/how-to-use-azureml/deployment/deploy-to-cloud/model-register-and-deploy.ipynb \n",
    "# and endpoint.py file used in Project 2\n",
    "\n",
    "\n",
    "scoring_uri = \n",
    "# If the service is authenticated, set the key or token\n",
    "# key = \n",
    "\n",
    "\n",
    "df.drop(columns=[\"DEATH_EVENT\"])\n",
    "\n",
    "input_data = json.dumps({\n",
    "    'data': df[0:2].to_dict()\n",
    "})\n",
    "\n",
    "with open(\"data.json\", \"w\") as _f:\n",
    "    _f.write(input_data)\n",
    "\n",
    "# Set the content type\n",
    "headers = {'Content-Type': 'application/json'}\n",
    "# If authentication is enabled, set the authorization header\n",
    "# headers['Authorization'] = f'Bearer {key}'\n",
    "\n",
    "# Make the request and display the response\n",
    "resp = requests.post(scoring_uri, input_data, headers=headers)\n",
    "print(resp.json())    \n",
    "    "
   ]
  },
  {
   "cell_type": "markdown",
   "metadata": {
    "collapsed": true,
    "gather": {
     "logged": 1598432765711
    },
    "jupyter": {
     "outputs_hidden": false,
     "source_hidden": false
    },
    "nteract": {
     "transient": {
      "deleting": false
     }
    }
   },
   "source": [
    "TODO: In the cell below, print the logs of the web service and delete the service"
   ]
  },
  {
   "cell_type": "code",
   "execution_count": null,
   "metadata": {
    "jupyter": {
     "outputs_hidden": false,
     "source_hidden": false
    },
    "nteract": {
     "transient": {
      "deleting": false
     }
    }
   },
   "outputs": [],
   "source": [
    "# Retrieve logs for this Webservice\n",
    "deployed_model_webservice.get_logs()\n",
    "\n",
    "# Delete service\n",
    "deployed_model_webservice.delete()"
   ]
  }
 ],
 "metadata": {
  "kernel_info": {
   "name": "python3"
  },
  "kernelspec": {
   "display_name": "Python 3",
   "language": "python",
   "name": "python3"
  },
  "language_info": {
   "codemirror_mode": {
    "name": "ipython",
    "version": 3
   },
   "file_extension": ".py",
   "mimetype": "text/x-python",
   "name": "python",
   "nbconvert_exporter": "python",
   "pygments_lexer": "ipython3",
   "version": "3.6.9"
  },
  "nteract": {
   "version": "nteract-front-end@1.0.0"
  }
 },
 "nbformat": 4,
 "nbformat_minor": 2
}
