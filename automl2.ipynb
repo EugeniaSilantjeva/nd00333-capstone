{
 "cells": [
  {
   "cell_type": "markdown",
   "metadata": {},
   "source": [
    "# Automated ML\n",
    "\n",
    "TODO: Import Dependencies. In the cell below, import all the dependencies that you will need to complete the project."
   ]
  },
  {
   "cell_type": "code",
   "execution_count": 1,
   "metadata": {
    "gather": {
     "logged": 1611751020619
    },
    "jupyter": {
     "outputs_hidden": false,
     "source_hidden": false
    },
    "nteract": {
     "transient": {
      "deleting": false
     }
    }
   },
   "outputs": [
    {
     "name": "stdout",
     "output_type": "stream",
     "text": [
      "SDK version: 1.20.0\n"
     ]
    }
   ],
   "source": [
    "import os\n",
    "import azureml\n",
    "from azureml.core.experiment import Experiment\n",
    "from azureml.core.workspace import Workspace\n",
    "from azureml.train.automl import AutoMLConfig\n",
    "from azureml.core.dataset import Dataset\n",
    "\n",
    "from azureml.core.compute import ComputeTarget, AmlCompute\n",
    "from azureml.core.compute_target import ComputeTargetException\n",
    "\n",
    "from azureml.core.model import InferenceConfig\n",
    "from azureml.core.environment import Environment\n",
    "from azureml.core.webservice import AciWebservice\n",
    "\n",
    "import requests\n",
    "import json\n",
    "\n",
    "# Check core SDK version number\n",
    "print(\"SDK version:\", azureml.core.VERSION)"
   ]
  },
  {
   "cell_type": "code",
   "execution_count": 2,
   "metadata": {
    "gather": {
     "logged": 1611751075151
    },
    "jupyter": {
     "outputs_hidden": false,
     "source_hidden": false
    },
    "nteract": {
     "transient": {
      "deleting": false
     }
    }
   },
   "outputs": [],
   "source": [
    "ws = Workspace.from_config()\n",
    "\n",
    "# Choosing a name for experiment\n",
    "experiment_name = 'AutoML-Experiment'\n",
    "\n",
    "experiment=Experiment(ws, experiment_name)\n",
    "#project_folder = './pipeline-project'\n"
   ]
  },
  {
   "cell_type": "markdown",
   "metadata": {},
   "source": [
    "# Compute Cluster"
   ]
  },
  {
   "cell_type": "code",
   "execution_count": 3,
   "metadata": {
    "gather": {
     "logged": 1611751083580
    }
   },
   "outputs": [
    {
     "name": "stdout",
     "output_type": "stream",
     "text": [
      "Found existing cluster, use it.\n",
      "\n",
      "Running\n"
     ]
    }
   ],
   "source": [
    "cpu_cluster_name = \"cpu-cluster\"\n",
    "\n",
    "# Verifying that cluster does not exist already\n",
    "try:\n",
    "    cpu_cluster = ComputeTarget(workspace=ws, name=cpu_cluster_name)\n",
    "    print('Found existing cluster, use it.')\n",
    "except ComputeTargetException:\n",
    "    compute_config = AmlCompute.provisioning_configuration(vm_size='STANDARD_DS12_V2',\n",
    "                                                          max_nodes=4)\n",
    "    cpu_cluster = ComputeTarget.create(ws, cpu_cluster_name, compute_config)\n",
    "\n",
    "cpu_cluster.wait_for_completion(show_output=True)"
   ]
  },
  {
   "cell_type": "markdown",
   "metadata": {},
   "source": [
    "# Dataset\n",
    "\n",
    "\n",
    "TODO: In this markdown cell, give an overview of the dataset you are using. Also mention the task you will be performing.\n",
    "\n",
    "\n",
    "The dataset \"Heart Failure Prediction\" contains 12 clinical features of 299 patients with heart failure and a target variable \"DEATH EVENT\" indicating if the patient deceased during the follow-up period (boolean). Machine Learning can help detect and manage high-risk patients at an earlier stage. \n",
    "\n",
    "To solve this binary classification problem, I will use the 12 features to predict possible death events with the help of an ML algorithm.  \n",
    "\n",
    "\n",
    "TODO: Get data. In the cell below, write code to access the data you will be using in this project. Remember that the dataset needs to be external."
   ]
  },
  {
   "cell_type": "code",
   "execution_count": 4,
   "metadata": {
    "gather": {
     "logged": 1611751122602
    }
   },
   "outputs": [
    {
     "name": "stdout",
     "output_type": "stream",
     "text": [
      "The dataset is loaded\n"
     ]
    }
   ],
   "source": [
    "found = False\n",
    "key = \"Heart Failure Prediction\"\n",
    "description_text = \"Heart Failure Prediction DataSet for Udacity Project 3\"\n",
    "\n",
    "if key in ws.datasets.keys(): \n",
    "        found = True\n",
    "        dataset = ws.datasets[key] \n",
    "        print(\"The dataset is loaded\")\n",
    "\n",
    "if not found:\n",
    "        # Creating Dataset and register it into Workspace\n",
    "        example_data = \"https://raw.githubusercontent.com/EugeniaSilantjeva/nd00333-capstone/master/heart_failure_clinical_records_dataset.csv\"\n",
    "        dataset = Dataset.Tabular.from_delimited_files(example_data)        \n",
    "        # Registering Dataset in Workspace\n",
    "        dataset = dataset.register(workspace=ws,\n",
    "                                   name=key,\n",
    "                                   description=description_text)"
   ]
  },
  {
   "cell_type": "code",
   "execution_count": 5,
   "metadata": {
    "gather": {
     "logged": 1611751133399
    }
   },
   "outputs": [
    {
     "data": {
      "text/html": [
       "<div>\n",
       "<style scoped>\n",
       "    .dataframe tbody tr th:only-of-type {\n",
       "        vertical-align: middle;\n",
       "    }\n",
       "\n",
       "    .dataframe tbody tr th {\n",
       "        vertical-align: top;\n",
       "    }\n",
       "\n",
       "    .dataframe thead th {\n",
       "        text-align: right;\n",
       "    }\n",
       "</style>\n",
       "<table border=\"1\" class=\"dataframe\">\n",
       "  <thead>\n",
       "    <tr style=\"text-align: right;\">\n",
       "      <th></th>\n",
       "      <th>age</th>\n",
       "      <th>anaemia</th>\n",
       "      <th>creatinine_phosphokinase</th>\n",
       "      <th>diabetes</th>\n",
       "      <th>ejection_fraction</th>\n",
       "      <th>high_blood_pressure</th>\n",
       "      <th>platelets</th>\n",
       "      <th>serum_creatinine</th>\n",
       "      <th>serum_sodium</th>\n",
       "      <th>sex</th>\n",
       "      <th>smoking</th>\n",
       "      <th>time</th>\n",
       "      <th>DEATH_EVENT</th>\n",
       "    </tr>\n",
       "  </thead>\n",
       "  <tbody>\n",
       "    <tr>\n",
       "      <th>0</th>\n",
       "      <td>75.0</td>\n",
       "      <td>0</td>\n",
       "      <td>582</td>\n",
       "      <td>0</td>\n",
       "      <td>20</td>\n",
       "      <td>1</td>\n",
       "      <td>265000.00</td>\n",
       "      <td>1.9</td>\n",
       "      <td>130</td>\n",
       "      <td>1</td>\n",
       "      <td>0</td>\n",
       "      <td>4</td>\n",
       "      <td>1</td>\n",
       "    </tr>\n",
       "    <tr>\n",
       "      <th>1</th>\n",
       "      <td>55.0</td>\n",
       "      <td>0</td>\n",
       "      <td>7861</td>\n",
       "      <td>0</td>\n",
       "      <td>38</td>\n",
       "      <td>0</td>\n",
       "      <td>263358.03</td>\n",
       "      <td>1.1</td>\n",
       "      <td>136</td>\n",
       "      <td>1</td>\n",
       "      <td>0</td>\n",
       "      <td>6</td>\n",
       "      <td>1</td>\n",
       "    </tr>\n",
       "    <tr>\n",
       "      <th>2</th>\n",
       "      <td>65.0</td>\n",
       "      <td>0</td>\n",
       "      <td>146</td>\n",
       "      <td>0</td>\n",
       "      <td>20</td>\n",
       "      <td>0</td>\n",
       "      <td>162000.00</td>\n",
       "      <td>1.3</td>\n",
       "      <td>129</td>\n",
       "      <td>1</td>\n",
       "      <td>1</td>\n",
       "      <td>7</td>\n",
       "      <td>1</td>\n",
       "    </tr>\n",
       "    <tr>\n",
       "      <th>3</th>\n",
       "      <td>50.0</td>\n",
       "      <td>1</td>\n",
       "      <td>111</td>\n",
       "      <td>0</td>\n",
       "      <td>20</td>\n",
       "      <td>0</td>\n",
       "      <td>210000.00</td>\n",
       "      <td>1.9</td>\n",
       "      <td>137</td>\n",
       "      <td>1</td>\n",
       "      <td>0</td>\n",
       "      <td>7</td>\n",
       "      <td>1</td>\n",
       "    </tr>\n",
       "    <tr>\n",
       "      <th>4</th>\n",
       "      <td>65.0</td>\n",
       "      <td>1</td>\n",
       "      <td>160</td>\n",
       "      <td>1</td>\n",
       "      <td>20</td>\n",
       "      <td>0</td>\n",
       "      <td>327000.00</td>\n",
       "      <td>2.7</td>\n",
       "      <td>116</td>\n",
       "      <td>0</td>\n",
       "      <td>0</td>\n",
       "      <td>8</td>\n",
       "      <td>1</td>\n",
       "    </tr>\n",
       "  </tbody>\n",
       "</table>\n",
       "</div>"
      ],
      "text/plain": [
       "    age  anaemia  creatinine_phosphokinase  diabetes  ejection_fraction  \\\n",
       "0  75.0        0                       582         0                 20   \n",
       "1  55.0        0                      7861         0                 38   \n",
       "2  65.0        0                       146         0                 20   \n",
       "3  50.0        1                       111         0                 20   \n",
       "4  65.0        1                       160         1                 20   \n",
       "\n",
       "   high_blood_pressure  platelets  serum_creatinine  serum_sodium  sex  \\\n",
       "0                    1  265000.00               1.9           130    1   \n",
       "1                    0  263358.03               1.1           136    1   \n",
       "2                    0  162000.00               1.3           129    1   \n",
       "3                    0  210000.00               1.9           137    1   \n",
       "4                    0  327000.00               2.7           116    0   \n",
       "\n",
       "   smoking  time  DEATH_EVENT  \n",
       "0        0     4            1  \n",
       "1        0     6            1  \n",
       "2        1     7            1  \n",
       "3        0     7            1  \n",
       "4        0     8            1  "
      ]
     },
     "execution_count": 5,
     "metadata": {},
     "output_type": "execute_result"
    }
   ],
   "source": [
    "dataset.take(5).to_pandas_dataframe()"
   ]
  },
  {
   "cell_type": "code",
   "execution_count": 6,
   "metadata": {
    "gather": {
     "logged": 1611751138296
    }
   },
   "outputs": [
    {
     "data": {
      "text/html": [
       "<div>\n",
       "<style scoped>\n",
       "    .dataframe tbody tr th:only-of-type {\n",
       "        vertical-align: middle;\n",
       "    }\n",
       "\n",
       "    .dataframe tbody tr th {\n",
       "        vertical-align: top;\n",
       "    }\n",
       "\n",
       "    .dataframe thead th {\n",
       "        text-align: right;\n",
       "    }\n",
       "</style>\n",
       "<table border=\"1\" class=\"dataframe\">\n",
       "  <thead>\n",
       "    <tr style=\"text-align: right;\">\n",
       "      <th></th>\n",
       "      <th>age</th>\n",
       "      <th>anaemia</th>\n",
       "      <th>creatinine_phosphokinase</th>\n",
       "      <th>diabetes</th>\n",
       "      <th>ejection_fraction</th>\n",
       "      <th>high_blood_pressure</th>\n",
       "      <th>platelets</th>\n",
       "      <th>serum_creatinine</th>\n",
       "      <th>serum_sodium</th>\n",
       "      <th>sex</th>\n",
       "      <th>smoking</th>\n",
       "      <th>time</th>\n",
       "      <th>DEATH_EVENT</th>\n",
       "    </tr>\n",
       "  </thead>\n",
       "  <tbody>\n",
       "    <tr>\n",
       "      <th>count</th>\n",
       "      <td>299.000000</td>\n",
       "      <td>299.000000</td>\n",
       "      <td>299.000000</td>\n",
       "      <td>299.000000</td>\n",
       "      <td>299.000000</td>\n",
       "      <td>299.000000</td>\n",
       "      <td>299.000000</td>\n",
       "      <td>299.00000</td>\n",
       "      <td>299.000000</td>\n",
       "      <td>299.000000</td>\n",
       "      <td>299.00000</td>\n",
       "      <td>299.000000</td>\n",
       "      <td>299.00000</td>\n",
       "    </tr>\n",
       "    <tr>\n",
       "      <th>mean</th>\n",
       "      <td>60.833893</td>\n",
       "      <td>0.431438</td>\n",
       "      <td>581.839465</td>\n",
       "      <td>0.418060</td>\n",
       "      <td>38.083612</td>\n",
       "      <td>0.351171</td>\n",
       "      <td>263358.029264</td>\n",
       "      <td>1.39388</td>\n",
       "      <td>136.625418</td>\n",
       "      <td>0.648829</td>\n",
       "      <td>0.32107</td>\n",
       "      <td>130.260870</td>\n",
       "      <td>0.32107</td>\n",
       "    </tr>\n",
       "    <tr>\n",
       "      <th>std</th>\n",
       "      <td>11.894809</td>\n",
       "      <td>0.496107</td>\n",
       "      <td>970.287881</td>\n",
       "      <td>0.494067</td>\n",
       "      <td>11.834841</td>\n",
       "      <td>0.478136</td>\n",
       "      <td>97804.236869</td>\n",
       "      <td>1.03451</td>\n",
       "      <td>4.412477</td>\n",
       "      <td>0.478136</td>\n",
       "      <td>0.46767</td>\n",
       "      <td>77.614208</td>\n",
       "      <td>0.46767</td>\n",
       "    </tr>\n",
       "    <tr>\n",
       "      <th>min</th>\n",
       "      <td>40.000000</td>\n",
       "      <td>0.000000</td>\n",
       "      <td>23.000000</td>\n",
       "      <td>0.000000</td>\n",
       "      <td>14.000000</td>\n",
       "      <td>0.000000</td>\n",
       "      <td>25100.000000</td>\n",
       "      <td>0.50000</td>\n",
       "      <td>113.000000</td>\n",
       "      <td>0.000000</td>\n",
       "      <td>0.00000</td>\n",
       "      <td>4.000000</td>\n",
       "      <td>0.00000</td>\n",
       "    </tr>\n",
       "    <tr>\n",
       "      <th>25%</th>\n",
       "      <td>51.000000</td>\n",
       "      <td>0.000000</td>\n",
       "      <td>116.500000</td>\n",
       "      <td>0.000000</td>\n",
       "      <td>30.000000</td>\n",
       "      <td>0.000000</td>\n",
       "      <td>212500.000000</td>\n",
       "      <td>0.90000</td>\n",
       "      <td>134.000000</td>\n",
       "      <td>0.000000</td>\n",
       "      <td>0.00000</td>\n",
       "      <td>73.000000</td>\n",
       "      <td>0.00000</td>\n",
       "    </tr>\n",
       "    <tr>\n",
       "      <th>50%</th>\n",
       "      <td>60.000000</td>\n",
       "      <td>0.000000</td>\n",
       "      <td>250.000000</td>\n",
       "      <td>0.000000</td>\n",
       "      <td>38.000000</td>\n",
       "      <td>0.000000</td>\n",
       "      <td>262000.000000</td>\n",
       "      <td>1.10000</td>\n",
       "      <td>137.000000</td>\n",
       "      <td>1.000000</td>\n",
       "      <td>0.00000</td>\n",
       "      <td>115.000000</td>\n",
       "      <td>0.00000</td>\n",
       "    </tr>\n",
       "    <tr>\n",
       "      <th>75%</th>\n",
       "      <td>70.000000</td>\n",
       "      <td>1.000000</td>\n",
       "      <td>582.000000</td>\n",
       "      <td>1.000000</td>\n",
       "      <td>45.000000</td>\n",
       "      <td>1.000000</td>\n",
       "      <td>303500.000000</td>\n",
       "      <td>1.40000</td>\n",
       "      <td>140.000000</td>\n",
       "      <td>1.000000</td>\n",
       "      <td>1.00000</td>\n",
       "      <td>203.000000</td>\n",
       "      <td>1.00000</td>\n",
       "    </tr>\n",
       "    <tr>\n",
       "      <th>max</th>\n",
       "      <td>95.000000</td>\n",
       "      <td>1.000000</td>\n",
       "      <td>7861.000000</td>\n",
       "      <td>1.000000</td>\n",
       "      <td>80.000000</td>\n",
       "      <td>1.000000</td>\n",
       "      <td>850000.000000</td>\n",
       "      <td>9.40000</td>\n",
       "      <td>148.000000</td>\n",
       "      <td>1.000000</td>\n",
       "      <td>1.00000</td>\n",
       "      <td>285.000000</td>\n",
       "      <td>1.00000</td>\n",
       "    </tr>\n",
       "  </tbody>\n",
       "</table>\n",
       "</div>"
      ],
      "text/plain": [
       "              age     anaemia  creatinine_phosphokinase    diabetes  \\\n",
       "count  299.000000  299.000000                299.000000  299.000000   \n",
       "mean    60.833893    0.431438                581.839465    0.418060   \n",
       "std     11.894809    0.496107                970.287881    0.494067   \n",
       "min     40.000000    0.000000                 23.000000    0.000000   \n",
       "25%     51.000000    0.000000                116.500000    0.000000   \n",
       "50%     60.000000    0.000000                250.000000    0.000000   \n",
       "75%     70.000000    1.000000                582.000000    1.000000   \n",
       "max     95.000000    1.000000               7861.000000    1.000000   \n",
       "\n",
       "       ejection_fraction  high_blood_pressure      platelets  \\\n",
       "count         299.000000           299.000000     299.000000   \n",
       "mean           38.083612             0.351171  263358.029264   \n",
       "std            11.834841             0.478136   97804.236869   \n",
       "min            14.000000             0.000000   25100.000000   \n",
       "25%            30.000000             0.000000  212500.000000   \n",
       "50%            38.000000             0.000000  262000.000000   \n",
       "75%            45.000000             1.000000  303500.000000   \n",
       "max            80.000000             1.000000  850000.000000   \n",
       "\n",
       "       serum_creatinine  serum_sodium         sex    smoking        time  \\\n",
       "count         299.00000    299.000000  299.000000  299.00000  299.000000   \n",
       "mean            1.39388    136.625418    0.648829    0.32107  130.260870   \n",
       "std             1.03451      4.412477    0.478136    0.46767   77.614208   \n",
       "min             0.50000    113.000000    0.000000    0.00000    4.000000   \n",
       "25%             0.90000    134.000000    0.000000    0.00000   73.000000   \n",
       "50%             1.10000    137.000000    1.000000    0.00000  115.000000   \n",
       "75%             1.40000    140.000000    1.000000    1.00000  203.000000   \n",
       "max             9.40000    148.000000    1.000000    1.00000  285.000000   \n",
       "\n",
       "       DEATH_EVENT  \n",
       "count    299.00000  \n",
       "mean       0.32107  \n",
       "std        0.46767  \n",
       "min        0.00000  \n",
       "25%        0.00000  \n",
       "50%        0.00000  \n",
       "75%        1.00000  \n",
       "max        1.00000  "
      ]
     },
     "execution_count": 6,
     "metadata": {},
     "output_type": "execute_result"
    }
   ],
   "source": [
    "df = dataset.to_pandas_dataframe()\n",
    "df.describe()"
   ]
  },
  {
   "cell_type": "code",
   "execution_count": 7,
   "metadata": {
    "gather": {
     "logged": 1611751149085
    }
   },
   "outputs": [
    {
     "data": {
      "text/html": [
       "<div>\n",
       "<style scoped>\n",
       "    .dataframe tbody tr th:only-of-type {\n",
       "        vertical-align: middle;\n",
       "    }\n",
       "\n",
       "    .dataframe tbody tr th {\n",
       "        vertical-align: top;\n",
       "    }\n",
       "\n",
       "    .dataframe thead th {\n",
       "        text-align: right;\n",
       "    }\n",
       "</style>\n",
       "<table border=\"1\" class=\"dataframe\">\n",
       "  <thead>\n",
       "    <tr style=\"text-align: right;\">\n",
       "      <th></th>\n",
       "      <th>age</th>\n",
       "      <th>anaemia</th>\n",
       "      <th>creatinine_phosphokinase</th>\n",
       "      <th>diabetes</th>\n",
       "      <th>ejection_fraction</th>\n",
       "      <th>high_blood_pressure</th>\n",
       "      <th>platelets</th>\n",
       "      <th>serum_creatinine</th>\n",
       "      <th>serum_sodium</th>\n",
       "      <th>sex</th>\n",
       "      <th>smoking</th>\n",
       "      <th>time</th>\n",
       "      <th>DEATH_EVENT</th>\n",
       "    </tr>\n",
       "  </thead>\n",
       "  <tbody>\n",
       "  </tbody>\n",
       "</table>\n",
       "</div>"
      ],
      "text/plain": [
       "Empty DataFrame\n",
       "Columns: [age, anaemia, creatinine_phosphokinase, diabetes, ejection_fraction, high_blood_pressure, platelets, serum_creatinine, serum_sodium, sex, smoking, time, DEATH_EVENT]\n",
       "Index: []"
      ]
     },
     "execution_count": 7,
     "metadata": {},
     "output_type": "execute_result"
    }
   ],
   "source": [
    "df[df.isnull().any(axis=1)]"
   ]
  },
  {
   "cell_type": "code",
   "execution_count": 8,
   "metadata": {
    "gather": {
     "logged": 1611751152729
    }
   },
   "outputs": [
    {
     "data": {
      "text/plain": [
       "0    203\n",
       "1     96\n",
       "Name: DEATH_EVENT, dtype: int64"
      ]
     },
     "execution_count": 8,
     "metadata": {},
     "output_type": "execute_result"
    }
   ],
   "source": [
    "df[\"DEATH_EVENT\"].value_counts()"
   ]
  },
  {
   "cell_type": "raw",
   "metadata": {},
   "source": [
    "## AutoML Configuration\n",
    "\n",
    "TODO: Explain why you chose the automl settings and cofiguration you used below.\n",
    "\n",
    "automl settings: experiment_timeout_minutes - maximum amount of time the experiment can take. I set 20 minutes to save time. \n",
    "max_concurrent_iterations - maximum number of parallel runs executed on a AmlCompute cluster. Because it should be less than or equal to the number of nodes (5) that I set when creating the compute cluster, it is set to 5. The primary metric is Under the Curve Weighted, **AUC_weighted**, to deal with class imbalance.\n",
    "\n",
    "AutoMLConfig: This is a binary classification task. \"dataset\" is what I have imported earlier from the registered dataset in Azure Workspace. The label inside the dataset I'm trying to predict is \"DEATH_EVENT\". To save time and resources, the enable_early_stopping parameter is set to True.\n",
    "\n"
   ]
  },
  {
   "cell_type": "code",
   "execution_count": 9,
   "metadata": {
    "gather": {
     "logged": 1611751227386
    },
    "jupyter": {
     "outputs_hidden": false,
     "source_hidden": false
    },
    "nteract": {
     "transient": {
      "deleting": false
     }
    }
   },
   "outputs": [],
   "source": [
    "# TODO: Put your automl settings here\n",
    "automl_settings = {\n",
    "    \"experiment_timeout_minutes\": 20,\n",
    "    \"max_concurrent_iterations\": 5,\n",
    "    \"primary_metric\" : 'AUC_weighted'\n",
    "}\n",
    "\n",
    "# TODO: Put your automl config here\n",
    "automl_config = AutoMLConfig(compute_target=cpu_cluster,\n",
    "                             task = \"classification\",\n",
    "                             training_data=dataset,\n",
    "                             label_column_name=\"DEATH_EVENT\",   \n",
    "                             enable_early_stopping= True,\n",
    "                             featurization= 'auto',\n",
    "                             debug_log = \"automl_errors.log\",\n",
    "                             **automl_settings\n",
    "                            )\n"
   ]
  },
  {
   "cell_type": "code",
   "execution_count": 10,
   "metadata": {
    "gather": {
     "logged": 1611751237386
    },
    "jupyter": {
     "outputs_hidden": false,
     "source_hidden": false
    },
    "nteract": {
     "transient": {
      "deleting": false
     }
    }
   },
   "outputs": [
    {
     "name": "stdout",
     "output_type": "stream",
     "text": [
      "Running on remote.\n"
     ]
    }
   ],
   "source": [
    "# TODO: Submit your experiment\n",
    "automl_run = experiment.submit(automl_config)"
   ]
  },
  {
   "cell_type": "markdown",
   "metadata": {},
   "source": [
    "## Run Details\n",
    "\n",
    "\n",
    "TODO: In the cell below, use the `RunDetails` widget to show the different experiments."
   ]
  },
  {
   "cell_type": "code",
   "execution_count": 11,
   "metadata": {
    "gather": {
     "logged": 1598431121770
    },
    "jupyter": {
     "outputs_hidden": false,
     "source_hidden": false
    },
    "nteract": {
     "transient": {
      "deleting": false
     }
    },
    "scrolled": false
   },
   "outputs": [
    {
     "data": {
      "application/vnd.jupyter.widget-view+json": {
       "model_id": "d5535121e37041cd8ae2f88b743c438b",
       "version_major": 2,
       "version_minor": 0
      },
      "text/plain": [
       "_AutoMLWidget(widget_settings={'childWidgetDisplay': 'popup', 'send_telemetry': False, 'log_level': 'INFO', 's…"
      ]
     },
     "metadata": {},
     "output_type": "display_data"
    },
    {
     "data": {
      "application/aml.mini.widget.v1": "{\"status\": \"Completed\", \"workbench_run_details_uri\": \"https://ml.azure.com/experiments/AutoML-Experiment/runs/AutoML_7d1e2152-412f-4c53-ac0c-3f4f05d0ed3f?wsid=/subscriptions/610d6e37-4747-4a20-80eb-3aad70a55f43/resourcegroups/aml-quickstarts-136370/workspaces/quick-starts-ws-136370\", \"run_id\": \"AutoML_7d1e2152-412f-4c53-ac0c-3f4f05d0ed3f\", \"run_properties\": {\"run_id\": \"AutoML_7d1e2152-412f-4c53-ac0c-3f4f05d0ed3f\", \"created_utc\": \"2021-01-28T10:18:05.574485Z\", \"properties\": {\"num_iterations\": \"1000\", \"training_type\": \"TrainFull\", \"acquisition_function\": \"EI\", \"primary_metric\": \"AUC_weighted\", \"train_split\": \"0\", \"acquisition_parameter\": \"0\", \"num_cross_validation\": null, \"target\": \"cpu-cluster\", \"AMLSettingsJsonString\": \"{\\\"path\\\":null,\\\"name\\\":\\\"AutoML-Experiment\\\",\\\"subscription_id\\\":\\\"610d6e37-4747-4a20-80eb-3aad70a55f43\\\",\\\"resource_group\\\":\\\"aml-quickstarts-136370\\\",\\\"workspace_name\\\":\\\"quick-starts-ws-136370\\\",\\\"region\\\":\\\"southcentralus\\\",\\\"compute_target\\\":\\\"cpu-cluster\\\",\\\"spark_service\\\":null,\\\"azure_service\\\":\\\"remote\\\",\\\"many_models\\\":false,\\\"pipeline_fetch_max_batch_size\\\":1,\\\"iterations\\\":1000,\\\"primary_metric\\\":\\\"AUC_weighted\\\",\\\"task_type\\\":\\\"classification\\\",\\\"data_script\\\":null,\\\"validation_size\\\":0.0,\\\"n_cross_validations\\\":null,\\\"y_min\\\":null,\\\"y_max\\\":null,\\\"num_classes\\\":null,\\\"featurization\\\":\\\"auto\\\",\\\"_ignore_package_version_incompatibilities\\\":false,\\\"is_timeseries\\\":false,\\\"max_cores_per_iteration\\\":1,\\\"max_concurrent_iterations\\\":5,\\\"iteration_timeout_minutes\\\":null,\\\"mem_in_mb\\\":null,\\\"enforce_time_on_windows\\\":false,\\\"experiment_timeout_minutes\\\":20,\\\"experiment_exit_score\\\":null,\\\"whitelist_models\\\":null,\\\"blacklist_algos\\\":[\\\"TensorFlowLinearClassifier\\\",\\\"TensorFlowDNN\\\"],\\\"supported_models\\\":[\\\"KNN\\\",\\\"SGD\\\",\\\"BernoulliNaiveBayes\\\",\\\"ExtremeRandomTrees\\\",\\\"TensorFlowDNN\\\",\\\"RandomForest\\\",\\\"LinearSVM\\\",\\\"LightGBM\\\",\\\"LogisticRegression\\\",\\\"XGBoostClassifier\\\",\\\"TensorFlowLinearClassifier\\\",\\\"DecisionTree\\\",\\\"AveragedPerceptronClassifier\\\",\\\"SVM\\\",\\\"MultinomialNaiveBayes\\\",\\\"GradientBoosting\\\"],\\\"auto_blacklist\\\":true,\\\"blacklist_samples_reached\\\":false,\\\"exclude_nan_labels\\\":true,\\\"verbosity\\\":20,\\\"_debug_log\\\":\\\"azureml_automl.log\\\",\\\"show_warnings\\\":false,\\\"model_explainability\\\":true,\\\"service_url\\\":null,\\\"sdk_url\\\":null,\\\"sdk_packages\\\":null,\\\"enable_onnx_compatible_models\\\":false,\\\"enable_split_onnx_featurizer_estimator_models\\\":false,\\\"vm_type\\\":\\\"STANDARD_DS12_V2\\\",\\\"telemetry_verbosity\\\":20,\\\"send_telemetry\\\":true,\\\"enable_dnn\\\":false,\\\"scenario\\\":\\\"SDK-1.13.0\\\",\\\"environment_label\\\":null,\\\"force_text_dnn\\\":false,\\\"enable_feature_sweeping\\\":true,\\\"enable_early_stopping\\\":true,\\\"early_stopping_n_iters\\\":10,\\\"metrics\\\":null,\\\"enable_ensembling\\\":true,\\\"enable_stack_ensembling\\\":true,\\\"ensemble_iterations\\\":15,\\\"enable_tf\\\":false,\\\"enable_subsampling\\\":null,\\\"subsample_seed\\\":null,\\\"enable_nimbusml\\\":false,\\\"enable_streaming\\\":false,\\\"force_streaming\\\":false,\\\"track_child_runs\\\":true,\\\"allowed_private_models\\\":[],\\\"label_column_name\\\":\\\"DEATH_EVENT\\\",\\\"weight_column_name\\\":null,\\\"cv_split_column_names\\\":null,\\\"enable_local_managed\\\":false,\\\"_local_managed_run_id\\\":null,\\\"cost_mode\\\":1,\\\"lag_length\\\":0,\\\"metric_operation\\\":\\\"maximize\\\",\\\"preprocess\\\":true}\", \"DataPrepJsonString\": \"{\\\\\\\"training_data\\\\\\\": \\\\\\\"{\\\\\\\\\\\\\\\"blocks\\\\\\\\\\\\\\\": [{\\\\\\\\\\\\\\\"id\\\\\\\\\\\\\\\": \\\\\\\\\\\\\\\"4aad7cb5-97de-4735-8a83-cff30cb333be\\\\\\\\\\\\\\\", \\\\\\\\\\\\\\\"type\\\\\\\\\\\\\\\": \\\\\\\\\\\\\\\"Microsoft.DPrep.GetDatastoreFilesBlock\\\\\\\\\\\\\\\", \\\\\\\\\\\\\\\"arguments\\\\\\\\\\\\\\\": {\\\\\\\\\\\\\\\"datastores\\\\\\\\\\\\\\\": [{\\\\\\\\\\\\\\\"datastoreName\\\\\\\\\\\\\\\": \\\\\\\\\\\\\\\"workspaceblobstore\\\\\\\\\\\\\\\", \\\\\\\\\\\\\\\"path\\\\\\\\\\\\\\\": \\\\\\\\\\\\\\\"UI/01-28-2021_101349_UTC/heart_failure_clinical_records_dataset.csv\\\\\\\\\\\\\\\", \\\\\\\\\\\\\\\"resourceGroup\\\\\\\\\\\\\\\": \\\\\\\\\\\\\\\"aml-quickstarts-136370\\\\\\\\\\\\\\\", \\\\\\\\\\\\\\\"subscription\\\\\\\\\\\\\\\": \\\\\\\\\\\\\\\"610d6e37-4747-4a20-80eb-3aad70a55f43\\\\\\\\\\\\\\\", \\\\\\\\\\\\\\\"workspaceName\\\\\\\\\\\\\\\": \\\\\\\\\\\\\\\"quick-starts-ws-136370\\\\\\\\\\\\\\\"}]}, \\\\\\\\\\\\\\\"localData\\\\\\\\\\\\\\\": {}, \\\\\\\\\\\\\\\"isEnabled\\\\\\\\\\\\\\\": true, \\\\\\\\\\\\\\\"name\\\\\\\\\\\\\\\": null, \\\\\\\\\\\\\\\"annotation\\\\\\\\\\\\\\\": null}, {\\\\\\\\\\\\\\\"id\\\\\\\\\\\\\\\": \\\\\\\\\\\\\\\"f12ed3b2-79a2-4327-941b-e3cfb681952e\\\\\\\\\\\\\\\", \\\\\\\\\\\\\\\"type\\\\\\\\\\\\\\\": \\\\\\\\\\\\\\\"Microsoft.DPrep.ParseDelimitedBlock\\\\\\\\\\\\\\\", \\\\\\\\\\\\\\\"arguments\\\\\\\\\\\\\\\": {\\\\\\\\\\\\\\\"columnHeadersMode\\\\\\\\\\\\\\\": 1, \\\\\\\\\\\\\\\"fileEncoding\\\\\\\\\\\\\\\": 0, \\\\\\\\\\\\\\\"handleQuotedLineBreaks\\\\\\\\\\\\\\\": false, \\\\\\\\\\\\\\\"preview\\\\\\\\\\\\\\\": false, \\\\\\\\\\\\\\\"separator\\\\\\\\\\\\\\\": \\\\\\\\\\\\\\\",\\\\\\\\\\\\\\\", \\\\\\\\\\\\\\\"skipRows\\\\\\\\\\\\\\\": 0, \\\\\\\\\\\\\\\"skipRowsMode\\\\\\\\\\\\\\\": 0}, \\\\\\\\\\\\\\\"localData\\\\\\\\\\\\\\\": {}, \\\\\\\\\\\\\\\"isEnabled\\\\\\\\\\\\\\\": true, \\\\\\\\\\\\\\\"name\\\\\\\\\\\\\\\": null, \\\\\\\\\\\\\\\"annotation\\\\\\\\\\\\\\\": null}, {\\\\\\\\\\\\\\\"id\\\\\\\\\\\\\\\": \\\\\\\\\\\\\\\"b55ba717-31cc-4f27-88ec-c83d3f267133\\\\\\\\\\\\\\\", \\\\\\\\\\\\\\\"type\\\\\\\\\\\\\\\": \\\\\\\\\\\\\\\"Microsoft.DPrep.DropColumnsBlock\\\\\\\\\\\\\\\", \\\\\\\\\\\\\\\"arguments\\\\\\\\\\\\\\\": {\\\\\\\\\\\\\\\"columns\\\\\\\\\\\\\\\": {\\\\\\\\\\\\\\\"type\\\\\\\\\\\\\\\": 0, \\\\\\\\\\\\\\\"details\\\\\\\\\\\\\\\": {\\\\\\\\\\\\\\\"selectedColumns\\\\\\\\\\\\\\\": [\\\\\\\\\\\\\\\"Path\\\\\\\\\\\\\\\"]}}}, \\\\\\\\\\\\\\\"localData\\\\\\\\\\\\\\\": {}, \\\\\\\\\\\\\\\"isEnabled\\\\\\\\\\\\\\\": true, \\\\\\\\\\\\\\\"name\\\\\\\\\\\\\\\": null, \\\\\\\\\\\\\\\"annotation\\\\\\\\\\\\\\\": null}, {\\\\\\\\\\\\\\\"id\\\\\\\\\\\\\\\": \\\\\\\\\\\\\\\"c1692109-26ed-4dcb-b7f4-d23b50fbf087\\\\\\\\\\\\\\\", \\\\\\\\\\\\\\\"type\\\\\\\\\\\\\\\": \\\\\\\\\\\\\\\"Microsoft.DPrep.SetColumnTypesBlock\\\\\\\\\\\\\\\", \\\\\\\\\\\\\\\"arguments\\\\\\\\\\\\\\\": {\\\\\\\\\\\\\\\"columnConversion\\\\\\\\\\\\\\\": [{\\\\\\\\\\\\\\\"column\\\\\\\\\\\\\\\": {\\\\\\\\\\\\\\\"type\\\\\\\\\\\\\\\": 2, \\\\\\\\\\\\\\\"details\\\\\\\\\\\\\\\": {\\\\\\\\\\\\\\\"selectedColumn\\\\\\\\\\\\\\\": \\\\\\\\\\\\\\\"Path\\\\\\\\\\\\\\\"}}, \\\\\\\\\\\\\\\"typeProperty\\\\\\\\\\\\\\\": 0}, {\\\\\\\\\\\\\\\"column\\\\\\\\\\\\\\\": {\\\\\\\\\\\\\\\"type\\\\\\\\\\\\\\\": 2, \\\\\\\\\\\\\\\"details\\\\\\\\\\\\\\\": {\\\\\\\\\\\\\\\"selectedColumn\\\\\\\\\\\\\\\": \\\\\\\\\\\\\\\"age\\\\\\\\\\\\\\\"}}, \\\\\\\\\\\\\\\"typeProperty\\\\\\\\\\\\\\\": 3}, {\\\\\\\\\\\\\\\"column\\\\\\\\\\\\\\\": {\\\\\\\\\\\\\\\"type\\\\\\\\\\\\\\\": 2, \\\\\\\\\\\\\\\"details\\\\\\\\\\\\\\\": {\\\\\\\\\\\\\\\"selectedColumn\\\\\\\\\\\\\\\": \\\\\\\\\\\\\\\"anaemia\\\\\\\\\\\\\\\"}}, \\\\\\\\\\\\\\\"typeProperty\\\\\\\\\\\\\\\": 2}, {\\\\\\\\\\\\\\\"column\\\\\\\\\\\\\\\": {\\\\\\\\\\\\\\\"type\\\\\\\\\\\\\\\": 2, \\\\\\\\\\\\\\\"details\\\\\\\\\\\\\\\": {\\\\\\\\\\\\\\\"selectedColumn\\\\\\\\\\\\\\\": \\\\\\\\\\\\\\\"creatinine_phosphokinase\\\\\\\\\\\\\\\"}}, \\\\\\\\\\\\\\\"typeProperty\\\\\\\\\\\\\\\": 2}, {\\\\\\\\\\\\\\\"column\\\\\\\\\\\\\\\": {\\\\\\\\\\\\\\\"type\\\\\\\\\\\\\\\": 2, \\\\\\\\\\\\\\\"details\\\\\\\\\\\\\\\": {\\\\\\\\\\\\\\\"selectedColumn\\\\\\\\\\\\\\\": \\\\\\\\\\\\\\\"diabetes\\\\\\\\\\\\\\\"}}, \\\\\\\\\\\\\\\"typeProperty\\\\\\\\\\\\\\\": 2}, {\\\\\\\\\\\\\\\"column\\\\\\\\\\\\\\\": {\\\\\\\\\\\\\\\"type\\\\\\\\\\\\\\\": 2, \\\\\\\\\\\\\\\"details\\\\\\\\\\\\\\\": {\\\\\\\\\\\\\\\"selectedColumn\\\\\\\\\\\\\\\": \\\\\\\\\\\\\\\"ejection_fraction\\\\\\\\\\\\\\\"}}, \\\\\\\\\\\\\\\"typeProperty\\\\\\\\\\\\\\\": 2}, {\\\\\\\\\\\\\\\"column\\\\\\\\\\\\\\\": {\\\\\\\\\\\\\\\"type\\\\\\\\\\\\\\\": 2, \\\\\\\\\\\\\\\"details\\\\\\\\\\\\\\\": {\\\\\\\\\\\\\\\"selectedColumn\\\\\\\\\\\\\\\": \\\\\\\\\\\\\\\"high_blood_pressure\\\\\\\\\\\\\\\"}}, \\\\\\\\\\\\\\\"typeProperty\\\\\\\\\\\\\\\": 2}, {\\\\\\\\\\\\\\\"column\\\\\\\\\\\\\\\": {\\\\\\\\\\\\\\\"type\\\\\\\\\\\\\\\": 2, \\\\\\\\\\\\\\\"details\\\\\\\\\\\\\\\": {\\\\\\\\\\\\\\\"selectedColumn\\\\\\\\\\\\\\\": \\\\\\\\\\\\\\\"platelets\\\\\\\\\\\\\\\"}}, \\\\\\\\\\\\\\\"typeProperty\\\\\\\\\\\\\\\": 3}, {\\\\\\\\\\\\\\\"column\\\\\\\\\\\\\\\": {\\\\\\\\\\\\\\\"type\\\\\\\\\\\\\\\": 2, \\\\\\\\\\\\\\\"details\\\\\\\\\\\\\\\": {\\\\\\\\\\\\\\\"selectedColumn\\\\\\\\\\\\\\\": \\\\\\\\\\\\\\\"serum_creatinine\\\\\\\\\\\\\\\"}}, \\\\\\\\\\\\\\\"typeProperty\\\\\\\\\\\\\\\": 3}, {\\\\\\\\\\\\\\\"column\\\\\\\\\\\\\\\": {\\\\\\\\\\\\\\\"type\\\\\\\\\\\\\\\": 2, \\\\\\\\\\\\\\\"details\\\\\\\\\\\\\\\": {\\\\\\\\\\\\\\\"selectedColumn\\\\\\\\\\\\\\\": \\\\\\\\\\\\\\\"serum_sodium\\\\\\\\\\\\\\\"}}, \\\\\\\\\\\\\\\"typeProperty\\\\\\\\\\\\\\\": 2}, {\\\\\\\\\\\\\\\"column\\\\\\\\\\\\\\\": {\\\\\\\\\\\\\\\"type\\\\\\\\\\\\\\\": 2, \\\\\\\\\\\\\\\"details\\\\\\\\\\\\\\\": {\\\\\\\\\\\\\\\"selectedColumn\\\\\\\\\\\\\\\": \\\\\\\\\\\\\\\"sex\\\\\\\\\\\\\\\"}}, \\\\\\\\\\\\\\\"typeProperty\\\\\\\\\\\\\\\": 2}, {\\\\\\\\\\\\\\\"column\\\\\\\\\\\\\\\": {\\\\\\\\\\\\\\\"type\\\\\\\\\\\\\\\": 2, \\\\\\\\\\\\\\\"details\\\\\\\\\\\\\\\": {\\\\\\\\\\\\\\\"selectedColumn\\\\\\\\\\\\\\\": \\\\\\\\\\\\\\\"smoking\\\\\\\\\\\\\\\"}}, \\\\\\\\\\\\\\\"typeProperty\\\\\\\\\\\\\\\": 2}, {\\\\\\\\\\\\\\\"column\\\\\\\\\\\\\\\": {\\\\\\\\\\\\\\\"type\\\\\\\\\\\\\\\": 2, \\\\\\\\\\\\\\\"details\\\\\\\\\\\\\\\": {\\\\\\\\\\\\\\\"selectedColumn\\\\\\\\\\\\\\\": \\\\\\\\\\\\\\\"time\\\\\\\\\\\\\\\"}}, \\\\\\\\\\\\\\\"typeProperty\\\\\\\\\\\\\\\": 2}, {\\\\\\\\\\\\\\\"column\\\\\\\\\\\\\\\": {\\\\\\\\\\\\\\\"type\\\\\\\\\\\\\\\": 2, \\\\\\\\\\\\\\\"details\\\\\\\\\\\\\\\": {\\\\\\\\\\\\\\\"selectedColumn\\\\\\\\\\\\\\\": \\\\\\\\\\\\\\\"DEATH_EVENT\\\\\\\\\\\\\\\"}}, \\\\\\\\\\\\\\\"typeProperty\\\\\\\\\\\\\\\": 2}]}, \\\\\\\\\\\\\\\"localData\\\\\\\\\\\\\\\": {}, \\\\\\\\\\\\\\\"isEnabled\\\\\\\\\\\\\\\": true, \\\\\\\\\\\\\\\"name\\\\\\\\\\\\\\\": null, \\\\\\\\\\\\\\\"annotation\\\\\\\\\\\\\\\": null}], \\\\\\\\\\\\\\\"inspectors\\\\\\\\\\\\\\\": [], \\\\\\\\\\\\\\\"meta\\\\\\\\\\\\\\\": {\\\\\\\\\\\\\\\"savedDatasetId\\\\\\\\\\\\\\\": \\\\\\\\\\\\\\\"65c9bd2c-5422-4f2d-b0a0-4e348f4a00a6\\\\\\\\\\\\\\\", \\\\\\\\\\\\\\\"datasetType\\\\\\\\\\\\\\\": \\\\\\\\\\\\\\\"tabular\\\\\\\\\\\\\\\", \\\\\\\\\\\\\\\"subscriptionId\\\\\\\\\\\\\\\": \\\\\\\\\\\\\\\"610d6e37-4747-4a20-80eb-3aad70a55f43\\\\\\\\\\\\\\\", \\\\\\\\\\\\\\\"workspaceId\\\\\\\\\\\\\\\": \\\\\\\\\\\\\\\"0603cacd-afc3-464f-9797-1058279d533d\\\\\\\\\\\\\\\", \\\\\\\\\\\\\\\"workspaceLocation\\\\\\\\\\\\\\\": \\\\\\\\\\\\\\\"southcentralus\\\\\\\\\\\\\\\"}}\\\\\\\", \\\\\\\"activities\\\\\\\": 0}\", \"EnableSubsampling\": null, \"runTemplate\": \"AutoML\", \"azureml.runsource\": \"automl\", \"display_task_type\": \"classification\", \"dependencies_versions\": \"{\\\"azureml-widgets\\\": \\\"1.20.0\\\", \\\"azureml-train\\\": \\\"1.20.0\\\", \\\"azureml-train-restclients-hyperdrive\\\": \\\"1.20.0\\\", \\\"azureml-train-core\\\": \\\"1.20.0\\\", \\\"azureml-train-automl\\\": \\\"1.20.0\\\", \\\"azureml-train-automl-runtime\\\": \\\"1.20.0\\\", \\\"azureml-train-automl-client\\\": \\\"1.20.0\\\", \\\"azureml-tensorboard\\\": \\\"1.20.0\\\", \\\"azureml-telemetry\\\": \\\"1.20.0\\\", \\\"azureml-sdk\\\": \\\"1.20.0\\\", \\\"azureml-samples\\\": \\\"0+unknown\\\", \\\"azureml-pipeline\\\": \\\"1.20.0\\\", \\\"azureml-pipeline-steps\\\": \\\"1.20.0\\\", \\\"azureml-pipeline-core\\\": \\\"1.20.0\\\", \\\"azureml-opendatasets\\\": \\\"1.20.0\\\", \\\"azureml-model-management-sdk\\\": \\\"1.0.1b6.post1\\\", \\\"azureml-mlflow\\\": \\\"1.20.0.post1\\\", \\\"azureml-interpret\\\": \\\"1.20.0\\\", \\\"azureml-explain-model\\\": \\\"1.20.0\\\", \\\"azureml-defaults\\\": \\\"1.20.0\\\", \\\"azureml-dataset-runtime\\\": \\\"1.20.0\\\", \\\"azureml-dataprep\\\": \\\"2.7.3\\\", \\\"azureml-dataprep-rslex\\\": \\\"1.5.0\\\", \\\"azureml-dataprep-native\\\": \\\"27.0.0\\\", \\\"azureml-datadrift\\\": \\\"1.20.0\\\", \\\"azureml-core\\\": \\\"1.20.0\\\", \\\"azureml-contrib-services\\\": \\\"1.20.0\\\", \\\"azureml-contrib-server\\\": \\\"1.20.0\\\", \\\"azureml-contrib-reinforcementlearning\\\": \\\"1.20.0\\\", \\\"azureml-contrib-pipeline-steps\\\": \\\"1.20.0\\\", \\\"azureml-contrib-notebook\\\": \\\"1.20.0\\\", \\\"azureml-contrib-interpret\\\": \\\"1.20.0\\\", \\\"azureml-contrib-gbdt\\\": \\\"1.20.0\\\", \\\"azureml-contrib-fairness\\\": \\\"1.20.0\\\", \\\"azureml-contrib-dataset\\\": \\\"1.20.0\\\", \\\"azureml-cli-common\\\": \\\"1.20.0\\\", \\\"azureml-automl-runtime\\\": \\\"1.20.0\\\", \\\"azureml-automl-core\\\": \\\"1.20.0\\\", \\\"azureml-accel-models\\\": \\\"1.20.0\\\"}\", \"_aml_system_scenario_identification\": \"Remote.Parent\", \"ClientType\": \"SDK\", \"environment_cpu_name\": \"AzureML-AutoML\", \"environment_cpu_label\": \"prod\", \"environment_gpu_name\": \"AzureML-AutoML-GPU\", \"environment_gpu_label\": \"prod\", \"root_attribution\": \"automl\", \"attribution\": \"AutoML\", \"Orchestrator\": \"AutoML\", \"CancelUri\": \"https://southcentralus.experiments.azureml.net/jasmine/v1.0/subscriptions/610d6e37-4747-4a20-80eb-3aad70a55f43/resourceGroups/aml-quickstarts-136370/providers/Microsoft.MachineLearningServices/workspaces/quick-starts-ws-136370/experimentids/6abc708a-a683-4c0c-abb9-7136fe7f5539/cancel/AutoML_7d1e2152-412f-4c53-ac0c-3f4f05d0ed3f\", \"ClientSdkVersion\": \"1.20.0.post1\", \"snapshotId\": \"00000000-0000-0000-0000-000000000000\", \"SetupRunId\": \"AutoML_7d1e2152-412f-4c53-ac0c-3f4f05d0ed3f_setup\", \"SetupRunContainerId\": \"dcid.AutoML_7d1e2152-412f-4c53-ac0c-3f4f05d0ed3f_setup\", \"FeaturizationRunJsonPath\": \"featurizer_container.json\", \"FeaturizationRunId\": \"AutoML_7d1e2152-412f-4c53-ac0c-3f4f05d0ed3f_featurize\", \"ProblemInfoJsonString\": \"{\\\"dataset_num_categorical\\\": 0, \\\"is_sparse\\\": false, \\\"subsampling\\\": false, \\\"dataset_classes\\\": 2, \\\"dataset_features\\\": 12, \\\"dataset_samples\\\": 299, \\\"single_frequency_class_detected\\\": false}\", \"ModelExplainRunId\": \"AutoML_7d1e2152-412f-4c53-ac0c-3f4f05d0ed3f_ModelExplain\"}, \"tags\": {\"model_explain_run\": \"best_run\", \"_aml_system_azureml.automlComponent\": \"AutoML\", \"pipeline_id\": \"\", \"score\": \"\", \"predicted_cost\": \"\", \"fit_time\": \"\", \"training_percent\": \"\", \"iteration\": \"\", \"run_preprocessor\": \"\", \"run_algorithm\": \"\", \"dynamic_whitelisting_iterations\": \"<25>;<30>;<35>;<40>;\", \"automl_best_child_run_id\": \"AutoML_7d1e2152-412f-4c53-ac0c-3f4f05d0ed3f_41\", \"model_explain_best_run_child_id\": \"AutoML_7d1e2152-412f-4c53-ac0c-3f4f05d0ed3f_41\"}, \"end_time_utc\": \"2021-01-28T10:35:27.838901Z\", \"status\": \"Completed\", \"log_files\": {}, \"log_groups\": [], \"run_duration\": \"0:17:22\"}, \"child_runs\": [{\"run_id\": \"AutoML_7d1e2152-412f-4c53-ac0c-3f4f05d0ed3f_0\", \"run_number\": 5, \"metric\": null, \"status\": \"Completed\", \"run_type\": \"azureml.scriptrun\", \"training_percent\": \"100\", \"start_time\": \"2021-01-28T10:22:44.625033Z\", \"end_time\": \"2021-01-28T10:23:36.359336Z\", \"created_time\": \"2021-01-28T10:22:31.555535Z\", \"created_time_dt\": \"2021-01-28T10:22:31.555535Z\", \"duration\": \"0:01:04\", \"iteration\": \"0\", \"goal\": \"AUC_weighted_max\", \"run_name\": \"MaxAbsScaler, LightGBM\", \"run_properties\": \"copy=True\", \"primary_metric\": 0.88409554, \"best_metric\": 0.88409554}, {\"run_id\": \"AutoML_7d1e2152-412f-4c53-ac0c-3f4f05d0ed3f_2\", \"run_number\": 6, \"metric\": null, \"status\": \"Completed\", \"run_type\": \"azureml.scriptrun\", \"training_percent\": \"100\", \"start_time\": \"2021-01-28T10:22:43.792537Z\", \"end_time\": \"2021-01-28T10:23:31.46163Z\", \"created_time\": \"2021-01-28T10:22:31.680462Z\", \"created_time_dt\": \"2021-01-28T10:22:31.680462Z\", \"duration\": \"0:00:59\", \"iteration\": \"2\", \"goal\": \"AUC_weighted_max\", \"run_name\": \"MinMaxScaler, RandomForest\", \"run_properties\": \"copy=True, feature_range=(0, 1\", \"primary_metric\": 0.89256291, \"best_metric\": 0.89256291}, {\"run_id\": \"AutoML_7d1e2152-412f-4c53-ac0c-3f4f05d0ed3f_4\", \"run_number\": 7, \"metric\": null, \"status\": \"Completed\", \"run_type\": \"azureml.scriptrun\", \"training_percent\": \"100\", \"start_time\": \"2021-01-28T10:22:44.437781Z\", \"end_time\": \"2021-01-28T10:23:35.005682Z\", \"created_time\": \"2021-01-28T10:22:31.685714Z\", \"created_time_dt\": \"2021-01-28T10:22:31.685714Z\", \"duration\": \"0:01:03\", \"iteration\": \"4\", \"goal\": \"AUC_weighted_max\", \"run_name\": \"MinMaxScaler, RandomForest\", \"run_properties\": \"copy=True, feature_range=(0, 1\", \"primary_metric\": 0.90081214, \"best_metric\": 0.90081214}, {\"run_id\": \"AutoML_7d1e2152-412f-4c53-ac0c-3f4f05d0ed3f_1\", \"run_number\": 8, \"metric\": null, \"status\": \"Completed\", \"run_type\": \"azureml.scriptrun\", \"training_percent\": \"100\", \"start_time\": \"2021-01-28T10:22:43.534848Z\", \"end_time\": \"2021-01-28T10:23:46.075486Z\", \"created_time\": \"2021-01-28T10:22:31.729187Z\", \"created_time_dt\": \"2021-01-28T10:22:31.729187Z\", \"duration\": \"0:01:14\", \"iteration\": \"1\", \"goal\": \"AUC_weighted_max\", \"run_name\": \"MaxAbsScaler, XGBoostClassifier\", \"run_properties\": \"copy=True\", \"primary_metric\": 0.88473694, \"best_metric\": 0.88473694}, {\"run_id\": \"AutoML_7d1e2152-412f-4c53-ac0c-3f4f05d0ed3f_3\", \"run_number\": 9, \"metric\": null, \"status\": \"Completed\", \"run_type\": \"azureml.scriptrun\", \"training_percent\": \"100\", \"start_time\": \"2021-01-28T10:22:45.800903Z\", \"end_time\": \"2021-01-28T10:23:35.343649Z\", \"created_time\": \"2021-01-28T10:22:31.715817Z\", \"created_time_dt\": \"2021-01-28T10:22:31.715817Z\", \"duration\": \"0:01:03\", \"iteration\": \"3\", \"goal\": \"AUC_weighted_max\", \"run_name\": \"RobustScaler, ExtremeRandomTrees\", \"run_properties\": \"copy=True, quantile_range=[10, 90], with_centering=False,\\n             with_scaling=False\", \"primary_metric\": 0.87869561, \"best_metric\": 0.89256291}, {\"run_id\": \"AutoML_7d1e2152-412f-4c53-ac0c-3f4f05d0ed3f_5\", \"run_number\": 10, \"metric\": null, \"status\": \"Completed\", \"run_type\": \"azureml.scriptrun\", \"training_percent\": \"100\", \"start_time\": \"2021-01-28T10:23:53.675721Z\", \"end_time\": \"2021-01-28T10:24:51.950898Z\", \"created_time\": \"2021-01-28T10:23:35.354105Z\", \"created_time_dt\": \"2021-01-28T10:23:35.354105Z\", \"duration\": \"0:01:16\", \"iteration\": \"5\", \"goal\": \"AUC_weighted_max\", \"run_name\": \"MinMaxScaler, RandomForest\", \"run_properties\": \"copy=True, feature_range=(0, 1\", \"primary_metric\": 0.89329418, \"best_metric\": 0.90081214}, {\"run_id\": \"AutoML_7d1e2152-412f-4c53-ac0c-3f4f05d0ed3f_6\", \"run_number\": 11, \"metric\": null, \"status\": \"Completed\", \"run_type\": \"azureml.scriptrun\", \"training_percent\": \"100\", \"start_time\": \"2021-01-28T10:23:54.519714Z\", \"end_time\": \"2021-01-28T10:24:42.841578Z\", \"created_time\": \"2021-01-28T10:23:41.41544Z\", \"created_time_dt\": \"2021-01-28T10:23:41.41544Z\", \"duration\": \"0:01:01\", \"iteration\": \"6\", \"goal\": \"AUC_weighted_max\", \"run_name\": \"StandardScalerWrapper, RandomForest\", \"run_properties\": \"<azureml.automl.runtime.shared.model_wrappers.StandardScalerWrapper object at 0x7fbfbc576390\", \"primary_metric\": 0.89485569, \"best_metric\": 0.90081214}, {\"run_id\": \"AutoML_7d1e2152-412f-4c53-ac0c-3f4f05d0ed3f_8\", \"run_number\": 12, \"metric\": null, \"status\": \"Completed\", \"run_type\": \"azureml.scriptrun\", \"training_percent\": \"100\", \"start_time\": \"2021-01-28T10:23:52.804609Z\", \"end_time\": \"2021-01-28T10:24:44.705245Z\", \"created_time\": \"2021-01-28T10:23:41.42446Z\", \"created_time_dt\": \"2021-01-28T10:23:41.42446Z\", \"duration\": \"0:01:03\", \"iteration\": \"8\", \"goal\": \"AUC_weighted_max\", \"run_name\": \"MinMaxScaler, ExtremeRandomTrees\", \"run_properties\": \"copy=True, feature_range=(0, 1\", \"primary_metric\": 0.88282442, \"best_metric\": 0.90081214}, {\"run_id\": \"AutoML_7d1e2152-412f-4c53-ac0c-3f4f05d0ed3f_7\", \"run_number\": 13, \"metric\": null, \"status\": \"Completed\", \"run_type\": \"azureml.scriptrun\", \"training_percent\": \"100\", \"start_time\": \"2021-01-28T10:23:53.743746Z\", \"end_time\": \"2021-01-28T10:24:45.256869Z\", \"created_time\": \"2021-01-28T10:23:41.429939Z\", \"created_time_dt\": \"2021-01-28T10:23:41.429939Z\", \"duration\": \"0:01:03\", \"iteration\": \"7\", \"goal\": \"AUC_weighted_max\", \"run_name\": \"MinMaxScaler, ExtremeRandomTrees\", \"run_properties\": \"copy=True, feature_range=(0, 1\", \"primary_metric\": 0.89925595, \"best_metric\": 0.90081214}, {\"run_id\": \"AutoML_7d1e2152-412f-4c53-ac0c-3f4f05d0ed3f_9\", \"run_number\": 14, \"metric\": null, \"status\": \"Completed\", \"run_type\": \"azureml.scriptrun\", \"training_percent\": \"100\", \"start_time\": \"2021-01-28T10:24:02.987499Z\", \"end_time\": \"2021-01-28T10:24:55.263223Z\", \"created_time\": \"2021-01-28T10:23:49.561438Z\", \"created_time_dt\": \"2021-01-28T10:23:49.561438Z\", \"duration\": \"0:01:05\", \"iteration\": \"9\", \"goal\": \"AUC_weighted_max\", \"run_name\": \"SparseNormalizer, KNN\", \"run_properties\": \"<azureml.automl.runtime.shared.model_wrappers.SparseNormalizer object at 0x7f8fa19aeba8\", \"primary_metric\": 0.7496161, \"best_metric\": 0.90081214}, {\"run_id\": \"AutoML_7d1e2152-412f-4c53-ac0c-3f4f05d0ed3f_10\", \"run_number\": 15, \"metric\": null, \"status\": \"Completed\", \"run_type\": \"azureml.scriptrun\", \"training_percent\": \"100\", \"start_time\": \"2021-01-28T10:25:02.233369Z\", \"end_time\": \"2021-01-28T10:25:57.244823Z\", \"created_time\": \"2021-01-28T10:24:46.328424Z\", \"created_time_dt\": \"2021-01-28T10:24:46.328424Z\", \"duration\": \"0:01:10\", \"iteration\": \"10\", \"goal\": \"AUC_weighted_max\", \"run_name\": \"MinMaxScaler, ExtremeRandomTrees\", \"run_properties\": \"copy=True, feature_range=(0, 1\", \"primary_metric\": 0.87998381, \"best_metric\": 0.90081214}, {\"run_id\": \"AutoML_7d1e2152-412f-4c53-ac0c-3f4f05d0ed3f_11\", \"run_number\": 16, \"metric\": null, \"status\": \"Completed\", \"run_type\": \"azureml.scriptrun\", \"training_percent\": \"100\", \"start_time\": \"2021-01-28T10:25:03.482092Z\", \"end_time\": \"2021-01-28T10:25:53.959152Z\", \"created_time\": \"2021-01-28T10:24:51.801677Z\", \"created_time_dt\": \"2021-01-28T10:24:51.801677Z\", \"duration\": \"0:01:02\", \"iteration\": \"11\", \"goal\": \"AUC_weighted_max\", \"run_name\": \"RobustScaler, ExtremeRandomTrees\", \"run_properties\": \"copy=True, quantile_range=[10, 90], with_centering=True,\\n             with_scaling=False\", \"primary_metric\": 0.88603007, \"best_metric\": 0.90081214}, {\"run_id\": \"AutoML_7d1e2152-412f-4c53-ac0c-3f4f05d0ed3f_12\", \"run_number\": 17, \"metric\": null, \"status\": \"Completed\", \"run_type\": \"azureml.scriptrun\", \"training_percent\": \"100\", \"start_time\": \"2021-01-28T10:25:05.353566Z\", \"end_time\": \"2021-01-28T10:25:56.047509Z\", \"created_time\": \"2021-01-28T10:24:51.80697Z\", \"created_time_dt\": \"2021-01-28T10:24:51.80697Z\", \"duration\": \"0:01:04\", \"iteration\": \"12\", \"goal\": \"AUC_weighted_max\", \"run_name\": \"StandardScalerWrapper, RandomForest\", \"run_properties\": \"<azureml.automl.runtime.shared.model_wrappers.StandardScalerWrapper object at 0x7f88c5b15cc0\", \"primary_metric\": 0.90193196, \"best_metric\": 0.90193196}, {\"run_id\": \"AutoML_7d1e2152-412f-4c53-ac0c-3f4f05d0ed3f_14\", \"run_number\": 18, \"metric\": null, \"status\": \"Completed\", \"run_type\": \"azureml.scriptrun\", \"training_percent\": \"100\", \"start_time\": \"2021-01-28T10:25:10.613302Z\", \"end_time\": \"2021-01-28T10:25:59.890568Z\", \"created_time\": \"2021-01-28T10:24:58.265966Z\", \"created_time_dt\": \"2021-01-28T10:24:58.265966Z\", \"duration\": \"0:01:01\", \"iteration\": \"14\", \"goal\": \"AUC_weighted_max\", \"run_name\": \"RobustScaler, RandomForest\", \"run_properties\": \"copy=True, quantile_range=[10, 90], with_centering=True,\\n             with_scaling=False\", \"primary_metric\": 0.86844003, \"best_metric\": 0.90193196}, {\"run_id\": \"AutoML_7d1e2152-412f-4c53-ac0c-3f4f05d0ed3f_13\", \"run_number\": 19, \"metric\": null, \"status\": \"Completed\", \"run_type\": \"azureml.scriptrun\", \"training_percent\": \"100\", \"start_time\": \"2021-01-28T10:25:10.459814Z\", \"end_time\": \"2021-01-28T10:26:00.863811Z\", \"created_time\": \"2021-01-28T10:24:58.263976Z\", \"created_time_dt\": \"2021-01-28T10:24:58.263976Z\", \"duration\": \"0:01:02\", \"iteration\": \"13\", \"goal\": \"AUC_weighted_max\", \"run_name\": \"StandardScalerWrapper, SGD\", \"run_properties\": \"<azureml.automl.runtime.shared.model_wrappers.StandardScalerWrapper object at 0x7fda618e3550\", \"primary_metric\": 0.86655186, \"best_metric\": 0.90193196}, {\"run_id\": \"AutoML_7d1e2152-412f-4c53-ac0c-3f4f05d0ed3f_15\", \"run_number\": 20, \"metric\": null, \"status\": \"Completed\", \"run_type\": \"azureml.scriptrun\", \"training_percent\": \"100\", \"start_time\": \"2021-01-28T10:26:12.362425Z\", \"end_time\": \"2021-01-28T10:27:07.251233Z\", \"created_time\": \"2021-01-28T10:25:57.236939Z\", \"created_time_dt\": \"2021-01-28T10:25:57.236939Z\", \"duration\": \"0:01:10\", \"iteration\": \"15\", \"goal\": \"AUC_weighted_max\", \"run_name\": \"StandardScalerWrapper, KNN\", \"run_properties\": \"<azureml.automl.runtime.shared.model_wrappers.StandardScalerWrapper object at 0x7f193e2b3b38\", \"primary_metric\": 0.52030533, \"best_metric\": 0.90193196}, {\"run_id\": \"AutoML_7d1e2152-412f-4c53-ac0c-3f4f05d0ed3f_16\", \"run_number\": 21, \"metric\": null, \"status\": \"Completed\", \"run_type\": \"azureml.scriptrun\", \"training_percent\": \"100\", \"start_time\": \"2021-01-28T10:26:14.624846Z\", \"end_time\": \"2021-01-28T10:27:03.20509Z\", \"created_time\": \"2021-01-28T10:26:02.139576Z\", \"created_time_dt\": \"2021-01-28T10:26:02.139576Z\", \"duration\": \"0:01:01\", \"iteration\": \"16\", \"goal\": \"AUC_weighted_max\", \"run_name\": \"MinMaxScaler, RandomForest\", \"run_properties\": \"copy=True, feature_range=(0, 1\", \"primary_metric\": 0.90064574, \"best_metric\": 0.90193196}, {\"run_id\": \"AutoML_7d1e2152-412f-4c53-ac0c-3f4f05d0ed3f_17\", \"run_number\": 22, \"metric\": null, \"status\": \"Completed\", \"run_type\": \"azureml.scriptrun\", \"training_percent\": \"100\", \"start_time\": \"2021-01-28T10:26:12.653277Z\", \"end_time\": \"2021-01-28T10:27:11.89901Z\", \"created_time\": \"2021-01-28T10:26:02.148825Z\", \"created_time_dt\": \"2021-01-28T10:26:02.148825Z\", \"duration\": \"0:01:09\", \"iteration\": \"17\", \"goal\": \"AUC_weighted_max\", \"run_name\": \"MinMaxScaler, ExtremeRandomTrees\", \"run_properties\": \"copy=True, feature_range=(0, 1\", \"primary_metric\": 0.82659608, \"best_metric\": 0.90193196}, {\"run_id\": \"AutoML_7d1e2152-412f-4c53-ac0c-3f4f05d0ed3f_18\", \"run_number\": 23, \"metric\": null, \"status\": \"Completed\", \"run_type\": \"azureml.scriptrun\", \"training_percent\": \"100\", \"start_time\": \"2021-01-28T10:26:19.111144Z\", \"end_time\": \"2021-01-28T10:27:06.609836Z\", \"created_time\": \"2021-01-28T10:26:07.945473Z\", \"created_time_dt\": \"2021-01-28T10:26:07.945473Z\", \"duration\": \"0:00:58\", \"iteration\": \"18\", \"goal\": \"AUC_weighted_max\", \"run_name\": \"MaxAbsScaler, RandomForest\", \"run_properties\": \"copy=True\", \"primary_metric\": 0.88855343, \"best_metric\": 0.90193196}, {\"run_id\": \"AutoML_7d1e2152-412f-4c53-ac0c-3f4f05d0ed3f_19\", \"run_number\": 24, \"metric\": null, \"status\": \"Completed\", \"run_type\": \"azureml.scriptrun\", \"training_percent\": \"100\", \"start_time\": \"2021-01-28T10:26:20.021462Z\", \"end_time\": \"2021-01-28T10:27:05.563553Z\", \"created_time\": \"2021-01-28T10:26:07.951248Z\", \"created_time_dt\": \"2021-01-28T10:26:07.951248Z\", \"duration\": \"0:00:57\", \"iteration\": \"19\", \"goal\": \"AUC_weighted_max\", \"run_name\": \"StandardScalerWrapper, XGBoostClassifier\", \"run_properties\": \"<azureml.automl.runtime.shared.model_wrappers.StandardScalerWrapper object at 0x7f22a6e68cc0\", \"primary_metric\": 0.90890998, \"best_metric\": 0.90890998}, {\"run_id\": \"AutoML_7d1e2152-412f-4c53-ac0c-3f4f05d0ed3f_20\", \"run_number\": 25, \"metric\": null, \"status\": \"Completed\", \"run_type\": \"azureml.scriptrun\", \"training_percent\": \"100\", \"start_time\": \"2021-01-28T10:27:22.1598Z\", \"end_time\": \"2021-01-28T10:28:11.686272Z\", \"created_time\": \"2021-01-28T10:27:06.649495Z\", \"created_time_dt\": \"2021-01-28T10:27:06.649495Z\", \"duration\": \"0:01:05\", \"iteration\": \"20\", \"goal\": \"AUC_weighted_max\", \"run_name\": \"MaxAbsScaler, RandomForest\", \"run_properties\": \"copy=True\", \"primary_metric\": 0.88961682, \"best_metric\": 0.90890998}, {\"run_id\": \"AutoML_7d1e2152-412f-4c53-ac0c-3f4f05d0ed3f_21\", \"run_number\": 26, \"metric\": null, \"status\": \"Completed\", \"run_type\": \"azureml.scriptrun\", \"training_percent\": \"100\", \"start_time\": \"2021-01-28T10:27:24.721717Z\", \"end_time\": \"2021-01-28T10:28:16.611436Z\", \"created_time\": \"2021-01-28T10:27:12.28347Z\", \"created_time_dt\": \"2021-01-28T10:27:12.28347Z\", \"duration\": \"0:01:04\", \"iteration\": \"21\", \"goal\": \"AUC_weighted_max\", \"run_name\": \"MaxAbsScaler, ExtremeRandomTrees\", \"run_properties\": \"copy=True\", \"primary_metric\": 0.8811318, \"best_metric\": 0.90890998}, {\"run_id\": \"AutoML_7d1e2152-412f-4c53-ac0c-3f4f05d0ed3f_23\", \"run_number\": 27, \"metric\": null, \"status\": \"Completed\", \"run_type\": \"azureml.scriptrun\", \"training_percent\": \"100\", \"start_time\": \"2021-01-28T10:27:24.87347Z\", \"end_time\": \"2021-01-28T10:28:15.571702Z\", \"created_time\": \"2021-01-28T10:27:12.398706Z\", \"created_time_dt\": \"2021-01-28T10:27:12.398706Z\", \"duration\": \"0:01:03\", \"iteration\": \"23\", \"goal\": \"AUC_weighted_max\", \"run_name\": \"MinMaxScaler, ExtremeRandomTrees\", \"run_properties\": \"copy=True, feature_range=(0, 1\", \"primary_metric\": 0.91589284, \"best_metric\": 0.91589284}, {\"run_id\": \"AutoML_7d1e2152-412f-4c53-ac0c-3f4f05d0ed3f_22\", \"run_number\": 28, \"metric\": null, \"status\": \"Completed\", \"run_type\": \"azureml.scriptrun\", \"training_percent\": \"100\", \"start_time\": \"2021-01-28T10:27:24.632991Z\", \"end_time\": \"2021-01-28T10:28:16.110397Z\", \"created_time\": \"2021-01-28T10:27:12.549951Z\", \"created_time_dt\": \"2021-01-28T10:27:12.549951Z\", \"duration\": \"0:01:03\", \"iteration\": \"22\", \"goal\": \"AUC_weighted_max\", \"run_name\": \"MaxAbsScaler, ExtremeRandomTrees\", \"run_properties\": \"copy=True\", \"primary_metric\": 0.87693362, \"best_metric\": 0.90890998}, {\"run_id\": \"AutoML_7d1e2152-412f-4c53-ac0c-3f4f05d0ed3f_24\", \"run_number\": 29, \"metric\": null, \"status\": \"Completed\", \"run_type\": \"azureml.scriptrun\", \"training_percent\": \"100\", \"start_time\": \"2021-01-28T10:27:30.937986Z\", \"end_time\": \"2021-01-28T10:28:25.555803Z\", \"created_time\": \"2021-01-28T10:27:18.061883Z\", \"created_time_dt\": \"2021-01-28T10:27:18.061883Z\", \"duration\": \"0:01:07\", \"iteration\": \"24\", \"goal\": \"AUC_weighted_max\", \"run_name\": \"MaxAbsScaler, ExtremeRandomTrees\", \"run_properties\": \"copy=True\", \"primary_metric\": 0.89569851, \"best_metric\": 0.91589284}, {\"run_id\": \"AutoML_7d1e2152-412f-4c53-ac0c-3f4f05d0ed3f_25\", \"run_number\": 30, \"metric\": null, \"status\": \"Completed\", \"run_type\": \"azureml.scriptrun\", \"training_percent\": \"100\", \"start_time\": \"2021-01-28T10:28:27.3611Z\", \"end_time\": \"2021-01-28T10:29:34.9218Z\", \"created_time\": \"2021-01-28T10:28:15.379534Z\", \"created_time_dt\": \"2021-01-28T10:28:15.379534Z\", \"duration\": \"0:01:19\", \"iteration\": \"25\", \"goal\": \"AUC_weighted_max\", \"run_name\": \"PCA, XGBoostClassifier\", \"run_properties\": \"copy=True, iterated_power='auto', n_components=0.01, random_state=None,\\n    svd_solver='auto', tol=0.0, whiten=False\", \"primary_metric\": 0.48390307, \"best_metric\": 0.91589284}, {\"run_id\": \"AutoML_7d1e2152-412f-4c53-ac0c-3f4f05d0ed3f_27\", \"run_number\": 31, \"metric\": null, \"status\": \"Completed\", \"run_type\": \"azureml.scriptrun\", \"training_percent\": \"100\", \"start_time\": \"2021-01-28T10:28:32.228448Z\", \"end_time\": \"2021-01-28T10:29:21.36938Z\", \"created_time\": \"2021-01-28T10:28:19.777691Z\", \"created_time_dt\": \"2021-01-28T10:28:19.777691Z\", \"duration\": \"0:01:01\", \"iteration\": \"27\", \"goal\": \"AUC_weighted_max\", \"run_name\": \"StandardScalerWrapper, XGBoostClassifier\", \"run_properties\": \"<azureml.automl.runtime.shared.model_wrappers.StandardScalerWrapper object at 0x7ff9a7bc0dd8\", \"primary_metric\": 0.90467027, \"best_metric\": 0.91589284}, {\"run_id\": \"AutoML_7d1e2152-412f-4c53-ac0c-3f4f05d0ed3f_26\", \"run_number\": 32, \"metric\": null, \"status\": \"Completed\", \"run_type\": \"azureml.scriptrun\", \"training_percent\": \"100\", \"start_time\": \"2021-01-28T10:28:29.841999Z\", \"end_time\": \"2021-01-28T10:29:26.080795Z\", \"created_time\": \"2021-01-28T10:28:19.77968Z\", \"created_time_dt\": \"2021-01-28T10:28:19.77968Z\", \"duration\": \"0:01:06\", \"iteration\": \"26\", \"goal\": \"AUC_weighted_max\", \"run_name\": \"RobustScaler, LightGBM\", \"run_properties\": \"copy=True, quantile_range=[10, 90], with_centering=True,\\n             with_scaling=True\", \"primary_metric\": 0.90121699, \"best_metric\": 0.91589284}, {\"run_id\": \"AutoML_7d1e2152-412f-4c53-ac0c-3f4f05d0ed3f_28\", \"run_number\": 33, \"metric\": null, \"status\": \"Completed\", \"run_type\": \"azureml.scriptrun\", \"training_percent\": \"100\", \"start_time\": \"2021-01-28T10:28:34.265134Z\", \"end_time\": \"2021-01-28T10:29:24.351743Z\", \"created_time\": \"2021-01-28T10:28:19.785649Z\", \"created_time_dt\": \"2021-01-28T10:28:19.785649Z\", \"duration\": \"0:01:04\", \"iteration\": \"28\", \"goal\": \"AUC_weighted_max\", \"run_name\": \"StandardScalerWrapper, XGBoostClassifier\", \"run_properties\": \"<azureml.automl.runtime.shared.model_wrappers.StandardScalerWrapper object at 0x7fe7791645f8\", \"primary_metric\": 0.90512321, \"best_metric\": 0.91589284}, {\"run_id\": \"AutoML_7d1e2152-412f-4c53-ac0c-3f4f05d0ed3f_29\", \"run_number\": 34, \"metric\": null, \"status\": \"Completed\", \"run_type\": \"azureml.scriptrun\", \"training_percent\": \"100\", \"start_time\": \"2021-01-28T10:28:38.991281Z\", \"end_time\": \"2021-01-28T10:29:35.265154Z\", \"created_time\": \"2021-01-28T10:28:27.882451Z\", \"created_time_dt\": \"2021-01-28T10:28:27.882451Z\", \"duration\": \"0:01:07\", \"iteration\": \"29\", \"goal\": \"AUC_weighted_max\", \"run_name\": \"MaxAbsScaler, LightGBM\", \"run_properties\": \"copy=True\", \"primary_metric\": 0.90705363, \"best_metric\": 0.91589284}, {\"run_id\": \"AutoML_7d1e2152-412f-4c53-ac0c-3f4f05d0ed3f_30\", \"run_number\": 35, \"metric\": null, \"status\": \"Completed\", \"run_type\": \"azureml.scriptrun\", \"training_percent\": \"100\", \"start_time\": \"2021-01-28T10:29:44.142529Z\", \"end_time\": \"2021-01-28T10:31:37.951409Z\", \"created_time\": \"2021-01-28T10:29:24.735853Z\", \"created_time_dt\": \"2021-01-28T10:29:24.735853Z\", \"duration\": \"0:02:13\", \"iteration\": \"30\", \"goal\": \"AUC_weighted_max\", \"run_name\": \"PCA, ExtremeRandomTrees\", \"run_properties\": \"copy=True, iterated_power='auto', n_components=0.01, random_state=None,\\n    svd_solver='auto', tol=0.0, whiten=True\", \"primary_metric\": 0.4827001, \"best_metric\": 0.91589284}, {\"run_id\": \"AutoML_7d1e2152-412f-4c53-ac0c-3f4f05d0ed3f_31\", \"run_number\": 36, \"metric\": null, \"status\": \"Completed\", \"run_type\": \"azureml.scriptrun\", \"training_percent\": \"100\", \"start_time\": \"2021-01-28T10:29:45.075834Z\", \"end_time\": \"2021-01-28T10:30:40.477615Z\", \"created_time\": \"2021-01-28T10:29:29.505376Z\", \"created_time_dt\": \"2021-01-28T10:29:29.505376Z\", \"duration\": \"0:01:10\", \"iteration\": \"31\", \"goal\": \"AUC_weighted_max\", \"run_name\": \"RobustScaler, LightGBM\", \"run_properties\": \"copy=True, quantile_range=[25, 75], with_centering=False,\\n             with_scaling=True\", \"primary_metric\": 0.9079882, \"best_metric\": 0.91589284}, {\"run_id\": \"AutoML_7d1e2152-412f-4c53-ac0c-3f4f05d0ed3f_32\", \"run_number\": 37, \"metric\": null, \"status\": \"Completed\", \"run_type\": \"azureml.scriptrun\", \"training_percent\": \"100\", \"start_time\": \"2021-01-28T10:29:45.109836Z\", \"end_time\": \"2021-01-28T10:30:37.412217Z\", \"created_time\": \"2021-01-28T10:29:29.629252Z\", \"created_time_dt\": \"2021-01-28T10:29:29.629252Z\", \"duration\": \"0:01:07\", \"iteration\": \"32\", \"goal\": \"AUC_weighted_max\", \"run_name\": \"MinMaxScaler, LightGBM\", \"run_properties\": \"copy=True, feature_range=(0, 1\", \"primary_metric\": 0.90374627, \"best_metric\": 0.91589284}, {\"run_id\": \"AutoML_7d1e2152-412f-4c53-ac0c-3f4f05d0ed3f_34\", \"run_number\": 38, \"metric\": null, \"status\": \"Completed\", \"run_type\": \"azureml.scriptrun\", \"training_percent\": \"100\", \"start_time\": \"2021-01-28T10:29:51.051975Z\", \"end_time\": \"2021-01-28T10:30:37.127771Z\", \"created_time\": \"2021-01-28T10:29:37.59533Z\", \"created_time_dt\": \"2021-01-28T10:29:37.59533Z\", \"duration\": \"0:00:59\", \"iteration\": \"34\", \"goal\": \"AUC_weighted_max\", \"run_name\": \"StandardScalerWrapper, XGBoostClassifier\", \"run_properties\": \"<azureml.automl.runtime.shared.model_wrappers.StandardScalerWrapper object at 0x7f8618e8f6a0\", \"primary_metric\": 0.90221114, \"best_metric\": 0.91589284}, {\"run_id\": \"AutoML_7d1e2152-412f-4c53-ac0c-3f4f05d0ed3f_33\", \"run_number\": 39, \"metric\": null, \"status\": \"Completed\", \"run_type\": \"azureml.scriptrun\", \"training_percent\": \"100\", \"start_time\": \"2021-01-28T10:29:50.762101Z\", \"end_time\": \"2021-01-28T10:30:40.248024Z\", \"created_time\": \"2021-01-28T10:29:37.607047Z\", \"created_time_dt\": \"2021-01-28T10:29:37.607047Z\", \"duration\": \"0:01:02\", \"iteration\": \"33\", \"goal\": \"AUC_weighted_max\", \"run_name\": \"StandardScalerWrapper, SVM\", \"run_properties\": \"<azureml.automl.runtime.shared.model_wrappers.StandardScalerWrapper object at 0x7f6048425208\", \"primary_metric\": 0.86795982, \"best_metric\": 0.91589284}, {\"run_id\": \"AutoML_7d1e2152-412f-4c53-ac0c-3f4f05d0ed3f_35\", \"run_number\": 40, \"metric\": null, \"status\": \"Completed\", \"run_type\": \"azureml.scriptrun\", \"training_percent\": \"100\", \"start_time\": \"2021-01-28T10:30:56.147945Z\", \"end_time\": \"2021-01-28T10:32:22.995112Z\", \"created_time\": \"2021-01-28T10:30:41.84503Z\", \"created_time_dt\": \"2021-01-28T10:30:41.84503Z\", \"duration\": \"0:01:41\", \"iteration\": \"35\", \"goal\": \"AUC_weighted_max\", \"run_name\": \"StandardScalerWrapper, ExtremeRandomTrees\", \"run_properties\": \"<azureml.automl.runtime.shared.model_wrappers.StandardScalerWrapper object at 0x7f57fa6a2710\", \"primary_metric\": 0.77000003, \"best_metric\": 0.91589284}, {\"run_id\": \"AutoML_7d1e2152-412f-4c53-ac0c-3f4f05d0ed3f_36\", \"run_number\": 41, \"metric\": null, \"status\": \"Completed\", \"run_type\": \"azureml.scriptrun\", \"training_percent\": \"100\", \"start_time\": \"2021-01-28T10:30:56.620145Z\", \"end_time\": \"2021-01-28T10:32:22.204559Z\", \"created_time\": \"2021-01-28T10:30:41.851779Z\", \"created_time_dt\": \"2021-01-28T10:30:41.851779Z\", \"duration\": \"0:01:40\", \"iteration\": \"36\", \"goal\": \"AUC_weighted_max\", \"run_name\": \"MaxAbsScaler, LightGBM\", \"run_properties\": \"copy=True\", \"primary_metric\": 0.90973756, \"best_metric\": 0.91589284}, {\"run_id\": \"AutoML_7d1e2152-412f-4c53-ac0c-3f4f05d0ed3f_37\", \"run_number\": 42, \"metric\": null, \"status\": \"Completed\", \"run_type\": \"azureml.scriptrun\", \"training_percent\": \"100\", \"start_time\": \"2021-01-28T10:30:57.408228Z\", \"end_time\": \"2021-01-28T10:32:26.323213Z\", \"created_time\": \"2021-01-28T10:30:47.143002Z\", \"created_time_dt\": \"2021-01-28T10:30:47.143002Z\", \"duration\": \"0:01:39\", \"iteration\": \"37\", \"goal\": \"AUC_weighted_max\", \"run_name\": \"RobustScaler, GradientBoosting\", \"run_properties\": \"copy=True, quantile_range=[10, 90], with_centering=True,\\n             with_scaling=False\", \"primary_metric\": 0.89689821, \"best_metric\": 0.91589284}, {\"run_id\": \"AutoML_7d1e2152-412f-4c53-ac0c-3f4f05d0ed3f_38\", \"run_number\": 43, \"metric\": null, \"status\": \"Completed\", \"run_type\": \"azureml.scriptrun\", \"training_percent\": \"100\", \"start_time\": \"2021-01-28T10:30:57.706629Z\", \"end_time\": \"2021-01-28T10:32:23.284723Z\", \"created_time\": \"2021-01-28T10:30:47.275127Z\", \"created_time_dt\": \"2021-01-28T10:30:47.275127Z\", \"duration\": \"0:01:36\", \"iteration\": \"38\", \"goal\": \"AUC_weighted_max\", \"run_name\": \"StandardScalerWrapper, LightGBM\", \"run_properties\": \"<azureml.automl.runtime.shared.model_wrappers.StandardScalerWrapper object at 0x7fee6b3489b0\", \"primary_metric\": 0.89022171, \"best_metric\": 0.91589284}, {\"run_id\": \"AutoML_7d1e2152-412f-4c53-ac0c-3f4f05d0ed3f_39\", \"run_number\": 44, \"metric\": null, \"status\": \"Canceled\", \"run_type\": \"azureml.scriptrun\", \"training_percent\": \"100\", \"start_time\": \"2021-01-28T10:31:56.618031Z\", \"end_time\": \"2021-01-28T10:32:37.529247Z\", \"created_time\": \"2021-01-28T10:31:40.326325Z\", \"created_time_dt\": \"2021-01-28T10:31:40.326325Z\", \"duration\": \"0:00:57\", \"iteration\": \"39\", \"goal\": \"AUC_weighted_max\", \"run_name\": \"StandardScalerWrapper, XGBoostClassifier\", \"run_properties\": \"<azureml.automl.runtime.shared.model_wrappers.StandardScalerWrapper object at 0x7f5c6275af98\", \"primary_metric\": 0.90440284, \"best_metric\": 0.91589284}, {\"run_id\": \"AutoML_7d1e2152-412f-4c53-ac0c-3f4f05d0ed3f_40\", \"run_number\": 45, \"metric\": null, \"status\": \"Canceled\", \"run_type\": \"azureml.scriptrun\", \"training_percent\": \"100\", \"start_time\": \"2021-01-28T10:32:25.354023Z\", \"end_time\": \"2021-01-28T10:32:44.003558Z\", \"created_time\": \"2021-01-28T10:32:25.354023Z\", \"created_time_dt\": \"2021-01-28T10:32:25.354023Z\", \"duration\": \"0:00:18\", \"iteration\": \"40\", \"goal\": null, \"run_name\": \"Canceled\", \"run_properties\": null}, {\"run_id\": \"AutoML_7d1e2152-412f-4c53-ac0c-3f4f05d0ed3f_42\", \"run_number\": 46, \"metric\": null, \"status\": \"Completed\", \"run_type\": \"azureml.scriptrun\", \"training_percent\": \"100\", \"start_time\": \"2021-01-28T10:32:55.88269Z\", \"end_time\": \"2021-01-28T10:35:15.305989Z\", \"created_time\": \"2021-01-28T10:32:45.393271Z\", \"created_time_dt\": \"2021-01-28T10:32:45.393271Z\", \"duration\": \"0:02:29\", \"iteration\": \"42\", \"goal\": \"AUC_weighted_max\", \"run_name\": \"StackEnsemble\", \"run_properties\": \"base_learners=[('23',\\n                                        Pipeline(memory=None,\\n                                                 steps=[('minmaxscaler',\\n                                                         MinMaxScaler(copy=True,\\n                                                                      feature_range=(0,\\n                                                                                     1\", \"primary_metric\": 0.91476946, \"best_metric\": 0.92185795}, {\"run_id\": \"AutoML_7d1e2152-412f-4c53-ac0c-3f4f05d0ed3f_41\", \"run_number\": 47, \"metric\": null, \"status\": \"Completed\", \"run_type\": \"azureml.scriptrun\", \"training_percent\": \"100\", \"start_time\": \"2021-01-28T10:32:56.088656Z\", \"end_time\": \"2021-01-28T10:35:15.683155Z\", \"created_time\": \"2021-01-28T10:32:45.426038Z\", \"created_time_dt\": \"2021-01-28T10:32:45.426038Z\", \"duration\": \"0:02:30\", \"iteration\": \"41\", \"goal\": \"AUC_weighted_max\", \"run_name\": \"VotingEnsemble\", \"run_properties\": \"classification_labels=None,\\n                              estimators=[('23',\\n                                           Pipeline(memory=None,\\n                                                    steps=[('minmaxscaler',\\n                                                            MinMaxScaler(copy=True,\\n                                                                         feature_range=(0,\\n                                                                                        1\", \"primary_metric\": 0.92185795, \"best_metric\": 0.92185795}], \"children_metrics\": {\"categories\": [0], \"series\": {\"f1_score_macro\": [{\"categories\": [\"0\", \"1\", \"2\", \"3\", \"4\", \"5\", \"6\", \"7\", \"8\", \"9\", \"10\", \"11\", \"12\", \"13\", \"14\", \"15\", \"16\", \"17\", \"18\", \"19\", \"20\", \"21\", \"22\", \"23\", \"24\", \"25\", \"26\", \"27\", \"28\", \"29\", \"30\", \"31\", \"32\", \"33\", \"34\", \"35\", \"36\", \"37\", \"38\", \"39\", \"41\", \"42\"], \"mode\": \"markers\", \"name\": \"f1_score_macro\", \"stepped\": false, \"type\": \"scatter\", \"data\": [0.8043314151248963, 0.8078501228997539, 0.7932074981382347, 0.7186079991437134, 0.8086484854649882, 0.7804672917953654, 0.7912327356518509, 0.7972174383678825, 0.7206299433410017, 0.6844538166645457, 0.6918684384437969, 0.7714127196621237, 0.7915282804080612, 0.7916974537093727, 0.7751036260557316, 0.5251633085767229, 0.7027590414455037, 0.7364039868039709, 0.7849806030113018, 0.7859560894600321, 0.8096373087180051, 0.7779110081246187, 0.7770957843739175, 0.8026202286031685, 0.7841627126623346, 0.41939517757999945, 0.7800442186857623, 0.8100746141319233, 0.8212617791162022, 0.800269597323741, 0.36111653428487417, 0.8085227146791351, 0.8103274940034245, 0.7731465707877376, 0.8018520230890589, 0.4024893878511494, 0.8094978943065559, 0.8078742311380003, 0.7371654741515482, 0.8047743751420995, 0.817037570981715, 0.8133488717142328]}, {\"categories\": [\"0\", \"1\", \"2\", \"3\", \"4\", \"5\", \"6\", \"7\", \"8\", \"9\", \"10\", \"11\", \"12\", \"13\", \"14\", \"15\", \"16\", \"17\", \"18\", \"19\", \"20\", \"21\", \"22\", \"23\", \"24\", \"25\", \"26\", \"27\", \"28\", \"29\", \"30\", \"31\", \"32\", \"33\", \"34\", \"35\", \"36\", \"37\", \"38\", \"39\", \"41\", \"42\"], \"mode\": \"lines\", \"name\": \"f1_score_macro_max\", \"stepped\": true, \"type\": \"scatter\", \"data\": [0.8043314151248963, 0.8078501228997539, 0.8078501228997539, 0.8078501228997539, 0.8086484854649882, 0.8086484854649882, 0.8086484854649882, 0.8086484854649882, 0.8086484854649882, 0.8086484854649882, 0.8086484854649882, 0.8086484854649882, 0.8086484854649882, 0.8086484854649882, 0.8086484854649882, 0.8086484854649882, 0.8086484854649882, 0.8086484854649882, 0.8086484854649882, 0.8086484854649882, 0.8096373087180051, 0.8096373087180051, 0.8096373087180051, 0.8096373087180051, 0.8096373087180051, 0.8096373087180051, 0.8096373087180051, 0.8100746141319233, 0.8212617791162022, 0.8212617791162022, 0.8212617791162022, 0.8212617791162022, 0.8212617791162022, 0.8212617791162022, 0.8212617791162022, 0.8212617791162022, 0.8212617791162022, 0.8212617791162022, 0.8212617791162022, 0.8212617791162022, 0.8212617791162022, 0.8212617791162022]}], \"norm_macro_recall\": [{\"categories\": [\"0\", \"1\", \"2\", \"3\", \"4\", \"5\", \"6\", \"7\", \"8\", \"9\", \"10\", \"11\", \"12\", \"13\", \"14\", \"15\", \"16\", \"17\", \"18\", \"19\", \"20\", \"21\", \"22\", \"23\", \"24\", \"25\", \"26\", \"27\", \"28\", \"29\", \"30\", \"31\", \"32\", \"33\", \"34\", \"35\", \"36\", \"37\", \"38\", \"39\", \"41\", \"42\"], \"mode\": \"markers\", \"name\": \"norm_macro_recall\", \"stepped\": false, \"type\": \"scatter\", \"data\": [0.6154165791620023, 0.626049804187676, 0.5855199246469269, 0.4095055573716901, 0.6424944385007314, 0.5710448164218187, 0.5922343185037693, 0.5750765624535648, 0.4366446171423288, 0.3560714227928186, 0.3722459062676454, 0.5141458265228287, 0.6537548754957221, 0.5905789374622327, 0.5772068123206566, 0.1267612930547713, 0.3858950406318826, 0.4995453076036601, 0.6272266552415294, 0.5662958359337078, 0.641127916134209, 0.5777362246195198, 0.5603540628580674, 0.6229727307398931, 0.6031972445936977, 0.01517857142857142, 0.5375237657714773, 0.6246291692670412, 0.6583902897890312, 0.6080555134542549, 0.008612440191387561, 0.6101306122684841, 0.6219590849653779, 0.5511187454803016, 0.595842074719077, 0.0, 0.6173737580116299, 0.6073643347499182, 0.4637116539702351, 0.6277270407573612, 0.61791566779267, 0.6318218099596817]}, {\"categories\": [\"0\", \"1\", \"2\", \"3\", \"4\", \"5\", \"6\", \"7\", \"8\", \"9\", \"10\", \"11\", \"12\", \"13\", \"14\", \"15\", \"16\", \"17\", \"18\", \"19\", \"20\", \"21\", \"22\", \"23\", \"24\", \"25\", \"26\", \"27\", \"28\", \"29\", \"30\", \"31\", \"32\", \"33\", \"34\", \"35\", \"36\", \"37\", \"38\", \"39\", \"41\", \"42\"], \"mode\": \"lines\", \"name\": \"norm_macro_recall_max\", \"stepped\": true, \"type\": \"scatter\", \"data\": [0.6154165791620023, 0.626049804187676, 0.626049804187676, 0.626049804187676, 0.6424944385007314, 0.6424944385007314, 0.6424944385007314, 0.6424944385007314, 0.6424944385007314, 0.6424944385007314, 0.6424944385007314, 0.6424944385007314, 0.6537548754957221, 0.6537548754957221, 0.6537548754957221, 0.6537548754957221, 0.6537548754957221, 0.6537548754957221, 0.6537548754957221, 0.6537548754957221, 0.6537548754957221, 0.6537548754957221, 0.6537548754957221, 0.6537548754957221, 0.6537548754957221, 0.6537548754957221, 0.6537548754957221, 0.6537548754957221, 0.6583902897890312, 0.6583902897890312, 0.6583902897890312, 0.6583902897890312, 0.6583902897890312, 0.6583902897890312, 0.6583902897890312, 0.6583902897890312, 0.6583902897890312, 0.6583902897890312, 0.6583902897890312, 0.6583902897890312, 0.6583902897890312, 0.6583902897890312]}], \"precision_score_macro\": [{\"categories\": [\"0\", \"1\", \"2\", \"3\", \"4\", \"5\", \"6\", \"7\", \"8\", \"9\", \"10\", \"11\", \"12\", \"13\", \"14\", \"15\", \"16\", \"17\", \"18\", \"19\", \"20\", \"21\", \"22\", \"23\", \"24\", \"25\", \"26\", \"27\", \"28\", \"29\", \"30\", \"31\", \"32\", \"33\", \"34\", \"35\", \"36\", \"37\", \"38\", \"39\", \"41\", \"42\"], \"mode\": \"markers\", \"name\": \"precision_score_macro\", \"stepped\": false, \"type\": \"scatter\", \"data\": [0.8167365852764965, 0.8232986049897815, 0.8171208451794836, 0.8401607651607652, 0.8085503531556162, 0.8000695723993779, 0.8072889610389611, 0.8357930595974074, 0.8227623825449912, 0.7703082497212932, 0.834497557997558, 0.8515464821008297, 0.7941930109364319, 0.8181375040863028, 0.7850625196059979, 0.5543597592139792, 0.8479535762144458, 0.7399905025632748, 0.7783269723053005, 0.8096246520451326, 0.8146404013830653, 0.7851075044330192, 0.7865365629158536, 0.8125033016500408, 0.7894395161810864, 0.4353205128205128, 0.8342430830039526, 0.834768973240083, 0.8339245068656833, 0.8203334238860555, 0.3070689655172414, 0.8421012104473202, 0.8301036612577534, 0.7997131104899646, 0.8338714003387917, 0.33959770114942534, 0.8283035292002683, 0.8489345499508543, 0.8095407057346418, 0.8143602641320034, 0.8527702382158905, 0.8397899800110897]}, {\"categories\": [\"0\", \"1\", \"2\", \"3\", \"4\", \"5\", \"6\", \"7\", \"8\", \"9\", \"10\", \"11\", \"12\", \"13\", \"14\", \"15\", \"16\", \"17\", \"18\", \"19\", \"20\", \"21\", \"22\", \"23\", \"24\", \"25\", \"26\", \"27\", \"28\", \"29\", \"30\", \"31\", \"32\", \"33\", \"34\", \"35\", \"36\", \"37\", \"38\", \"39\", \"41\", \"42\"], \"mode\": \"lines\", \"name\": \"precision_score_macro_max\", \"stepped\": true, \"type\": \"scatter\", \"data\": [0.8167365852764965, 0.8232986049897815, 0.8232986049897815, 0.8401607651607652, 0.8401607651607652, 0.8401607651607652, 0.8401607651607652, 0.8401607651607652, 0.8401607651607652, 0.8401607651607652, 0.8401607651607652, 0.8515464821008297, 0.8515464821008297, 0.8515464821008297, 0.8515464821008297, 0.8515464821008297, 0.8515464821008297, 0.8515464821008297, 0.8515464821008297, 0.8515464821008297, 0.8515464821008297, 0.8515464821008297, 0.8515464821008297, 0.8515464821008297, 0.8515464821008297, 0.8515464821008297, 0.8515464821008297, 0.8515464821008297, 0.8515464821008297, 0.8515464821008297, 0.8515464821008297, 0.8515464821008297, 0.8515464821008297, 0.8515464821008297, 0.8515464821008297, 0.8515464821008297, 0.8515464821008297, 0.8515464821008297, 0.8515464821008297, 0.8515464821008297, 0.8527702382158905, 0.8527702382158905]}], \"recall_score_macro\": [{\"categories\": [\"0\", \"1\", \"2\", \"3\", \"4\", \"5\", \"6\", \"7\", \"8\", \"9\", \"10\", \"11\", \"12\", \"13\", \"14\", \"15\", \"16\", \"17\", \"18\", \"19\", \"20\", \"21\", \"22\", \"23\", \"24\", \"25\", \"26\", \"27\", \"28\", \"29\", \"30\", \"31\", \"32\", \"33\", \"34\", \"35\", \"36\", \"37\", \"38\", \"39\", \"41\", \"42\"], \"mode\": \"markers\", \"name\": \"recall_score_macro\", \"stepped\": false, \"type\": \"scatter\", \"data\": [0.8077082895810014, 0.8130249020938379, 0.7927599623234636, 0.704752778685845, 0.8212472192503657, 0.7855224082109094, 0.7961171592518846, 0.7875382812267824, 0.7183223085711643, 0.6780357113964093, 0.6861229531338228, 0.7570729132614143, 0.826877437747861, 0.7952894687311163, 0.7886034061603283, 0.5513534193685796, 0.6929475203159414, 0.74977265380183, 0.8136133276207647, 0.7831479179668539, 0.8205639580671045, 0.78886811230976, 0.7801770314290338, 0.8114863653699466, 0.801598622296849, 0.483048350041771, 0.7687618828857387, 0.8123145846335206, 0.8291951448945156, 0.8040277567271275, 0.4963697121591858, 0.805065306134242, 0.8109795424826889, 0.7755593727401507, 0.7979210373595385, 0.5, 0.8086868790058149, 0.8036821673749591, 0.7318558269851174, 0.8138635203786805, 0.8089578338963351, 0.815910904979841]}, {\"categories\": [\"0\", \"1\", \"2\", \"3\", \"4\", \"5\", \"6\", \"7\", \"8\", \"9\", \"10\", \"11\", \"12\", \"13\", \"14\", \"15\", \"16\", \"17\", \"18\", \"19\", \"20\", \"21\", \"22\", \"23\", \"24\", \"25\", \"26\", \"27\", \"28\", \"29\", \"30\", \"31\", \"32\", \"33\", \"34\", \"35\", \"36\", \"37\", \"38\", \"39\", \"41\", \"42\"], \"mode\": \"lines\", \"name\": \"recall_score_macro_max\", \"stepped\": true, \"type\": \"scatter\", \"data\": [0.8077082895810014, 0.8130249020938379, 0.8130249020938379, 0.8130249020938379, 0.8212472192503657, 0.8212472192503657, 0.8212472192503657, 0.8212472192503657, 0.8212472192503657, 0.8212472192503657, 0.8212472192503657, 0.8212472192503657, 0.826877437747861, 0.826877437747861, 0.826877437747861, 0.826877437747861, 0.826877437747861, 0.826877437747861, 0.826877437747861, 0.826877437747861, 0.826877437747861, 0.826877437747861, 0.826877437747861, 0.826877437747861, 0.826877437747861, 0.826877437747861, 0.826877437747861, 0.826877437747861, 0.8291951448945156, 0.8291951448945156, 0.8291951448945156, 0.8291951448945156, 0.8291951448945156, 0.8291951448945156, 0.8291951448945156, 0.8291951448945156, 0.8291951448945156, 0.8291951448945156, 0.8291951448945156, 0.8291951448945156, 0.8291951448945156, 0.8291951448945156]}], \"accuracy\": [{\"categories\": [\"0\", \"1\", \"2\", \"3\", \"4\", \"5\", \"6\", \"7\", \"8\", \"9\", \"10\", \"11\", \"12\", \"13\", \"14\", \"15\", \"16\", \"17\", \"18\", \"19\", \"20\", \"21\", \"22\", \"23\", \"24\", \"25\", \"26\", \"27\", \"28\", \"29\", \"30\", \"31\", \"32\", \"33\", \"34\", \"35\", \"36\", \"37\", \"38\", \"39\", \"41\", \"42\"], \"mode\": \"markers\", \"name\": \"accuracy\", \"stepped\": false, \"type\": \"scatter\", \"data\": [0.8359770114942527, 0.8358620689655172, 0.8327586206896551, 0.796206896551724, 0.8358620689655172, 0.8190804597701149, 0.8325287356321839, 0.8359770114942527, 0.7959770114942529, 0.7659770114942528, 0.7862068965517242, 0.8260919540229885, 0.8124137931034483, 0.8258620689655173, 0.8093103448275862, 0.6389655172413793, 0.7926436781609195, 0.7689655172413794, 0.8090804597701149, 0.8258620689655173, 0.839080459770115, 0.8057471264367816, 0.8124137931034483, 0.8325287356321839, 0.8158620689655172, 0.6426436781609195, 0.8293103448275861, 0.8426436781609195, 0.8458620689655172, 0.8358620689655172, 0.5274712643678161, 0.8462068965517242, 0.8391954022988506, 0.8126436781609195, 0.8394252873563219, 0.6791954022988507, 0.8425287356321839, 0.8427586206896551, 0.8026436781609195, 0.8358620689655172, 0.849425287356322, 0.842528735632184]}, {\"categories\": [\"0\", \"1\", \"2\", \"3\", \"4\", \"5\", \"6\", \"7\", \"8\", \"9\", \"10\", \"11\", \"12\", \"13\", \"14\", \"15\", \"16\", \"17\", \"18\", \"19\", \"20\", \"21\", \"22\", \"23\", \"24\", \"25\", \"26\", \"27\", \"28\", \"29\", \"30\", \"31\", \"32\", \"33\", \"34\", \"35\", \"36\", \"37\", \"38\", \"39\", \"41\", \"42\"], \"mode\": \"lines\", \"name\": \"accuracy_max\", \"stepped\": true, \"type\": \"scatter\", \"data\": [0.8359770114942527, 0.8359770114942527, 0.8359770114942527, 0.8359770114942527, 0.8359770114942527, 0.8359770114942527, 0.8359770114942527, 0.8359770114942527, 0.8359770114942527, 0.8359770114942527, 0.8359770114942527, 0.8359770114942527, 0.8359770114942527, 0.8359770114942527, 0.8359770114942527, 0.8359770114942527, 0.8359770114942527, 0.8359770114942527, 0.8359770114942527, 0.8359770114942527, 0.839080459770115, 0.839080459770115, 0.839080459770115, 0.839080459770115, 0.839080459770115, 0.839080459770115, 0.839080459770115, 0.8426436781609195, 0.8458620689655172, 0.8458620689655172, 0.8458620689655172, 0.8462068965517242, 0.8462068965517242, 0.8462068965517242, 0.8462068965517242, 0.8462068965517242, 0.8462068965517242, 0.8462068965517242, 0.8462068965517242, 0.8462068965517242, 0.849425287356322, 0.849425287356322]}], \"average_precision_score_micro\": [{\"categories\": [\"0\", \"1\", \"2\", \"3\", \"4\", \"5\", \"6\", \"7\", \"8\", \"9\", \"10\", \"11\", \"12\", \"13\", \"14\", \"15\", \"16\", \"17\", \"18\", \"19\", \"20\", \"21\", \"22\", \"23\", \"24\", \"25\", \"26\", \"27\", \"28\", \"29\", \"30\", \"31\", \"32\", \"33\", \"34\", \"35\", \"36\", \"37\", \"38\", \"39\", \"41\", \"42\"], \"mode\": \"markers\", \"name\": \"average_precision_score_micro\", \"stepped\": false, \"type\": \"scatter\", \"data\": [0.9020054536251629, 0.9033793522124445, 0.9073416213276737, 0.8823867701998112, 0.9136190775790693, 0.9066743008420823, 0.9055992012989712, 0.9171829715954551, 0.8818518685869113, 0.7964089391804331, 0.8758290559108936, 0.8927886085274832, 0.8963069473799512, 0.8868170270038614, 0.8870815830585507, 0.6466874753087125, 0.8979171266700462, 0.8436473536830287, 0.8958653944042666, 0.9145380507917885, 0.903257781328454, 0.890066707791313, 0.8969347274223528, 0.9134012230811583, 0.9028098023366858, 0.6577925758411947, 0.8937346070170612, 0.9204804678612207, 0.9160619999335472, 0.9200971568115465, 0.5620511943270425, 0.9213096228579941, 0.9190332414413522, 0.8853927989248456, 0.9143437807348453, 0.8050316436136505, 0.9222746216247544, 0.9149017046723336, 0.8980694072589943, 0.9123110717403458, 0.9274960049064708, 0.9204256807088823]}, {\"categories\": [\"0\", \"1\", \"2\", \"3\", \"4\", \"5\", \"6\", \"7\", \"8\", \"9\", \"10\", \"11\", \"12\", \"13\", \"14\", \"15\", \"16\", \"17\", \"18\", \"19\", \"20\", \"21\", \"22\", \"23\", \"24\", \"25\", \"26\", \"27\", \"28\", \"29\", \"30\", \"31\", \"32\", \"33\", \"34\", \"35\", \"36\", \"37\", \"38\", \"39\", \"41\", \"42\"], \"mode\": \"lines\", \"name\": \"average_precision_score_micro_max\", \"stepped\": true, \"type\": \"scatter\", \"data\": [0.9020054536251629, 0.9033793522124445, 0.9073416213276737, 0.9073416213276737, 0.9136190775790693, 0.9136190775790693, 0.9136190775790693, 0.9171829715954551, 0.9171829715954551, 0.9171829715954551, 0.9171829715954551, 0.9171829715954551, 0.9171829715954551, 0.9171829715954551, 0.9171829715954551, 0.9171829715954551, 0.9171829715954551, 0.9171829715954551, 0.9171829715954551, 0.9171829715954551, 0.9171829715954551, 0.9171829715954551, 0.9171829715954551, 0.9171829715954551, 0.9171829715954551, 0.9171829715954551, 0.9171829715954551, 0.9204804678612207, 0.9204804678612207, 0.9204804678612207, 0.9204804678612207, 0.9213096228579941, 0.9213096228579941, 0.9213096228579941, 0.9213096228579941, 0.9213096228579941, 0.9222746216247544, 0.9222746216247544, 0.9222746216247544, 0.9222746216247544, 0.9274960049064708, 0.9274960049064708]}], \"average_precision_score_macro\": [{\"categories\": [\"0\", \"1\", \"2\", \"3\", \"4\", \"5\", \"6\", \"7\", \"8\", \"9\", \"10\", \"11\", \"12\", \"13\", \"14\", \"15\", \"16\", \"17\", \"18\", \"19\", \"20\", \"21\", \"22\", \"23\", \"24\", \"25\", \"26\", \"27\", \"28\", \"29\", \"30\", \"31\", \"32\", \"33\", \"34\", \"35\", \"36\", \"37\", \"38\", \"39\", \"41\", \"42\"], \"mode\": \"markers\", \"name\": \"average_precision_score_macro\", \"stepped\": false, \"type\": \"scatter\", \"data\": [0.8807888197525153, 0.8807340475847678, 0.8818654673354711, 0.8754270652604509, 0.8815290121823821, 0.8845380860496153, 0.8705552103933571, 0.8999050446391099, 0.8776650592071225, 0.7610796181270093, 0.8820875713876365, 0.877410843221905, 0.8933470544051021, 0.8550634148707748, 0.8648273969024466, 0.5793782772753733, 0.9001778813296543, 0.8171204041583691, 0.8709531734722935, 0.8985389415472792, 0.8811621980710083, 0.8819241391556917, 0.869369014463803, 0.9003023240871842, 0.8863241859479573, 0.5316737012008856, 0.8845525197702238, 0.9010978599820616, 0.8915480212235863, 0.8971000953875263, 0.5039983673327687, 0.8989069367598566, 0.8978243729654729, 0.8563577454810304, 0.8955730672169022, 0.7567182693052336, 0.9010451071814192, 0.8934136315812063, 0.8821824061715995, 0.8971386062150419, 0.9108967096230177, 0.9039669755779505]}, {\"categories\": [\"0\", \"1\", \"2\", \"3\", \"4\", \"5\", \"6\", \"7\", \"8\", \"9\", \"10\", \"11\", \"12\", \"13\", \"14\", \"15\", \"16\", \"17\", \"18\", \"19\", \"20\", \"21\", \"22\", \"23\", \"24\", \"25\", \"26\", \"27\", \"28\", \"29\", \"30\", \"31\", \"32\", \"33\", \"34\", \"35\", \"36\", \"37\", \"38\", \"39\", \"41\", \"42\"], \"mode\": \"lines\", \"name\": \"average_precision_score_macro_max\", \"stepped\": true, \"type\": \"scatter\", \"data\": [0.8807888197525153, 0.8807888197525153, 0.8818654673354711, 0.8818654673354711, 0.8818654673354711, 0.8845380860496153, 0.8845380860496153, 0.8999050446391099, 0.8999050446391099, 0.8999050446391099, 0.8999050446391099, 0.8999050446391099, 0.8999050446391099, 0.8999050446391099, 0.8999050446391099, 0.8999050446391099, 0.9001778813296543, 0.9001778813296543, 0.9001778813296543, 0.9001778813296543, 0.9001778813296543, 0.9001778813296543, 0.9001778813296543, 0.9003023240871842, 0.9003023240871842, 0.9003023240871842, 0.9003023240871842, 0.9010978599820616, 0.9010978599820616, 0.9010978599820616, 0.9010978599820616, 0.9010978599820616, 0.9010978599820616, 0.9010978599820616, 0.9010978599820616, 0.9010978599820616, 0.9010978599820616, 0.9010978599820616, 0.9010978599820616, 0.9010978599820616, 0.9108967096230177, 0.9108967096230177]}], \"matthews_correlation\": [{\"categories\": [\"0\", \"1\", \"2\", \"3\", \"4\", \"5\", \"6\", \"7\", \"8\", \"9\", \"10\", \"11\", \"12\", \"13\", \"14\", \"15\", \"16\", \"17\", \"18\", \"19\", \"20\", \"21\", \"22\", \"23\", \"24\", \"25\", \"26\", \"27\", \"28\", \"29\", \"30\", \"31\", \"32\", \"33\", \"34\", \"35\", \"36\", \"37\", \"38\", \"39\", \"41\", \"42\"], \"mode\": \"markers\", \"name\": \"matthews_correlation\", \"stepped\": false, \"type\": \"scatter\", \"data\": [0.6231314496952846, 0.6345538749068885, 0.6072587202045274, 0.5231057266389136, 0.6289723926981641, 0.5836242654338617, 0.6015248409476496, 0.620346509848837, 0.5250088653130173, 0.4352854456898543, 0.49356263307117826, 0.5958033967519155, 0.6189074524037512, 0.6112552415194101, 0.5722726190524425, 0.10426477830980234, 0.5112886188952889, 0.48863892897422617, 0.5896051100998342, 0.591194297640371, 0.6338221881985185, 0.5728216029298554, 0.5656743222282024, 0.6226615993819764, 0.5890410001658156, -0.03896597943853032, 0.5978057098886025, 0.6443317346057216, 0.6612921399462637, 0.622115703375182, -0.006958597575335616, 0.6436233334789339, 0.6393968851050753, 0.5725539293738152, 0.6289872687979001, 0.0, 0.6352657512908831, 0.6473264603276119, 0.5317755007835729, 0.6268489117693183, 0.6585505541411006, 0.6524594614482713]}, {\"categories\": [\"0\", \"1\", \"2\", \"3\", \"4\", \"5\", \"6\", \"7\", \"8\", \"9\", \"10\", \"11\", \"12\", \"13\", \"14\", \"15\", \"16\", \"17\", \"18\", \"19\", \"20\", \"21\", \"22\", \"23\", \"24\", \"25\", \"26\", \"27\", \"28\", \"29\", \"30\", \"31\", \"32\", \"33\", \"34\", \"35\", \"36\", \"37\", \"38\", \"39\", \"41\", \"42\"], \"mode\": \"lines\", \"name\": \"matthews_correlation_max\", \"stepped\": true, \"type\": \"scatter\", \"data\": [0.6231314496952846, 0.6345538749068885, 0.6345538749068885, 0.6345538749068885, 0.6345538749068885, 0.6345538749068885, 0.6345538749068885, 0.6345538749068885, 0.6345538749068885, 0.6345538749068885, 0.6345538749068885, 0.6345538749068885, 0.6345538749068885, 0.6345538749068885, 0.6345538749068885, 0.6345538749068885, 0.6345538749068885, 0.6345538749068885, 0.6345538749068885, 0.6345538749068885, 0.6345538749068885, 0.6345538749068885, 0.6345538749068885, 0.6345538749068885, 0.6345538749068885, 0.6345538749068885, 0.6345538749068885, 0.6443317346057216, 0.6612921399462637, 0.6612921399462637, 0.6612921399462637, 0.6612921399462637, 0.6612921399462637, 0.6612921399462637, 0.6612921399462637, 0.6612921399462637, 0.6612921399462637, 0.6612921399462637, 0.6612921399462637, 0.6612921399462637, 0.6612921399462637, 0.6612921399462637]}], \"f1_score_weighted\": [{\"categories\": [\"0\", \"1\", \"2\", \"3\", \"4\", \"5\", \"6\", \"7\", \"8\", \"9\", \"10\", \"11\", \"12\", \"13\", \"14\", \"15\", \"16\", \"17\", \"18\", \"19\", \"20\", \"21\", \"22\", \"23\", \"24\", \"25\", \"26\", \"27\", \"28\", \"29\", \"30\", \"31\", \"32\", \"33\", \"34\", \"35\", \"36\", \"37\", \"38\", \"39\", \"41\", \"42\"], \"mode\": \"markers\", \"name\": \"f1_score_weighted\", \"stepped\": false, \"type\": \"scatter\", \"data\": [0.8333388901455894, 0.8342588560383983, 0.8283161837364966, 0.7714670735212608, 0.8368641866311949, 0.8149881519451154, 0.8276753803072164, 0.8288461777438354, 0.7680738484506638, 0.743922190318357, 0.7522793230435723, 0.8116419112748208, 0.8171934090429416, 0.8229661234123661, 0.8086858039566959, 0.6071892452709331, 0.761503905819418, 0.7743649313781162, 0.8158143221191614, 0.8208423832388133, 0.8403055001852227, 0.8079412232302344, 0.8124942675791736, 0.8316456360873659, 0.8171925064253853, 0.553606126510483, 0.8176558550810734, 0.8385135754149197, 0.8452026258498364, 0.8330609342824914, 0.41991566173498107, 0.8405229075778019, 0.8368174208799493, 0.8079031239853434, 0.832536052985976, 0.5534120288954022, 0.8392758604977217, 0.8379835333558839, 0.7850265065379014, 0.8339433523290098, 0.84358590455737, 0.8390646755085017]}, {\"categories\": [\"0\", \"1\", \"2\", \"3\", \"4\", \"5\", \"6\", \"7\", \"8\", \"9\", \"10\", \"11\", \"12\", \"13\", \"14\", \"15\", \"16\", \"17\", \"18\", \"19\", \"20\", \"21\", \"22\", \"23\", \"24\", \"25\", \"26\", \"27\", \"28\", \"29\", \"30\", \"31\", \"32\", \"33\", \"34\", \"35\", \"36\", \"37\", \"38\", \"39\", \"41\", \"42\"], \"mode\": \"lines\", \"name\": \"f1_score_weighted_max\", \"stepped\": true, \"type\": \"scatter\", \"data\": [0.8333388901455894, 0.8342588560383983, 0.8342588560383983, 0.8342588560383983, 0.8368641866311949, 0.8368641866311949, 0.8368641866311949, 0.8368641866311949, 0.8368641866311949, 0.8368641866311949, 0.8368641866311949, 0.8368641866311949, 0.8368641866311949, 0.8368641866311949, 0.8368641866311949, 0.8368641866311949, 0.8368641866311949, 0.8368641866311949, 0.8368641866311949, 0.8368641866311949, 0.8403055001852227, 0.8403055001852227, 0.8403055001852227, 0.8403055001852227, 0.8403055001852227, 0.8403055001852227, 0.8403055001852227, 0.8403055001852227, 0.8452026258498364, 0.8452026258498364, 0.8452026258498364, 0.8452026258498364, 0.8452026258498364, 0.8452026258498364, 0.8452026258498364, 0.8452026258498364, 0.8452026258498364, 0.8452026258498364, 0.8452026258498364, 0.8452026258498364, 0.8452026258498364, 0.8452026258498364]}], \"weighted_accuracy\": [{\"categories\": [\"0\", \"1\", \"2\", \"3\", \"4\", \"5\", \"6\", \"7\", \"8\", \"9\", \"10\", \"11\", \"12\", \"13\", \"14\", \"15\", \"16\", \"17\", \"18\", \"19\", \"20\", \"21\", \"22\", \"23\", \"24\", \"25\", \"26\", \"27\", \"28\", \"29\", \"30\", \"31\", \"32\", \"33\", \"34\", \"35\", \"36\", \"37\", \"38\", \"39\", \"41\", \"42\"], \"mode\": \"markers\", \"name\": \"weighted_accuracy\", \"stepped\": false, \"type\": \"scatter\", \"data\": [0.8541321922200625, 0.8502962163535492, 0.8570582259043779, 0.8550458791171526, 0.8443235498350236, 0.8407091430391069, 0.8565431310044117, 0.8677903896464569, 0.8490443557479888, 0.8227930918585225, 0.8515264577397408, 0.8710283869414127, 0.8010794169685479, 0.8452325747397215, 0.8204024481242318, 0.6980167624045801, 0.8552428426823424, 0.7812442101878263, 0.8064180555072535, 0.8533454461004967, 0.8516292672805541, 0.8157141610915553, 0.8331251131990907, 0.8459073010338234, 0.8253536039603478, 0.7430547251695894, 0.8698785636398008, 0.8623704494763336, 0.8563486293013105, 0.8553190521046888, 0.5610574060917568, 0.8711136558919115, 0.8569395266107008, 0.8374748114765561, 0.8667174220455139, 0.7931711479234276, 0.8638755731729597, 0.8660898950798728, 0.8471290982063143, 0.8503893943344712, 0.8758864499109998, 0.8595258890940028]}, {\"categories\": [\"0\", \"1\", \"2\", \"3\", \"4\", \"5\", \"6\", \"7\", \"8\", \"9\", \"10\", \"11\", \"12\", \"13\", \"14\", \"15\", \"16\", \"17\", \"18\", \"19\", \"20\", \"21\", \"22\", \"23\", \"24\", \"25\", \"26\", \"27\", \"28\", \"29\", \"30\", \"31\", \"32\", \"33\", \"34\", \"35\", \"36\", \"37\", \"38\", \"39\", \"41\", \"42\"], \"mode\": \"lines\", \"name\": \"weighted_accuracy_max\", \"stepped\": true, \"type\": \"scatter\", \"data\": [0.8541321922200625, 0.8541321922200625, 0.8570582259043779, 0.8570582259043779, 0.8570582259043779, 0.8570582259043779, 0.8570582259043779, 0.8677903896464569, 0.8677903896464569, 0.8677903896464569, 0.8677903896464569, 0.8710283869414127, 0.8710283869414127, 0.8710283869414127, 0.8710283869414127, 0.8710283869414127, 0.8710283869414127, 0.8710283869414127, 0.8710283869414127, 0.8710283869414127, 0.8710283869414127, 0.8710283869414127, 0.8710283869414127, 0.8710283869414127, 0.8710283869414127, 0.8710283869414127, 0.8710283869414127, 0.8710283869414127, 0.8710283869414127, 0.8710283869414127, 0.8710283869414127, 0.8711136558919115, 0.8711136558919115, 0.8711136558919115, 0.8711136558919115, 0.8711136558919115, 0.8711136558919115, 0.8711136558919115, 0.8711136558919115, 0.8711136558919115, 0.8758864499109998, 0.8758864499109998]}], \"f1_score_micro\": [{\"categories\": [\"0\", \"1\", \"2\", \"3\", \"4\", \"5\", \"6\", \"7\", \"8\", \"9\", \"10\", \"11\", \"12\", \"13\", \"14\", \"15\", \"16\", \"17\", \"18\", \"19\", \"20\", \"21\", \"22\", \"23\", \"24\", \"25\", \"26\", \"27\", \"28\", \"29\", \"30\", \"31\", \"32\", \"33\", \"34\", \"35\", \"36\", \"37\", \"38\", \"39\", \"41\", \"42\"], \"mode\": \"markers\", \"name\": \"f1_score_micro\", \"stepped\": false, \"type\": \"scatter\", \"data\": [0.8359770114942527, 0.8358620689655172, 0.8327586206896551, 0.7962068965517242, 0.8358620689655172, 0.8190804597701149, 0.8325287356321839, 0.8359770114942527, 0.7959770114942529, 0.7659770114942528, 0.7862068965517242, 0.8260919540229885, 0.8124137931034483, 0.8258620689655173, 0.8093103448275862, 0.6389655172413793, 0.7926436781609195, 0.7689655172413794, 0.8090804597701149, 0.8258620689655173, 0.839080459770115, 0.8057471264367816, 0.8124137931034483, 0.8325287356321839, 0.8158620689655173, 0.6426436781609195, 0.8293103448275861, 0.8426436781609195, 0.8458620689655172, 0.8358620689655172, 0.5274712643678161, 0.8462068965517242, 0.8391954022988506, 0.8126436781609195, 0.8394252873563219, 0.6791954022988507, 0.8425287356321839, 0.8427586206896551, 0.8026436781609195, 0.8358620689655172, 0.849425287356322, 0.842528735632184]}, {\"categories\": [\"0\", \"1\", \"2\", \"3\", \"4\", \"5\", \"6\", \"7\", \"8\", \"9\", \"10\", \"11\", \"12\", \"13\", \"14\", \"15\", \"16\", \"17\", \"18\", \"19\", \"20\", \"21\", \"22\", \"23\", \"24\", \"25\", \"26\", \"27\", \"28\", \"29\", \"30\", \"31\", \"32\", \"33\", \"34\", \"35\", \"36\", \"37\", \"38\", \"39\", \"41\", \"42\"], \"mode\": \"lines\", \"name\": \"f1_score_micro_max\", \"stepped\": true, \"type\": \"scatter\", \"data\": [0.8359770114942527, 0.8359770114942527, 0.8359770114942527, 0.8359770114942527, 0.8359770114942527, 0.8359770114942527, 0.8359770114942527, 0.8359770114942527, 0.8359770114942527, 0.8359770114942527, 0.8359770114942527, 0.8359770114942527, 0.8359770114942527, 0.8359770114942527, 0.8359770114942527, 0.8359770114942527, 0.8359770114942527, 0.8359770114942527, 0.8359770114942527, 0.8359770114942527, 0.839080459770115, 0.839080459770115, 0.839080459770115, 0.839080459770115, 0.839080459770115, 0.839080459770115, 0.839080459770115, 0.8426436781609195, 0.8458620689655172, 0.8458620689655172, 0.8458620689655172, 0.8462068965517242, 0.8462068965517242, 0.8462068965517242, 0.8462068965517242, 0.8462068965517242, 0.8462068965517242, 0.8462068965517242, 0.8462068965517242, 0.8462068965517242, 0.849425287356322, 0.849425287356322]}], \"recall_score_micro\": [{\"categories\": [\"0\", \"1\", \"2\", \"3\", \"4\", \"5\", \"6\", \"7\", \"8\", \"9\", \"10\", \"11\", \"12\", \"13\", \"14\", \"15\", \"16\", \"17\", \"18\", \"19\", \"20\", \"21\", \"22\", \"23\", \"24\", \"25\", \"26\", \"27\", \"28\", \"29\", \"30\", \"31\", \"32\", \"33\", \"34\", \"35\", \"36\", \"37\", \"38\", \"39\", \"41\", \"42\"], \"mode\": \"markers\", \"name\": \"recall_score_micro\", \"stepped\": false, \"type\": \"scatter\", \"data\": [0.8359770114942527, 0.8358620689655172, 0.8327586206896551, 0.796206896551724, 0.8358620689655172, 0.8190804597701149, 0.8325287356321839, 0.8359770114942527, 0.7959770114942529, 0.7659770114942528, 0.7862068965517242, 0.8260919540229885, 0.8124137931034483, 0.8258620689655173, 0.8093103448275862, 0.6389655172413793, 0.7926436781609195, 0.7689655172413794, 0.8090804597701149, 0.8258620689655173, 0.839080459770115, 0.8057471264367816, 0.8124137931034483, 0.8325287356321839, 0.8158620689655172, 0.6426436781609195, 0.8293103448275861, 0.8426436781609195, 0.8458620689655172, 0.8358620689655172, 0.5274712643678161, 0.8462068965517242, 0.8391954022988506, 0.8126436781609195, 0.8394252873563219, 0.6791954022988507, 0.8425287356321839, 0.8427586206896551, 0.8026436781609195, 0.8358620689655172, 0.849425287356322, 0.842528735632184]}, {\"categories\": [\"0\", \"1\", \"2\", \"3\", \"4\", \"5\", \"6\", \"7\", \"8\", \"9\", \"10\", \"11\", \"12\", \"13\", \"14\", \"15\", \"16\", \"17\", \"18\", \"19\", \"20\", \"21\", \"22\", \"23\", \"24\", \"25\", \"26\", \"27\", \"28\", \"29\", \"30\", \"31\", \"32\", \"33\", \"34\", \"35\", \"36\", \"37\", \"38\", \"39\", \"41\", \"42\"], \"mode\": \"lines\", \"name\": \"recall_score_micro_max\", \"stepped\": true, \"type\": \"scatter\", \"data\": [0.8359770114942527, 0.8359770114942527, 0.8359770114942527, 0.8359770114942527, 0.8359770114942527, 0.8359770114942527, 0.8359770114942527, 0.8359770114942527, 0.8359770114942527, 0.8359770114942527, 0.8359770114942527, 0.8359770114942527, 0.8359770114942527, 0.8359770114942527, 0.8359770114942527, 0.8359770114942527, 0.8359770114942527, 0.8359770114942527, 0.8359770114942527, 0.8359770114942527, 0.839080459770115, 0.839080459770115, 0.839080459770115, 0.839080459770115, 0.839080459770115, 0.839080459770115, 0.839080459770115, 0.8426436781609195, 0.8458620689655172, 0.8458620689655172, 0.8458620689655172, 0.8462068965517242, 0.8462068965517242, 0.8462068965517242, 0.8462068965517242, 0.8462068965517242, 0.8462068965517242, 0.8462068965517242, 0.8462068965517242, 0.8462068965517242, 0.849425287356322, 0.849425287356322]}], \"AUC_micro\": [{\"categories\": [\"0\", \"1\", \"2\", \"3\", \"4\", \"5\", \"6\", \"7\", \"8\", \"9\", \"10\", \"11\", \"12\", \"13\", \"14\", \"15\", \"16\", \"17\", \"18\", \"19\", \"20\", \"21\", \"22\", \"23\", \"24\", \"25\", \"26\", \"27\", \"28\", \"29\", \"30\", \"31\", \"32\", \"33\", \"34\", \"35\", \"36\", \"37\", \"38\", \"39\", \"41\", \"42\"], \"mode\": \"markers\", \"name\": \"AUC_micro\", \"stepped\": false, \"type\": \"scatter\", \"data\": [0.9035422116527941, 0.9042166732725592, 0.9085188267934999, 0.8766689126701017, 0.9102010833663627, 0.9034350640771569, 0.9061465186946757, 0.9152712379442463, 0.8748755449861274, 0.8096416963931828, 0.8712712379442463, 0.892421323820848, 0.893696393182719, 0.8828229620821773, 0.8848287752675386, 0.6464215880565465, 0.88923609459638, 0.8394488043334654, 0.8938619368476681, 0.9104369137270446, 0.9008561236623066, 0.885023781212842, 0.8950178359096312, 0.9157390672479853, 0.9045208085612367, 0.6638425155238473, 0.8922186550402961, 0.9176513409961687, 0.9134037521469152, 0.9154525036332408, 0.535835777513542, 0.9181093935790725, 0.914928127890078, 0.8799603646452636, 0.9140080591887964, 0.7925383802351698, 0.9182790328973447, 0.9125284713964857, 0.891526621746598, 0.9099593077024706, 0.9222750693618709, 0.9179593077024706]}, {\"categories\": [\"0\", \"1\", \"2\", \"3\", \"4\", \"5\", \"6\", \"7\", \"8\", \"9\", \"10\", \"11\", \"12\", \"13\", \"14\", \"15\", \"16\", \"17\", \"18\", \"19\", \"20\", \"21\", \"22\", \"23\", \"24\", \"25\", \"26\", \"27\", \"28\", \"29\", \"30\", \"31\", \"32\", \"33\", \"34\", \"35\", \"36\", \"37\", \"38\", \"39\", \"41\", \"42\"], \"mode\": \"lines\", \"name\": \"AUC_micro_max\", \"stepped\": true, \"type\": \"scatter\", \"data\": [0.9035422116527941, 0.9042166732725592, 0.9085188267934999, 0.9085188267934999, 0.9102010833663627, 0.9102010833663627, 0.9102010833663627, 0.9152712379442463, 0.9152712379442463, 0.9152712379442463, 0.9152712379442463, 0.9152712379442463, 0.9152712379442463, 0.9152712379442463, 0.9152712379442463, 0.9152712379442463, 0.9152712379442463, 0.9152712379442463, 0.9152712379442463, 0.9152712379442463, 0.9152712379442463, 0.9152712379442463, 0.9152712379442463, 0.9157390672479853, 0.9157390672479853, 0.9157390672479853, 0.9157390672479853, 0.9176513409961687, 0.9176513409961687, 0.9176513409961687, 0.9176513409961687, 0.9181093935790725, 0.9181093935790725, 0.9181093935790725, 0.9181093935790725, 0.9181093935790725, 0.9182790328973447, 0.9182790328973447, 0.9182790328973447, 0.9182790328973447, 0.9222750693618709, 0.9222750693618709]}], \"average_precision_score_weighted\": [{\"categories\": [\"0\", \"1\", \"2\", \"3\", \"4\", \"5\", \"6\", \"7\", \"8\", \"9\", \"10\", \"11\", \"12\", \"13\", \"14\", \"15\", \"16\", \"17\", \"18\", \"19\", \"20\", \"21\", \"22\", \"23\", \"24\", \"25\", \"26\", \"27\", \"28\", \"29\", \"30\", \"31\", \"32\", \"33\", \"34\", \"35\", \"36\", \"37\", \"38\", \"39\", \"41\", \"42\"], \"mode\": \"markers\", \"name\": \"average_precision_score_weighted\", \"stepped\": false, \"type\": \"scatter\", \"data\": [0.9061112830231934, 0.907154018724502, 0.9088702712188075, 0.901974150179892, 0.9124026372355709, 0.910688187044612, 0.9067340791108943, 0.921048420402267, 0.9026242908036444, 0.7960613547349917, 0.906998072278564, 0.9023300883044243, 0.918355646974549, 0.8904632340733517, 0.8922873021404204, 0.6358285919365991, 0.9241774044139062, 0.8628483179688482, 0.9038977362240675, 0.9235801903509394, 0.9097658500392714, 0.9084577899370165, 0.8976407743122378, 0.925739495732514, 0.912416819969061, 0.6084130356934421, 0.9104481826698162, 0.9236104078067617, 0.9197985892726658, 0.9228499176149343, 0.5841316418094344, 0.9240450785681368, 0.9218947438222017, 0.8912691577178837, 0.9185825590030376, 0.8125225281029852, 0.9256774729368169, 0.9183641826708975, 0.9138655634082126, 0.9214620848707193, 0.9338077377500668, 0.9283218898766343]}, {\"categories\": [\"0\", \"1\", \"2\", \"3\", \"4\", \"5\", \"6\", \"7\", \"8\", \"9\", \"10\", \"11\", \"12\", \"13\", \"14\", \"15\", \"16\", \"17\", \"18\", \"19\", \"20\", \"21\", \"22\", \"23\", \"24\", \"25\", \"26\", \"27\", \"28\", \"29\", \"30\", \"31\", \"32\", \"33\", \"34\", \"35\", \"36\", \"37\", \"38\", \"39\", \"41\", \"42\"], \"mode\": \"lines\", \"name\": \"average_precision_score_weighted_max\", \"stepped\": true, \"type\": \"scatter\", \"data\": [0.9061112830231934, 0.907154018724502, 0.9088702712188075, 0.9088702712188075, 0.9124026372355709, 0.9124026372355709, 0.9124026372355709, 0.921048420402267, 0.921048420402267, 0.921048420402267, 0.921048420402267, 0.921048420402267, 0.921048420402267, 0.921048420402267, 0.921048420402267, 0.921048420402267, 0.9241774044139062, 0.9241774044139062, 0.9241774044139062, 0.9241774044139062, 0.9241774044139062, 0.9241774044139062, 0.9241774044139062, 0.925739495732514, 0.925739495732514, 0.925739495732514, 0.925739495732514, 0.925739495732514, 0.925739495732514, 0.925739495732514, 0.925739495732514, 0.925739495732514, 0.925739495732514, 0.925739495732514, 0.925739495732514, 0.925739495732514, 0.925739495732514, 0.925739495732514, 0.925739495732514, 0.925739495732514, 0.9338077377500668, 0.9338077377500668]}], \"log_loss\": [{\"categories\": [\"0\", \"1\", \"2\", \"3\", \"4\", \"5\", \"6\", \"7\", \"8\", \"9\", \"10\", \"11\", \"12\", \"13\", \"14\", \"15\", \"16\", \"17\", \"18\", \"19\", \"20\", \"21\", \"22\", \"23\", \"24\", \"25\", \"26\", \"27\", \"28\", \"29\", \"30\", \"31\", \"32\", \"33\", \"34\", \"35\", \"36\", \"37\", \"38\", \"39\", \"41\", \"42\"], \"mode\": \"markers\", \"name\": \"log_loss\", \"stepped\": false, \"type\": \"scatter\", \"data\": [0.4772179826627182, 0.41764279466886123, 0.38274221807609987, 0.4653277488745675, 0.37354070968264186, 0.3977268217347552, 0.4947397598719657, 0.3809726302638424, 0.4618692650707592, 1.2837639362986895, 0.4693585680490465, 0.43969447261403793, 0.4286321440770829, 0.41905212860520785, 0.4569970434475212, 0.7617709563916407, 0.4637565617931202, 0.6401129504275558, 0.5321192290087662, 0.4652367527361444, 0.385560015259064, 0.5077194826548768, 0.47821421766028793, 0.3824520259590745, 0.4127230589863503, 0.6670262838764704, 0.4535041639358635, 0.3614498597114499, 0.40251629658220195, 0.36488031273931326, 0.6930718972825783, 0.3601344323199459, 0.3630664696403344, 0.42011709203731284, 0.38648789129146033, 0.6236275766193884, 0.35760979925594466, 0.36827212756125827, 0.4540073986633818, 0.4920934378969738, 0.41951009244079207, 0.37529922085282236]}, {\"categories\": [\"0\", \"1\", \"2\", \"3\", \"4\", \"5\", \"6\", \"7\", \"8\", \"9\", \"10\", \"11\", \"12\", \"13\", \"14\", \"15\", \"16\", \"17\", \"18\", \"19\", \"20\", \"21\", \"22\", \"23\", \"24\", \"25\", \"26\", \"27\", \"28\", \"29\", \"30\", \"31\", \"32\", \"33\", \"34\", \"35\", \"36\", \"37\", \"38\", \"39\", \"41\", \"42\"], \"mode\": \"lines\", \"name\": \"log_loss_min\", \"stepped\": true, \"type\": \"scatter\", \"data\": [0.4772179826627182, 0.41764279466886123, 0.38274221807609987, 0.38274221807609987, 0.37354070968264186, 0.37354070968264186, 0.37354070968264186, 0.37354070968264186, 0.37354070968264186, 0.37354070968264186, 0.37354070968264186, 0.37354070968264186, 0.37354070968264186, 0.37354070968264186, 0.37354070968264186, 0.37354070968264186, 0.37354070968264186, 0.37354070968264186, 0.37354070968264186, 0.37354070968264186, 0.37354070968264186, 0.37354070968264186, 0.37354070968264186, 0.37354070968264186, 0.37354070968264186, 0.37354070968264186, 0.37354070968264186, 0.3614498597114499, 0.3614498597114499, 0.3614498597114499, 0.3614498597114499, 0.3601344323199459, 0.3601344323199459, 0.3601344323199459, 0.3601344323199459, 0.3601344323199459, 0.35760979925594466, 0.35760979925594466, 0.35760979925594466, 0.35760979925594466, 0.35760979925594466, 0.35760979925594466]}], \"precision_score_weighted\": [{\"categories\": [\"0\", \"1\", \"2\", \"3\", \"4\", \"5\", \"6\", \"7\", \"8\", \"9\", \"10\", \"11\", \"12\", \"13\", \"14\", \"15\", \"16\", \"17\", \"18\", \"19\", \"20\", \"21\", \"22\", \"23\", \"24\", \"25\", \"26\", \"27\", \"28\", \"29\", \"30\", \"31\", \"32\", \"33\", \"34\", \"35\", \"36\", \"37\", \"38\", \"39\", \"41\", \"42\"], \"mode\": \"markers\", \"name\": \"precision_score_weighted\", \"stepped\": false, \"type\": \"scatter\", \"data\": [0.8443308716969533, 0.8506678986628277, 0.8434683512177988, 0.8277497848043824, 0.8488172074866721, 0.8336519510807368, 0.8406428198238544, 0.8466879539334562, 0.8238468515030235, 0.7837569262377359, 0.8252541871921182, 0.8453970200186841, 0.854142642394911, 0.8471006595557314, 0.829518216000225, 0.6261394969463244, 0.8306616168503975, 0.7934234358816861, 0.8376989104589189, 0.8350718081947862, 0.8546630064083682, 0.8256157321629685, 0.823089473196492, 0.8474840168299689, 0.8371842974674552, 0.5298995200202097, 0.8421278292671845, 0.8579308323111171, 0.8619331704280995, 0.8505545517700689, 0.36538195270181006, 0.8600331043920644, 0.8525631424973298, 0.8285688156465341, 0.8503813693802449, 0.47055053507728895, 0.8512281499249263, 0.8625896904121293, 0.8247316606167825, 0.8482883767351534, 0.8612728428742672, 0.8602126590412198]}, {\"categories\": [\"0\", \"1\", \"2\", \"3\", \"4\", \"5\", \"6\", \"7\", \"8\", \"9\", \"10\", \"11\", \"12\", \"13\", \"14\", \"15\", \"16\", \"17\", \"18\", \"19\", \"20\", \"21\", \"22\", \"23\", \"24\", \"25\", \"26\", \"27\", \"28\", \"29\", \"30\", \"31\", \"32\", \"33\", \"34\", \"35\", \"36\", \"37\", \"38\", \"39\", \"41\", \"42\"], \"mode\": \"lines\", \"name\": \"precision_score_weighted_max\", \"stepped\": true, \"type\": \"scatter\", \"data\": [0.8443308716969533, 0.8506678986628277, 0.8506678986628277, 0.8506678986628277, 0.8506678986628277, 0.8506678986628277, 0.8506678986628277, 0.8506678986628277, 0.8506678986628277, 0.8506678986628277, 0.8506678986628277, 0.8506678986628277, 0.854142642394911, 0.854142642394911, 0.854142642394911, 0.854142642394911, 0.854142642394911, 0.854142642394911, 0.854142642394911, 0.854142642394911, 0.8546630064083682, 0.8546630064083682, 0.8546630064083682, 0.8546630064083682, 0.8546630064083682, 0.8546630064083682, 0.8546630064083682, 0.8579308323111171, 0.8619331704280995, 0.8619331704280995, 0.8619331704280995, 0.8619331704280995, 0.8619331704280995, 0.8619331704280995, 0.8619331704280995, 0.8619331704280995, 0.8619331704280995, 0.8625896904121293, 0.8625896904121293, 0.8625896904121293, 0.8625896904121293, 0.8625896904121293]}], \"recall_score_weighted\": [{\"categories\": [\"0\", \"1\", \"2\", \"3\", \"4\", \"5\", \"6\", \"7\", \"8\", \"9\", \"10\", \"11\", \"12\", \"13\", \"14\", \"15\", \"16\", \"17\", \"18\", \"19\", \"20\", \"21\", \"22\", \"23\", \"24\", \"25\", \"26\", \"27\", \"28\", \"29\", \"30\", \"31\", \"32\", \"33\", \"34\", \"35\", \"36\", \"37\", \"38\", \"39\", \"41\", \"42\"], \"mode\": \"markers\", \"name\": \"recall_score_weighted\", \"stepped\": false, \"type\": \"scatter\", \"data\": [0.8359770114942527, 0.8358620689655172, 0.8327586206896551, 0.796206896551724, 0.8358620689655172, 0.8190804597701149, 0.8325287356321839, 0.8359770114942527, 0.7959770114942529, 0.7659770114942528, 0.7862068965517242, 0.8260919540229885, 0.8124137931034483, 0.8258620689655173, 0.8093103448275862, 0.6389655172413793, 0.7926436781609195, 0.7689655172413794, 0.8090804597701149, 0.8258620689655173, 0.839080459770115, 0.8057471264367816, 0.8124137931034483, 0.8325287356321839, 0.8158620689655172, 0.6426436781609195, 0.8293103448275861, 0.8426436781609195, 0.8458620689655172, 0.8358620689655172, 0.5274712643678161, 0.8462068965517242, 0.8391954022988506, 0.8126436781609195, 0.8394252873563219, 0.6791954022988507, 0.8425287356321839, 0.8427586206896551, 0.8026436781609195, 0.8358620689655172, 0.849425287356322, 0.842528735632184]}, {\"categories\": [\"0\", \"1\", \"2\", \"3\", \"4\", \"5\", \"6\", \"7\", \"8\", \"9\", \"10\", \"11\", \"12\", \"13\", \"14\", \"15\", \"16\", \"17\", \"18\", \"19\", \"20\", \"21\", \"22\", \"23\", \"24\", \"25\", \"26\", \"27\", \"28\", \"29\", \"30\", \"31\", \"32\", \"33\", \"34\", \"35\", \"36\", \"37\", \"38\", \"39\", \"41\", \"42\"], \"mode\": \"lines\", \"name\": \"recall_score_weighted_max\", \"stepped\": true, \"type\": \"scatter\", \"data\": [0.8359770114942527, 0.8359770114942527, 0.8359770114942527, 0.8359770114942527, 0.8359770114942527, 0.8359770114942527, 0.8359770114942527, 0.8359770114942527, 0.8359770114942527, 0.8359770114942527, 0.8359770114942527, 0.8359770114942527, 0.8359770114942527, 0.8359770114942527, 0.8359770114942527, 0.8359770114942527, 0.8359770114942527, 0.8359770114942527, 0.8359770114942527, 0.8359770114942527, 0.839080459770115, 0.839080459770115, 0.839080459770115, 0.839080459770115, 0.839080459770115, 0.839080459770115, 0.839080459770115, 0.8426436781609195, 0.8458620689655172, 0.8458620689655172, 0.8458620689655172, 0.8462068965517242, 0.8462068965517242, 0.8462068965517242, 0.8462068965517242, 0.8462068965517242, 0.8462068965517242, 0.8462068965517242, 0.8462068965517242, 0.8462068965517242, 0.849425287356322, 0.849425287356322]}], \"balanced_accuracy\": [{\"categories\": [\"0\", \"1\", \"2\", \"3\", \"4\", \"5\", \"6\", \"7\", \"8\", \"9\", \"10\", \"11\", \"12\", \"13\", \"14\", \"15\", \"16\", \"17\", \"18\", \"19\", \"20\", \"21\", \"22\", \"23\", \"24\", \"25\", \"26\", \"27\", \"28\", \"29\", \"30\", \"31\", \"32\", \"33\", \"34\", \"35\", \"36\", \"37\", \"38\", \"39\", \"41\", \"42\"], \"mode\": \"markers\", \"name\": \"balanced_accuracy\", \"stepped\": false, \"type\": \"scatter\", \"data\": [0.8077082895810014, 0.8130249020938379, 0.7927599623234636, 0.704752778685845, 0.8212472192503657, 0.7855224082109094, 0.7961171592518846, 0.7875382812267824, 0.7183223085711643, 0.6780357113964093, 0.6861229531338228, 0.7570729132614143, 0.826877437747861, 0.7952894687311163, 0.7886034061603283, 0.5513534193685796, 0.6929475203159414, 0.74977265380183, 0.8136133276207647, 0.7831479179668539, 0.8205639580671045, 0.78886811230976, 0.7801770314290338, 0.8114863653699466, 0.801598622296849, 0.483048350041771, 0.7687618828857387, 0.8123145846335206, 0.8291951448945156, 0.8040277567271275, 0.4963697121591858, 0.805065306134242, 0.8109795424826889, 0.7755593727401507, 0.7979210373595385, 0.5, 0.8086868790058149, 0.8036821673749591, 0.7318558269851174, 0.8138635203786805, 0.8089578338963351, 0.815910904979841]}, {\"categories\": [\"0\", \"1\", \"2\", \"3\", \"4\", \"5\", \"6\", \"7\", \"8\", \"9\", \"10\", \"11\", \"12\", \"13\", \"14\", \"15\", \"16\", \"17\", \"18\", \"19\", \"20\", \"21\", \"22\", \"23\", \"24\", \"25\", \"26\", \"27\", \"28\", \"29\", \"30\", \"31\", \"32\", \"33\", \"34\", \"35\", \"36\", \"37\", \"38\", \"39\", \"41\", \"42\"], \"mode\": \"lines\", \"name\": \"balanced_accuracy_max\", \"stepped\": true, \"type\": \"scatter\", \"data\": [0.8077082895810014, 0.8130249020938379, 0.8130249020938379, 0.8130249020938379, 0.8212472192503657, 0.8212472192503657, 0.8212472192503657, 0.8212472192503657, 0.8212472192503657, 0.8212472192503657, 0.8212472192503657, 0.8212472192503657, 0.826877437747861, 0.826877437747861, 0.826877437747861, 0.826877437747861, 0.826877437747861, 0.826877437747861, 0.826877437747861, 0.826877437747861, 0.826877437747861, 0.826877437747861, 0.826877437747861, 0.826877437747861, 0.826877437747861, 0.826877437747861, 0.826877437747861, 0.826877437747861, 0.8291951448945156, 0.8291951448945156, 0.8291951448945156, 0.8291951448945156, 0.8291951448945156, 0.8291951448945156, 0.8291951448945156, 0.8291951448945156, 0.8291951448945156, 0.8291951448945156, 0.8291951448945156, 0.8291951448945156, 0.8291951448945156, 0.8291951448945156]}], \"AUC_macro\": [{\"categories\": [\"0\", \"1\", \"2\", \"3\", \"4\", \"5\", \"6\", \"7\", \"8\", \"9\", \"10\", \"11\", \"12\", \"13\", \"14\", \"15\", \"16\", \"17\", \"18\", \"19\", \"20\", \"21\", \"22\", \"23\", \"24\", \"25\", \"26\", \"27\", \"28\", \"29\", \"30\", \"31\", \"32\", \"33\", \"34\", \"35\", \"36\", \"37\", \"38\", \"39\", \"41\", \"42\"], \"mode\": \"markers\", \"name\": \"AUC_macro\", \"stepped\": false, \"type\": \"scatter\", \"data\": [0.8840955354735103, 0.8847369443591411, 0.892562908066169, 0.8786956144478456, 0.9008121438862856, 0.8932941808297643, 0.8948556879269981, 0.8992559531789508, 0.8828244212584601, 0.7496161006793443, 0.8799838103163047, 0.8860300707301851, 0.9019319563181118, 0.8665518638493467, 0.8684400284582778, 0.5203053263648802, 0.9006457364040317, 0.8265960773420156, 0.8885534341177934, 0.9089099837731132, 0.8896168183414179, 0.8811318018641245, 0.8769336218785876, 0.9158928370553084, 0.8956985086783714, 0.4839030682217181, 0.9012169939836416, 0.9046702660527032, 0.9051232097041021, 0.9070536300126688, 0.48270009706688766, 0.9079881997759, 0.9037462671005578, 0.8679598190964896, 0.9022111417239849, 0.7700000282876713, 0.909737563083158, 0.8968982050812142, 0.8902217138696542, 0.904402837187391, 0.9218579454785403, 0.9147694561942844]}, {\"categories\": [\"0\", \"1\", \"2\", \"3\", \"4\", \"5\", \"6\", \"7\", \"8\", \"9\", \"10\", \"11\", \"12\", \"13\", \"14\", \"15\", \"16\", \"17\", \"18\", \"19\", \"20\", \"21\", \"22\", \"23\", \"24\", \"25\", \"26\", \"27\", \"28\", \"29\", \"30\", \"31\", \"32\", \"33\", \"34\", \"35\", \"36\", \"37\", \"38\", \"39\", \"41\", \"42\"], \"mode\": \"lines\", \"name\": \"AUC_macro_max\", \"stepped\": true, \"type\": \"scatter\", \"data\": [0.8840955354735103, 0.8847369443591411, 0.892562908066169, 0.892562908066169, 0.9008121438862856, 0.9008121438862856, 0.9008121438862856, 0.9008121438862856, 0.9008121438862856, 0.9008121438862856, 0.9008121438862856, 0.9008121438862856, 0.9019319563181118, 0.9019319563181118, 0.9019319563181118, 0.9019319563181118, 0.9019319563181118, 0.9019319563181118, 0.9019319563181118, 0.9089099837731132, 0.9089099837731132, 0.9089099837731132, 0.9089099837731132, 0.9158928370553084, 0.9158928370553084, 0.9158928370553084, 0.9158928370553084, 0.9158928370553084, 0.9158928370553084, 0.9158928370553084, 0.9158928370553084, 0.9158928370553084, 0.9158928370553084, 0.9158928370553084, 0.9158928370553084, 0.9158928370553084, 0.9158928370553084, 0.9158928370553084, 0.9158928370553084, 0.9158928370553084, 0.9218579454785403, 0.9218579454785403]}], \"precision_score_micro\": [{\"categories\": [\"0\", \"1\", \"2\", \"3\", \"4\", \"5\", \"6\", \"7\", \"8\", \"9\", \"10\", \"11\", \"12\", \"13\", \"14\", \"15\", \"16\", \"17\", \"18\", \"19\", \"20\", \"21\", \"22\", \"23\", \"24\", \"25\", \"26\", \"27\", \"28\", \"29\", \"30\", \"31\", \"32\", \"33\", \"34\", \"35\", \"36\", \"37\", \"38\", \"39\", \"41\", \"42\"], \"mode\": \"markers\", \"name\": \"precision_score_micro\", \"stepped\": false, \"type\": \"scatter\", \"data\": [0.8359770114942527, 0.8358620689655172, 0.8327586206896551, 0.796206896551724, 0.8358620689655172, 0.8190804597701149, 0.8325287356321839, 0.8359770114942527, 0.7959770114942529, 0.7659770114942528, 0.7862068965517242, 0.8260919540229885, 0.8124137931034483, 0.8258620689655173, 0.8093103448275862, 0.6389655172413793, 0.7926436781609195, 0.7689655172413794, 0.8090804597701149, 0.8258620689655173, 0.839080459770115, 0.8057471264367816, 0.8124137931034483, 0.8325287356321839, 0.8158620689655172, 0.6426436781609195, 0.8293103448275861, 0.8426436781609195, 0.8458620689655172, 0.8358620689655172, 0.5274712643678161, 0.8462068965517242, 0.8391954022988506, 0.8126436781609195, 0.8394252873563219, 0.6791954022988507, 0.8425287356321839, 0.8427586206896551, 0.8026436781609195, 0.8358620689655172, 0.849425287356322, 0.842528735632184]}, {\"categories\": [\"0\", \"1\", \"2\", \"3\", \"4\", \"5\", \"6\", \"7\", \"8\", \"9\", \"10\", \"11\", \"12\", \"13\", \"14\", \"15\", \"16\", \"17\", \"18\", \"19\", \"20\", \"21\", \"22\", \"23\", \"24\", \"25\", \"26\", \"27\", \"28\", \"29\", \"30\", \"31\", \"32\", \"33\", \"34\", \"35\", \"36\", \"37\", \"38\", \"39\", \"41\", \"42\"], \"mode\": \"lines\", \"name\": \"precision_score_micro_max\", \"stepped\": true, \"type\": \"scatter\", \"data\": [0.8359770114942527, 0.8359770114942527, 0.8359770114942527, 0.8359770114942527, 0.8359770114942527, 0.8359770114942527, 0.8359770114942527, 0.8359770114942527, 0.8359770114942527, 0.8359770114942527, 0.8359770114942527, 0.8359770114942527, 0.8359770114942527, 0.8359770114942527, 0.8359770114942527, 0.8359770114942527, 0.8359770114942527, 0.8359770114942527, 0.8359770114942527, 0.8359770114942527, 0.839080459770115, 0.839080459770115, 0.839080459770115, 0.839080459770115, 0.839080459770115, 0.839080459770115, 0.839080459770115, 0.8426436781609195, 0.8458620689655172, 0.8458620689655172, 0.8458620689655172, 0.8462068965517242, 0.8462068965517242, 0.8462068965517242, 0.8462068965517242, 0.8462068965517242, 0.8462068965517242, 0.8462068965517242, 0.8462068965517242, 0.8462068965517242, 0.849425287356322, 0.849425287356322]}], \"AUC_weighted\": [{\"categories\": [\"0\", \"1\", \"2\", \"3\", \"4\", \"5\", \"6\", \"7\", \"8\", \"9\", \"10\", \"11\", \"12\", \"13\", \"14\", \"15\", \"16\", \"17\", \"18\", \"19\", \"20\", \"21\", \"22\", \"23\", \"24\", \"25\", \"26\", \"27\", \"28\", \"29\", \"30\", \"31\", \"32\", \"33\", \"34\", \"35\", \"36\", \"37\", \"38\", \"39\", \"41\", \"42\"], \"mode\": \"markers\", \"name\": \"AUC_weighted\", \"stepped\": false, \"type\": \"scatter\", \"data\": [0.8840955354735103, 0.8847369443591411, 0.892562908066169, 0.8786956144478456, 0.9008121438862856, 0.8932941808297643, 0.894855687926998, 0.8992559531789508, 0.8828244212584601, 0.7496161006793443, 0.8799838103163046, 0.8860300707301851, 0.9019319563181118, 0.8665518638493467, 0.8684400284582778, 0.5203053263648802, 0.9006457364040316, 0.8265960773420156, 0.8885534341177934, 0.9089099837731132, 0.8896168183414179, 0.8811318018641245, 0.8769336218785876, 0.9158928370553084, 0.8956985086783714, 0.4839030682217181, 0.9012169939836415, 0.9046702660527032, 0.9051232097041023, 0.9070536300126688, 0.48270009706688766, 0.9079881997759, 0.9037462671005578, 0.8679598190964896, 0.9022111417239849, 0.7700000282876713, 0.909737563083158, 0.8968982050812142, 0.8902217138696542, 0.904402837187391, 0.9218579454785403, 0.9147694561942844]}, {\"categories\": [\"0\", \"1\", \"2\", \"3\", \"4\", \"5\", \"6\", \"7\", \"8\", \"9\", \"10\", \"11\", \"12\", \"13\", \"14\", \"15\", \"16\", \"17\", \"18\", \"19\", \"20\", \"21\", \"22\", \"23\", \"24\", \"25\", \"26\", \"27\", \"28\", \"29\", \"30\", \"31\", \"32\", \"33\", \"34\", \"35\", \"36\", \"37\", \"38\", \"39\", \"41\", \"42\"], \"mode\": \"lines\", \"name\": \"AUC_weighted_max\", \"stepped\": true, \"type\": \"scatter\", \"data\": [0.8840955354735103, 0.8847369443591411, 0.892562908066169, 0.892562908066169, 0.9008121438862856, 0.9008121438862856, 0.9008121438862856, 0.9008121438862856, 0.9008121438862856, 0.9008121438862856, 0.9008121438862856, 0.9008121438862856, 0.9019319563181118, 0.9019319563181118, 0.9019319563181118, 0.9019319563181118, 0.9019319563181118, 0.9019319563181118, 0.9019319563181118, 0.9089099837731132, 0.9089099837731132, 0.9089099837731132, 0.9089099837731132, 0.9158928370553084, 0.9158928370553084, 0.9158928370553084, 0.9158928370553084, 0.9158928370553084, 0.9158928370553084, 0.9158928370553084, 0.9158928370553084, 0.9158928370553084, 0.9158928370553084, 0.9158928370553084, 0.9158928370553084, 0.9158928370553084, 0.9158928370553084, 0.9158928370553084, 0.9158928370553084, 0.9158928370553084, 0.9218579454785403, 0.9218579454785403]}]}, \"metricName\": null, \"primaryMetricName\": \"AUC_weighted\", \"showLegend\": false}, \"run_metrics\": [{\"name\": \"experiment_status\", \"run_id\": \"AutoML_7d1e2152-412f-4c53-ac0c-3f4f05d0ed3f\", \"categories\": [0, 1, 2, 3, 4, 5, 6, 7, 8, 9, 10, 11, 12, 13], \"series\": [{\"data\": [\"DatasetEvaluation\", \"FeaturesGeneration\", \"DatasetFeaturization\", \"DatasetFeaturizationCompleted\", \"DatasetCrossValidationSplit\", \"ModelSelection\", \"BestRunExplainModel\", \"ModelExplanationDataSetSetup\", \"PickSurrogateModel\", \"EngineeredFeatureExplanations\", \"EngineeredFeatureExplanations\", \"RawFeaturesExplanations\", \"RawFeaturesExplanations\", \"BestRunExplainModel\"]}]}, {\"name\": \"experiment_status_description\", \"run_id\": \"AutoML_7d1e2152-412f-4c53-ac0c-3f4f05d0ed3f\", \"categories\": [0, 1, 2, 3, 4, 5, 6, 7, 8, 9, 10, 11, 12, 13], \"series\": [{\"data\": [\"Gathering dataset statistics.\", \"Generating features for the dataset.\", \"Beginning to fit featurizers and featurize the dataset.\", \"Completed fit featurizers and featurizing the dataset.\", \"Generating individually featurized CV splits.\", \"Beginning model selection.\", \"Best run model explanations started\", \"Model explanations data setup completed\", \"Choosing LightGBM as the surrogate model for explanations\", \"Computation of engineered features started\", \"Computation of engineered features completed\", \"Computation of raw features started\", \"Computation of raw features completed\", \"Best run model explanations completed\"]}]}, {\"name\": \"precision_score_macro\", \"run_id\": \"AutoML_7d1e2152-412f-4c53-ac0c-3f4f05d0ed3f\", \"categories\": [0], \"series\": [{\"data\": [0.8527702382158905]}]}, {\"name\": \"AUC_micro\", \"run_id\": \"AutoML_7d1e2152-412f-4c53-ac0c-3f4f05d0ed3f\", \"categories\": [0], \"series\": [{\"data\": [0.9222750693618709]}]}, {\"name\": \"recall_score_macro\", \"run_id\": \"AutoML_7d1e2152-412f-4c53-ac0c-3f4f05d0ed3f\", \"categories\": [0], \"series\": [{\"data\": [0.8089578338963351]}]}, {\"name\": \"recall_score_weighted\", \"run_id\": \"AutoML_7d1e2152-412f-4c53-ac0c-3f4f05d0ed3f\", \"categories\": [0], \"series\": [{\"data\": [0.849425287356322]}]}, {\"name\": \"weighted_accuracy\", \"run_id\": \"AutoML_7d1e2152-412f-4c53-ac0c-3f4f05d0ed3f\", \"categories\": [0], \"series\": [{\"data\": [0.8758864499109998]}]}, {\"name\": \"precision_score_weighted\", \"run_id\": \"AutoML_7d1e2152-412f-4c53-ac0c-3f4f05d0ed3f\", \"categories\": [0], \"series\": [{\"data\": [0.8612728428742672]}]}, {\"name\": \"f1_score_macro\", \"run_id\": \"AutoML_7d1e2152-412f-4c53-ac0c-3f4f05d0ed3f\", \"categories\": [0], \"series\": [{\"data\": [0.817037570981715]}]}, {\"name\": \"average_precision_score_weighted\", \"run_id\": \"AutoML_7d1e2152-412f-4c53-ac0c-3f4f05d0ed3f\", \"categories\": [0], \"series\": [{\"data\": [0.9338077377500668]}]}, {\"name\": \"AUC_weighted\", \"run_id\": \"AutoML_7d1e2152-412f-4c53-ac0c-3f4f05d0ed3f\", \"categories\": [0], \"series\": [{\"data\": [0.9218579454785403]}]}, {\"name\": \"balanced_accuracy\", \"run_id\": \"AutoML_7d1e2152-412f-4c53-ac0c-3f4f05d0ed3f\", \"categories\": [0], \"series\": [{\"data\": [0.8089578338963351]}]}, {\"name\": \"AUC_macro\", \"run_id\": \"AutoML_7d1e2152-412f-4c53-ac0c-3f4f05d0ed3f\", \"categories\": [0], \"series\": [{\"data\": [0.9218579454785403]}]}, {\"name\": \"accuracy\", \"run_id\": \"AutoML_7d1e2152-412f-4c53-ac0c-3f4f05d0ed3f\", \"categories\": [0], \"series\": [{\"data\": [0.849425287356322]}]}, {\"name\": \"precision_score_micro\", \"run_id\": \"AutoML_7d1e2152-412f-4c53-ac0c-3f4f05d0ed3f\", \"categories\": [0], \"series\": [{\"data\": [0.849425287356322]}]}, {\"name\": \"average_precision_score_macro\", \"run_id\": \"AutoML_7d1e2152-412f-4c53-ac0c-3f4f05d0ed3f\", \"categories\": [0], \"series\": [{\"data\": [0.9108967096230177]}]}, {\"name\": \"f1_score_weighted\", \"run_id\": \"AutoML_7d1e2152-412f-4c53-ac0c-3f4f05d0ed3f\", \"categories\": [0], \"series\": [{\"data\": [0.84358590455737]}]}, {\"name\": \"average_precision_score_micro\", \"run_id\": \"AutoML_7d1e2152-412f-4c53-ac0c-3f4f05d0ed3f\", \"categories\": [0], \"series\": [{\"data\": [0.9274960049064708]}]}, {\"name\": \"log_loss\", \"run_id\": \"AutoML_7d1e2152-412f-4c53-ac0c-3f4f05d0ed3f\", \"categories\": [0], \"series\": [{\"data\": [0.41951009244079207]}]}, {\"name\": \"f1_score_micro\", \"run_id\": \"AutoML_7d1e2152-412f-4c53-ac0c-3f4f05d0ed3f\", \"categories\": [0], \"series\": [{\"data\": [0.849425287356322]}]}, {\"name\": \"recall_score_micro\", \"run_id\": \"AutoML_7d1e2152-412f-4c53-ac0c-3f4f05d0ed3f\", \"categories\": [0], \"series\": [{\"data\": [0.849425287356322]}]}, {\"name\": \"matthews_correlation\", \"run_id\": \"AutoML_7d1e2152-412f-4c53-ac0c-3f4f05d0ed3f\", \"categories\": [0], \"series\": [{\"data\": [0.6585505541411006]}]}, {\"name\": \"norm_macro_recall\", \"run_id\": \"AutoML_7d1e2152-412f-4c53-ac0c-3f4f05d0ed3f\", \"categories\": [0], \"series\": [{\"data\": [0.61791566779267]}]}], \"run_logs\": \"\\nRun is completed.\", \"graph\": {}, \"widget_settings\": {\"childWidgetDisplay\": \"popup\", \"send_telemetry\": false, \"log_level\": \"INFO\", \"sdk_version\": \"1.20.0\"}, \"loading\": false}"
     },
     "metadata": {},
     "output_type": "display_data"
    },
    {
     "name": "stdout",
     "output_type": "stream",
     "text": [
      "\n",
      "Current status: FeaturesGeneration. Generating features for the dataset.\n",
      "Current status: DatasetCrossValidationSplit. Generating individually featurized CV splits.\n",
      "Current status: ModelSelection. Beginning model selection.\n",
      "\n",
      "****************************************************************************************************\n",
      "DATA GUARDRAILS: \n",
      "\n",
      "TYPE:         Cross validation\n",
      "STATUS:       DONE\n",
      "DESCRIPTION:  Each iteration of the trained model was validated through cross-validation.\n",
      "              \n",
      "DETAILS:      \n",
      "+---------------------------------+\n",
      "|Number of folds                  |\n",
      "+=================================+\n",
      "|10                               |\n",
      "+---------------------------------+\n",
      "\n",
      "****************************************************************************************************\n",
      "\n",
      "TYPE:         Class balancing detection\n",
      "STATUS:       PASSED\n",
      "DESCRIPTION:  Your inputs were analyzed, and all classes are balanced in your training data.\n",
      "              Learn more about imbalanced data: https://aka.ms/AutomatedMLImbalancedData\n",
      "\n",
      "****************************************************************************************************\n",
      "\n",
      "TYPE:         Missing feature values imputation\n",
      "STATUS:       PASSED\n",
      "DESCRIPTION:  No feature missing values were detected in the training data.\n",
      "              Learn more about missing value imputation: https://aka.ms/AutomatedMLFeaturization\n",
      "\n",
      "****************************************************************************************************\n",
      "\n",
      "TYPE:         High cardinality feature detection\n",
      "STATUS:       PASSED\n",
      "DESCRIPTION:  Your inputs were analyzed, and no high cardinality features were detected.\n",
      "              Learn more about high cardinality feature handling: https://aka.ms/AutomatedMLFeaturization\n",
      "\n",
      "****************************************************************************************************\n",
      "\n",
      "****************************************************************************************************\n",
      "ITERATION: The iteration being evaluated.\n",
      "PIPELINE: A summary description of the pipeline being evaluated.\n",
      "DURATION: Time taken for the current iteration.\n",
      "METRIC: The result of computing score on the fitted pipeline.\n",
      "BEST: The best observed score thus far.\n",
      "****************************************************************************************************\n",
      "\n",
      " ITERATION   PIPELINE                                       DURATION      METRIC      BEST\n",
      "         2   MinMaxScaler RandomForest                      0:00:48       0.8926    0.8926\n",
      "         0   MaxAbsScaler LightGBM                          0:00:52       0.8841    0.8926\n",
      "         1   MaxAbsScaler XGBoostClassifier                 0:01:03       0.8847    0.8926\n",
      "         3   RobustScaler ExtremeRandomTrees                0:00:50       0.8787    0.8926\n",
      "         4   MinMaxScaler RandomForest                      0:00:51       0.9008    0.9008\n",
      "         6   StandardScalerWrapper RandomForest             0:00:48       0.8949    0.9008\n",
      "         7   MinMaxScaler ExtremeRandomTrees                0:00:52       0.8993    0.9008\n",
      "         8   MinMaxScaler ExtremeRandomTrees                0:00:52       0.8828    0.9008\n",
      "         5   MinMaxScaler RandomForest                      0:00:58       0.8933    0.9008\n",
      "         9   SparseNormalizer KNN                           0:00:52       0.7496    0.9008\n",
      "        10   MinMaxScaler ExtremeRandomTrees                0:00:55       0.8800    0.9008\n",
      "        11   RobustScaler ExtremeRandomTrees                0:00:50       0.8860    0.9008\n",
      "        12   StandardScalerWrapper RandomForest             0:00:51       0.9019    0.9019\n",
      "        13   StandardScalerWrapper SGD                      0:00:50       0.8666    0.9019\n",
      "        14   RobustScaler RandomForest                      0:00:49       0.8684    0.9019\n",
      "        16   MinMaxScaler RandomForest                      0:00:49       0.9006    0.9019\n",
      "        15   StandardScalerWrapper KNN                      0:00:55       0.5203    0.9019\n",
      "        17   MinMaxScaler ExtremeRandomTrees                0:00:59       0.8266    0.9019\n",
      "        18   MaxAbsScaler RandomForest                      0:00:47       0.8886    0.9019\n",
      "        19   StandardScalerWrapper XGBoostClassifier        0:00:46       0.9089    0.9089\n",
      "        20   MaxAbsScaler RandomForest                      0:00:50       0.8896    0.9089\n",
      "        21   MaxAbsScaler ExtremeRandomTrees                0:00:52       0.8811    0.9089\n",
      "        22   MaxAbsScaler ExtremeRandomTrees                0:00:51       0.8769    0.9089\n",
      "        23   MinMaxScaler ExtremeRandomTrees                0:00:51       0.9159    0.9159\n",
      "        24   MaxAbsScaler ExtremeRandomTrees                0:00:55       0.8957    0.9159\n",
      "        26   RobustScaler LightGBM                          0:00:56       0.9012    0.9159\n",
      "        27   StandardScalerWrapper XGBoostClassifier        0:00:49       0.9047    0.9159\n",
      "        28   StandardScalerWrapper XGBoostClassifier        0:00:50       0.9051    0.9159\n",
      "        25   PCA XGBoostClassifier                          0:01:08       0.4839    0.9159\n",
      "        29   MaxAbsScaler LightGBM                          0:00:56       0.9071    0.9159\n",
      "        31   RobustScaler LightGBM                          0:00:55       0.9080    0.9159\n",
      "        32   MinMaxScaler LightGBM                          0:00:52       0.9037    0.9159\n",
      "        33   StandardScalerWrapper SVM                      0:00:49       0.8680    0.9159\n",
      "        34   StandardScalerWrapper XGBoostClassifier        0:00:46       0.9022    0.9159\n",
      "        30   PCA ExtremeRandomTrees                         0:01:54       0.4827    0.9159\n",
      "        36   MaxAbsScaler LightGBM                          0:01:26       0.9097    0.9159\n",
      "        35   StandardScalerWrapper ExtremeRandomTrees       0:01:27       0.7700    0.9159\n",
      "        37   RobustScaler GradientBoosting                  0:01:29       0.8969    0.9159\n",
      "        38   StandardScalerWrapper LightGBM                 0:01:26       0.8902    0.9159\n",
      "        39   StandardScalerWrapper XGBoostClassifier        0:00:41       0.9044    0.9159\n",
      "        40                                                  0:00:19          nan    0.9159\n",
      "        41    VotingEnsemble                                0:02:20       0.9219    0.9219\n",
      "        42    StackEnsemble                                 0:02:19       0.9148    0.9219\n"
     ]
    }
   ],
   "source": [
    "from azureml.widgets import RunDetails\n",
    "RunDetails(automl_run).show()\n",
    "automl_run.wait_for_completion(show_output = True)\n",
    "assert(automl_run.get_status() == \"Completed\")"
   ]
  },
  {
   "cell_type": "markdown",
   "metadata": {},
   "source": [
    "## Best Model\n",
    "\n",
    "TODO: In the cell below, get the best model from the automl experiments and display all the properties of the model.\n",
    "\n"
   ]
  },
  {
   "cell_type": "code",
   "execution_count": 12,
   "metadata": {
    "gather": {
     "logged": 1598431425670
    },
    "jupyter": {
     "outputs_hidden": false,
     "source_hidden": false
    },
    "nteract": {
     "transient": {
      "deleting": false
     }
    }
   },
   "outputs": [
    {
     "name": "stdout",
     "output_type": "stream",
     "text": [
      "Best Run ID:  AutoML_7d1e2152-412f-4c53-ac0c-3f4f05d0ed3f_41\n",
      "------------------------------\n",
      "AutoML best run AUC_weighted:  {'AUC_weighted': 0.9218579454785403}\n",
      "------------------------------\n",
      "Metrics:  {'weighted_accuracy': 0.8758864499109998, 'matthews_correlation': 0.6585505541411006, 'recall_score_micro': 0.849425287356322, 'f1_score_weighted': 0.84358590455737, 'norm_macro_recall': 0.61791566779267, 'AUC_micro': 0.9222750693618709, 'recall_score_macro': 0.8089578338963351, 'precision_score_weighted': 0.8612728428742672, 'average_precision_score_micro': 0.9274960049064708, 'AUC_macro': 0.9218579454785403, 'log_loss': 0.41951009244079207, 'precision_score_macro': 0.8527702382158905, 'precision_score_micro': 0.849425287356322, 'f1_score_macro': 0.817037570981715, 'recall_score_weighted': 0.849425287356322, 'average_precision_score_weighted': 0.9338077377500668, 'AUC_weighted': 0.9218579454785403, 'accuracy': 0.849425287356322, 'average_precision_score_macro': 0.9108967096230177, 'f1_score_micro': 0.849425287356322, 'balanced_accuracy': 0.8089578338963351, 'confusion_matrix': 'aml://artifactId/ExperimentRun/dcid.AutoML_7d1e2152-412f-4c53-ac0c-3f4f05d0ed3f_41/confusion_matrix', 'accuracy_table': 'aml://artifactId/ExperimentRun/dcid.AutoML_7d1e2152-412f-4c53-ac0c-3f4f05d0ed3f_41/accuracy_table'}\n",
      "------------------------------\n",
      "Fitted model and its hyperparameters :  ('prefittedsoftvotingclassifier', PreFittedSoftVotingClassifier(classification_labels=None,\n",
      "                              estimators=[('23',\n",
      "                                           Pipeline(memory=None,\n",
      "                                                    steps=[('minmaxscaler',\n",
      "                                                            MinMaxScaler(copy=True,\n",
      "                                                                         feature_range=(0,\n",
      "                                                                                        1))),\n",
      "                                                           ('extratreesclassifier',\n",
      "                                                            ExtraTreesClassifier(bootstrap=True,\n",
      "                                                                                 ccp_alpha=0.0,\n",
      "                                                                                 class_weight='balanced',\n",
      "                                                                                 criterion='gini',\n",
      "                                                                                 max_depth=None,\n",
      "                                                                                 max_features=None,\n",
      "                                                                                 max_leaf_nodes=None,\n",
      "                                                                                 max_samples=None,\n",
      "                                                                                 m...\n",
      "                                                                                 min_samples_split=0.056842105263157895,\n",
      "                                                                                 min_weight_fraction_leaf=0.0,\n",
      "                                                                                 n_estimators=25,\n",
      "                                                                                 n_jobs=1,\n",
      "                                                                                 oob_score=True,\n",
      "                                                                                 random_state=None,\n",
      "                                                                                 verbose=0,\n",
      "                                                                                 warm_start=False))],\n",
      "                                                    verbose=False))],\n",
      "                              flatten_transform=None,\n",
      "                              weights=[0.07692307692307693, 0.07692307692307693,\n",
      "                                       0.15384615384615385, 0.15384615384615385,\n",
      "                                       0.07692307692307693, 0.07692307692307693,\n",
      "                                       0.23076923076923078, 0.07692307692307693,\n",
      "                                       0.07692307692307693]))\n"
     ]
    }
   ],
   "source": [
    "# Retrieving and saving the best automl model\n",
    "automl_best_run, fitted_automl_model = automl_run.get_output() \n",
    "\n",
    "run_dict = automl_best_run.get_details()\n",
    "\n",
    "print(\"Best Run ID: \", run_dict[\"runId\"])\n",
    "print(\"---\"*10)\n",
    "print(\"AutoML best run AUC_weighted: \", automl_best_run.get_metrics(name=\"AUC_weighted\"))\n",
    "print(\"---\"*10)\n",
    "print(\"Metrics: \", automl_best_run.get_metrics())\n",
    "print(\"---\"*10)\n",
    "print(\"Fitted model and its hyperparameters : \", fitted_automl_model.steps[-1])\n",
    "\n"
   ]
  },
  {
   "cell_type": "code",
   "execution_count": 13,
   "metadata": {},
   "outputs": [
    {
     "name": "stdout",
     "output_type": "stream",
     "text": [
      "AutoML Run Summary:  [['StackEnsemble', 1, 0.9090671778259878], ['VotingEnsemble', 1, 0.9205699647945071], ['Failed', 2, nan], ['RandomForest', 16, 0.9154799974243909], ['LightGBM', 4, nan], ['XGBoostClassifier', 4, 0.9089099837731132], ['ExtremeRandomTrees', 9, 0.8976559833653083], ['KNN', 2, 0.7496161006793443], ['SGD', 1, 0.870688942657478]]\n"
     ]
    }
   ],
   "source": [
    "print(\"AutoML Run Summary: \", automl_run.summary())"
   ]
  },
  {
   "cell_type": "code",
   "execution_count": 13,
   "metadata": {
    "gather": {
     "logged": 1598431426111
    },
    "jupyter": {
     "outputs_hidden": false,
     "source_hidden": false
    },
    "nteract": {
     "transient": {
      "deleting": false
     }
    }
   },
   "outputs": [],
   "source": [
    "#TODO: Save the best model\n",
    "os.makedirs('outputs', exist_ok=True)\n",
    "\n",
    "model = automl_best_run.register_model(model_name = 'automl_best_model', model_path = './outputs/model.pkl')"
   ]
  },
  {
   "cell_type": "code",
   "execution_count": 15,
   "metadata": {},
   "outputs": [
    {
     "name": "stdout",
     "output_type": "stream",
     "text": [
      "Model(workspace=Workspace.create(name='quick-starts-ws-136370', subscription_id='610d6e37-4747-4a20-80eb-3aad70a55f43', resource_group='aml-quickstarts-136370'), name=automl_best_model, id=automl_best_model:1, version=1, tags={}, properties={})\n"
     ]
    }
   ],
   "source": [
    "print(model)"
   ]
  },
  {
   "cell_type": "markdown",
   "metadata": {},
   "source": [
    "## Model Deployment\n",
    "\n",
    "Remember you have to deploy only one of the two models you trained.. Perform the steps in the rest of this notebook only if you wish to deploy this model.\n",
    "\n",
    "TODO: In the cell below, register the model, create an inference config and deploy the model as a web service."
   ]
  },
  {
   "cell_type": "code",
   "execution_count": 16,
   "metadata": {},
   "outputs": [
    {
     "data": {
      "text/plain": [
       "['accuracy_table',\n",
       " 'automl_driver.py',\n",
       " 'azureml-logs/55_azureml-execution-tvmps_d0cb29efe9761e5ec53d53c7a02528adf3bac468acfc52112c8981ab02a2dd18_d.txt',\n",
       " 'azureml-logs/65_job_prep-tvmps_d0cb29efe9761e5ec53d53c7a02528adf3bac468acfc52112c8981ab02a2dd18_d.txt',\n",
       " 'azureml-logs/70_driver_log.txt',\n",
       " 'azureml-logs/75_job_post-tvmps_d0cb29efe9761e5ec53d53c7a02528adf3bac468acfc52112c8981ab02a2dd18_d.txt',\n",
       " 'confusion_matrix',\n",
       " 'logs/azureml/91_azureml.log',\n",
       " 'logs/azureml/azureml_automl.log',\n",
       " 'logs/azureml/dataprep/python_span_a672ee0e-a09a-48cd-8451-4fcf1a269df3.jsonl',\n",
       " 'logs/azureml/dataprep/python_span_ad15d4ec-ed0b-48d5-8768-a289ab3f72c3.jsonl',\n",
       " 'logs/azureml/job_prep_azureml.log',\n",
       " 'logs/azureml/job_release_azureml.log',\n",
       " 'outputs/conda_env_v_1_0_0.yml',\n",
       " 'outputs/env_dependencies.json',\n",
       " 'outputs/internal_cross_validated_models.pkl',\n",
       " 'outputs/model.pkl',\n",
       " 'outputs/pipeline_graph.json',\n",
       " 'outputs/scoring_file_v_1_0_0.py']"
      ]
     },
     "execution_count": 16,
     "metadata": {},
     "output_type": "execute_result"
    }
   ],
   "source": [
    "automl_best_run.get_file_names()"
   ]
  },
  {
   "cell_type": "code",
   "execution_count": 17,
   "metadata": {
    "gather": {
     "logged": 1598431435189
    },
    "jupyter": {
     "outputs_hidden": false,
     "source_hidden": false
    },
    "nteract": {
     "transient": {
      "deleting": false
     }
    }
   },
   "outputs": [],
   "source": [
    "# Reference: https://docs.microsoft.com/en-us/azure/machine-learning/how-to-deploy-existing-model\n",
    "# https://github.com/Azure/MachineLearningNotebooks/blob/master/how-to-use-azureml/deployment/deploy-to-cloud/model-register-and-deploy.ipynb\n",
    "\n",
    "# Downloading the scoring file \n",
    "\n",
    "automl_best_run.download_file('outputs/scoring_file_v_1_0_0.py' , 'score.py')\n"
   ]
  },
  {
   "cell_type": "code",
   "execution_count": 38,
   "metadata": {},
   "outputs": [],
   "source": [
    "# Downloading conda environment \n",
    "automl_best_run.download_file('outputs/conda_env_v_1_0_0.yml' , 'env.yml')"
   ]
  },
  {
   "cell_type": "code",
   "execution_count": 18,
   "metadata": {},
   "outputs": [
    {
     "name": "stdout",
     "output_type": "stream",
     "text": [
      "Tips: You can try get_logs(): https://aka.ms/debugimage#dockerlog or local deployment: https://aka.ms/debugimage#debug-locally to debug if deployment takes longer than 10 minutes.\n",
      "Running......................................\n",
      "Succeeded\n",
      "ACI service creation operation finished, operation \"Succeeded\"\n"
     ]
    }
   ],
   "source": [
    "from azureml.core import Model\n",
    "# Creating the environment\n",
    "#env=Environment.from_conda_specification(name='env',file_path = \"env.yml\")\n",
    "env = Environment.get(workspace=ws, name=\"AzureML-AutoML\")\n",
    "# Creating an inference config\n",
    "inference_config = InferenceConfig(entry_script=\"score.py\",\n",
    "                                   environment=env)\n",
    "\n",
    "# Deploying the model as a web service to an Azure Container Instance (ACI)\n",
    "service_name = 'hfprediction'\n",
    "aci_config = AciWebservice.deploy_configuration(cpu_cores=1, memory_gb=1)\n",
    "\n",
    "webservice = Model.deploy(workspace=ws,\n",
    "                       name=service_name,\n",
    "                       models=[model],\n",
    "                       inference_config=inference_config,\n",
    "                       deployment_config=aci_config)\n",
    "\n",
    "webservice.wait_for_deployment(show_output=True)\n"
   ]
  },
  {
   "cell_type": "code",
   "execution_count": 19,
   "metadata": {},
   "outputs": [
    {
     "name": "stdout",
     "output_type": "stream",
     "text": [
      "Healthy\n"
     ]
    }
   ],
   "source": [
    "print(webservice.state)"
   ]
  },
  {
   "cell_type": "code",
   "execution_count": 20,
   "metadata": {},
   "outputs": [
    {
     "name": "stdout",
     "output_type": "stream",
     "text": [
      "/usr/sbin/nginx: /azureml-envs/azureml_20a8278aa8b20dd48cc50f56a6d2586c/lib/libcrypto.so.1.0.0: no version information available (required by /usr/sbin/nginx)\n",
      "/usr/sbin/nginx: /azureml-envs/azureml_20a8278aa8b20dd48cc50f56a6d2586c/lib/libcrypto.so.1.0.0: no version information available (required by /usr/sbin/nginx)\n",
      "/usr/sbin/nginx: /azureml-envs/azureml_20a8278aa8b20dd48cc50f56a6d2586c/lib/libssl.so.1.0.0: no version information available (required by /usr/sbin/nginx)\n",
      "/usr/sbin/nginx: /azureml-envs/azureml_20a8278aa8b20dd48cc50f56a6d2586c/lib/libssl.so.1.0.0: no version information available (required by /usr/sbin/nginx)\n",
      "/usr/sbin/nginx: /azureml-envs/azureml_20a8278aa8b20dd48cc50f56a6d2586c/lib/libssl.so.1.0.0: no version information available (required by /usr/sbin/nginx)\n",
      "2021-01-28T10:44:11,792105074+00:00 - rsyslog/run \n",
      "2021-01-28T10:44:11,792106074+00:00 - gunicorn/run \n",
      "2021-01-28T10:44:11,794170252+00:00 - iot-server/run \n",
      "2021-01-28T10:44:11,797356974+00:00 - nginx/run \n",
      "rsyslogd: /azureml-envs/azureml_20a8278aa8b20dd48cc50f56a6d2586c/lib/libuuid.so.1: no version information available (required by rsyslogd)\n",
      "EdgeHubConnectionString and IOTEDGE_IOTHUBHOSTNAME are not set. Exiting...\n",
      "2021-01-28T10:44:12,005993839+00:00 - iot-server/finish 1 0\n",
      "2021-01-28T10:44:12,007255587+00:00 - Exit code 1 is normal. Not restarting iot-server.\n",
      "Starting gunicorn 19.9.0\n",
      "Listening at: http://127.0.0.1:31311 (12)\n",
      "Using worker: sync\n",
      "worker timeout is set to 300\n",
      "Booting worker with pid: 41\n",
      "SPARK_HOME not set. Skipping PySpark Initialization.\n",
      "Generating new fontManager, this may take some time...\n",
      "Initializing logger\n",
      "2021-01-28 10:44:13,497 | root | INFO | Starting up app insights client\n",
      "2021-01-28 10:44:13,497 | root | INFO | Starting up request id generator\n",
      "2021-01-28 10:44:13,497 | root | INFO | Starting up app insight hooks\n",
      "2021-01-28 10:44:13,498 | root | INFO | Invoking user's init function\n",
      "2021-01-28 10:44:16,406 | root | INFO | Users's init has completed successfully\n",
      "2021-01-28 10:44:16,496 | root | INFO | Skipping middleware: dbg_model_info as it's not enabled.\n",
      "2021-01-28 10:44:16,497 | root | INFO | Skipping middleware: dbg_resource_usage as it's not enabled.\n",
      "2021-01-28 10:44:16,498 | root | INFO | Scoring timeout is found from os.environ: 60000 ms\n",
      "2021-01-28 10:44:23,503 | root | INFO | 200\n",
      "127.0.0.1 - - [28/Jan/2021:10:44:23 +0000] \"GET /swagger.json HTTP/1.0\" 200 2836 \"-\" \"Go-http-client/1.1\"\n",
      "2021-01-28 10:44:27,162 | root | INFO | 200\n",
      "127.0.0.1 - - [28/Jan/2021:10:44:27 +0000] \"GET /swagger.json HTTP/1.0\" 200 2836 \"-\" \"Go-http-client/1.1\"\n",
      "\n"
     ]
    }
   ],
   "source": [
    "print(webservice.get_logs())"
   ]
  },
  {
   "cell_type": "markdown",
   "metadata": {
    "collapsed": true,
    "gather": {
     "logged": 1598431657736
    },
    "jupyter": {
     "outputs_hidden": false,
     "source_hidden": false
    },
    "nteract": {
     "transient": {
      "deleting": false
     }
    }
   },
   "source": [
    "TODO: In the cell below, send a request to the web service you deployed to test it."
   ]
  },
  {
   "cell_type": "code",
   "execution_count": 29,
   "metadata": {},
   "outputs": [
    {
     "name": "stdout",
     "output_type": "stream",
     "text": [
      "{\"data\": [{\"age\": 75.0, \"anaemia\": 0, \"creatinine_phosphokinase\": 582, \"diabetes\": 0, \"ejection_fraction\": 20, \"high_blood_pressure\": 1, \"platelets\": 265000.0, \"serum_creatinine\": 1.9, \"serum_sodium\": 130, \"sex\": 1, \"smoking\": 0, \"time\": 4}, {\"age\": 55.0, \"anaemia\": 0, \"creatinine_phosphokinase\": 7861, \"diabetes\": 0, \"ejection_fraction\": 38, \"high_blood_pressure\": 0, \"platelets\": 263358.03, \"serum_creatinine\": 1.1, \"serum_sodium\": 136, \"sex\": 1, \"smoking\": 0, \"time\": 6}]}\n"
     ]
    }
   ],
   "source": [
    "# Reference: https://github.com/Azure/MachineLearningNotebooks/blob/master/how-to-use-azureml/deployment/deploy-to-cloud/model-register-and-deploy.ipynb \n",
    "# and endpoint.py file used in Project 2\n",
    "scoring_uri = \"http://c27402a6-6dd0-4ce8-a9f4-ba6da94647c6.southcentralus.azurecontainer.io/score\"\n",
    "########## OR\n",
    "df = df.drop(columns=[\"DEATH_EVENT\"])\n",
    "\n",
    "input_data = json.dumps({\n",
    "    'data': df[0:2].to_dict(orient='records')\n",
    "})\n",
    "\n",
    "\n",
    "print(input_data)\n",
    "    "
   ]
  },
  {
   "cell_type": "code",
   "execution_count": 30,
   "metadata": {},
   "outputs": [],
   "source": [
    "with open(\"data.json\", \"w\") as _f:\n",
    "    _f.write(input_data)\n",
    "    \n",
    "#######################################################    \n",
    "\n",
    "# Set the content type\n",
    "headers = {'Content-Type': 'application/json'}\n",
    "# If authentication is enabled, set the authorization header\n",
    "# headers['Authorization'] = f'Bearer {key}'\n",
    "\n",
    "# Make the request and display the response\n",
    "resp = requests.post(scoring_uri, input_data, headers=headers)\n",
    "  "
   ]
  },
  {
   "cell_type": "code",
   "execution_count": 34,
   "metadata": {},
   "outputs": [
    {
     "name": "stdout",
     "output_type": "stream",
     "text": [
      "{\"result\": [1, 1]}\n"
     ]
    }
   ],
   "source": [
    "print(resp.json()) "
   ]
  },
  {
   "cell_type": "markdown",
   "metadata": {
    "collapsed": true,
    "gather": {
     "logged": 1598432765711
    },
    "jupyter": {
     "outputs_hidden": false,
     "source_hidden": false
    },
    "nteract": {
     "transient": {
      "deleting": false
     }
    }
   },
   "source": [
    "TODO: In the cell below, print the logs of the web service and delete the service"
   ]
  },
  {
   "cell_type": "code",
   "execution_count": 35,
   "metadata": {
    "jupyter": {
     "outputs_hidden": false,
     "source_hidden": false
    },
    "nteract": {
     "transient": {
      "deleting": false
     }
    }
   },
   "outputs": [
    {
     "data": {
      "text/plain": [
       "'/usr/sbin/nginx: /azureml-envs/azureml_20a8278aa8b20dd48cc50f56a6d2586c/lib/libcrypto.so.1.0.0: no version information available (required by /usr/sbin/nginx)\\n/usr/sbin/nginx: /azureml-envs/azureml_20a8278aa8b20dd48cc50f56a6d2586c/lib/libcrypto.so.1.0.0: no version information available (required by /usr/sbin/nginx)\\n/usr/sbin/nginx: /azureml-envs/azureml_20a8278aa8b20dd48cc50f56a6d2586c/lib/libssl.so.1.0.0: no version information available (required by /usr/sbin/nginx)\\n/usr/sbin/nginx: /azureml-envs/azureml_20a8278aa8b20dd48cc50f56a6d2586c/lib/libssl.so.1.0.0: no version information available (required by /usr/sbin/nginx)\\n/usr/sbin/nginx: /azureml-envs/azureml_20a8278aa8b20dd48cc50f56a6d2586c/lib/libssl.so.1.0.0: no version information available (required by /usr/sbin/nginx)\\n2021-01-28T10:44:11,792105074+00:00 - rsyslog/run \\n2021-01-28T10:44:11,792106074+00:00 - gunicorn/run \\n2021-01-28T10:44:11,794170252+00:00 - iot-server/run \\n2021-01-28T10:44:11,797356974+00:00 - nginx/run \\nrsyslogd: /azureml-envs/azureml_20a8278aa8b20dd48cc50f56a6d2586c/lib/libuuid.so.1: no version information available (required by rsyslogd)\\nEdgeHubConnectionString and IOTEDGE_IOTHUBHOSTNAME are not set. Exiting...\\n2021-01-28T10:44:12,005993839+00:00 - iot-server/finish 1 0\\n2021-01-28T10:44:12,007255587+00:00 - Exit code 1 is normal. Not restarting iot-server.\\nStarting gunicorn 19.9.0\\nListening at: http://127.0.0.1:31311 (12)\\nUsing worker: sync\\nworker timeout is set to 300\\nBooting worker with pid: 41\\nSPARK_HOME not set. Skipping PySpark Initialization.\\nGenerating new fontManager, this may take some time...\\nInitializing logger\\n2021-01-28 10:44:13,497 | root | INFO | Starting up app insights client\\n2021-01-28 10:44:13,497 | root | INFO | Starting up request id generator\\n2021-01-28 10:44:13,497 | root | INFO | Starting up app insight hooks\\n2021-01-28 10:44:13,498 | root | INFO | Invoking user\\'s init function\\n2021-01-28 10:44:16,406 | root | INFO | Users\\'s init has completed successfully\\n2021-01-28 10:44:16,496 | root | INFO | Skipping middleware: dbg_model_info as it\\'s not enabled.\\n2021-01-28 10:44:16,497 | root | INFO | Skipping middleware: dbg_resource_usage as it\\'s not enabled.\\n2021-01-28 10:44:16,498 | root | INFO | Scoring timeout is found from os.environ: 60000 ms\\n2021-01-28 10:44:23,503 | root | INFO | 200\\n127.0.0.1 - - [28/Jan/2021:10:44:23 +0000] \"GET /swagger.json HTTP/1.0\" 200 2836 \"-\" \"Go-http-client/1.1\"\\n2021-01-28 10:44:27,162 | root | INFO | 200\\n127.0.0.1 - - [28/Jan/2021:10:44:27 +0000] \"GET /swagger.json HTTP/1.0\" 200 2836 \"-\" \"Go-http-client/1.1\"\\n2021-01-28 10:45:33,126 | root | INFO | 200\\n127.0.0.1 - - [28/Jan/2021:10:45:33 +0000] \"GET /swagger.json HTTP/1.0\" 200 2836 \"-\" \"Go-http-client/1.1\"\\n2021-01-28 10:45:33,434 | root | INFO | 200\\n127.0.0.1 - - [28/Jan/2021:10:45:33 +0000] \"GET /swagger.json HTTP/1.0\" 200 2836 \"-\" \"Go-http-client/1.1\"\\n2021-01-28 10:50:21,140 | root | INFO | Validation Request Content-Type\\n2021-01-28 10:50:21,141 | root | INFO | Scoring Timer is set to 60.0 seconds\\n2021-01-28 10:50:21,151 | root | ERROR | Encountered Exception: Traceback (most recent call last):\\n  File \"/var/azureml-server/synchronous/routes.py\", line 64, in run_scoring\\n    response = invoke_user_with_timer(service_input, request_headers)\\n  File \"/var/azureml-server/synchronous/routes.py\", line 97, in invoke_user_with_timer\\n    result = user_main.run(**params)\\n  File \"/var/azureml-app/main.py\", line 21, in run\\n    return_obj = driver_module.run(**arguments)\\n  File \"/azureml-envs/azureml_20a8278aa8b20dd48cc50f56a6d2586c/lib/python3.6/site-packages/wrapt/wrappers.py\", line 564, in __call__\\n    args, kwargs)\\n  File \"/azureml-envs/azureml_20a8278aa8b20dd48cc50f56a6d2586c/lib/python3.6/site-packages/inference_schema/schema_decorators.py\", line 57, in decorator_input\\n    kwargs[param_name] = _deserialize_input_argument(kwargs[param_name], param_type, param_name)\\n  File \"/azureml-envs/azureml_20a8278aa8b20dd48cc50f56a6d2586c/lib/python3.6/site-packages/inference_schema/schema_decorators.py\", line 285, in _deserialize_input_argument\\n    input_data = param_type.deserialize_input(input_data)\\n  File \"/azureml-envs/azureml_20a8278aa8b20dd48cc50f56a6d2586c/lib/python3.6/site-packages/inference_schema/parameter_types/pandas_parameter_type.py\", line 79, in deserialize_input\\n    data_frame.shape[dim], dim, expected_shape[dim]))\\nValueError: Invalid input data frame: data frame has size 13 on dimension #1, while expected value is 12\\n\\nDuring handling of the above exception, another exception occurred:\\n\\nTraceback (most recent call last):\\n  File \"/azureml-envs/azureml_20a8278aa8b20dd48cc50f56a6d2586c/lib/python3.6/site-packages/flask/app.py\", line 1832, in full_dispatch_request\\n    rv = self.dispatch_request()\\n  File \"/azureml-envs/azureml_20a8278aa8b20dd48cc50f56a6d2586c/lib/python3.6/site-packages/flask/app.py\", line 1818, in dispatch_request\\n    return self.view_functions[rule.endpoint](**req.view_args)\\n  File \"/var/azureml-server/synchronous/routes.py\", line 43, in score_realtime\\n    return run_scoring(service_input, request.headers, request.environ.get(\\'REQUEST_ID\\', \\'00000000-0000-0000-0000-000000000000\\'))\\n  File \"/var/azureml-server/synchronous/routes.py\", line 77, in run_scoring\\n    raise RunFunctionException(str(exc))\\nrun_function_exception.RunFunctionException\\n\\n2021-01-28 10:50:21,151 | root | INFO | 500\\n127.0.0.1 - - [28/Jan/2021:10:50:21 +0000] \"POST /score HTTP/1.0\" 500 92 \"-\" \"python-requests/2.25.1\"\\nException in worker process\\nTraceback (most recent call last):\\n  File \"/azureml-envs/azureml_20a8278aa8b20dd48cc50f56a6d2586c/lib/python3.6/site-packages/gunicorn/arbiter.py\", line 583, in spawn_worker\\n    worker.init_process()\\n  File \"/azureml-envs/azureml_20a8278aa8b20dd48cc50f56a6d2586c/lib/python3.6/site-packages/gunicorn/workers/base.py\", line 134, in init_process\\n    self.run()\\n  File \"/azureml-envs/azureml_20a8278aa8b20dd48cc50f56a6d2586c/lib/python3.6/site-packages/gunicorn/workers/sync.py\", line 124, in run\\n    self.run_for_one(timeout)\\n  File \"/azureml-envs/azureml_20a8278aa8b20dd48cc50f56a6d2586c/lib/python3.6/site-packages/gunicorn/workers/sync.py\", line 83, in run_for_one\\n    self.wait(timeout)\\n  File \"/azureml-envs/azureml_20a8278aa8b20dd48cc50f56a6d2586c/lib/python3.6/site-packages/gunicorn/workers/sync.py\", line 35, in wait\\n    ret = select.select(self.wait_fds, [], [], timeout)\\n  File \"/var/azureml-server/routes_common.py\", line 162, in alarm_handler\\n    raise TimeoutException(error_message)\\ntimeout_exception.TimeoutException\\nWorker exiting (pid: 41)\\nworker timeout is set to 300\\nBooting worker with pid: 62\\nSPARK_HOME not set. Skipping PySpark Initialization.\\nInitializing logger\\n2021-01-28 10:51:22,653 | root | INFO | Starting up app insights client\\n2021-01-28 10:51:22,653 | root | INFO | Starting up request id generator\\n2021-01-28 10:51:22,653 | root | INFO | Starting up app insight hooks\\n2021-01-28 10:51:22,653 | root | INFO | Invoking user\\'s init function\\n2021-01-28 10:51:25,287 | root | INFO | Users\\'s init has completed successfully\\n2021-01-28 10:51:25,290 | root | INFO | Skipping middleware: dbg_model_info as it\\'s not enabled.\\n2021-01-28 10:51:25,290 | root | INFO | Skipping middleware: dbg_resource_usage as it\\'s not enabled.\\n2021-01-28 10:51:25,293 | root | INFO | Scoring timeout is found from os.environ: 60000 ms\\n2021-01-28 10:53:44,026 | root | INFO | Validation Request Content-Type\\n2021-01-28 10:53:44,026 | root | INFO | Scoring Timer is set to 60.0 seconds\\n2021-01-28 10:53:44,404 | root | INFO | 200\\n127.0.0.1 - - [28/Jan/2021:10:53:44 +0000] \"POST /score HTTP/1.0\" 200 22 \"-\" \"python-requests/2.25.1\"\\n2021-01-28 10:54:04,907 | root | INFO | Validation Request Content-Type\\n2021-01-28 10:54:04,908 | root | INFO | Scoring Timer is set to 60.0 seconds\\n2021-01-28 10:54:05,220 | root | INFO | 200\\n127.0.0.1 - - [28/Jan/2021:10:54:05 +0000] \"POST /score HTTP/1.0\" 200 22 \"-\" \"python-requests/2.25.1\"\\n2021-01-28 11:17:57,246 | root | INFO | 200\\n127.0.0.1 - - [28/Jan/2021:11:17:57 +0000] \"GET /swagger.json HTTP/1.0\" 200 2836 \"-\" \"Go-http-client/1.1\"\\n2021-01-28 11:17:57,506 | root | INFO | 200\\n127.0.0.1 - - [28/Jan/2021:11:17:57 +0000] \"GET /swagger.json HTTP/1.0\" 200 2836 \"-\" \"Go-http-client/1.1\"\\n'"
      ]
     },
     "execution_count": 35,
     "metadata": {},
     "output_type": "execute_result"
    }
   ],
   "source": [
    "# Retrieve logs for this Webservice\n",
    "webservice.get_logs()\n"
   ]
  },
  {
   "cell_type": "code",
   "execution_count": 36,
   "metadata": {},
   "outputs": [],
   "source": [
    "# Delete service\n",
    "webservice.delete()"
   ]
  },
  {
   "cell_type": "code",
   "execution_count": null,
   "metadata": {},
   "outputs": [],
   "source": []
  }
 ],
 "metadata": {
  "kernel_info": {
   "name": "python3"
  },
  "kernelspec": {
   "display_name": "Python 3",
   "language": "python",
   "name": "python3"
  },
  "language_info": {
   "codemirror_mode": {
    "name": "ipython",
    "version": 3
   },
   "file_extension": ".py",
   "mimetype": "text/x-python",
   "name": "python",
   "nbconvert_exporter": "python",
   "pygments_lexer": "ipython3",
   "version": "3.6.9"
  },
  "nteract": {
   "version": "nteract-front-end@1.0.0"
  }
 },
 "nbformat": 4,
 "nbformat_minor": 2
}
