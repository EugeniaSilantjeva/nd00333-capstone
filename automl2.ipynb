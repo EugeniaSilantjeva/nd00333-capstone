{
 "cells": [
  {
   "cell_type": "markdown",
   "metadata": {},
   "source": [
    "# Automated ML\n",
    "\n",
    "TODO: Import Dependencies. In the cell below, import all the dependencies that you will need to complete the project."
   ]
  },
  {
   "cell_type": "code",
   "execution_count": 1,
   "metadata": {
    "gather": {
     "logged": 1611751020619
    },
    "jupyter": {
     "outputs_hidden": false,
     "source_hidden": false
    },
    "nteract": {
     "transient": {
      "deleting": false
     }
    }
   },
   "outputs": [
    {
     "name": "stdout",
     "output_type": "stream",
     "text": [
      "SDK version: 1.20.0\n"
     ]
    }
   ],
   "source": [
    "import os\n",
    "import azureml\n",
    "from azureml.core.experiment import Experiment\n",
    "from azureml.core.workspace import Workspace\n",
    "from azureml.train.automl import AutoMLConfig\n",
    "from azureml.core.dataset import Dataset\n",
    "\n",
    "from azureml.core.compute import ComputeTarget, AmlCompute\n",
    "from azureml.core.compute_target import ComputeTargetException\n",
    "\n",
    "from azureml.core.model import InferenceConfig\n",
    "from azureml.core.environment import Environment\n",
    "from azureml.core.webservice import AciWebservice\n",
    "\n",
    "import requests\n",
    "import json\n",
    "\n",
    "# Check core SDK version number\n",
    "print(\"SDK version:\", azureml.core.VERSION)"
   ]
  },
  {
   "cell_type": "code",
   "execution_count": 2,
   "metadata": {
    "gather": {
     "logged": 1611751075151
    },
    "jupyter": {
     "outputs_hidden": false,
     "source_hidden": false
    },
    "nteract": {
     "transient": {
      "deleting": false
     }
    }
   },
   "outputs": [],
   "source": [
    "ws = Workspace.from_config()\n",
    "\n",
    "# Choosing a name for experiment\n",
    "experiment_name = 'AutoML-Experiment'\n",
    "\n",
    "experiment=Experiment(ws, experiment_name)\n",
    "#project_folder = './pipeline-project'\n"
   ]
  },
  {
   "cell_type": "markdown",
   "metadata": {},
   "source": [
    "# Compute Cluster"
   ]
  },
  {
   "cell_type": "code",
   "execution_count": 3,
   "metadata": {
    "gather": {
     "logged": 1611751083580
    }
   },
   "outputs": [
    {
     "name": "stdout",
     "output_type": "stream",
     "text": [
      "Found existing cluster, use it.\n",
      "Succeeded\n",
      "AmlCompute wait for completion finished\n",
      "\n",
      "Minimum number of nodes requested have been provisioned\n"
     ]
    }
   ],
   "source": [
    "cpu_cluster_name = \"cpu-cluster\"\n",
    "\n",
    "# Verifying that cluster does not exist already\n",
    "try:\n",
    "    cpu_cluster = ComputeTarget(workspace=ws, name=cpu_cluster_name)\n",
    "    print('Found existing cluster, use it.')\n",
    "except ComputeTargetException:\n",
    "    compute_config = AmlCompute.provisioning_configuration(vm_size='STANDARD_DS12_V2',\n",
    "                                                          max_nodes=4)\n",
    "    cpu_cluster = ComputeTarget.create(ws, cpu_cluster_name, compute_config)\n",
    "\n",
    "cpu_cluster.wait_for_completion(show_output=True)"
   ]
  },
  {
   "cell_type": "markdown",
   "metadata": {},
   "source": [
    "# Dataset\n",
    "\n",
    "\n",
    "TODO: In this markdown cell, give an overview of the dataset you are using. Also mention the task you will be performing.\n",
    "\n",
    "\n",
    "The dataset \"Heart Failure Prediction\" contains 12 clinical features of 299 patients with heart failure and a target variable \"DEATH EVENT\" indicating if the patient deceased during the follow-up period (boolean). Machine Learning can help detect and manage high-risk patients at an earlier stage. \n",
    "\n",
    "To solve this binary classification problem, I will use the 12 features to predict possible death events with the help of an ML algorithm.  \n",
    "\n",
    "\n",
    "TODO: Get data. In the cell below, write code to access the data you will be using in this project. Remember that the dataset needs to be external."
   ]
  },
  {
   "cell_type": "code",
   "execution_count": 4,
   "metadata": {
    "gather": {
     "logged": 1611751122602
    }
   },
   "outputs": [
    {
     "name": "stdout",
     "output_type": "stream",
     "text": [
      "The dataset is loaded\n"
     ]
    }
   ],
   "source": [
    "found = False\n",
    "key = \"Heart Failure Prediction\"\n",
    "description_text = \"Heart Failure Prediction DataSet for Udacity Project 3\"\n",
    "\n",
    "if key in ws.datasets.keys(): \n",
    "        found = True\n",
    "        dataset = ws.datasets[key] \n",
    "        print(\"The dataset is loaded\")\n",
    "\n",
    "if not found:\n",
    "        # Creating Dataset and register it into Workspace\n",
    "        example_data = \"https://raw.githubusercontent.com/EugeniaSilantjeva/nd00333-capstone/master/heart_failure_clinical_records_dataset.csv\"\n",
    "        dataset = Dataset.Tabular.from_delimited_files(example_data)        \n",
    "        # Registering Dataset in Workspace\n",
    "        dataset = dataset.register(workspace=ws,\n",
    "                                   name=key,\n",
    "                                   description=description_text)"
   ]
  },
  {
   "cell_type": "code",
   "execution_count": 5,
   "metadata": {
    "gather": {
     "logged": 1611751133399
    }
   },
   "outputs": [
    {
     "data": {
      "text/html": [
       "<div>\n",
       "<style scoped>\n",
       "    .dataframe tbody tr th:only-of-type {\n",
       "        vertical-align: middle;\n",
       "    }\n",
       "\n",
       "    .dataframe tbody tr th {\n",
       "        vertical-align: top;\n",
       "    }\n",
       "\n",
       "    .dataframe thead th {\n",
       "        text-align: right;\n",
       "    }\n",
       "</style>\n",
       "<table border=\"1\" class=\"dataframe\">\n",
       "  <thead>\n",
       "    <tr style=\"text-align: right;\">\n",
       "      <th></th>\n",
       "      <th>age</th>\n",
       "      <th>anaemia</th>\n",
       "      <th>creatinine_phosphokinase</th>\n",
       "      <th>diabetes</th>\n",
       "      <th>ejection_fraction</th>\n",
       "      <th>high_blood_pressure</th>\n",
       "      <th>platelets</th>\n",
       "      <th>serum_creatinine</th>\n",
       "      <th>serum_sodium</th>\n",
       "      <th>sex</th>\n",
       "      <th>smoking</th>\n",
       "      <th>time</th>\n",
       "      <th>DEATH_EVENT</th>\n",
       "    </tr>\n",
       "  </thead>\n",
       "  <tbody>\n",
       "    <tr>\n",
       "      <th>0</th>\n",
       "      <td>75.0</td>\n",
       "      <td>0</td>\n",
       "      <td>582</td>\n",
       "      <td>0</td>\n",
       "      <td>20</td>\n",
       "      <td>1</td>\n",
       "      <td>265000.00</td>\n",
       "      <td>1.9</td>\n",
       "      <td>130</td>\n",
       "      <td>1</td>\n",
       "      <td>0</td>\n",
       "      <td>4</td>\n",
       "      <td>1</td>\n",
       "    </tr>\n",
       "    <tr>\n",
       "      <th>1</th>\n",
       "      <td>55.0</td>\n",
       "      <td>0</td>\n",
       "      <td>7861</td>\n",
       "      <td>0</td>\n",
       "      <td>38</td>\n",
       "      <td>0</td>\n",
       "      <td>263358.03</td>\n",
       "      <td>1.1</td>\n",
       "      <td>136</td>\n",
       "      <td>1</td>\n",
       "      <td>0</td>\n",
       "      <td>6</td>\n",
       "      <td>1</td>\n",
       "    </tr>\n",
       "    <tr>\n",
       "      <th>2</th>\n",
       "      <td>65.0</td>\n",
       "      <td>0</td>\n",
       "      <td>146</td>\n",
       "      <td>0</td>\n",
       "      <td>20</td>\n",
       "      <td>0</td>\n",
       "      <td>162000.00</td>\n",
       "      <td>1.3</td>\n",
       "      <td>129</td>\n",
       "      <td>1</td>\n",
       "      <td>1</td>\n",
       "      <td>7</td>\n",
       "      <td>1</td>\n",
       "    </tr>\n",
       "    <tr>\n",
       "      <th>3</th>\n",
       "      <td>50.0</td>\n",
       "      <td>1</td>\n",
       "      <td>111</td>\n",
       "      <td>0</td>\n",
       "      <td>20</td>\n",
       "      <td>0</td>\n",
       "      <td>210000.00</td>\n",
       "      <td>1.9</td>\n",
       "      <td>137</td>\n",
       "      <td>1</td>\n",
       "      <td>0</td>\n",
       "      <td>7</td>\n",
       "      <td>1</td>\n",
       "    </tr>\n",
       "    <tr>\n",
       "      <th>4</th>\n",
       "      <td>65.0</td>\n",
       "      <td>1</td>\n",
       "      <td>160</td>\n",
       "      <td>1</td>\n",
       "      <td>20</td>\n",
       "      <td>0</td>\n",
       "      <td>327000.00</td>\n",
       "      <td>2.7</td>\n",
       "      <td>116</td>\n",
       "      <td>0</td>\n",
       "      <td>0</td>\n",
       "      <td>8</td>\n",
       "      <td>1</td>\n",
       "    </tr>\n",
       "  </tbody>\n",
       "</table>\n",
       "</div>"
      ],
      "text/plain": [
       "    age  anaemia  creatinine_phosphokinase  diabetes  ejection_fraction  \\\n",
       "0  75.0        0                       582         0                 20   \n",
       "1  55.0        0                      7861         0                 38   \n",
       "2  65.0        0                       146         0                 20   \n",
       "3  50.0        1                       111         0                 20   \n",
       "4  65.0        1                       160         1                 20   \n",
       "\n",
       "   high_blood_pressure  platelets  serum_creatinine  serum_sodium  sex  \\\n",
       "0                    1  265000.00               1.9           130    1   \n",
       "1                    0  263358.03               1.1           136    1   \n",
       "2                    0  162000.00               1.3           129    1   \n",
       "3                    0  210000.00               1.9           137    1   \n",
       "4                    0  327000.00               2.7           116    0   \n",
       "\n",
       "   smoking  time  DEATH_EVENT  \n",
       "0        0     4            1  \n",
       "1        0     6            1  \n",
       "2        1     7            1  \n",
       "3        0     7            1  \n",
       "4        0     8            1  "
      ]
     },
     "execution_count": 5,
     "metadata": {},
     "output_type": "execute_result"
    }
   ],
   "source": [
    "dataset.take(5).to_pandas_dataframe()"
   ]
  },
  {
   "cell_type": "code",
   "execution_count": 6,
   "metadata": {
    "gather": {
     "logged": 1611751138296
    }
   },
   "outputs": [
    {
     "data": {
      "text/html": [
       "<div>\n",
       "<style scoped>\n",
       "    .dataframe tbody tr th:only-of-type {\n",
       "        vertical-align: middle;\n",
       "    }\n",
       "\n",
       "    .dataframe tbody tr th {\n",
       "        vertical-align: top;\n",
       "    }\n",
       "\n",
       "    .dataframe thead th {\n",
       "        text-align: right;\n",
       "    }\n",
       "</style>\n",
       "<table border=\"1\" class=\"dataframe\">\n",
       "  <thead>\n",
       "    <tr style=\"text-align: right;\">\n",
       "      <th></th>\n",
       "      <th>age</th>\n",
       "      <th>anaemia</th>\n",
       "      <th>creatinine_phosphokinase</th>\n",
       "      <th>diabetes</th>\n",
       "      <th>ejection_fraction</th>\n",
       "      <th>high_blood_pressure</th>\n",
       "      <th>platelets</th>\n",
       "      <th>serum_creatinine</th>\n",
       "      <th>serum_sodium</th>\n",
       "      <th>sex</th>\n",
       "      <th>smoking</th>\n",
       "      <th>time</th>\n",
       "      <th>DEATH_EVENT</th>\n",
       "    </tr>\n",
       "  </thead>\n",
       "  <tbody>\n",
       "    <tr>\n",
       "      <th>count</th>\n",
       "      <td>299.000000</td>\n",
       "      <td>299.000000</td>\n",
       "      <td>299.000000</td>\n",
       "      <td>299.000000</td>\n",
       "      <td>299.000000</td>\n",
       "      <td>299.000000</td>\n",
       "      <td>299.000000</td>\n",
       "      <td>299.00000</td>\n",
       "      <td>299.000000</td>\n",
       "      <td>299.000000</td>\n",
       "      <td>299.00000</td>\n",
       "      <td>299.000000</td>\n",
       "      <td>299.00000</td>\n",
       "    </tr>\n",
       "    <tr>\n",
       "      <th>mean</th>\n",
       "      <td>60.833893</td>\n",
       "      <td>0.431438</td>\n",
       "      <td>581.839465</td>\n",
       "      <td>0.418060</td>\n",
       "      <td>38.083612</td>\n",
       "      <td>0.351171</td>\n",
       "      <td>263358.029264</td>\n",
       "      <td>1.39388</td>\n",
       "      <td>136.625418</td>\n",
       "      <td>0.648829</td>\n",
       "      <td>0.32107</td>\n",
       "      <td>130.260870</td>\n",
       "      <td>0.32107</td>\n",
       "    </tr>\n",
       "    <tr>\n",
       "      <th>std</th>\n",
       "      <td>11.894809</td>\n",
       "      <td>0.496107</td>\n",
       "      <td>970.287881</td>\n",
       "      <td>0.494067</td>\n",
       "      <td>11.834841</td>\n",
       "      <td>0.478136</td>\n",
       "      <td>97804.236869</td>\n",
       "      <td>1.03451</td>\n",
       "      <td>4.412477</td>\n",
       "      <td>0.478136</td>\n",
       "      <td>0.46767</td>\n",
       "      <td>77.614208</td>\n",
       "      <td>0.46767</td>\n",
       "    </tr>\n",
       "    <tr>\n",
       "      <th>min</th>\n",
       "      <td>40.000000</td>\n",
       "      <td>0.000000</td>\n",
       "      <td>23.000000</td>\n",
       "      <td>0.000000</td>\n",
       "      <td>14.000000</td>\n",
       "      <td>0.000000</td>\n",
       "      <td>25100.000000</td>\n",
       "      <td>0.50000</td>\n",
       "      <td>113.000000</td>\n",
       "      <td>0.000000</td>\n",
       "      <td>0.00000</td>\n",
       "      <td>4.000000</td>\n",
       "      <td>0.00000</td>\n",
       "    </tr>\n",
       "    <tr>\n",
       "      <th>25%</th>\n",
       "      <td>51.000000</td>\n",
       "      <td>0.000000</td>\n",
       "      <td>116.500000</td>\n",
       "      <td>0.000000</td>\n",
       "      <td>30.000000</td>\n",
       "      <td>0.000000</td>\n",
       "      <td>212500.000000</td>\n",
       "      <td>0.90000</td>\n",
       "      <td>134.000000</td>\n",
       "      <td>0.000000</td>\n",
       "      <td>0.00000</td>\n",
       "      <td>73.000000</td>\n",
       "      <td>0.00000</td>\n",
       "    </tr>\n",
       "    <tr>\n",
       "      <th>50%</th>\n",
       "      <td>60.000000</td>\n",
       "      <td>0.000000</td>\n",
       "      <td>250.000000</td>\n",
       "      <td>0.000000</td>\n",
       "      <td>38.000000</td>\n",
       "      <td>0.000000</td>\n",
       "      <td>262000.000000</td>\n",
       "      <td>1.10000</td>\n",
       "      <td>137.000000</td>\n",
       "      <td>1.000000</td>\n",
       "      <td>0.00000</td>\n",
       "      <td>115.000000</td>\n",
       "      <td>0.00000</td>\n",
       "    </tr>\n",
       "    <tr>\n",
       "      <th>75%</th>\n",
       "      <td>70.000000</td>\n",
       "      <td>1.000000</td>\n",
       "      <td>582.000000</td>\n",
       "      <td>1.000000</td>\n",
       "      <td>45.000000</td>\n",
       "      <td>1.000000</td>\n",
       "      <td>303500.000000</td>\n",
       "      <td>1.40000</td>\n",
       "      <td>140.000000</td>\n",
       "      <td>1.000000</td>\n",
       "      <td>1.00000</td>\n",
       "      <td>203.000000</td>\n",
       "      <td>1.00000</td>\n",
       "    </tr>\n",
       "    <tr>\n",
       "      <th>max</th>\n",
       "      <td>95.000000</td>\n",
       "      <td>1.000000</td>\n",
       "      <td>7861.000000</td>\n",
       "      <td>1.000000</td>\n",
       "      <td>80.000000</td>\n",
       "      <td>1.000000</td>\n",
       "      <td>850000.000000</td>\n",
       "      <td>9.40000</td>\n",
       "      <td>148.000000</td>\n",
       "      <td>1.000000</td>\n",
       "      <td>1.00000</td>\n",
       "      <td>285.000000</td>\n",
       "      <td>1.00000</td>\n",
       "    </tr>\n",
       "  </tbody>\n",
       "</table>\n",
       "</div>"
      ],
      "text/plain": [
       "              age     anaemia  creatinine_phosphokinase    diabetes  \\\n",
       "count  299.000000  299.000000                299.000000  299.000000   \n",
       "mean    60.833893    0.431438                581.839465    0.418060   \n",
       "std     11.894809    0.496107                970.287881    0.494067   \n",
       "min     40.000000    0.000000                 23.000000    0.000000   \n",
       "25%     51.000000    0.000000                116.500000    0.000000   \n",
       "50%     60.000000    0.000000                250.000000    0.000000   \n",
       "75%     70.000000    1.000000                582.000000    1.000000   \n",
       "max     95.000000    1.000000               7861.000000    1.000000   \n",
       "\n",
       "       ejection_fraction  high_blood_pressure      platelets  \\\n",
       "count         299.000000           299.000000     299.000000   \n",
       "mean           38.083612             0.351171  263358.029264   \n",
       "std            11.834841             0.478136   97804.236869   \n",
       "min            14.000000             0.000000   25100.000000   \n",
       "25%            30.000000             0.000000  212500.000000   \n",
       "50%            38.000000             0.000000  262000.000000   \n",
       "75%            45.000000             1.000000  303500.000000   \n",
       "max            80.000000             1.000000  850000.000000   \n",
       "\n",
       "       serum_creatinine  serum_sodium         sex    smoking        time  \\\n",
       "count         299.00000    299.000000  299.000000  299.00000  299.000000   \n",
       "mean            1.39388    136.625418    0.648829    0.32107  130.260870   \n",
       "std             1.03451      4.412477    0.478136    0.46767   77.614208   \n",
       "min             0.50000    113.000000    0.000000    0.00000    4.000000   \n",
       "25%             0.90000    134.000000    0.000000    0.00000   73.000000   \n",
       "50%             1.10000    137.000000    1.000000    0.00000  115.000000   \n",
       "75%             1.40000    140.000000    1.000000    1.00000  203.000000   \n",
       "max             9.40000    148.000000    1.000000    1.00000  285.000000   \n",
       "\n",
       "       DEATH_EVENT  \n",
       "count    299.00000  \n",
       "mean       0.32107  \n",
       "std        0.46767  \n",
       "min        0.00000  \n",
       "25%        0.00000  \n",
       "50%        0.00000  \n",
       "75%        1.00000  \n",
       "max        1.00000  "
      ]
     },
     "execution_count": 6,
     "metadata": {},
     "output_type": "execute_result"
    }
   ],
   "source": [
    "df = dataset.to_pandas_dataframe()\n",
    "df.describe()"
   ]
  },
  {
   "cell_type": "code",
   "execution_count": 7,
   "metadata": {
    "gather": {
     "logged": 1611751149085
    }
   },
   "outputs": [
    {
     "data": {
      "text/html": [
       "<div>\n",
       "<style scoped>\n",
       "    .dataframe tbody tr th:only-of-type {\n",
       "        vertical-align: middle;\n",
       "    }\n",
       "\n",
       "    .dataframe tbody tr th {\n",
       "        vertical-align: top;\n",
       "    }\n",
       "\n",
       "    .dataframe thead th {\n",
       "        text-align: right;\n",
       "    }\n",
       "</style>\n",
       "<table border=\"1\" class=\"dataframe\">\n",
       "  <thead>\n",
       "    <tr style=\"text-align: right;\">\n",
       "      <th></th>\n",
       "      <th>age</th>\n",
       "      <th>anaemia</th>\n",
       "      <th>creatinine_phosphokinase</th>\n",
       "      <th>diabetes</th>\n",
       "      <th>ejection_fraction</th>\n",
       "      <th>high_blood_pressure</th>\n",
       "      <th>platelets</th>\n",
       "      <th>serum_creatinine</th>\n",
       "      <th>serum_sodium</th>\n",
       "      <th>sex</th>\n",
       "      <th>smoking</th>\n",
       "      <th>time</th>\n",
       "      <th>DEATH_EVENT</th>\n",
       "    </tr>\n",
       "  </thead>\n",
       "  <tbody>\n",
       "  </tbody>\n",
       "</table>\n",
       "</div>"
      ],
      "text/plain": [
       "Empty DataFrame\n",
       "Columns: [age, anaemia, creatinine_phosphokinase, diabetes, ejection_fraction, high_blood_pressure, platelets, serum_creatinine, serum_sodium, sex, smoking, time, DEATH_EVENT]\n",
       "Index: []"
      ]
     },
     "execution_count": 7,
     "metadata": {},
     "output_type": "execute_result"
    }
   ],
   "source": [
    "df[df.isnull().any(axis=1)]"
   ]
  },
  {
   "cell_type": "code",
   "execution_count": 8,
   "metadata": {
    "gather": {
     "logged": 1611751152729
    }
   },
   "outputs": [
    {
     "data": {
      "text/plain": [
       "0    203\n",
       "1     96\n",
       "Name: DEATH_EVENT, dtype: int64"
      ]
     },
     "execution_count": 8,
     "metadata": {},
     "output_type": "execute_result"
    }
   ],
   "source": [
    "df[\"DEATH_EVENT\"].value_counts()"
   ]
  },
  {
   "cell_type": "raw",
   "metadata": {},
   "source": [
    "## AutoML Configuration\n",
    "\n",
    "TODO: Explain why you chose the automl settings and cofiguration you used below.\n",
    "\n",
    "automl settings: experiment_timeout_minutes - maximum amount of time the experiment can take. I set 20 minutes to save time. \n",
    "max_concurrent_iterations - maximum number of parallel runs executed on a AmlCompute cluster. Because it should be less than or equal to the number of nodes (5) that I set when creating the compute cluster, it is set to 5. The primary metric is Under the Curve Weighted, **AUC_weighted**, to deal with class imbalance.\n",
    "\n",
    "AutoMLConfig: This is a binary classification task. \"dataset\" is what I have imported earlier from the registered dataset in Azure Workspace. The label inside the dataset I'm trying to predict is \"DEATH_EVENT\". To save time and resources, the enable_early_stopping parameter is set to True.\n",
    "\n"
   ]
  },
  {
   "cell_type": "code",
   "execution_count": 9,
   "metadata": {
    "gather": {
     "logged": 1611751227386
    },
    "jupyter": {
     "outputs_hidden": false,
     "source_hidden": false
    },
    "nteract": {
     "transient": {
      "deleting": false
     }
    }
   },
   "outputs": [],
   "source": [
    "# TODO: Put your automl settings here\n",
    "automl_settings = {\n",
    "    \"experiment_timeout_minutes\": 20,\n",
    "    \"max_concurrent_iterations\": 5,\n",
    "    \"primary_metric\" : 'AUC_weighted'\n",
    "}\n",
    "\n",
    "# TODO: Put your automl config here\n",
    "automl_config = AutoMLConfig(compute_target=cpu_cluster,\n",
    "                             task = \"classification\",\n",
    "                             training_data=dataset,\n",
    "                             label_column_name=\"DEATH_EVENT\",   \n",
    "                             enable_early_stopping= True,\n",
    "                             featurization= 'auto',\n",
    "                             debug_log = \"automl_errors.log\",\n",
    "                             **automl_settings\n",
    "                            )\n"
   ]
  },
  {
   "cell_type": "code",
   "execution_count": 10,
   "metadata": {
    "gather": {
     "logged": 1611751237386
    },
    "jupyter": {
     "outputs_hidden": false,
     "source_hidden": false
    },
    "nteract": {
     "transient": {
      "deleting": false
     }
    }
   },
   "outputs": [
    {
     "name": "stdout",
     "output_type": "stream",
     "text": [
      "Running on remote.\n"
     ]
    }
   ],
   "source": [
    "# TODO: Submit your experiment\n",
    "automl_run = experiment.submit(automl_config)"
   ]
  },
  {
   "cell_type": "markdown",
   "metadata": {},
   "source": [
    "## Run Details\n",
    "\n",
    "\n",
    "TODO: In the cell below, use the `RunDetails` widget to show the different experiments."
   ]
  },
  {
   "cell_type": "code",
   "execution_count": 11,
   "metadata": {
    "gather": {
     "logged": 1598431121770
    },
    "jupyter": {
     "outputs_hidden": false,
     "source_hidden": false
    },
    "nteract": {
     "transient": {
      "deleting": false
     }
    }
   },
   "outputs": [
    {
     "data": {
      "application/vnd.jupyter.widget-view+json": {
       "model_id": "83c7af65a38e4d5fa729dd82441df10c",
       "version_major": 2,
       "version_minor": 0
      },
      "text/plain": [
       "_AutoMLWidget(widget_settings={'childWidgetDisplay': 'popup', 'send_telemetry': False, 'log_level': 'INFO', 's…"
      ]
     },
     "metadata": {},
     "output_type": "display_data"
    },
    {
     "data": {
      "application/aml.mini.widget.v1": "{\"status\": \"Completed\", \"workbench_run_details_uri\": \"https://ml.azure.com/experiments/AutoML-Experiment/runs/AutoML_5eee7fb6-1dc5-4ab9-a45b-1516ae28d001?wsid=/subscriptions/976ee174-3882-4721-b90a-b5fef6b72f24/resourcegroups/aml-quickstarts-136251/workspaces/quick-starts-ws-136251\", \"run_id\": \"AutoML_5eee7fb6-1dc5-4ab9-a45b-1516ae28d001\", \"run_properties\": {\"run_id\": \"AutoML_5eee7fb6-1dc5-4ab9-a45b-1516ae28d001\", \"created_utc\": \"2021-01-27T12:52:59.267291Z\", \"properties\": {\"num_iterations\": \"1000\", \"training_type\": \"TrainFull\", \"acquisition_function\": \"EI\", \"primary_metric\": \"AUC_weighted\", \"train_split\": \"0\", \"acquisition_parameter\": \"0\", \"num_cross_validation\": null, \"target\": \"cpu-cluster\", \"AMLSettingsJsonString\": \"{\\\"path\\\":null,\\\"name\\\":\\\"AutoML-Experiment\\\",\\\"subscription_id\\\":\\\"976ee174-3882-4721-b90a-b5fef6b72f24\\\",\\\"resource_group\\\":\\\"aml-quickstarts-136251\\\",\\\"workspace_name\\\":\\\"quick-starts-ws-136251\\\",\\\"region\\\":\\\"southcentralus\\\",\\\"compute_target\\\":\\\"cpu-cluster\\\",\\\"spark_service\\\":null,\\\"azure_service\\\":\\\"remote\\\",\\\"many_models\\\":false,\\\"pipeline_fetch_max_batch_size\\\":1,\\\"iterations\\\":1000,\\\"primary_metric\\\":\\\"AUC_weighted\\\",\\\"task_type\\\":\\\"classification\\\",\\\"data_script\\\":null,\\\"validation_size\\\":0.0,\\\"n_cross_validations\\\":null,\\\"y_min\\\":null,\\\"y_max\\\":null,\\\"num_classes\\\":null,\\\"featurization\\\":\\\"auto\\\",\\\"_ignore_package_version_incompatibilities\\\":false,\\\"is_timeseries\\\":false,\\\"max_cores_per_iteration\\\":1,\\\"max_concurrent_iterations\\\":5,\\\"iteration_timeout_minutes\\\":null,\\\"mem_in_mb\\\":null,\\\"enforce_time_on_windows\\\":false,\\\"experiment_timeout_minutes\\\":20,\\\"experiment_exit_score\\\":null,\\\"whitelist_models\\\":null,\\\"blacklist_algos\\\":[\\\"TensorFlowLinearClassifier\\\",\\\"TensorFlowDNN\\\"],\\\"supported_models\\\":[\\\"LightGBM\\\",\\\"RandomForest\\\",\\\"GradientBoosting\\\",\\\"XGBoostClassifier\\\",\\\"KNN\\\",\\\"AveragedPerceptronClassifier\\\",\\\"SVM\\\",\\\"DecisionTree\\\",\\\"TensorFlowDNN\\\",\\\"SGD\\\",\\\"LogisticRegression\\\",\\\"MultinomialNaiveBayes\\\",\\\"LinearSVM\\\",\\\"BernoulliNaiveBayes\\\",\\\"ExtremeRandomTrees\\\",\\\"TensorFlowLinearClassifier\\\"],\\\"auto_blacklist\\\":true,\\\"blacklist_samples_reached\\\":false,\\\"exclude_nan_labels\\\":true,\\\"verbosity\\\":20,\\\"_debug_log\\\":\\\"azureml_automl.log\\\",\\\"show_warnings\\\":false,\\\"model_explainability\\\":true,\\\"service_url\\\":null,\\\"sdk_url\\\":null,\\\"sdk_packages\\\":null,\\\"enable_onnx_compatible_models\\\":false,\\\"enable_split_onnx_featurizer_estimator_models\\\":false,\\\"vm_type\\\":\\\"STANDARD_DS12_V2\\\",\\\"telemetry_verbosity\\\":20,\\\"send_telemetry\\\":true,\\\"enable_dnn\\\":false,\\\"scenario\\\":\\\"SDK-1.13.0\\\",\\\"environment_label\\\":null,\\\"force_text_dnn\\\":false,\\\"enable_feature_sweeping\\\":true,\\\"enable_early_stopping\\\":true,\\\"early_stopping_n_iters\\\":10,\\\"metrics\\\":null,\\\"enable_ensembling\\\":true,\\\"enable_stack_ensembling\\\":true,\\\"ensemble_iterations\\\":15,\\\"enable_tf\\\":false,\\\"enable_subsampling\\\":null,\\\"subsample_seed\\\":null,\\\"enable_nimbusml\\\":false,\\\"enable_streaming\\\":false,\\\"force_streaming\\\":false,\\\"track_child_runs\\\":true,\\\"allowed_private_models\\\":[],\\\"label_column_name\\\":\\\"DEATH_EVENT\\\",\\\"weight_column_name\\\":null,\\\"cv_split_column_names\\\":null,\\\"enable_local_managed\\\":false,\\\"_local_managed_run_id\\\":null,\\\"cost_mode\\\":1,\\\"lag_length\\\":0,\\\"metric_operation\\\":\\\"maximize\\\",\\\"preprocess\\\":true}\", \"DataPrepJsonString\": \"{\\\\\\\"training_data\\\\\\\": \\\\\\\"{\\\\\\\\\\\\\\\"blocks\\\\\\\\\\\\\\\": [{\\\\\\\\\\\\\\\"id\\\\\\\\\\\\\\\": \\\\\\\\\\\\\\\"8ac6f875-eaca-490c-8d69-4c022e296fe8\\\\\\\\\\\\\\\", \\\\\\\\\\\\\\\"type\\\\\\\\\\\\\\\": \\\\\\\\\\\\\\\"Microsoft.DPrep.GetDatastoreFilesBlock\\\\\\\\\\\\\\\", \\\\\\\\\\\\\\\"arguments\\\\\\\\\\\\\\\": {\\\\\\\\\\\\\\\"datastores\\\\\\\\\\\\\\\": [{\\\\\\\\\\\\\\\"datastoreName\\\\\\\\\\\\\\\": \\\\\\\\\\\\\\\"workspaceblobstore\\\\\\\\\\\\\\\", \\\\\\\\\\\\\\\"path\\\\\\\\\\\\\\\": \\\\\\\\\\\\\\\"UI/01-27-2021_120247_UTC/heart_failure_clinical_records_dataset.csv\\\\\\\\\\\\\\\", \\\\\\\\\\\\\\\"resourceGroup\\\\\\\\\\\\\\\": \\\\\\\\\\\\\\\"aml-quickstarts-136251\\\\\\\\\\\\\\\", \\\\\\\\\\\\\\\"subscription\\\\\\\\\\\\\\\": \\\\\\\\\\\\\\\"976ee174-3882-4721-b90a-b5fef6b72f24\\\\\\\\\\\\\\\", \\\\\\\\\\\\\\\"workspaceName\\\\\\\\\\\\\\\": \\\\\\\\\\\\\\\"quick-starts-ws-136251\\\\\\\\\\\\\\\"}]}, \\\\\\\\\\\\\\\"localData\\\\\\\\\\\\\\\": {}, \\\\\\\\\\\\\\\"isEnabled\\\\\\\\\\\\\\\": true, \\\\\\\\\\\\\\\"name\\\\\\\\\\\\\\\": null, \\\\\\\\\\\\\\\"annotation\\\\\\\\\\\\\\\": null}, {\\\\\\\\\\\\\\\"id\\\\\\\\\\\\\\\": \\\\\\\\\\\\\\\"e1bf01af-825b-4c1e-b0e3-cdbd14292581\\\\\\\\\\\\\\\", \\\\\\\\\\\\\\\"type\\\\\\\\\\\\\\\": \\\\\\\\\\\\\\\"Microsoft.DPrep.ParseDelimitedBlock\\\\\\\\\\\\\\\", \\\\\\\\\\\\\\\"arguments\\\\\\\\\\\\\\\": {\\\\\\\\\\\\\\\"columnHeadersMode\\\\\\\\\\\\\\\": 1, \\\\\\\\\\\\\\\"fileEncoding\\\\\\\\\\\\\\\": 0, \\\\\\\\\\\\\\\"handleQuotedLineBreaks\\\\\\\\\\\\\\\": false, \\\\\\\\\\\\\\\"preview\\\\\\\\\\\\\\\": false, \\\\\\\\\\\\\\\"separator\\\\\\\\\\\\\\\": \\\\\\\\\\\\\\\",\\\\\\\\\\\\\\\", \\\\\\\\\\\\\\\"skipRows\\\\\\\\\\\\\\\": 0, \\\\\\\\\\\\\\\"skipRowsMode\\\\\\\\\\\\\\\": 0}, \\\\\\\\\\\\\\\"localData\\\\\\\\\\\\\\\": {}, \\\\\\\\\\\\\\\"isEnabled\\\\\\\\\\\\\\\": true, \\\\\\\\\\\\\\\"name\\\\\\\\\\\\\\\": null, \\\\\\\\\\\\\\\"annotation\\\\\\\\\\\\\\\": null}, {\\\\\\\\\\\\\\\"id\\\\\\\\\\\\\\\": \\\\\\\\\\\\\\\"38e147f9-5a1b-4b6e-be0d-dc51856fe269\\\\\\\\\\\\\\\", \\\\\\\\\\\\\\\"type\\\\\\\\\\\\\\\": \\\\\\\\\\\\\\\"Microsoft.DPrep.DropColumnsBlock\\\\\\\\\\\\\\\", \\\\\\\\\\\\\\\"arguments\\\\\\\\\\\\\\\": {\\\\\\\\\\\\\\\"columns\\\\\\\\\\\\\\\": {\\\\\\\\\\\\\\\"type\\\\\\\\\\\\\\\": 0, \\\\\\\\\\\\\\\"details\\\\\\\\\\\\\\\": {\\\\\\\\\\\\\\\"selectedColumns\\\\\\\\\\\\\\\": [\\\\\\\\\\\\\\\"Path\\\\\\\\\\\\\\\"]}}}, \\\\\\\\\\\\\\\"localData\\\\\\\\\\\\\\\": {}, \\\\\\\\\\\\\\\"isEnabled\\\\\\\\\\\\\\\": true, \\\\\\\\\\\\\\\"name\\\\\\\\\\\\\\\": null, \\\\\\\\\\\\\\\"annotation\\\\\\\\\\\\\\\": null}, {\\\\\\\\\\\\\\\"id\\\\\\\\\\\\\\\": \\\\\\\\\\\\\\\"eb5bb188-756c-413a-9142-672da879affd\\\\\\\\\\\\\\\", \\\\\\\\\\\\\\\"type\\\\\\\\\\\\\\\": \\\\\\\\\\\\\\\"Microsoft.DPrep.SetColumnTypesBlock\\\\\\\\\\\\\\\", \\\\\\\\\\\\\\\"arguments\\\\\\\\\\\\\\\": {\\\\\\\\\\\\\\\"columnConversion\\\\\\\\\\\\\\\": [{\\\\\\\\\\\\\\\"column\\\\\\\\\\\\\\\": {\\\\\\\\\\\\\\\"type\\\\\\\\\\\\\\\": 2, \\\\\\\\\\\\\\\"details\\\\\\\\\\\\\\\": {\\\\\\\\\\\\\\\"selectedColumn\\\\\\\\\\\\\\\": \\\\\\\\\\\\\\\"Path\\\\\\\\\\\\\\\"}}, \\\\\\\\\\\\\\\"typeProperty\\\\\\\\\\\\\\\": 0}, {\\\\\\\\\\\\\\\"column\\\\\\\\\\\\\\\": {\\\\\\\\\\\\\\\"type\\\\\\\\\\\\\\\": 2, \\\\\\\\\\\\\\\"details\\\\\\\\\\\\\\\": {\\\\\\\\\\\\\\\"selectedColumn\\\\\\\\\\\\\\\": \\\\\\\\\\\\\\\"age\\\\\\\\\\\\\\\"}}, \\\\\\\\\\\\\\\"typeProperty\\\\\\\\\\\\\\\": 3}, {\\\\\\\\\\\\\\\"column\\\\\\\\\\\\\\\": {\\\\\\\\\\\\\\\"type\\\\\\\\\\\\\\\": 2, \\\\\\\\\\\\\\\"details\\\\\\\\\\\\\\\": {\\\\\\\\\\\\\\\"selectedColumn\\\\\\\\\\\\\\\": \\\\\\\\\\\\\\\"anaemia\\\\\\\\\\\\\\\"}}, \\\\\\\\\\\\\\\"typeProperty\\\\\\\\\\\\\\\": 2}, {\\\\\\\\\\\\\\\"column\\\\\\\\\\\\\\\": {\\\\\\\\\\\\\\\"type\\\\\\\\\\\\\\\": 2, \\\\\\\\\\\\\\\"details\\\\\\\\\\\\\\\": {\\\\\\\\\\\\\\\"selectedColumn\\\\\\\\\\\\\\\": \\\\\\\\\\\\\\\"creatinine_phosphokinase\\\\\\\\\\\\\\\"}}, \\\\\\\\\\\\\\\"typeProperty\\\\\\\\\\\\\\\": 2}, {\\\\\\\\\\\\\\\"column\\\\\\\\\\\\\\\": {\\\\\\\\\\\\\\\"type\\\\\\\\\\\\\\\": 2, \\\\\\\\\\\\\\\"details\\\\\\\\\\\\\\\": {\\\\\\\\\\\\\\\"selectedColumn\\\\\\\\\\\\\\\": \\\\\\\\\\\\\\\"diabetes\\\\\\\\\\\\\\\"}}, \\\\\\\\\\\\\\\"typeProperty\\\\\\\\\\\\\\\": 2}, {\\\\\\\\\\\\\\\"column\\\\\\\\\\\\\\\": {\\\\\\\\\\\\\\\"type\\\\\\\\\\\\\\\": 2, \\\\\\\\\\\\\\\"details\\\\\\\\\\\\\\\": {\\\\\\\\\\\\\\\"selectedColumn\\\\\\\\\\\\\\\": \\\\\\\\\\\\\\\"ejection_fraction\\\\\\\\\\\\\\\"}}, \\\\\\\\\\\\\\\"typeProperty\\\\\\\\\\\\\\\": 2}, {\\\\\\\\\\\\\\\"column\\\\\\\\\\\\\\\": {\\\\\\\\\\\\\\\"type\\\\\\\\\\\\\\\": 2, \\\\\\\\\\\\\\\"details\\\\\\\\\\\\\\\": {\\\\\\\\\\\\\\\"selectedColumn\\\\\\\\\\\\\\\": \\\\\\\\\\\\\\\"high_blood_pressure\\\\\\\\\\\\\\\"}}, \\\\\\\\\\\\\\\"typeProperty\\\\\\\\\\\\\\\": 2}, {\\\\\\\\\\\\\\\"column\\\\\\\\\\\\\\\": {\\\\\\\\\\\\\\\"type\\\\\\\\\\\\\\\": 2, \\\\\\\\\\\\\\\"details\\\\\\\\\\\\\\\": {\\\\\\\\\\\\\\\"selectedColumn\\\\\\\\\\\\\\\": \\\\\\\\\\\\\\\"platelets\\\\\\\\\\\\\\\"}}, \\\\\\\\\\\\\\\"typeProperty\\\\\\\\\\\\\\\": 3}, {\\\\\\\\\\\\\\\"column\\\\\\\\\\\\\\\": {\\\\\\\\\\\\\\\"type\\\\\\\\\\\\\\\": 2, \\\\\\\\\\\\\\\"details\\\\\\\\\\\\\\\": {\\\\\\\\\\\\\\\"selectedColumn\\\\\\\\\\\\\\\": \\\\\\\\\\\\\\\"serum_creatinine\\\\\\\\\\\\\\\"}}, \\\\\\\\\\\\\\\"typeProperty\\\\\\\\\\\\\\\": 3}, {\\\\\\\\\\\\\\\"column\\\\\\\\\\\\\\\": {\\\\\\\\\\\\\\\"type\\\\\\\\\\\\\\\": 2, \\\\\\\\\\\\\\\"details\\\\\\\\\\\\\\\": {\\\\\\\\\\\\\\\"selectedColumn\\\\\\\\\\\\\\\": \\\\\\\\\\\\\\\"serum_sodium\\\\\\\\\\\\\\\"}}, \\\\\\\\\\\\\\\"typeProperty\\\\\\\\\\\\\\\": 2}, {\\\\\\\\\\\\\\\"column\\\\\\\\\\\\\\\": {\\\\\\\\\\\\\\\"type\\\\\\\\\\\\\\\": 2, \\\\\\\\\\\\\\\"details\\\\\\\\\\\\\\\": {\\\\\\\\\\\\\\\"selectedColumn\\\\\\\\\\\\\\\": \\\\\\\\\\\\\\\"sex\\\\\\\\\\\\\\\"}}, \\\\\\\\\\\\\\\"typeProperty\\\\\\\\\\\\\\\": 2}, {\\\\\\\\\\\\\\\"column\\\\\\\\\\\\\\\": {\\\\\\\\\\\\\\\"type\\\\\\\\\\\\\\\": 2, \\\\\\\\\\\\\\\"details\\\\\\\\\\\\\\\": {\\\\\\\\\\\\\\\"selectedColumn\\\\\\\\\\\\\\\": \\\\\\\\\\\\\\\"smoking\\\\\\\\\\\\\\\"}}, \\\\\\\\\\\\\\\"typeProperty\\\\\\\\\\\\\\\": 2}, {\\\\\\\\\\\\\\\"column\\\\\\\\\\\\\\\": {\\\\\\\\\\\\\\\"type\\\\\\\\\\\\\\\": 2, \\\\\\\\\\\\\\\"details\\\\\\\\\\\\\\\": {\\\\\\\\\\\\\\\"selectedColumn\\\\\\\\\\\\\\\": \\\\\\\\\\\\\\\"time\\\\\\\\\\\\\\\"}}, \\\\\\\\\\\\\\\"typeProperty\\\\\\\\\\\\\\\": 2}, {\\\\\\\\\\\\\\\"column\\\\\\\\\\\\\\\": {\\\\\\\\\\\\\\\"type\\\\\\\\\\\\\\\": 2, \\\\\\\\\\\\\\\"details\\\\\\\\\\\\\\\": {\\\\\\\\\\\\\\\"selectedColumn\\\\\\\\\\\\\\\": \\\\\\\\\\\\\\\"DEATH_EVENT\\\\\\\\\\\\\\\"}}, \\\\\\\\\\\\\\\"typeProperty\\\\\\\\\\\\\\\": 2}]}, \\\\\\\\\\\\\\\"localData\\\\\\\\\\\\\\\": {}, \\\\\\\\\\\\\\\"isEnabled\\\\\\\\\\\\\\\": true, \\\\\\\\\\\\\\\"name\\\\\\\\\\\\\\\": null, \\\\\\\\\\\\\\\"annotation\\\\\\\\\\\\\\\": null}], \\\\\\\\\\\\\\\"inspectors\\\\\\\\\\\\\\\": [], \\\\\\\\\\\\\\\"meta\\\\\\\\\\\\\\\": {\\\\\\\\\\\\\\\"savedDatasetId\\\\\\\\\\\\\\\": \\\\\\\\\\\\\\\"78b09506-aa1e-449f-adb9-854070415dd0\\\\\\\\\\\\\\\", \\\\\\\\\\\\\\\"datasetType\\\\\\\\\\\\\\\": \\\\\\\\\\\\\\\"tabular\\\\\\\\\\\\\\\", \\\\\\\\\\\\\\\"subscriptionId\\\\\\\\\\\\\\\": \\\\\\\\\\\\\\\"976ee174-3882-4721-b90a-b5fef6b72f24\\\\\\\\\\\\\\\", \\\\\\\\\\\\\\\"workspaceId\\\\\\\\\\\\\\\": \\\\\\\\\\\\\\\"58039c49-391d-4033-a175-4a6e70bee072\\\\\\\\\\\\\\\", \\\\\\\\\\\\\\\"workspaceLocation\\\\\\\\\\\\\\\": \\\\\\\\\\\\\\\"southcentralus\\\\\\\\\\\\\\\"}}\\\\\\\", \\\\\\\"activities\\\\\\\": 0}\", \"EnableSubsampling\": null, \"runTemplate\": \"AutoML\", \"azureml.runsource\": \"automl\", \"display_task_type\": \"classification\", \"dependencies_versions\": \"{\\\"azureml-widgets\\\": \\\"1.20.0\\\", \\\"azureml-train\\\": \\\"1.20.0\\\", \\\"azureml-train-restclients-hyperdrive\\\": \\\"1.20.0\\\", \\\"azureml-train-core\\\": \\\"1.20.0\\\", \\\"azureml-train-automl\\\": \\\"1.20.0\\\", \\\"azureml-train-automl-runtime\\\": \\\"1.20.0\\\", \\\"azureml-train-automl-client\\\": \\\"1.20.0\\\", \\\"azureml-tensorboard\\\": \\\"1.20.0\\\", \\\"azureml-telemetry\\\": \\\"1.20.0\\\", \\\"azureml-sdk\\\": \\\"1.20.0\\\", \\\"azureml-samples\\\": \\\"0+unknown\\\", \\\"azureml-pipeline\\\": \\\"1.20.0\\\", \\\"azureml-pipeline-steps\\\": \\\"1.20.0\\\", \\\"azureml-pipeline-core\\\": \\\"1.20.0\\\", \\\"azureml-opendatasets\\\": \\\"1.20.0\\\", \\\"azureml-model-management-sdk\\\": \\\"1.0.1b6.post1\\\", \\\"azureml-mlflow\\\": \\\"1.20.0.post1\\\", \\\"azureml-interpret\\\": \\\"1.20.0\\\", \\\"azureml-explain-model\\\": \\\"1.20.0\\\", \\\"azureml-defaults\\\": \\\"1.20.0\\\", \\\"azureml-dataset-runtime\\\": \\\"1.20.0\\\", \\\"azureml-dataprep\\\": \\\"2.7.3\\\", \\\"azureml-dataprep-rslex\\\": \\\"1.5.0\\\", \\\"azureml-dataprep-native\\\": \\\"27.0.0\\\", \\\"azureml-datadrift\\\": \\\"1.20.0\\\", \\\"azureml-core\\\": \\\"1.20.0\\\", \\\"azureml-contrib-services\\\": \\\"1.20.0\\\", \\\"azureml-contrib-server\\\": \\\"1.20.0\\\", \\\"azureml-contrib-reinforcementlearning\\\": \\\"1.20.0\\\", \\\"azureml-contrib-pipeline-steps\\\": \\\"1.20.0\\\", \\\"azureml-contrib-notebook\\\": \\\"1.20.0\\\", \\\"azureml-contrib-interpret\\\": \\\"1.20.0\\\", \\\"azureml-contrib-gbdt\\\": \\\"1.20.0\\\", \\\"azureml-contrib-fairness\\\": \\\"1.20.0\\\", \\\"azureml-contrib-dataset\\\": \\\"1.20.0\\\", \\\"azureml-cli-common\\\": \\\"1.20.0\\\", \\\"azureml-automl-runtime\\\": \\\"1.20.0\\\", \\\"azureml-automl-core\\\": \\\"1.20.0\\\", \\\"azureml-accel-models\\\": \\\"1.20.0\\\"}\", \"_aml_system_scenario_identification\": \"Remote.Parent\", \"ClientType\": \"SDK\", \"environment_cpu_name\": \"AzureML-AutoML\", \"environment_cpu_label\": \"prod\", \"environment_gpu_name\": \"AzureML-AutoML-GPU\", \"environment_gpu_label\": \"prod\", \"root_attribution\": \"automl\", \"attribution\": \"AutoML\", \"Orchestrator\": \"AutoML\", \"CancelUri\": \"https://southcentralus.experiments.azureml.net/jasmine/v1.0/subscriptions/976ee174-3882-4721-b90a-b5fef6b72f24/resourceGroups/aml-quickstarts-136251/providers/Microsoft.MachineLearningServices/workspaces/quick-starts-ws-136251/experimentids/dce0211f-07e2-4af2-8174-e9b5128f061a/cancel/AutoML_5eee7fb6-1dc5-4ab9-a45b-1516ae28d001\", \"ClientSdkVersion\": \"1.20.0.post1\", \"snapshotId\": \"00000000-0000-0000-0000-000000000000\", \"SetupRunId\": \"AutoML_5eee7fb6-1dc5-4ab9-a45b-1516ae28d001_setup\", \"SetupRunContainerId\": \"dcid.AutoML_5eee7fb6-1dc5-4ab9-a45b-1516ae28d001_setup\", \"FeaturizationRunJsonPath\": \"featurizer_container.json\", \"FeaturizationRunId\": \"AutoML_5eee7fb6-1dc5-4ab9-a45b-1516ae28d001_featurize\", \"ProblemInfoJsonString\": \"{\\\"dataset_num_categorical\\\": 0, \\\"is_sparse\\\": false, \\\"subsampling\\\": false, \\\"dataset_classes\\\": 2, \\\"dataset_features\\\": 12, \\\"dataset_samples\\\": 299, \\\"single_frequency_class_detected\\\": false}\", \"ModelExplainRunId\": \"AutoML_5eee7fb6-1dc5-4ab9-a45b-1516ae28d001_ModelExplain\"}, \"tags\": {\"model_explain_run\": \"best_run\", \"_aml_system_azureml.automlComponent\": \"AutoML\", \"pipeline_id\": \"\", \"score\": \"\", \"predicted_cost\": \"\", \"fit_time\": \"\", \"training_percent\": \"\", \"iteration\": \"\", \"run_preprocessor\": \"\", \"run_algorithm\": \"\", \"dynamic_whitelisting_iterations\": \"<25>;<30>;<35>;\", \"automl_best_child_run_id\": \"AutoML_5eee7fb6-1dc5-4ab9-a45b-1516ae28d001_38\", \"model_explain_best_run_child_id\": \"AutoML_5eee7fb6-1dc5-4ab9-a45b-1516ae28d001_38\"}, \"end_time_utc\": \"2021-01-27T13:08:27.248154Z\", \"status\": \"Completed\", \"log_files\": {}, \"log_groups\": [], \"run_duration\": \"0:15:27\"}, \"child_runs\": [{\"run_id\": \"AutoML_5eee7fb6-1dc5-4ab9-a45b-1516ae28d001_4\", \"run_number\": 49, \"metric\": null, \"status\": \"Completed\", \"run_type\": \"azureml.scriptrun\", \"training_percent\": \"100\", \"start_time\": \"2021-01-27T12:57:22.41483Z\", \"end_time\": \"2021-01-27T12:58:15.459389Z\", \"created_time\": \"2021-01-27T12:56:23.945698Z\", \"created_time_dt\": \"2021-01-27T12:56:23.945698Z\", \"duration\": \"0:01:51\", \"iteration\": \"4\", \"goal\": \"AUC_weighted_max\", \"run_name\": \"MinMaxScaler, RandomForest\", \"run_properties\": \"copy=True, feature_range=(0, 1\", \"primary_metric\": 0.91548, \"best_metric\": 0.91548}, {\"run_id\": \"AutoML_5eee7fb6-1dc5-4ab9-a45b-1516ae28d001_0\", \"run_number\": 50, \"metric\": null, \"status\": \"Completed\", \"run_type\": \"azureml.scriptrun\", \"training_percent\": \"100\", \"start_time\": \"2021-01-27T12:56:59.664349Z\", \"end_time\": \"2021-01-27T12:58:18.837686Z\", \"created_time\": \"2021-01-27T12:56:23.938997Z\", \"created_time_dt\": \"2021-01-27T12:56:23.938997Z\", \"duration\": \"0:01:54\", \"iteration\": \"0\", \"goal\": \"AUC_weighted_max\", \"run_name\": \"MaxAbsScaler, LightGBM\", \"run_properties\": \"copy=True\", \"primary_metric\": 0.88409554, \"best_metric\": 0.88409554}, {\"run_id\": \"AutoML_5eee7fb6-1dc5-4ab9-a45b-1516ae28d001_1\", \"run_number\": 51, \"metric\": null, \"status\": \"Completed\", \"run_type\": \"azureml.scriptrun\", \"training_percent\": \"100\", \"start_time\": \"2021-01-27T12:56:35.036335Z\", \"end_time\": \"2021-01-27T12:57:25.464282Z\", \"created_time\": \"2021-01-27T12:56:23.97577Z\", \"created_time_dt\": \"2021-01-27T12:56:23.97577Z\", \"duration\": \"0:01:01\", \"iteration\": \"1\", \"goal\": \"AUC_weighted_max\", \"run_name\": \"MaxAbsScaler, XGBoostClassifier\", \"run_properties\": \"copy=True\", \"primary_metric\": 0.88473694, \"best_metric\": 0.88473694}, {\"run_id\": \"AutoML_5eee7fb6-1dc5-4ab9-a45b-1516ae28d001_3\", \"run_number\": 52, \"metric\": null, \"status\": \"Completed\", \"run_type\": \"azureml.scriptrun\", \"training_percent\": \"100\", \"start_time\": \"2021-01-27T12:56:54.6909Z\", \"end_time\": \"2021-01-27T12:57:50.636669Z\", \"created_time\": \"2021-01-27T12:56:24.045076Z\", \"created_time_dt\": \"2021-01-27T12:56:24.045076Z\", \"duration\": \"0:01:26\", \"iteration\": \"3\", \"goal\": \"AUC_weighted_max\", \"run_name\": \"RobustScaler, ExtremeRandomTrees\", \"run_properties\": \"copy=True, quantile_range=[10, 90], with_centering=False,\\n             with_scaling=False\", \"primary_metric\": 0.88564997, \"best_metric\": 0.89931968}, {\"run_id\": \"AutoML_5eee7fb6-1dc5-4ab9-a45b-1516ae28d001_2\", \"run_number\": 53, \"metric\": null, \"status\": \"Completed\", \"run_type\": \"azureml.scriptrun\", \"training_percent\": \"100\", \"start_time\": \"2021-01-27T12:57:16.548939Z\", \"end_time\": \"2021-01-27T12:58:07.912767Z\", \"created_time\": \"2021-01-27T12:56:23.963945Z\", \"created_time_dt\": \"2021-01-27T12:56:23.963945Z\", \"duration\": \"0:01:43\", \"iteration\": \"2\", \"goal\": \"AUC_weighted_max\", \"run_name\": \"MinMaxScaler, RandomForest\", \"run_properties\": \"copy=True, feature_range=(0, 1\", \"primary_metric\": 0.89931968, \"best_metric\": 0.89931968}, {\"run_id\": \"AutoML_5eee7fb6-1dc5-4ab9-a45b-1516ae28d001_5\", \"run_number\": 59, \"metric\": null, \"status\": \"Completed\", \"run_type\": \"azureml.scriptrun\", \"training_percent\": \"100\", \"start_time\": \"2021-01-27T12:58:13.275756Z\", \"end_time\": \"2021-01-27T12:59:10.636223Z\", \"created_time\": \"2021-01-27T12:57:26.836444Z\", \"created_time_dt\": \"2021-01-27T12:57:26.836444Z\", \"duration\": \"0:01:43\", \"iteration\": \"5\", \"goal\": \"AUC_weighted_max\", \"run_name\": \"MinMaxScaler, RandomForest\", \"run_properties\": \"copy=True, feature_range=(0, 1\", \"primary_metric\": 0.8931728, \"best_metric\": 0.91548}, {\"run_id\": \"AutoML_5eee7fb6-1dc5-4ab9-a45b-1516ae28d001_6\", \"run_number\": 60, \"metric\": null, \"status\": \"Completed\", \"run_type\": \"azureml.scriptrun\", \"training_percent\": \"100\", \"start_time\": \"2021-01-27T12:58:19.15952Z\", \"end_time\": \"2021-01-27T12:59:08.788347Z\", \"created_time\": \"2021-01-27T12:57:53.594802Z\", \"created_time_dt\": \"2021-01-27T12:57:53.594802Z\", \"duration\": \"0:01:15\", \"iteration\": \"6\", \"goal\": \"AUC_weighted_max\", \"run_name\": \"StandardScalerWrapper, RandomForest\", \"run_properties\": \"<azureml.automl.runtime.shared.model_wrappers.StandardScalerWrapper object at 0x7f1eb98596d8\", \"primary_metric\": 0.89424444, \"best_metric\": 0.91548}, {\"run_id\": \"AutoML_5eee7fb6-1dc5-4ab9-a45b-1516ae28d001_7\", \"run_number\": 61, \"metric\": null, \"status\": \"Completed\", \"run_type\": \"azureml.scriptrun\", \"training_percent\": \"100\", \"start_time\": \"2021-01-27T12:58:24.089202Z\", \"end_time\": \"2021-01-27T12:59:07.007971Z\", \"created_time\": \"2021-01-27T12:58:11.004029Z\", \"created_time_dt\": \"2021-01-27T12:58:11.004029Z\", \"duration\": \"0:00:56\", \"iteration\": \"7\", \"goal\": \"AUC_weighted_max\", \"run_name\": \"MinMaxScaler, ExtremeRandomTrees\", \"run_properties\": \"copy=True, feature_range=(0, 1\", \"primary_metric\": 0.88333673, \"best_metric\": 0.91548}, {\"run_id\": \"AutoML_5eee7fb6-1dc5-4ab9-a45b-1516ae28d001_8\", \"run_number\": 62, \"metric\": null, \"status\": \"Completed\", \"run_type\": \"azureml.scriptrun\", \"training_percent\": \"100\", \"start_time\": \"2021-01-27T12:59:11.385848Z\", \"end_time\": \"2021-01-27T13:00:00.543757Z\", \"created_time\": \"2021-01-27T12:58:18.376506Z\", \"created_time_dt\": \"2021-01-27T12:58:18.376506Z\", \"duration\": \"0:01:42\", \"iteration\": \"8\", \"goal\": \"AUC_weighted_max\", \"run_name\": \"MinMaxScaler, ExtremeRandomTrees\", \"run_properties\": \"copy=True, feature_range=(0, 1\", \"primary_metric\": 0.85945545, \"best_metric\": 0.91548}, {\"run_id\": \"AutoML_5eee7fb6-1dc5-4ab9-a45b-1516ae28d001_9\", \"run_number\": 63, \"metric\": null, \"status\": \"Completed\", \"run_type\": \"azureml.scriptrun\", \"training_percent\": \"100\", \"start_time\": \"2021-01-27T12:59:14.806651Z\", \"end_time\": \"2021-01-27T13:00:08.81388Z\", \"created_time\": \"2021-01-27T12:58:23.764726Z\", \"created_time_dt\": \"2021-01-27T12:58:23.764726Z\", \"duration\": \"0:01:45\", \"iteration\": \"9\", \"goal\": \"AUC_weighted_max\", \"run_name\": \"SparseNormalizer, KNN\", \"run_properties\": \"<azureml.automl.runtime.shared.model_wrappers.SparseNormalizer object at 0x7f8f5adb1898\", \"primary_metric\": 0.7496161, \"best_metric\": 0.91548}, {\"run_id\": \"AutoML_5eee7fb6-1dc5-4ab9-a45b-1516ae28d001_10\", \"run_number\": 64, \"metric\": null, \"status\": \"Completed\", \"run_type\": \"azureml.scriptrun\", \"training_percent\": \"100\", \"start_time\": \"2021-01-27T12:59:22.168268Z\", \"end_time\": \"2021-01-27T13:00:16.780481Z\", \"created_time\": \"2021-01-27T12:59:10.143317Z\", \"created_time_dt\": \"2021-01-27T12:59:10.143317Z\", \"duration\": \"0:01:06\", \"iteration\": \"10\", \"goal\": \"AUC_weighted_max\", \"run_name\": \"MinMaxScaler, ExtremeRandomTrees\", \"run_properties\": \"copy=True, feature_range=(0, 1\", \"primary_metric\": 0.87080547, \"best_metric\": 0.91548}, {\"run_id\": \"AutoML_5eee7fb6-1dc5-4ab9-a45b-1516ae28d001_11\", \"run_number\": 65, \"metric\": null, \"status\": \"Completed\", \"run_type\": \"azureml.scriptrun\", \"training_percent\": \"100\", \"start_time\": \"2021-01-27T13:00:03.740901Z\", \"end_time\": \"2021-01-27T13:00:54.066823Z\", \"created_time\": \"2021-01-27T12:59:15.566985Z\", \"created_time_dt\": \"2021-01-27T12:59:15.566985Z\", \"duration\": \"0:01:38\", \"iteration\": \"11\", \"goal\": \"AUC_weighted_max\", \"run_name\": \"RobustScaler, ExtremeRandomTrees\", \"run_properties\": \"copy=True, quantile_range=[10, 90], with_centering=True,\\n             with_scaling=False\", \"primary_metric\": 0.87864267, \"best_metric\": 0.91548}, {\"run_id\": \"AutoML_5eee7fb6-1dc5-4ab9-a45b-1516ae28d001_12\", \"run_number\": 66, \"metric\": null, \"status\": \"Completed\", \"run_type\": \"azureml.scriptrun\", \"training_percent\": \"100\", \"start_time\": \"2021-01-27T13:00:05.586098Z\", \"end_time\": \"2021-01-27T13:00:56.045756Z\", \"created_time\": \"2021-01-27T12:59:15.581591Z\", \"created_time_dt\": \"2021-01-27T12:59:15.581591Z\", \"duration\": \"0:01:40\", \"iteration\": \"12\", \"goal\": \"AUC_weighted_max\", \"run_name\": \"StandardScalerWrapper, RandomForest\", \"run_properties\": \"<azureml.automl.runtime.shared.model_wrappers.StandardScalerWrapper object at 0x7f21fbb88c88\", \"primary_metric\": 0.91002405, \"best_metric\": 0.91548}, {\"run_id\": \"AutoML_5eee7fb6-1dc5-4ab9-a45b-1516ae28d001_13\", \"run_number\": 67, \"metric\": null, \"status\": \"Completed\", \"run_type\": \"azureml.scriptrun\", \"training_percent\": \"100\", \"start_time\": \"2021-01-27T13:00:17.029885Z\", \"end_time\": \"2021-01-27T13:01:05.610716Z\", \"created_time\": \"2021-01-27T13:00:03.518852Z\", \"created_time_dt\": \"2021-01-27T13:00:03.518852Z\", \"duration\": \"0:01:02\", \"iteration\": \"13\", \"goal\": \"AUC_weighted_max\", \"run_name\": \"StandardScalerWrapper, SGD\", \"run_properties\": \"<azureml.automl.runtime.shared.model_wrappers.StandardScalerWrapper object at 0x7f69fb8efda0\", \"primary_metric\": 0.87068894, \"best_metric\": 0.91548}, {\"run_id\": \"AutoML_5eee7fb6-1dc5-4ab9-a45b-1516ae28d001_14\", \"run_number\": 69, \"metric\": null, \"status\": \"Completed\", \"run_type\": \"azureml.scriptrun\", \"training_percent\": \"100\", \"start_time\": \"2021-01-27T13:00:24.399592Z\", \"end_time\": \"2021-01-27T13:01:13.300957Z\", \"created_time\": \"2021-01-27T13:00:12.037837Z\", \"created_time_dt\": \"2021-01-27T13:00:12.037837Z\", \"duration\": \"0:01:01\", \"iteration\": \"14\", \"goal\": \"AUC_weighted_max\", \"run_name\": \"RobustScaler, RandomForest\", \"run_properties\": \"copy=True, quantile_range=[10, 90], with_centering=True,\\n             with_scaling=False\", \"primary_metric\": 0.90532518, \"best_metric\": 0.91548}, {\"run_id\": \"AutoML_5eee7fb6-1dc5-4ab9-a45b-1516ae28d001_15\", \"run_number\": 70, \"metric\": null, \"status\": \"Completed\", \"run_type\": \"azureml.scriptrun\", \"training_percent\": \"100\", \"start_time\": \"2021-01-27T13:00:33.576615Z\", \"end_time\": \"2021-01-27T13:01:21.454784Z\", \"created_time\": \"2021-01-27T13:00:20.024927Z\", \"created_time_dt\": \"2021-01-27T13:00:20.024927Z\", \"duration\": \"0:01:01\", \"iteration\": \"15\", \"goal\": \"AUC_weighted_max\", \"run_name\": \"StandardScalerWrapper, KNN\", \"run_properties\": \"<azureml.automl.runtime.shared.model_wrappers.StandardScalerWrapper object at 0x7fe2b9f836a0\", \"primary_metric\": 0.52030533, \"best_metric\": 0.91548}, {\"run_id\": \"AutoML_5eee7fb6-1dc5-4ab9-a45b-1516ae28d001_16\", \"run_number\": 71, \"metric\": null, \"status\": \"Completed\", \"run_type\": \"azureml.scriptrun\", \"training_percent\": \"100\", \"start_time\": \"2021-01-27T13:01:10.481897Z\", \"end_time\": \"2021-01-27T13:01:50.952224Z\", \"created_time\": \"2021-01-27T13:00:57.48711Z\", \"created_time_dt\": \"2021-01-27T13:00:57.48711Z\", \"duration\": \"0:00:53\", \"iteration\": \"16\", \"goal\": \"AUC_weighted_max\", \"run_name\": \"MinMaxScaler, RandomForest\", \"run_properties\": \"copy=True, feature_range=(0, 1\", \"primary_metric\": 0.88844104, \"best_metric\": 0.91548}, {\"run_id\": \"AutoML_5eee7fb6-1dc5-4ab9-a45b-1516ae28d001_17\", \"run_number\": 72, \"metric\": null, \"status\": \"Completed\", \"run_type\": \"azureml.scriptrun\", \"training_percent\": \"100\", \"start_time\": \"2021-01-27T13:01:16.20472Z\", \"end_time\": \"2021-01-27T13:02:01.741701Z\", \"created_time\": \"2021-01-27T13:01:04.021692Z\", \"created_time_dt\": \"2021-01-27T13:01:04.021692Z\", \"duration\": \"0:00:57\", \"iteration\": \"17\", \"goal\": \"AUC_weighted_max\", \"run_name\": \"MinMaxScaler, ExtremeRandomTrees\", \"run_properties\": \"copy=True, feature_range=(0, 1\", \"primary_metric\": 0.82153427, \"best_metric\": 0.91548}, {\"run_id\": \"AutoML_5eee7fb6-1dc5-4ab9-a45b-1516ae28d001_18\", \"run_number\": 73, \"metric\": null, \"status\": \"Completed\", \"run_type\": \"azureml.scriptrun\", \"training_percent\": \"100\", \"start_time\": \"2021-01-27T13:01:21.033514Z\", \"end_time\": \"2021-01-27T13:02:09.183083Z\", \"created_time\": \"2021-01-27T13:01:09.407526Z\", \"created_time_dt\": \"2021-01-27T13:01:09.407526Z\", \"duration\": \"0:00:59\", \"iteration\": \"18\", \"goal\": \"AUC_weighted_max\", \"run_name\": \"MaxAbsScaler, RandomForest\", \"run_properties\": \"copy=True\", \"primary_metric\": 0.879703, \"best_metric\": 0.91548}, {\"run_id\": \"AutoML_5eee7fb6-1dc5-4ab9-a45b-1516ae28d001_19\", \"run_number\": 74, \"metric\": null, \"status\": \"Completed\", \"run_type\": \"azureml.scriptrun\", \"training_percent\": \"100\", \"start_time\": \"2021-01-27T13:01:29.928156Z\", \"end_time\": \"2021-01-27T13:02:31.894836Z\", \"created_time\": \"2021-01-27T13:01:16.187449Z\", \"created_time_dt\": \"2021-01-27T13:01:16.187449Z\", \"duration\": \"0:01:15\", \"iteration\": \"19\", \"goal\": \"AUC_weighted_max\", \"run_name\": \"StandardScalerWrapper, XGBoostClassifier\", \"run_properties\": \"<azureml.automl.runtime.shared.model_wrappers.StandardScalerWrapper object at 0x7f3966287198\", \"primary_metric\": 0.90890998, \"best_metric\": 0.91548}, {\"run_id\": \"AutoML_5eee7fb6-1dc5-4ab9-a45b-1516ae28d001_20\", \"run_number\": 75, \"metric\": null, \"status\": \"Completed\", \"run_type\": \"azureml.scriptrun\", \"training_percent\": \"100\", \"start_time\": \"2021-01-27T13:01:37.478665Z\", \"end_time\": \"2021-01-27T13:02:23.879604Z\", \"created_time\": \"2021-01-27T13:01:24.505768Z\", \"created_time_dt\": \"2021-01-27T13:01:24.505768Z\", \"duration\": \"0:00:59\", \"iteration\": \"20\", \"goal\": \"AUC_weighted_max\", \"run_name\": \"MaxAbsScaler, RandomForest\", \"run_properties\": \"copy=True\", \"primary_metric\": 0.88794311, \"best_metric\": 0.91548}, {\"run_id\": \"AutoML_5eee7fb6-1dc5-4ab9-a45b-1516ae28d001_21\", \"run_number\": 76, \"metric\": null, \"status\": \"Completed\", \"run_type\": \"azureml.scriptrun\", \"training_percent\": \"100\", \"start_time\": \"2021-01-27T13:02:07.322852Z\", \"end_time\": \"2021-01-27T13:02:58.952657Z\", \"created_time\": \"2021-01-27T13:01:54.789123Z\", \"created_time_dt\": \"2021-01-27T13:01:54.789123Z\", \"duration\": \"0:01:04\", \"iteration\": \"21\", \"goal\": \"AUC_weighted_max\", \"run_name\": \"MaxAbsScaler, ExtremeRandomTrees\", \"run_properties\": \"copy=True\", \"primary_metric\": 0.86847967, \"best_metric\": 0.91548}, {\"run_id\": \"AutoML_5eee7fb6-1dc5-4ab9-a45b-1516ae28d001_22\", \"run_number\": 77, \"metric\": null, \"status\": \"Completed\", \"run_type\": \"azureml.scriptrun\", \"training_percent\": \"100\", \"start_time\": \"2021-01-27T13:02:18.225756Z\", \"end_time\": \"2021-01-27T13:03:22.924608Z\", \"created_time\": \"2021-01-27T13:02:05.045732Z\", \"created_time_dt\": \"2021-01-27T13:02:05.045732Z\", \"duration\": \"0:01:17\", \"iteration\": \"22\", \"goal\": \"AUC_weighted_max\", \"run_name\": \"MaxAbsScaler, ExtremeRandomTrees\", \"run_properties\": \"copy=True\", \"primary_metric\": 0.87660791, \"best_metric\": 0.91548}, {\"run_id\": \"AutoML_5eee7fb6-1dc5-4ab9-a45b-1516ae28d001_23\", \"run_number\": 78, \"metric\": null, \"status\": \"Completed\", \"run_type\": \"azureml.scriptrun\", \"training_percent\": \"100\", \"start_time\": \"2021-01-27T13:02:24.06974Z\", \"end_time\": \"2021-01-27T13:03:17.678425Z\", \"created_time\": \"2021-01-27T13:02:11.92641Z\", \"created_time_dt\": \"2021-01-27T13:02:11.92641Z\", \"duration\": \"0:01:05\", \"iteration\": \"23\", \"goal\": \"AUC_weighted_max\", \"run_name\": \"MinMaxScaler, RandomForest\", \"run_properties\": \"copy=True, feature_range=(0, 1\", \"primary_metric\": 0.90517973, \"best_metric\": 0.91548}, {\"run_id\": \"AutoML_5eee7fb6-1dc5-4ab9-a45b-1516ae28d001_24\", \"run_number\": 79, \"metric\": null, \"status\": \"Completed\", \"run_type\": \"azureml.scriptrun\", \"training_percent\": \"100\", \"start_time\": \"2021-01-27T13:02:38.763189Z\", \"end_time\": \"2021-01-27T13:04:05.568633Z\", \"created_time\": \"2021-01-27T13:02:26.51069Z\", \"created_time_dt\": \"2021-01-27T13:02:26.51069Z\", \"duration\": \"0:01:39\", \"iteration\": \"24\", \"goal\": \"AUC_weighted_max\", \"run_name\": \"MinMaxScaler, RandomForest\", \"run_properties\": \"copy=True, feature_range=(0, 1\", \"primary_metric\": 0.90862063, \"best_metric\": 0.91548}, {\"run_id\": \"AutoML_5eee7fb6-1dc5-4ab9-a45b-1516ae28d001_25\", \"run_number\": 80, \"metric\": null, \"status\": \"Completed\", \"run_type\": \"azureml.scriptrun\", \"training_percent\": \"100\", \"start_time\": \"2021-01-27T13:02:48.749903Z\", \"end_time\": \"2021-01-27T13:03:31.930649Z\", \"created_time\": \"2021-01-27T13:02:36.600061Z\", \"created_time_dt\": \"2021-01-27T13:02:36.600061Z\", \"duration\": \"0:00:55\", \"iteration\": \"25\", \"goal\": \"AUC_weighted_max\", \"run_name\": \"MinMaxScaler, RandomForest\", \"run_properties\": \"copy=True, feature_range=(0, 1\", \"primary_metric\": 0.90774373, \"best_metric\": 0.91548}, {\"run_id\": \"AutoML_5eee7fb6-1dc5-4ab9-a45b-1516ae28d001_26\", \"run_number\": 81, \"metric\": null, \"status\": \"Completed\", \"run_type\": \"azureml.scriptrun\", \"training_percent\": \"100\", \"start_time\": \"2021-01-27T13:03:11.884265Z\", \"end_time\": \"2021-01-27T13:03:59.863891Z\", \"created_time\": \"2021-01-27T13:03:00.792432Z\", \"created_time_dt\": \"2021-01-27T13:03:00.792432Z\", \"duration\": \"0:00:59\", \"iteration\": \"26\", \"goal\": \"AUC_weighted_max\", \"run_name\": \"MaxAbsScaler, ExtremeRandomTrees\", \"run_properties\": \"copy=True\", \"primary_metric\": 0.89765598, \"best_metric\": 0.91548}, {\"run_id\": \"AutoML_5eee7fb6-1dc5-4ab9-a45b-1516ae28d001_27\", \"run_number\": 82, \"metric\": null, \"status\": \"Completed\", \"run_type\": \"azureml.scriptrun\", \"training_percent\": \"100\", \"start_time\": \"2021-01-27T13:03:30.973806Z\", \"end_time\": \"2021-01-27T13:04:21.971153Z\", \"created_time\": \"2021-01-27T13:03:19.902303Z\", \"created_time_dt\": \"2021-01-27T13:03:19.902303Z\", \"duration\": \"0:01:02\", \"iteration\": \"27\", \"goal\": \"AUC_weighted_max\", \"run_name\": \"RobustScaler, RandomForest\", \"run_properties\": \"copy=True, quantile_range=[10, 90], with_centering=False,\\n             with_scaling=False\", \"primary_metric\": 0.90598354, \"best_metric\": 0.91548}, {\"run_id\": \"AutoML_5eee7fb6-1dc5-4ab9-a45b-1516ae28d001_28\", \"run_number\": 83, \"metric\": null, \"status\": \"Completed\", \"run_type\": \"azureml.scriptrun\", \"training_percent\": \"100\", \"start_time\": \"2021-01-27T13:03:41.775489Z\", \"end_time\": \"2021-01-27T13:04:28.114355Z\", \"created_time\": \"2021-01-27T13:03:24.857148Z\", \"created_time_dt\": \"2021-01-27T13:03:24.857148Z\", \"duration\": \"0:01:03\", \"iteration\": \"28\", \"goal\": \"AUC_weighted_max\", \"run_name\": \"StandardScalerWrapper, XGBoostClassifier\", \"run_properties\": \"<azureml.automl.runtime.shared.model_wrappers.StandardScalerWrapper object at 0x7fdeccecf438\", \"primary_metric\": 0.90512321, \"best_metric\": 0.91548}, {\"run_id\": \"AutoML_5eee7fb6-1dc5-4ab9-a45b-1516ae28d001_29\", \"run_number\": 84, \"metric\": null, \"status\": \"Completed\", \"run_type\": \"azureml.scriptrun\", \"training_percent\": \"100\", \"start_time\": \"2021-01-27T13:03:55.960271Z\", \"end_time\": \"2021-01-27T13:04:45.306596Z\", \"created_time\": \"2021-01-27T13:03:33.685468Z\", \"created_time_dt\": \"2021-01-27T13:03:33.685468Z\", \"duration\": \"0:01:11\", \"iteration\": \"29\", \"goal\": \"AUC_weighted_max\", \"run_name\": \"RobustScaler, LightGBM\", \"run_properties\": \"copy=True, quantile_range=[10, 90], with_centering=True,\\n             with_scaling=True\", \"primary_metric\": 0.90121699, \"best_metric\": 0.91548}, {\"run_id\": \"AutoML_5eee7fb6-1dc5-4ab9-a45b-1516ae28d001_30\", \"run_number\": 85, \"metric\": null, \"status\": \"Completed\", \"run_type\": \"azureml.scriptrun\", \"training_percent\": \"100\", \"start_time\": \"2021-01-27T13:04:15.805297Z\", \"end_time\": \"2021-01-27T13:04:58.70635Z\", \"created_time\": \"2021-01-27T13:04:02.873393Z\", \"created_time_dt\": \"2021-01-27T13:04:02.873393Z\", \"duration\": \"0:00:55\", \"iteration\": \"30\", \"goal\": \"AUC_weighted_max\", \"run_name\": \"RobustScaler, RandomForest\", \"run_properties\": \"copy=True, quantile_range=[25, 75], with_centering=False,\\n             with_scaling=True\", \"primary_metric\": 0.7529647, \"best_metric\": 0.91548}, {\"run_id\": \"AutoML_5eee7fb6-1dc5-4ab9-a45b-1516ae28d001_31\", \"run_number\": 86, \"metric\": null, \"status\": \"Completed\", \"run_type\": \"azureml.scriptrun\", \"training_percent\": \"100\", \"start_time\": \"2021-01-27T13:04:22.320397Z\", \"end_time\": \"2021-01-27T13:05:10.945612Z\", \"created_time\": \"2021-01-27T13:04:08.182711Z\", \"created_time_dt\": \"2021-01-27T13:04:08.182711Z\", \"duration\": \"0:01:02\", \"iteration\": \"31\", \"goal\": \"AUC_weighted_max\", \"run_name\": \"StandardScalerWrapper, XGBoostClassifier\", \"run_properties\": \"<azureml.automl.runtime.shared.model_wrappers.StandardScalerWrapper object at 0x7fdcce2979b0\", \"primary_metric\": 0.88908983, \"best_metric\": 0.91548}, {\"run_id\": \"AutoML_5eee7fb6-1dc5-4ab9-a45b-1516ae28d001_32\", \"run_number\": 87, \"metric\": null, \"status\": \"Completed\", \"run_type\": \"azureml.scriptrun\", \"training_percent\": \"100\", \"start_time\": \"2021-01-27T13:04:35.570697Z\", \"end_time\": \"2021-01-27T13:05:23.197219Z\", \"created_time\": \"2021-01-27T13:04:23.579427Z\", \"created_time_dt\": \"2021-01-27T13:04:23.579427Z\", \"duration\": \"0:00:59\", \"iteration\": \"32\", \"goal\": \"AUC_weighted_max\", \"run_name\": \"MinMaxScaler, LightGBM\", \"run_properties\": \"copy=True, feature_range=(0, 1\", \"primary_metric\": 0.90567685, \"best_metric\": 0.91548}, {\"run_id\": \"AutoML_5eee7fb6-1dc5-4ab9-a45b-1516ae28d001_33\", \"run_number\": 88, \"metric\": null, \"status\": \"Completed\", \"run_type\": \"azureml.scriptrun\", \"training_percent\": \"100\", \"start_time\": \"2021-01-27T13:04:42.775075Z\", \"end_time\": \"2021-01-27T13:05:40.967972Z\", \"created_time\": \"2021-01-27T13:04:30.29239Z\", \"created_time_dt\": \"2021-01-27T13:04:30.29239Z\", \"duration\": \"0:01:10\", \"iteration\": \"33\", \"goal\": \"AUC_weighted_max\", \"run_name\": \"RobustScaler, RandomForest\", \"run_properties\": \"copy=True, quantile_range=[25, 75], with_centering=True,\\n             with_scaling=False\", \"primary_metric\": 0.9082892, \"best_metric\": 0.91548}, {\"run_id\": \"AutoML_5eee7fb6-1dc5-4ab9-a45b-1516ae28d001_34\", \"run_number\": 89, \"metric\": null, \"status\": \"Canceled\", \"run_type\": \"azureml.scriptrun\", \"training_percent\": \"100\", \"start_time\": \"2021-01-27T13:04:59.502434Z\", \"end_time\": \"2021-01-27T13:05:50.487328Z\", \"created_time\": \"2021-01-27T13:04:47.228721Z\", \"created_time_dt\": \"2021-01-27T13:04:47.228721Z\", \"duration\": \"0:01:03\", \"iteration\": \"34\", \"goal\": null, \"run_name\": \"StandardScalerWrapper, LightGBM\", \"run_properties\": null}, {\"run_id\": \"AutoML_5eee7fb6-1dc5-4ab9-a45b-1516ae28d001_35\", \"run_number\": 90, \"metric\": null, \"status\": \"Canceled\", \"run_type\": \"azureml.scriptrun\", \"training_percent\": \"100\", \"start_time\": \"2021-01-27T13:05:15.954001Z\", \"end_time\": \"2021-01-27T13:05:48.266769Z\", \"created_time\": \"2021-01-27T13:05:03.444399Z\", \"created_time_dt\": \"2021-01-27T13:05:03.444399Z\", \"duration\": \"0:00:44\", \"iteration\": \"35\", \"goal\": \"AUC_weighted_max\", \"run_name\": \"TruncatedSVDWrapper, RandomForest\", \"run_properties\": \"n_components=0.45526315789473687, random_state=None\", \"primary_metric\": 0.82354138, \"best_metric\": 0.91548}, {\"run_id\": \"AutoML_5eee7fb6-1dc5-4ab9-a45b-1516ae28d001_36\", \"run_number\": 91, \"metric\": null, \"status\": \"Canceled\", \"run_type\": \"azureml.scriptrun\", \"training_percent\": \"100\", \"start_time\": \"2021-01-27T13:05:25.731606Z\", \"end_time\": \"2021-01-27T13:05:48.419879Z\", \"created_time\": \"2021-01-27T13:05:12.61669Z\", \"created_time_dt\": \"2021-01-27T13:05:12.61669Z\", \"duration\": \"0:00:35\", \"iteration\": \"36\", \"goal\": null, \"run_name\": \"Canceled\", \"run_properties\": null}, {\"run_id\": \"AutoML_5eee7fb6-1dc5-4ab9-a45b-1516ae28d001_37\", \"run_number\": 92, \"metric\": null, \"status\": \"Canceled\", \"run_type\": \"azureml.scriptrun\", \"training_percent\": \"100\", \"start_time\": \"2021-01-27T13:05:39.400052Z\", \"end_time\": \"2021-01-27T13:05:49.513168Z\", \"created_time\": \"2021-01-27T13:05:25.290058Z\", \"created_time_dt\": \"2021-01-27T13:05:25.290058Z\", \"duration\": \"0:00:24\", \"iteration\": \"37\", \"goal\": null, \"run_name\": \"Canceled\", \"run_properties\": null}, {\"run_id\": \"AutoML_5eee7fb6-1dc5-4ab9-a45b-1516ae28d001_38\", \"run_number\": 93, \"metric\": null, \"status\": \"Completed\", \"run_type\": \"azureml.scriptrun\", \"training_percent\": \"100\", \"start_time\": \"2021-01-27T13:06:05.634272Z\", \"end_time\": \"2021-01-27T13:08:14.86708Z\", \"created_time\": \"2021-01-27T13:05:52.556058Z\", \"created_time_dt\": \"2021-01-27T13:05:52.556058Z\", \"duration\": \"0:02:22\", \"iteration\": \"38\", \"goal\": \"AUC_weighted_max\", \"run_name\": \"VotingEnsemble\", \"run_properties\": \"classification_labels=None,\\n                              estimators=[('4',\\n                                           Pipeline(memory=None,\\n                                                    steps=[('minmaxscaler',\\n                                                            MinMaxScaler(copy=True,\\n                                                                         feature_range=(0,\\n                                                                                        1\", \"primary_metric\": 0.92056996, \"best_metric\": 0.92056996}, {\"run_id\": \"AutoML_5eee7fb6-1dc5-4ab9-a45b-1516ae28d001_39\", \"run_number\": 94, \"metric\": null, \"status\": \"Completed\", \"run_type\": \"azureml.scriptrun\", \"training_percent\": \"100\", \"start_time\": \"2021-01-27T13:06:06.29347Z\", \"end_time\": \"2021-01-27T13:08:16.035652Z\", \"created_time\": \"2021-01-27T13:05:52.612826Z\", \"created_time_dt\": \"2021-01-27T13:05:52.612826Z\", \"duration\": \"0:02:23\", \"iteration\": \"39\", \"goal\": \"AUC_weighted_max\", \"run_name\": \"StackEnsemble\", \"run_properties\": \"base_learners=[('4',\\n                                        Pipeline(memory=None,\\n                                                 steps=[('minmaxscaler',\\n                                                         MinMaxScaler(copy=True,\\n                                                                      feature_range=(0,\\n                                                                                     1\", \"primary_metric\": 0.90906718, \"best_metric\": 0.92056996}], \"children_metrics\": {\"categories\": [0], \"series\": {\"precision_score_macro\": [{\"categories\": [\"0\", \"1\", \"2\", \"3\", \"4\", \"5\", \"6\", \"7\", \"8\", \"9\", \"10\", \"11\", \"12\", \"13\", \"14\", \"15\", \"16\", \"17\", \"18\", \"19\", \"20\", \"21\", \"22\", \"23\", \"24\", \"25\", \"26\", \"27\", \"28\", \"29\", \"30\", \"31\", \"32\", \"33\", \"35\", \"38\", \"39\"], \"mode\": \"markers\", \"name\": \"precision_score_macro\", \"stepped\": false, \"type\": \"scatter\", \"data\": [0.8167365852764965, 0.8232986049897815, 0.8050764923594376, 0.845472545972546, 0.8265488884274219, 0.8084097703085117, 0.8012174251504917, 0.838624322537366, 0.7998169515669515, 0.7703082497212932, 0.816320052733096, 0.846264802427846, 0.7829321369522776, 0.8167164613609122, 0.8001839265489151, 0.5543597592139792, 0.8255507094937379, 0.7602530770375535, 0.7681136553504975, 0.8096246520451326, 0.7848425844656831, 0.8003812929080463, 0.7868353174603174, 0.8052875225797219, 0.8023233412931722, 0.7983981259968103, 0.8060678767807923, 0.7994850164772933, 0.8339245068656833, 0.8342430830039526, 0.6001229979171155, 0.82479852876592, 0.8402069641308773, 0.7932102386235681, 0.8222024791938585, 0.8281018048092857, 0.7934416038990848]}, {\"categories\": [\"0\", \"1\", \"2\", \"3\", \"4\", \"5\", \"6\", \"7\", \"8\", \"9\", \"10\", \"11\", \"12\", \"13\", \"14\", \"15\", \"16\", \"17\", \"18\", \"19\", \"20\", \"21\", \"22\", \"23\", \"24\", \"25\", \"26\", \"27\", \"28\", \"29\", \"30\", \"31\", \"32\", \"33\", \"35\", \"38\", \"39\"], \"mode\": \"lines\", \"name\": \"precision_score_macro_max\", \"stepped\": true, \"type\": \"scatter\", \"data\": [0.8167365852764965, 0.8232986049897815, 0.8232986049897815, 0.845472545972546, 0.845472545972546, 0.845472545972546, 0.845472545972546, 0.845472545972546, 0.845472545972546, 0.845472545972546, 0.845472545972546, 0.846264802427846, 0.846264802427846, 0.846264802427846, 0.846264802427846, 0.846264802427846, 0.846264802427846, 0.846264802427846, 0.846264802427846, 0.846264802427846, 0.846264802427846, 0.846264802427846, 0.846264802427846, 0.846264802427846, 0.846264802427846, 0.846264802427846, 0.846264802427846, 0.846264802427846, 0.846264802427846, 0.846264802427846, 0.846264802427846, 0.846264802427846, 0.846264802427846, 0.846264802427846, 0.846264802427846, 0.846264802427846, 0.846264802427846]}], \"norm_macro_recall\": [{\"categories\": [\"0\", \"1\", \"2\", \"3\", \"4\", \"5\", \"6\", \"7\", \"8\", \"9\", \"10\", \"11\", \"12\", \"13\", \"14\", \"15\", \"16\", \"17\", \"18\", \"19\", \"20\", \"21\", \"22\", \"23\", \"24\", \"25\", \"26\", \"27\", \"28\", \"29\", \"30\", \"31\", \"32\", \"33\", \"35\", \"38\", \"39\"], \"mode\": \"markers\", \"name\": \"norm_macro_recall\", \"stepped\": false, \"type\": \"scatter\", \"data\": [0.6154165791620023, 0.626049804187676, 0.6131292509930953, 0.43023446296901674, 0.6624537364491597, 0.5797389001159023, 0.618860600116893, 0.5789764637218872, 0.3474644318305645, 0.3560714227928186, 0.41461070660841826, 0.5100414615260153, 0.6320161214960985, 0.5866106834939787, 0.6152919056534617, 0.1267612930547713, 0.36083570669096976, 0.5114501479324134, 0.5850789564490937, 0.5662958359337078, 0.5348107084245528, 0.6222368000039624, 0.5898549552405388, 0.6699286110533251, 0.6639934833790668, 0.6487608811224372, 0.6151848519520143, 0.6294291616722967, 0.6583902897890312, 0.5375237657714773, 0.3346594491829046, 0.6119178322948345, 0.5279571540841563, 0.6405635316882455, 0.2631172628541049, 0.6525009320072248, 0.5992541787604717]}, {\"categories\": [\"0\", \"1\", \"2\", \"3\", \"4\", \"5\", \"6\", \"7\", \"8\", \"9\", \"10\", \"11\", \"12\", \"13\", \"14\", \"15\", \"16\", \"17\", \"18\", \"19\", \"20\", \"21\", \"22\", \"23\", \"24\", \"25\", \"26\", \"27\", \"28\", \"29\", \"30\", \"31\", \"32\", \"33\", \"35\", \"38\", \"39\"], \"mode\": \"lines\", \"name\": \"norm_macro_recall_max\", \"stepped\": true, \"type\": \"scatter\", \"data\": [0.6154165791620023, 0.626049804187676, 0.626049804187676, 0.626049804187676, 0.6624537364491597, 0.6624537364491597, 0.6624537364491597, 0.6624537364491597, 0.6624537364491597, 0.6624537364491597, 0.6624537364491597, 0.6624537364491597, 0.6624537364491597, 0.6624537364491597, 0.6624537364491597, 0.6624537364491597, 0.6624537364491597, 0.6624537364491597, 0.6624537364491597, 0.6624537364491597, 0.6624537364491597, 0.6624537364491597, 0.6624537364491597, 0.6699286110533251, 0.6699286110533251, 0.6699286110533251, 0.6699286110533251, 0.6699286110533251, 0.6699286110533251, 0.6699286110533251, 0.6699286110533251, 0.6699286110533251, 0.6699286110533251, 0.6699286110533251, 0.6699286110533251, 0.6699286110533251, 0.6699286110533251]}], \"AUC_weighted\": [{\"categories\": [\"0\", \"1\", \"2\", \"3\", \"4\", \"5\", \"6\", \"7\", \"8\", \"9\", \"10\", \"11\", \"12\", \"13\", \"14\", \"15\", \"16\", \"17\", \"18\", \"19\", \"20\", \"21\", \"22\", \"23\", \"24\", \"25\", \"26\", \"27\", \"28\", \"29\", \"30\", \"31\", \"32\", \"33\", \"35\", \"38\", \"39\"], \"mode\": \"markers\", \"name\": \"AUC_weighted\", \"stepped\": false, \"type\": \"scatter\", \"data\": [0.8840955354735103, 0.8847369443591411, 0.8993196768821482, 0.8856499742714273, 0.9154799974243909, 0.8931728025047245, 0.8942444430410676, 0.8833367336600174, 0.8594554515130601, 0.7496161006793443, 0.8708054749026717, 0.8786426725575467, 0.9100240472172965, 0.870688942657478, 0.9053251785865631, 0.5203053263648802, 0.8884410432372102, 0.8215342673217959, 0.8797030035012872, 0.9089099837731132, 0.8879431077969407, 0.8684796696396241, 0.8766079085504715, 0.9051797261874495, 0.9086206323065019, 0.907743726713578, 0.8976559833653083, 0.9059835430418384, 0.9051232097041023, 0.9012169939836415, 0.7529647021319219, 0.8890898286146856, 0.9056768456329671, 0.9082892018969251, 0.823541384285263, 0.9205699647945071, 0.9090671778259878]}, {\"categories\": [\"0\", \"1\", \"2\", \"3\", \"4\", \"5\", \"6\", \"7\", \"8\", \"9\", \"10\", \"11\", \"12\", \"13\", \"14\", \"15\", \"16\", \"17\", \"18\", \"19\", \"20\", \"21\", \"22\", \"23\", \"24\", \"25\", \"26\", \"27\", \"28\", \"29\", \"30\", \"31\", \"32\", \"33\", \"35\", \"38\", \"39\"], \"mode\": \"lines\", \"name\": \"AUC_weighted_max\", \"stepped\": true, \"type\": \"scatter\", \"data\": [0.8840955354735103, 0.8847369443591411, 0.8993196768821482, 0.8993196768821482, 0.9154799974243909, 0.9154799974243909, 0.9154799974243909, 0.9154799974243909, 0.9154799974243909, 0.9154799974243909, 0.9154799974243909, 0.9154799974243909, 0.9154799974243909, 0.9154799974243909, 0.9154799974243909, 0.9154799974243909, 0.9154799974243909, 0.9154799974243909, 0.9154799974243909, 0.9154799974243909, 0.9154799974243909, 0.9154799974243909, 0.9154799974243909, 0.9154799974243909, 0.9154799974243909, 0.9154799974243909, 0.9154799974243909, 0.9154799974243909, 0.9154799974243909, 0.9154799974243909, 0.9154799974243909, 0.9154799974243909, 0.9154799974243909, 0.9154799974243909, 0.9154799974243909, 0.9205699647945071, 0.9205699647945071]}], \"recall_score_micro\": [{\"categories\": [\"0\", \"1\", \"2\", \"3\", \"4\", \"5\", \"6\", \"7\", \"8\", \"9\", \"10\", \"11\", \"12\", \"13\", \"14\", \"15\", \"16\", \"17\", \"18\", \"19\", \"20\", \"21\", \"22\", \"23\", \"24\", \"25\", \"26\", \"27\", \"28\", \"29\", \"30\", \"31\", \"32\", \"33\", \"35\", \"38\", \"39\"], \"mode\": \"markers\", \"name\": \"recall_score_micro\", \"stepped\": false, \"type\": \"scatter\", \"data\": [0.8359770114942527, 0.8358620689655172, 0.8325287356321839, 0.8027586206896553, 0.849425287356322, 0.8226436781609194, 0.825632183908046, 0.836206896551724, 0.7727586206896552, 0.7659770114942528, 0.7960919540229885, 0.8262068965517241, 0.805632183908046, 0.8258620689655173, 0.8189655172413793, 0.6389655172413793, 0.7827586206896553, 0.785632183908046, 0.7989655172413792, 0.8258620689655173, 0.8090804597701149, 0.8293103448275861, 0.8158620689655172, 0.8357471264367817, 0.8324137931034483, 0.8260919540229885, 0.8293103448275863, 0.8257471264367817, 0.8458620689655172, 0.8293103448275861, 0.6820689655172414, 0.8393103448275863, 0.8260919540229885, 0.825632183908046, 0.7526436781609196, 0.8458620689655174, 0.8295402298850576]}, {\"categories\": [\"0\", \"1\", \"2\", \"3\", \"4\", \"5\", \"6\", \"7\", \"8\", \"9\", \"10\", \"11\", \"12\", \"13\", \"14\", \"15\", \"16\", \"17\", \"18\", \"19\", \"20\", \"21\", \"22\", \"23\", \"24\", \"25\", \"26\", \"27\", \"28\", \"29\", \"30\", \"31\", \"32\", \"33\", \"35\", \"38\", \"39\"], \"mode\": \"lines\", \"name\": \"recall_score_micro_max\", \"stepped\": true, \"type\": \"scatter\", \"data\": [0.8359770114942527, 0.8359770114942527, 0.8359770114942527, 0.8359770114942527, 0.849425287356322, 0.849425287356322, 0.849425287356322, 0.849425287356322, 0.849425287356322, 0.849425287356322, 0.849425287356322, 0.849425287356322, 0.849425287356322, 0.849425287356322, 0.849425287356322, 0.849425287356322, 0.849425287356322, 0.849425287356322, 0.849425287356322, 0.849425287356322, 0.849425287356322, 0.849425287356322, 0.849425287356322, 0.849425287356322, 0.849425287356322, 0.849425287356322, 0.849425287356322, 0.849425287356322, 0.849425287356322, 0.849425287356322, 0.849425287356322, 0.849425287356322, 0.849425287356322, 0.849425287356322, 0.849425287356322, 0.849425287356322, 0.849425287356322]}], \"recall_score_weighted\": [{\"categories\": [\"0\", \"1\", \"2\", \"3\", \"4\", \"5\", \"6\", \"7\", \"8\", \"9\", \"10\", \"11\", \"12\", \"13\", \"14\", \"15\", \"16\", \"17\", \"18\", \"19\", \"20\", \"21\", \"22\", \"23\", \"24\", \"25\", \"26\", \"27\", \"28\", \"29\", \"30\", \"31\", \"32\", \"33\", \"35\", \"38\", \"39\"], \"mode\": \"markers\", \"name\": \"recall_score_weighted\", \"stepped\": false, \"type\": \"scatter\", \"data\": [0.8359770114942527, 0.8358620689655172, 0.8325287356321839, 0.8027586206896553, 0.849425287356322, 0.8226436781609194, 0.825632183908046, 0.836206896551724, 0.7727586206896552, 0.7659770114942528, 0.7960919540229885, 0.8262068965517241, 0.805632183908046, 0.8258620689655173, 0.8189655172413793, 0.6389655172413793, 0.7827586206896553, 0.785632183908046, 0.7989655172413792, 0.8258620689655173, 0.8090804597701149, 0.8293103448275861, 0.8158620689655172, 0.8357471264367817, 0.8324137931034483, 0.8260919540229885, 0.8293103448275863, 0.8257471264367817, 0.8458620689655172, 0.8293103448275861, 0.6820689655172414, 0.8393103448275863, 0.8260919540229885, 0.825632183908046, 0.7526436781609196, 0.8458620689655174, 0.8295402298850576]}, {\"categories\": [\"0\", \"1\", \"2\", \"3\", \"4\", \"5\", \"6\", \"7\", \"8\", \"9\", \"10\", \"11\", \"12\", \"13\", \"14\", \"15\", \"16\", \"17\", \"18\", \"19\", \"20\", \"21\", \"22\", \"23\", \"24\", \"25\", \"26\", \"27\", \"28\", \"29\", \"30\", \"31\", \"32\", \"33\", \"35\", \"38\", \"39\"], \"mode\": \"lines\", \"name\": \"recall_score_weighted_max\", \"stepped\": true, \"type\": \"scatter\", \"data\": [0.8359770114942527, 0.8359770114942527, 0.8359770114942527, 0.8359770114942527, 0.849425287356322, 0.849425287356322, 0.849425287356322, 0.849425287356322, 0.849425287356322, 0.849425287356322, 0.849425287356322, 0.849425287356322, 0.849425287356322, 0.849425287356322, 0.849425287356322, 0.849425287356322, 0.849425287356322, 0.849425287356322, 0.849425287356322, 0.849425287356322, 0.849425287356322, 0.849425287356322, 0.849425287356322, 0.849425287356322, 0.849425287356322, 0.849425287356322, 0.849425287356322, 0.849425287356322, 0.849425287356322, 0.849425287356322, 0.849425287356322, 0.849425287356322, 0.849425287356322, 0.849425287356322, 0.849425287356322, 0.849425287356322, 0.849425287356322]}], \"weighted_accuracy\": [{\"categories\": [\"0\", \"1\", \"2\", \"3\", \"4\", \"5\", \"6\", \"7\", \"8\", \"9\", \"10\", \"11\", \"12\", \"13\", \"14\", \"15\", \"16\", \"17\", \"18\", \"19\", \"20\", \"21\", \"22\", \"23\", \"24\", \"25\", \"26\", \"27\", \"28\", \"29\", \"30\", \"31\", \"32\", \"33\", \"35\", \"38\", \"39\"], \"mode\": \"markers\", \"name\": \"weighted_accuracy\", \"stepped\": false, \"type\": \"scatter\", \"data\": [0.8541321922200625, 0.8502962163535492, 0.8486164881186914, 0.8581028466517818, 0.8606702240741946, 0.8444072689954376, 0.8371796459809138, 0.8673070143436512, 0.8352997276707168, 0.8227930918585225, 0.8538956083071604, 0.870424652883813, 0.7967388969720569, 0.8466057819414303, 0.8255171058782172, 0.6980167624045801, 0.846129380468758, 0.8043854232927814, 0.7998298849986006, 0.8533454461004967, 0.835230136921742, 0.8424983572142934, 0.8296558664503413, 0.8352527932882226, 0.8320223632473078, 0.828221753157805, 0.8436246243609029, 0.832346233758096, 0.8563486293013105, 0.8698785636398008, 0.6960613477803264, 0.8613171490646818, 0.8648276976857499, 0.8280155113663318, 0.827264190229481, 0.85792421386688, 0.8483424509287605]}, {\"categories\": [\"0\", \"1\", \"2\", \"3\", \"4\", \"5\", \"6\", \"7\", \"8\", \"9\", \"10\", \"11\", \"12\", \"13\", \"14\", \"15\", \"16\", \"17\", \"18\", \"19\", \"20\", \"21\", \"22\", \"23\", \"24\", \"25\", \"26\", \"27\", \"28\", \"29\", \"30\", \"31\", \"32\", \"33\", \"35\", \"38\", \"39\"], \"mode\": \"lines\", \"name\": \"weighted_accuracy_max\", \"stepped\": true, \"type\": \"scatter\", \"data\": [0.8541321922200625, 0.8541321922200625, 0.8541321922200625, 0.8581028466517818, 0.8606702240741946, 0.8606702240741946, 0.8606702240741946, 0.8673070143436512, 0.8673070143436512, 0.8673070143436512, 0.8673070143436512, 0.870424652883813, 0.870424652883813, 0.870424652883813, 0.870424652883813, 0.870424652883813, 0.870424652883813, 0.870424652883813, 0.870424652883813, 0.870424652883813, 0.870424652883813, 0.870424652883813, 0.870424652883813, 0.870424652883813, 0.870424652883813, 0.870424652883813, 0.870424652883813, 0.870424652883813, 0.870424652883813, 0.870424652883813, 0.870424652883813, 0.870424652883813, 0.870424652883813, 0.870424652883813, 0.870424652883813, 0.870424652883813, 0.870424652883813]}], \"f1_score_micro\": [{\"categories\": [\"0\", \"1\", \"2\", \"3\", \"4\", \"5\", \"6\", \"7\", \"8\", \"9\", \"10\", \"11\", \"12\", \"13\", \"14\", \"15\", \"16\", \"17\", \"18\", \"19\", \"20\", \"21\", \"22\", \"23\", \"24\", \"25\", \"26\", \"27\", \"28\", \"29\", \"30\", \"31\", \"32\", \"33\", \"35\", \"38\", \"39\"], \"mode\": \"markers\", \"name\": \"f1_score_micro\", \"stepped\": false, \"type\": \"scatter\", \"data\": [0.8359770114942527, 0.8358620689655172, 0.8325287356321839, 0.8027586206896553, 0.849425287356322, 0.8226436781609194, 0.825632183908046, 0.836206896551724, 0.7727586206896552, 0.7659770114942528, 0.7960919540229885, 0.8262068965517242, 0.805632183908046, 0.8258620689655173, 0.8189655172413793, 0.6389655172413793, 0.7827586206896553, 0.785632183908046, 0.7989655172413792, 0.8258620689655173, 0.8090804597701149, 0.8293103448275861, 0.8158620689655172, 0.8357471264367817, 0.8324137931034483, 0.8260919540229885, 0.8293103448275863, 0.8257471264367817, 0.8458620689655172, 0.8293103448275861, 0.6820689655172414, 0.8393103448275863, 0.8260919540229885, 0.825632183908046, 0.7526436781609196, 0.8458620689655174, 0.8295402298850576]}, {\"categories\": [\"0\", \"1\", \"2\", \"3\", \"4\", \"5\", \"6\", \"7\", \"8\", \"9\", \"10\", \"11\", \"12\", \"13\", \"14\", \"15\", \"16\", \"17\", \"18\", \"19\", \"20\", \"21\", \"22\", \"23\", \"24\", \"25\", \"26\", \"27\", \"28\", \"29\", \"30\", \"31\", \"32\", \"33\", \"35\", \"38\", \"39\"], \"mode\": \"lines\", \"name\": \"f1_score_micro_max\", \"stepped\": true, \"type\": \"scatter\", \"data\": [0.8359770114942527, 0.8359770114942527, 0.8359770114942527, 0.8359770114942527, 0.849425287356322, 0.849425287356322, 0.849425287356322, 0.849425287356322, 0.849425287356322, 0.849425287356322, 0.849425287356322, 0.849425287356322, 0.849425287356322, 0.849425287356322, 0.849425287356322, 0.849425287356322, 0.849425287356322, 0.849425287356322, 0.849425287356322, 0.849425287356322, 0.849425287356322, 0.849425287356322, 0.849425287356322, 0.849425287356322, 0.849425287356322, 0.849425287356322, 0.849425287356322, 0.849425287356322, 0.849425287356322, 0.849425287356322, 0.849425287356322, 0.849425287356322, 0.849425287356322, 0.849425287356322, 0.849425287356322, 0.849425287356322, 0.849425287356322]}], \"AUC_macro\": [{\"categories\": [\"0\", \"1\", \"2\", \"3\", \"4\", \"5\", \"6\", \"7\", \"8\", \"9\", \"10\", \"11\", \"12\", \"13\", \"14\", \"15\", \"16\", \"17\", \"18\", \"19\", \"20\", \"21\", \"22\", \"23\", \"24\", \"25\", \"26\", \"27\", \"28\", \"29\", \"30\", \"31\", \"32\", \"33\", \"35\", \"38\", \"39\"], \"mode\": \"markers\", \"name\": \"AUC_macro\", \"stepped\": false, \"type\": \"scatter\", \"data\": [0.8840955354735103, 0.8847369443591411, 0.8993196768821482, 0.8856499742714273, 0.9154799974243911, 0.8931728025047245, 0.8941202966586976, 0.8833367336600174, 0.8594554515130601, 0.7496161006793443, 0.8708054749026719, 0.8786426725575467, 0.9100240472172965, 0.8706889426574783, 0.905325178586563, 0.5203053263648802, 0.8884410432372102, 0.8215342673217959, 0.8797030035012872, 0.9089099837731132, 0.8879431077969407, 0.8684796696396241, 0.8766079085504715, 0.9051797261874495, 0.9086206323065019, 0.907743726713578, 0.8976559833653083, 0.9059835430418384, 0.9051232097041021, 0.9012169939836416, 0.7529647021319219, 0.8890898286146856, 0.9056768456329669, 0.9082892018969251, 0.823541384285263, 0.9205699647945071, 0.9090671778259878]}, {\"categories\": [\"0\", \"1\", \"2\", \"3\", \"4\", \"5\", \"6\", \"7\", \"8\", \"9\", \"10\", \"11\", \"12\", \"13\", \"14\", \"15\", \"16\", \"17\", \"18\", \"19\", \"20\", \"21\", \"22\", \"23\", \"24\", \"25\", \"26\", \"27\", \"28\", \"29\", \"30\", \"31\", \"32\", \"33\", \"35\", \"38\", \"39\"], \"mode\": \"lines\", \"name\": \"AUC_macro_max\", \"stepped\": true, \"type\": \"scatter\", \"data\": [0.8840955354735103, 0.8847369443591411, 0.8993196768821482, 0.8993196768821482, 0.9154799974243911, 0.9154799974243911, 0.9154799974243911, 0.9154799974243911, 0.9154799974243911, 0.9154799974243911, 0.9154799974243911, 0.9154799974243911, 0.9154799974243911, 0.9154799974243911, 0.9154799974243911, 0.9154799974243911, 0.9154799974243911, 0.9154799974243911, 0.9154799974243911, 0.9154799974243911, 0.9154799974243911, 0.9154799974243911, 0.9154799974243911, 0.9154799974243911, 0.9154799974243911, 0.9154799974243911, 0.9154799974243911, 0.9154799974243911, 0.9154799974243911, 0.9154799974243911, 0.9154799974243911, 0.9154799974243911, 0.9154799974243911, 0.9154799974243911, 0.9154799974243911, 0.9205699647945071, 0.9205699647945071]}], \"log_loss\": [{\"categories\": [\"0\", \"1\", \"2\", \"3\", \"4\", \"5\", \"6\", \"7\", \"8\", \"9\", \"10\", \"11\", \"12\", \"13\", \"14\", \"15\", \"16\", \"17\", \"18\", \"19\", \"20\", \"21\", \"22\", \"23\", \"24\", \"25\", \"26\", \"27\", \"28\", \"29\", \"30\", \"31\", \"32\", \"33\", \"35\", \"38\", \"39\"], \"mode\": \"markers\", \"name\": \"log_loss\", \"stepped\": false, \"type\": \"scatter\", \"data\": [0.4772179826627182, 0.41764279466886123, 0.3805204214052828, 0.4580753157049016, 0.3601969685726497, 0.38683786862323216, 0.4833767602153836, 0.4088027849364478, 0.4870075995798013, 1.2837639362986895, 0.4734122020349855, 0.4447887085884804, 0.42600845677799193, 0.4173470189270745, 0.43043782700418154, 0.7617709563916407, 0.4571293782279392, 0.6367525402786007, 0.5389307783512847, 0.4652367527361444, 0.391174991677094, 0.49625693328180187, 0.4742419490944223, 0.46371925071512293, 0.4627212401694507, 0.4448341400528767, 0.4109708896071288, 0.37322347816580426, 0.40251629658220195, 0.4535041639358635, 0.5532261581155345, 0.4630721184303791, 0.4290871666108928, 0.4088758112767582, 0.5235470404564279, 0.41893634430957405, 0.38767909698547054]}, {\"categories\": [\"0\", \"1\", \"2\", \"3\", \"4\", \"5\", \"6\", \"7\", \"8\", \"9\", \"10\", \"11\", \"12\", \"13\", \"14\", \"15\", \"16\", \"17\", \"18\", \"19\", \"20\", \"21\", \"22\", \"23\", \"24\", \"25\", \"26\", \"27\", \"28\", \"29\", \"30\", \"31\", \"32\", \"33\", \"35\", \"38\", \"39\"], \"mode\": \"lines\", \"name\": \"log_loss_min\", \"stepped\": true, \"type\": \"scatter\", \"data\": [0.4772179826627182, 0.41764279466886123, 0.3805204214052828, 0.3805204214052828, 0.3601969685726497, 0.3601969685726497, 0.3601969685726497, 0.3601969685726497, 0.3601969685726497, 0.3601969685726497, 0.3601969685726497, 0.3601969685726497, 0.3601969685726497, 0.3601969685726497, 0.3601969685726497, 0.3601969685726497, 0.3601969685726497, 0.3601969685726497, 0.3601969685726497, 0.3601969685726497, 0.3601969685726497, 0.3601969685726497, 0.3601969685726497, 0.3601969685726497, 0.3601969685726497, 0.3601969685726497, 0.3601969685726497, 0.3601969685726497, 0.3601969685726497, 0.3601969685726497, 0.3601969685726497, 0.3601969685726497, 0.3601969685726497, 0.3601969685726497, 0.3601969685726497, 0.3601969685726497, 0.3601969685726497]}], \"accuracy\": [{\"categories\": [\"0\", \"1\", \"2\", \"3\", \"4\", \"5\", \"6\", \"7\", \"8\", \"9\", \"10\", \"11\", \"12\", \"13\", \"14\", \"15\", \"16\", \"17\", \"18\", \"19\", \"20\", \"21\", \"22\", \"23\", \"24\", \"25\", \"26\", \"27\", \"28\", \"29\", \"30\", \"31\", \"32\", \"33\", \"35\", \"38\", \"39\"], \"mode\": \"markers\", \"name\": \"accuracy\", \"stepped\": false, \"type\": \"scatter\", \"data\": [0.8359770114942527, 0.8358620689655172, 0.8325287356321839, 0.8027586206896553, 0.849425287356322, 0.8226436781609194, 0.825632183908046, 0.836206896551724, 0.7727586206896552, 0.7659770114942528, 0.7960919540229885, 0.8262068965517241, 0.805632183908046, 0.8258620689655173, 0.8189655172413793, 0.6389655172413793, 0.7827586206896553, 0.785632183908046, 0.7989655172413792, 0.8258620689655173, 0.8090804597701149, 0.8293103448275861, 0.8158620689655172, 0.8357471264367817, 0.8324137931034483, 0.8260919540229885, 0.8293103448275863, 0.8257471264367817, 0.8458620689655172, 0.8293103448275861, 0.6820689655172414, 0.8393103448275863, 0.8260919540229885, 0.825632183908046, 0.7526436781609196, 0.8458620689655174, 0.8295402298850576]}, {\"categories\": [\"0\", \"1\", \"2\", \"3\", \"4\", \"5\", \"6\", \"7\", \"8\", \"9\", \"10\", \"11\", \"12\", \"13\", \"14\", \"15\", \"16\", \"17\", \"18\", \"19\", \"20\", \"21\", \"22\", \"23\", \"24\", \"25\", \"26\", \"27\", \"28\", \"29\", \"30\", \"31\", \"32\", \"33\", \"35\", \"38\", \"39\"], \"mode\": \"lines\", \"name\": \"accuracy_max\", \"stepped\": true, \"type\": \"scatter\", \"data\": [0.8359770114942527, 0.8359770114942527, 0.8359770114942527, 0.8359770114942527, 0.849425287356322, 0.849425287356322, 0.849425287356322, 0.849425287356322, 0.849425287356322, 0.849425287356322, 0.849425287356322, 0.849425287356322, 0.849425287356322, 0.849425287356322, 0.849425287356322, 0.849425287356322, 0.849425287356322, 0.849425287356322, 0.849425287356322, 0.849425287356322, 0.849425287356322, 0.849425287356322, 0.849425287356322, 0.849425287356322, 0.849425287356322, 0.849425287356322, 0.849425287356322, 0.849425287356322, 0.849425287356322, 0.849425287356322, 0.849425287356322, 0.849425287356322, 0.849425287356322, 0.849425287356322, 0.849425287356322, 0.849425287356322, 0.849425287356322]}], \"f1_score_macro\": [{\"categories\": [\"0\", \"1\", \"2\", \"3\", \"4\", \"5\", \"6\", \"7\", \"8\", \"9\", \"10\", \"11\", \"12\", \"13\", \"14\", \"15\", \"16\", \"17\", \"18\", \"19\", \"20\", \"21\", \"22\", \"23\", \"24\", \"25\", \"26\", \"27\", \"28\", \"29\", \"30\", \"31\", \"32\", \"33\", \"35\", \"38\", \"39\"], \"mode\": \"markers\", \"name\": \"f1_score_macro\", \"stepped\": false, \"type\": \"scatter\", \"data\": [0.8043314151248963, 0.8078501228997539, 0.7999813419573129, 0.730584966789374, 0.8228413306818083, 0.782958310488892, 0.7965735470031199, 0.7997453355029807, 0.6765756017072009, 0.6844538166645457, 0.7127859610861411, 0.772423902099215, 0.7845736985848477, 0.7906306111951619, 0.7943939016151089, 0.5251633085767229, 0.6883266175294481, 0.7429384758477598, 0.7686767540741771, 0.7859560894600321, 0.7687580269311491, 0.7987237654321339, 0.7823004931165255, 0.8126086366222287, 0.8088962275589304, 0.8018916282884019, 0.7975805589379369, 0.7974323012686677, 0.8212617791162022, 0.7800442186857623, 0.6103901457393596, 0.8026096581295047, 0.7770273348676631, 0.7998442484902313, 0.6225892055884484, 0.8178842489702554, 0.7816306643979278]}, {\"categories\": [\"0\", \"1\", \"2\", \"3\", \"4\", \"5\", \"6\", \"7\", \"8\", \"9\", \"10\", \"11\", \"12\", \"13\", \"14\", \"15\", \"16\", \"17\", \"18\", \"19\", \"20\", \"21\", \"22\", \"23\", \"24\", \"25\", \"26\", \"27\", \"28\", \"29\", \"30\", \"31\", \"32\", \"33\", \"35\", \"38\", \"39\"], \"mode\": \"lines\", \"name\": \"f1_score_macro_max\", \"stepped\": true, \"type\": \"scatter\", \"data\": [0.8043314151248963, 0.8078501228997539, 0.8078501228997539, 0.8078501228997539, 0.8228413306818083, 0.8228413306818083, 0.8228413306818083, 0.8228413306818083, 0.8228413306818083, 0.8228413306818083, 0.8228413306818083, 0.8228413306818083, 0.8228413306818083, 0.8228413306818083, 0.8228413306818083, 0.8228413306818083, 0.8228413306818083, 0.8228413306818083, 0.8228413306818083, 0.8228413306818083, 0.8228413306818083, 0.8228413306818083, 0.8228413306818083, 0.8228413306818083, 0.8228413306818083, 0.8228413306818083, 0.8228413306818083, 0.8228413306818083, 0.8228413306818083, 0.8228413306818083, 0.8228413306818083, 0.8228413306818083, 0.8228413306818083, 0.8228413306818083, 0.8228413306818083, 0.8228413306818083, 0.8228413306818083]}], \"f1_score_weighted\": [{\"categories\": [\"0\", \"1\", \"2\", \"3\", \"4\", \"5\", \"6\", \"7\", \"8\", \"9\", \"10\", \"11\", \"12\", \"13\", \"14\", \"15\", \"16\", \"17\", \"18\", \"19\", \"20\", \"21\", \"22\", \"23\", \"24\", \"25\", \"26\", \"27\", \"28\", \"29\", \"30\", \"31\", \"32\", \"33\", \"35\", \"38\", \"39\"], \"mode\": \"markers\", \"name\": \"f1_score_weighted\", \"stepped\": false, \"type\": \"scatter\", \"data\": [0.8333388901455894, 0.8342588560383983, 0.8330798292530657, 0.7812861884890236, 0.8495700990624465, 0.81556811699713, 0.8265781845991608, 0.8290610735268575, 0.7406316988474646, 0.743922190318357, 0.7694826510559546, 0.8131421322719821, 0.8115352027786731, 0.8230318617675783, 0.8210104013980344, 0.6071892452709331, 0.7526506149433136, 0.7831053948872169, 0.8041456825195231, 0.8208423832388133, 0.8063747569103471, 0.8321553407265426, 0.8154603430296552, 0.8404647036153149, 0.83733147687347, 0.8291661776821947, 0.8282304002816805, 0.8278884873411767, 0.8452026258498364, 0.8176558550810734, 0.6582481041605842, 0.8341644215726021, 0.815504132325761, 0.8305955218060597, 0.7034639241241204, 0.8447795061342387, 0.8107748641131215]}, {\"categories\": [\"0\", \"1\", \"2\", \"3\", \"4\", \"5\", \"6\", \"7\", \"8\", \"9\", \"10\", \"11\", \"12\", \"13\", \"14\", \"15\", \"16\", \"17\", \"18\", \"19\", \"20\", \"21\", \"22\", \"23\", \"24\", \"25\", \"26\", \"27\", \"28\", \"29\", \"30\", \"31\", \"32\", \"33\", \"35\", \"38\", \"39\"], \"mode\": \"lines\", \"name\": \"f1_score_weighted_max\", \"stepped\": true, \"type\": \"scatter\", \"data\": [0.8333388901455894, 0.8342588560383983, 0.8342588560383983, 0.8342588560383983, 0.8495700990624465, 0.8495700990624465, 0.8495700990624465, 0.8495700990624465, 0.8495700990624465, 0.8495700990624465, 0.8495700990624465, 0.8495700990624465, 0.8495700990624465, 0.8495700990624465, 0.8495700990624465, 0.8495700990624465, 0.8495700990624465, 0.8495700990624465, 0.8495700990624465, 0.8495700990624465, 0.8495700990624465, 0.8495700990624465, 0.8495700990624465, 0.8495700990624465, 0.8495700990624465, 0.8495700990624465, 0.8495700990624465, 0.8495700990624465, 0.8495700990624465, 0.8495700990624465, 0.8495700990624465, 0.8495700990624465, 0.8495700990624465, 0.8495700990624465, 0.8495700990624465, 0.8495700990624465, 0.8495700990624465]}], \"AUC_micro\": [{\"categories\": [\"0\", \"1\", \"2\", \"3\", \"4\", \"5\", \"6\", \"7\", \"8\", \"9\", \"10\", \"11\", \"12\", \"13\", \"14\", \"15\", \"16\", \"17\", \"18\", \"19\", \"20\", \"21\", \"22\", \"23\", \"24\", \"25\", \"26\", \"27\", \"28\", \"29\", \"30\", \"31\", \"32\", \"33\", \"35\", \"38\", \"39\"], \"mode\": \"markers\", \"name\": \"AUC_micro\", \"stepped\": false, \"type\": \"scatter\", \"data\": [0.9035422116527941, 0.9042166732725592, 0.9100022460034352, 0.8821854934601664, 0.9259125379838817, 0.9051796802748051, 0.9066485004624123, 0.8949047430307836, 0.8585655965120887, 0.8096416963931828, 0.8736163297661514, 0.8906513409961686, 0.8958912670101731, 0.8855208085612366, 0.9097469943189325, 0.6464215880565465, 0.8851991015986259, 0.8398719778042014, 0.8776574184172281, 0.9104369137270446, 0.8944945171092616, 0.8875617650944644, 0.8987586206896552, 0.9090549610252345, 0.9108151671290792, 0.9089437177962744, 0.9095889813713832, 0.9087216276919012, 0.9134037521469152, 0.8922186550402961, 0.7810161183775929, 0.8984388954947814, 0.9073258026159333, 0.9091426872770512, 0.8304838155634826, 0.9285655965120888, 0.909253666270313]}, {\"categories\": [\"0\", \"1\", \"2\", \"3\", \"4\", \"5\", \"6\", \"7\", \"8\", \"9\", \"10\", \"11\", \"12\", \"13\", \"14\", \"15\", \"16\", \"17\", \"18\", \"19\", \"20\", \"21\", \"22\", \"23\", \"24\", \"25\", \"26\", \"27\", \"28\", \"29\", \"30\", \"31\", \"32\", \"33\", \"35\", \"38\", \"39\"], \"mode\": \"lines\", \"name\": \"AUC_micro_max\", \"stepped\": true, \"type\": \"scatter\", \"data\": [0.9035422116527941, 0.9042166732725592, 0.9100022460034352, 0.9100022460034352, 0.9259125379838817, 0.9259125379838817, 0.9259125379838817, 0.9259125379838817, 0.9259125379838817, 0.9259125379838817, 0.9259125379838817, 0.9259125379838817, 0.9259125379838817, 0.9259125379838817, 0.9259125379838817, 0.9259125379838817, 0.9259125379838817, 0.9259125379838817, 0.9259125379838817, 0.9259125379838817, 0.9259125379838817, 0.9259125379838817, 0.9259125379838817, 0.9259125379838817, 0.9259125379838817, 0.9259125379838817, 0.9259125379838817, 0.9259125379838817, 0.9259125379838817, 0.9259125379838817, 0.9259125379838817, 0.9259125379838817, 0.9259125379838817, 0.9259125379838817, 0.9259125379838817, 0.9285655965120888, 0.9285655965120888]}], \"precision_score_micro\": [{\"categories\": [\"0\", \"1\", \"2\", \"3\", \"4\", \"5\", \"6\", \"7\", \"8\", \"9\", \"10\", \"11\", \"12\", \"13\", \"14\", \"15\", \"16\", \"17\", \"18\", \"19\", \"20\", \"21\", \"22\", \"23\", \"24\", \"25\", \"26\", \"27\", \"28\", \"29\", \"30\", \"31\", \"32\", \"33\", \"35\", \"38\", \"39\"], \"mode\": \"markers\", \"name\": \"precision_score_micro\", \"stepped\": false, \"type\": \"scatter\", \"data\": [0.8359770114942527, 0.8358620689655172, 0.8325287356321839, 0.8027586206896553, 0.849425287356322, 0.8226436781609194, 0.825632183908046, 0.836206896551724, 0.7727586206896552, 0.7659770114942528, 0.7960919540229885, 0.8262068965517241, 0.805632183908046, 0.8258620689655173, 0.8189655172413793, 0.6389655172413793, 0.7827586206896553, 0.785632183908046, 0.7989655172413792, 0.8258620689655173, 0.8090804597701149, 0.8293103448275861, 0.8158620689655172, 0.8357471264367817, 0.8324137931034483, 0.8260919540229885, 0.8293103448275863, 0.8257471264367817, 0.8458620689655172, 0.8293103448275861, 0.6820689655172414, 0.8393103448275863, 0.8260919540229885, 0.825632183908046, 0.7526436781609196, 0.8458620689655174, 0.8295402298850576]}, {\"categories\": [\"0\", \"1\", \"2\", \"3\", \"4\", \"5\", \"6\", \"7\", \"8\", \"9\", \"10\", \"11\", \"12\", \"13\", \"14\", \"15\", \"16\", \"17\", \"18\", \"19\", \"20\", \"21\", \"22\", \"23\", \"24\", \"25\", \"26\", \"27\", \"28\", \"29\", \"30\", \"31\", \"32\", \"33\", \"35\", \"38\", \"39\"], \"mode\": \"lines\", \"name\": \"precision_score_micro_max\", \"stepped\": true, \"type\": \"scatter\", \"data\": [0.8359770114942527, 0.8359770114942527, 0.8359770114942527, 0.8359770114942527, 0.849425287356322, 0.849425287356322, 0.849425287356322, 0.849425287356322, 0.849425287356322, 0.849425287356322, 0.849425287356322, 0.849425287356322, 0.849425287356322, 0.849425287356322, 0.849425287356322, 0.849425287356322, 0.849425287356322, 0.849425287356322, 0.849425287356322, 0.849425287356322, 0.849425287356322, 0.849425287356322, 0.849425287356322, 0.849425287356322, 0.849425287356322, 0.849425287356322, 0.849425287356322, 0.849425287356322, 0.849425287356322, 0.849425287356322, 0.849425287356322, 0.849425287356322, 0.849425287356322, 0.849425287356322, 0.849425287356322, 0.849425287356322, 0.849425287356322]}], \"average_precision_score_weighted\": [{\"categories\": [\"0\", \"1\", \"2\", \"3\", \"4\", \"5\", \"6\", \"7\", \"8\", \"9\", \"10\", \"11\", \"12\", \"13\", \"14\", \"15\", \"16\", \"17\", \"18\", \"19\", \"20\", \"21\", \"22\", \"23\", \"24\", \"25\", \"26\", \"27\", \"28\", \"29\", \"30\", \"31\", \"32\", \"33\", \"35\", \"38\", \"39\"], \"mode\": \"markers\", \"name\": \"average_precision_score_weighted\", \"stepped\": false, \"type\": \"scatter\", \"data\": [0.9061112830231934, 0.907154018724502, 0.9174356912978606, 0.9076139148855962, 0.9298111146944013, 0.9114131670868323, 0.9136321200649192, 0.9104079832212655, 0.8864284654184331, 0.7960613547349917, 0.8986273554115545, 0.9049974187907415, 0.9254924136303504, 0.8929927721105095, 0.922495864500282, 0.6358285919365991, 0.9122342290285884, 0.8533185577821063, 0.9002121235967868, 0.9235801903509394, 0.9005852954989747, 0.8938033264333354, 0.902334655022029, 0.9208255032911193, 0.922225068865145, 0.9168836919283926, 0.9137736592805318, 0.918700523738876, 0.9197985892726658, 0.9104481826698162, 0.7530835089044978, 0.8970735335670106, 0.9241606247494006, 0.924588016060642, 0.8449811287554636, 0.9367037748248073, 0.9273198247024178]}, {\"categories\": [\"0\", \"1\", \"2\", \"3\", \"4\", \"5\", \"6\", \"7\", \"8\", \"9\", \"10\", \"11\", \"12\", \"13\", \"14\", \"15\", \"16\", \"17\", \"18\", \"19\", \"20\", \"21\", \"22\", \"23\", \"24\", \"25\", \"26\", \"27\", \"28\", \"29\", \"30\", \"31\", \"32\", \"33\", \"35\", \"38\", \"39\"], \"mode\": \"lines\", \"name\": \"average_precision_score_weighted_max\", \"stepped\": true, \"type\": \"scatter\", \"data\": [0.9061112830231934, 0.907154018724502, 0.9174356912978606, 0.9174356912978606, 0.9298111146944013, 0.9298111146944013, 0.9298111146944013, 0.9298111146944013, 0.9298111146944013, 0.9298111146944013, 0.9298111146944013, 0.9298111146944013, 0.9298111146944013, 0.9298111146944013, 0.9298111146944013, 0.9298111146944013, 0.9298111146944013, 0.9298111146944013, 0.9298111146944013, 0.9298111146944013, 0.9298111146944013, 0.9298111146944013, 0.9298111146944013, 0.9298111146944013, 0.9298111146944013, 0.9298111146944013, 0.9298111146944013, 0.9298111146944013, 0.9298111146944013, 0.9298111146944013, 0.9298111146944013, 0.9298111146944013, 0.9298111146944013, 0.9298111146944013, 0.9298111146944013, 0.9367037748248073, 0.9367037748248073]}], \"average_precision_score_micro\": [{\"categories\": [\"0\", \"1\", \"2\", \"3\", \"4\", \"5\", \"6\", \"7\", \"8\", \"9\", \"10\", \"11\", \"12\", \"13\", \"14\", \"15\", \"16\", \"17\", \"18\", \"19\", \"20\", \"21\", \"22\", \"23\", \"24\", \"25\", \"26\", \"27\", \"28\", \"29\", \"30\", \"31\", \"32\", \"33\", \"35\", \"38\", \"39\"], \"mode\": \"markers\", \"name\": \"average_precision_score_micro\", \"stepped\": false, \"type\": \"scatter\", \"data\": [0.9020054536251629, 0.9033793522124445, 0.9123698038172522, 0.8867857112167871, 0.9270987856749316, 0.9058800412619663, 0.9093230829442115, 0.8997628499032926, 0.8637998707410368, 0.7964089391804331, 0.8756158218702893, 0.8899483229538567, 0.8973962963047256, 0.8896292230110625, 0.9140259499238027, 0.6466874753087125, 0.8926637160526354, 0.8449876968842325, 0.8796311389600356, 0.9145380507917885, 0.9019087520285751, 0.8899265347612555, 0.9041259652659617, 0.9078698209517532, 0.9093141480431626, 0.9125242663926745, 0.9069578198335219, 0.9089179072989667, 0.9160619999335472, 0.8937346070170612, 0.7635963549123103, 0.8950673049215215, 0.913028674913777, 0.9103682737438239, 0.8300758703024911, 0.9303577038551134, 0.9139604797389869]}, {\"categories\": [\"0\", \"1\", \"2\", \"3\", \"4\", \"5\", \"6\", \"7\", \"8\", \"9\", \"10\", \"11\", \"12\", \"13\", \"14\", \"15\", \"16\", \"17\", \"18\", \"19\", \"20\", \"21\", \"22\", \"23\", \"24\", \"25\", \"26\", \"27\", \"28\", \"29\", \"30\", \"31\", \"32\", \"33\", \"35\", \"38\", \"39\"], \"mode\": \"lines\", \"name\": \"average_precision_score_micro_max\", \"stepped\": true, \"type\": \"scatter\", \"data\": [0.9020054536251629, 0.9033793522124445, 0.9123698038172522, 0.9123698038172522, 0.9270987856749316, 0.9270987856749316, 0.9270987856749316, 0.9270987856749316, 0.9270987856749316, 0.9270987856749316, 0.9270987856749316, 0.9270987856749316, 0.9270987856749316, 0.9270987856749316, 0.9270987856749316, 0.9270987856749316, 0.9270987856749316, 0.9270987856749316, 0.9270987856749316, 0.9270987856749316, 0.9270987856749316, 0.9270987856749316, 0.9270987856749316, 0.9270987856749316, 0.9270987856749316, 0.9270987856749316, 0.9270987856749316, 0.9270987856749316, 0.9270987856749316, 0.9270987856749316, 0.9270987856749316, 0.9270987856749316, 0.9270987856749316, 0.9270987856749316, 0.9270987856749316, 0.9303577038551134, 0.9303577038551134]}], \"precision_score_weighted\": [{\"categories\": [\"0\", \"1\", \"2\", \"3\", \"4\", \"5\", \"6\", \"7\", \"8\", \"9\", \"10\", \"11\", \"12\", \"13\", \"14\", \"15\", \"16\", \"17\", \"18\", \"19\", \"20\", \"21\", \"22\", \"23\", \"24\", \"25\", \"26\", \"27\", \"28\", \"29\", \"30\", \"31\", \"32\", \"33\", \"35\", \"38\", \"39\"], \"mode\": \"markers\", \"name\": \"precision_score_weighted\", \"stepped\": false, \"type\": \"scatter\", \"data\": [0.8443308716969533, 0.8506678986628277, 0.8436337358971399, 0.8333512399265273, 0.860270409682504, 0.8383946097449491, 0.8417698479119217, 0.8463484822551539, 0.8048335000461438, 0.7837569262377359, 0.8184856950848955, 0.8428819401552785, 0.8420608721058496, 0.8455365714699041, 0.8390976436859416, 0.6261394969463244, 0.8095979712302801, 0.8039447502906263, 0.8285124246090672, 0.8350718081947862, 0.8166025072215742, 0.8438324494560309, 0.8292774584929757, 0.8564032596972231, 0.8545152758487129, 0.8462724074423258, 0.8433714902985784, 0.8464009556795993, 0.8619331704280995, 0.8421278292671845, 0.6730057892299273, 0.8520676351939469, 0.844239101958992, 0.845956577361809, 0.8010207376063697, 0.8603596389818058, 0.8151175624121431]}, {\"categories\": [\"0\", \"1\", \"2\", \"3\", \"4\", \"5\", \"6\", \"7\", \"8\", \"9\", \"10\", \"11\", \"12\", \"13\", \"14\", \"15\", \"16\", \"17\", \"18\", \"19\", \"20\", \"21\", \"22\", \"23\", \"24\", \"25\", \"26\", \"27\", \"28\", \"29\", \"30\", \"31\", \"32\", \"33\", \"35\", \"38\", \"39\"], \"mode\": \"lines\", \"name\": \"precision_score_weighted_max\", \"stepped\": true, \"type\": \"scatter\", \"data\": [0.8443308716969533, 0.8506678986628277, 0.8506678986628277, 0.8506678986628277, 0.860270409682504, 0.860270409682504, 0.860270409682504, 0.860270409682504, 0.860270409682504, 0.860270409682504, 0.860270409682504, 0.860270409682504, 0.860270409682504, 0.860270409682504, 0.860270409682504, 0.860270409682504, 0.860270409682504, 0.860270409682504, 0.860270409682504, 0.860270409682504, 0.860270409682504, 0.860270409682504, 0.860270409682504, 0.860270409682504, 0.860270409682504, 0.860270409682504, 0.860270409682504, 0.860270409682504, 0.8619331704280995, 0.8619331704280995, 0.8619331704280995, 0.8619331704280995, 0.8619331704280995, 0.8619331704280995, 0.8619331704280995, 0.8619331704280995, 0.8619331704280995]}], \"balanced_accuracy\": [{\"categories\": [\"0\", \"1\", \"2\", \"3\", \"4\", \"5\", \"6\", \"7\", \"8\", \"9\", \"10\", \"11\", \"12\", \"13\", \"14\", \"15\", \"16\", \"17\", \"18\", \"19\", \"20\", \"21\", \"22\", \"23\", \"24\", \"25\", \"26\", \"27\", \"28\", \"29\", \"30\", \"31\", \"32\", \"33\", \"35\", \"38\", \"39\"], \"mode\": \"markers\", \"name\": \"balanced_accuracy\", \"stepped\": false, \"type\": \"scatter\", \"data\": [0.8077082895810014, 0.8130249020938379, 0.8065646254965475, 0.7151172314845085, 0.8312268682245799, 0.7898694500579512, 0.8094303000584464, 0.7894882318609435, 0.6737322159152823, 0.6780357113964093, 0.7073053533042091, 0.7550207307630077, 0.8160080607480493, 0.7933053417469893, 0.8076459528267309, 0.5513534193685796, 0.6804178533454849, 0.7557250739662067, 0.792539478224547, 0.7831479179668539, 0.7674053542122764, 0.8111184000019813, 0.7949274776202695, 0.8349643055266626, 0.8319967416895334, 0.8243804405612185, 0.8075924259760072, 0.8147145808361482, 0.8291951448945156, 0.7687618828857387, 0.6673297245914523, 0.8059589161474173, 0.7639785770420782, 0.8202817658441228, 0.6315586314270525, 0.8262504660036125, 0.7996270893802357]}, {\"categories\": [\"0\", \"1\", \"2\", \"3\", \"4\", \"5\", \"6\", \"7\", \"8\", \"9\", \"10\", \"11\", \"12\", \"13\", \"14\", \"15\", \"16\", \"17\", \"18\", \"19\", \"20\", \"21\", \"22\", \"23\", \"24\", \"25\", \"26\", \"27\", \"28\", \"29\", \"30\", \"31\", \"32\", \"33\", \"35\", \"38\", \"39\"], \"mode\": \"lines\", \"name\": \"balanced_accuracy_max\", \"stepped\": true, \"type\": \"scatter\", \"data\": [0.8077082895810014, 0.8130249020938379, 0.8130249020938379, 0.8130249020938379, 0.8312268682245799, 0.8312268682245799, 0.8312268682245799, 0.8312268682245799, 0.8312268682245799, 0.8312268682245799, 0.8312268682245799, 0.8312268682245799, 0.8312268682245799, 0.8312268682245799, 0.8312268682245799, 0.8312268682245799, 0.8312268682245799, 0.8312268682245799, 0.8312268682245799, 0.8312268682245799, 0.8312268682245799, 0.8312268682245799, 0.8312268682245799, 0.8349643055266626, 0.8349643055266626, 0.8349643055266626, 0.8349643055266626, 0.8349643055266626, 0.8349643055266626, 0.8349643055266626, 0.8349643055266626, 0.8349643055266626, 0.8349643055266626, 0.8349643055266626, 0.8349643055266626, 0.8349643055266626, 0.8349643055266626]}], \"average_precision_score_macro\": [{\"categories\": [\"0\", \"1\", \"2\", \"3\", \"4\", \"5\", \"6\", \"7\", \"8\", \"9\", \"10\", \"11\", \"12\", \"13\", \"14\", \"15\", \"16\", \"17\", \"18\", \"19\", \"20\", \"21\", \"22\", \"23\", \"24\", \"25\", \"26\", \"27\", \"28\", \"29\", \"30\", \"31\", \"32\", \"33\", \"35\", \"38\", \"39\"], \"mode\": \"markers\", \"name\": \"average_precision_score_macro\", \"stepped\": false, \"type\": \"scatter\", \"data\": [0.8807888197525153, 0.8807340475847678, 0.8890112242130283, 0.8797228949478135, 0.9057528589319555, 0.8878472475949882, 0.8883819917358649, 0.8859473636368786, 0.8545300566812019, 0.7610796181270093, 0.8720309948055507, 0.8803558423960979, 0.9032147338328773, 0.857698428070095, 0.9018662514980369, 0.5793782772753733, 0.8853002991453283, 0.8064014618426036, 0.8686946775363363, 0.8985389415472792, 0.8641408788993905, 0.8638956160693336, 0.8731805008275557, 0.8952820395548373, 0.8991550382013431, 0.8900546652903998, 0.8886298922458458, 0.890189072022328, 0.8915480212235863, 0.8845525197702238, 0.6962929553734358, 0.8670051871471305, 0.8986372092737926, 0.9005779736581875, 0.8113902500860476, 0.9190018238956021, 0.9064393462180252]}, {\"categories\": [\"0\", \"1\", \"2\", \"3\", \"4\", \"5\", \"6\", \"7\", \"8\", \"9\", \"10\", \"11\", \"12\", \"13\", \"14\", \"15\", \"16\", \"17\", \"18\", \"19\", \"20\", \"21\", \"22\", \"23\", \"24\", \"25\", \"26\", \"27\", \"28\", \"29\", \"30\", \"31\", \"32\", \"33\", \"35\", \"38\", \"39\"], \"mode\": \"lines\", \"name\": \"average_precision_score_macro_max\", \"stepped\": true, \"type\": \"scatter\", \"data\": [0.8807888197525153, 0.8807888197525153, 0.8890112242130283, 0.8890112242130283, 0.9057528589319555, 0.9057528589319555, 0.9057528589319555, 0.9057528589319555, 0.9057528589319555, 0.9057528589319555, 0.9057528589319555, 0.9057528589319555, 0.9057528589319555, 0.9057528589319555, 0.9057528589319555, 0.9057528589319555, 0.9057528589319555, 0.9057528589319555, 0.9057528589319555, 0.9057528589319555, 0.9057528589319555, 0.9057528589319555, 0.9057528589319555, 0.9057528589319555, 0.9057528589319555, 0.9057528589319555, 0.9057528589319555, 0.9057528589319555, 0.9057528589319555, 0.9057528589319555, 0.9057528589319555, 0.9057528589319555, 0.9057528589319555, 0.9057528589319555, 0.9057528589319555, 0.9190018238956021, 0.9190018238956021]}], \"recall_score_macro\": [{\"categories\": [\"0\", \"1\", \"2\", \"3\", \"4\", \"5\", \"6\", \"7\", \"8\", \"9\", \"10\", \"11\", \"12\", \"13\", \"14\", \"15\", \"16\", \"17\", \"18\", \"19\", \"20\", \"21\", \"22\", \"23\", \"24\", \"25\", \"26\", \"27\", \"28\", \"29\", \"30\", \"31\", \"32\", \"33\", \"35\", \"38\", \"39\"], \"mode\": \"markers\", \"name\": \"recall_score_macro\", \"stepped\": false, \"type\": \"scatter\", \"data\": [0.8077082895810014, 0.8130249020938379, 0.8065646254965475, 0.7151172314845085, 0.8312268682245799, 0.7898694500579512, 0.8094303000584464, 0.7894882318609435, 0.6737322159152823, 0.6780357113964093, 0.7073053533042091, 0.7550207307630077, 0.8160080607480493, 0.7933053417469893, 0.8076459528267309, 0.5513534193685796, 0.6804178533454849, 0.7557250739662067, 0.792539478224547, 0.7831479179668539, 0.7674053542122764, 0.8111184000019813, 0.7949274776202695, 0.8349643055266626, 0.8319967416895334, 0.8243804405612185, 0.8075924259760072, 0.8147145808361482, 0.8291951448945156, 0.7687618828857387, 0.6673297245914523, 0.8059589161474173, 0.7639785770420782, 0.8202817658441228, 0.6315586314270525, 0.8262504660036125, 0.7996270893802357]}, {\"categories\": [\"0\", \"1\", \"2\", \"3\", \"4\", \"5\", \"6\", \"7\", \"8\", \"9\", \"10\", \"11\", \"12\", \"13\", \"14\", \"15\", \"16\", \"17\", \"18\", \"19\", \"20\", \"21\", \"22\", \"23\", \"24\", \"25\", \"26\", \"27\", \"28\", \"29\", \"30\", \"31\", \"32\", \"33\", \"35\", \"38\", \"39\"], \"mode\": \"lines\", \"name\": \"recall_score_macro_max\", \"stepped\": true, \"type\": \"scatter\", \"data\": [0.8077082895810014, 0.8130249020938379, 0.8130249020938379, 0.8130249020938379, 0.8312268682245799, 0.8312268682245799, 0.8312268682245799, 0.8312268682245799, 0.8312268682245799, 0.8312268682245799, 0.8312268682245799, 0.8312268682245799, 0.8312268682245799, 0.8312268682245799, 0.8312268682245799, 0.8312268682245799, 0.8312268682245799, 0.8312268682245799, 0.8312268682245799, 0.8312268682245799, 0.8312268682245799, 0.8312268682245799, 0.8312268682245799, 0.8349643055266626, 0.8349643055266626, 0.8349643055266626, 0.8349643055266626, 0.8349643055266626, 0.8349643055266626, 0.8349643055266626, 0.8349643055266626, 0.8349643055266626, 0.8349643055266626, 0.8349643055266626, 0.8349643055266626, 0.8349643055266626, 0.8349643055266626]}], \"matthews_correlation\": [{\"categories\": [\"0\", \"1\", \"2\", \"3\", \"4\", \"5\", \"6\", \"7\", \"8\", \"9\", \"10\", \"11\", \"12\", \"13\", \"14\", \"15\", \"16\", \"17\", \"18\", \"19\", \"20\", \"21\", \"22\", \"23\", \"24\", \"25\", \"26\", \"27\", \"28\", \"29\", \"30\", \"31\", \"32\", \"33\", \"35\", \"38\", \"39\"], \"mode\": \"markers\", \"name\": \"matthews_correlation\", \"stepped\": false, \"type\": \"scatter\", \"data\": [0.6231314496952846, 0.6345538749068885, 0.6107551015063774, 0.5400193294942357, 0.6568738766392762, 0.5950078187450528, 0.6091149894848481, 0.6250437394413731, 0.44959598648883575, 0.4352854456898543, 0.5048415517821261, 0.5919226179160295, 0.5972567878967034, 0.6078636154279606, 0.6064981316812883, 0.10426477830980234, 0.4723882435943686, 0.5125604992991379, 0.5592533546311519, 0.591194297640371, 0.5509749410870907, 0.6096282978703798, 0.5802836177532411, 0.6388741036340543, 0.6327647143169496, 0.6208331915778216, 0.6122074437768974, 0.6126590065256055, 0.6612921399462637, 0.5978057098886025, 0.30791202107691495, 0.6284918095534159, 0.5961273278782777, 0.6122158716596927, 0.39436592264875736, 0.6530642442971815, 0.6120443159746317]}, {\"categories\": [\"0\", \"1\", \"2\", \"3\", \"4\", \"5\", \"6\", \"7\", \"8\", \"9\", \"10\", \"11\", \"12\", \"13\", \"14\", \"15\", \"16\", \"17\", \"18\", \"19\", \"20\", \"21\", \"22\", \"23\", \"24\", \"25\", \"26\", \"27\", \"28\", \"29\", \"30\", \"31\", \"32\", \"33\", \"35\", \"38\", \"39\"], \"mode\": \"lines\", \"name\": \"matthews_correlation_max\", \"stepped\": true, \"type\": \"scatter\", \"data\": [0.6231314496952846, 0.6345538749068885, 0.6345538749068885, 0.6345538749068885, 0.6568738766392762, 0.6568738766392762, 0.6568738766392762, 0.6568738766392762, 0.6568738766392762, 0.6568738766392762, 0.6568738766392762, 0.6568738766392762, 0.6568738766392762, 0.6568738766392762, 0.6568738766392762, 0.6568738766392762, 0.6568738766392762, 0.6568738766392762, 0.6568738766392762, 0.6568738766392762, 0.6568738766392762, 0.6568738766392762, 0.6568738766392762, 0.6568738766392762, 0.6568738766392762, 0.6568738766392762, 0.6568738766392762, 0.6568738766392762, 0.6612921399462637, 0.6612921399462637, 0.6612921399462637, 0.6612921399462637, 0.6612921399462637, 0.6612921399462637, 0.6612921399462637, 0.6612921399462637, 0.6612921399462637]}]}, \"metricName\": null, \"primaryMetricName\": \"AUC_weighted\", \"showLegend\": false}, \"run_metrics\": [{\"name\": \"experiment_status\", \"run_id\": \"AutoML_5eee7fb6-1dc5-4ab9-a45b-1516ae28d001\", \"categories\": [0, 1, 2, 3, 4, 5, 6, 7, 8, 9, 10, 11, 12, 13], \"series\": [{\"data\": [\"DatasetEvaluation\", \"FeaturesGeneration\", \"DatasetFeaturization\", \"DatasetFeaturizationCompleted\", \"DatasetCrossValidationSplit\", \"ModelSelection\", \"BestRunExplainModel\", \"ModelExplanationDataSetSetup\", \"PickSurrogateModel\", \"EngineeredFeatureExplanations\", \"EngineeredFeatureExplanations\", \"RawFeaturesExplanations\", \"RawFeaturesExplanations\", \"BestRunExplainModel\"]}]}, {\"name\": \"experiment_status_description\", \"run_id\": \"AutoML_5eee7fb6-1dc5-4ab9-a45b-1516ae28d001\", \"categories\": [0, 1, 2, 3, 4, 5, 6, 7, 8, 9, 10, 11, 12, 13], \"series\": [{\"data\": [\"Gathering dataset statistics.\", \"Generating features for the dataset.\", \"Beginning to fit featurizers and featurize the dataset.\", \"Completed fit featurizers and featurizing the dataset.\", \"Generating individually featurized CV splits.\", \"Beginning model selection.\", \"Best run model explanations started\", \"Model explanations data setup completed\", \"Choosing LightGBM as the surrogate model for explanations\", \"Computation of engineered features started\", \"Computation of engineered features completed\", \"Computation of raw features started\", \"Computation of raw features completed\", \"Best run model explanations completed\"]}]}, {\"name\": \"AUC_weighted\", \"run_id\": \"AutoML_5eee7fb6-1dc5-4ab9-a45b-1516ae28d001\", \"categories\": [0], \"series\": [{\"data\": [0.9205699647945071]}]}, {\"name\": \"average_precision_score_micro\", \"run_id\": \"AutoML_5eee7fb6-1dc5-4ab9-a45b-1516ae28d001\", \"categories\": [0], \"series\": [{\"data\": [0.9303577038551134]}]}, {\"name\": \"average_precision_score_macro\", \"run_id\": \"AutoML_5eee7fb6-1dc5-4ab9-a45b-1516ae28d001\", \"categories\": [0], \"series\": [{\"data\": [0.9190018238956021]}]}, {\"name\": \"f1_score_weighted\", \"run_id\": \"AutoML_5eee7fb6-1dc5-4ab9-a45b-1516ae28d001\", \"categories\": [0], \"series\": [{\"data\": [0.8447795061342387]}]}, {\"name\": \"matthews_correlation\", \"run_id\": \"AutoML_5eee7fb6-1dc5-4ab9-a45b-1516ae28d001\", \"categories\": [0], \"series\": [{\"data\": [0.6530642442971815]}]}, {\"name\": \"f1_score_macro\", \"run_id\": \"AutoML_5eee7fb6-1dc5-4ab9-a45b-1516ae28d001\", \"categories\": [0], \"series\": [{\"data\": [0.8178842489702554]}]}, {\"name\": \"precision_score_macro\", \"run_id\": \"AutoML_5eee7fb6-1dc5-4ab9-a45b-1516ae28d001\", \"categories\": [0], \"series\": [{\"data\": [0.8281018048092857]}]}, {\"name\": \"accuracy\", \"run_id\": \"AutoML_5eee7fb6-1dc5-4ab9-a45b-1516ae28d001\", \"categories\": [0], \"series\": [{\"data\": [0.8458620689655174]}]}, {\"name\": \"precision_score_micro\", \"run_id\": \"AutoML_5eee7fb6-1dc5-4ab9-a45b-1516ae28d001\", \"categories\": [0], \"series\": [{\"data\": [0.8458620689655174]}]}, {\"name\": \"recall_score_weighted\", \"run_id\": \"AutoML_5eee7fb6-1dc5-4ab9-a45b-1516ae28d001\", \"categories\": [0], \"series\": [{\"data\": [0.8458620689655174]}]}, {\"name\": \"balanced_accuracy\", \"run_id\": \"AutoML_5eee7fb6-1dc5-4ab9-a45b-1516ae28d001\", \"categories\": [0], \"series\": [{\"data\": [0.8262504660036125]}]}, {\"name\": \"precision_score_weighted\", \"run_id\": \"AutoML_5eee7fb6-1dc5-4ab9-a45b-1516ae28d001\", \"categories\": [0], \"series\": [{\"data\": [0.8603596389818058]}]}, {\"name\": \"recall_score_micro\", \"run_id\": \"AutoML_5eee7fb6-1dc5-4ab9-a45b-1516ae28d001\", \"categories\": [0], \"series\": [{\"data\": [0.8458620689655174]}]}, {\"name\": \"f1_score_micro\", \"run_id\": \"AutoML_5eee7fb6-1dc5-4ab9-a45b-1516ae28d001\", \"categories\": [0], \"series\": [{\"data\": [0.8458620689655174]}]}, {\"name\": \"log_loss\", \"run_id\": \"AutoML_5eee7fb6-1dc5-4ab9-a45b-1516ae28d001\", \"categories\": [0], \"series\": [{\"data\": [0.41893634430957405]}]}, {\"name\": \"recall_score_macro\", \"run_id\": \"AutoML_5eee7fb6-1dc5-4ab9-a45b-1516ae28d001\", \"categories\": [0], \"series\": [{\"data\": [0.8262504660036125]}]}, {\"name\": \"average_precision_score_weighted\", \"run_id\": \"AutoML_5eee7fb6-1dc5-4ab9-a45b-1516ae28d001\", \"categories\": [0], \"series\": [{\"data\": [0.9367037748248073]}]}, {\"name\": \"AUC_micro\", \"run_id\": \"AutoML_5eee7fb6-1dc5-4ab9-a45b-1516ae28d001\", \"categories\": [0], \"series\": [{\"data\": [0.9285655965120888]}]}, {\"name\": \"weighted_accuracy\", \"run_id\": \"AutoML_5eee7fb6-1dc5-4ab9-a45b-1516ae28d001\", \"categories\": [0], \"series\": [{\"data\": [0.85792421386688]}]}, {\"name\": \"norm_macro_recall\", \"run_id\": \"AutoML_5eee7fb6-1dc5-4ab9-a45b-1516ae28d001\", \"categories\": [0], \"series\": [{\"data\": [0.6525009320072248]}]}, {\"name\": \"AUC_macro\", \"run_id\": \"AutoML_5eee7fb6-1dc5-4ab9-a45b-1516ae28d001\", \"categories\": [0], \"series\": [{\"data\": [0.9205699647945071]}]}], \"run_logs\": \"\\nRun is completed.\", \"graph\": {}, \"widget_settings\": {\"childWidgetDisplay\": \"popup\", \"send_telemetry\": false, \"log_level\": \"INFO\", \"sdk_version\": \"1.20.0\"}, \"loading\": false}"
     },
     "metadata": {},
     "output_type": "display_data"
    },
    {
     "name": "stdout",
     "output_type": "stream",
     "text": [
      "\n",
      "Current status: FeaturesGeneration. Generating features for the dataset.\n",
      "Current status: ModelSelection. Beginning model selection.\n",
      "\n",
      "****************************************************************************************************\n",
      "DATA GUARDRAILS: \n",
      "\n",
      "TYPE:         Cross validation\n",
      "STATUS:       DONE\n",
      "DESCRIPTION:  Each iteration of the trained model was validated through cross-validation.\n",
      "              \n",
      "DETAILS:      \n",
      "+---------------------------------+\n",
      "|Number of folds                  |\n",
      "+=================================+\n",
      "|10                               |\n",
      "+---------------------------------+\n",
      "\n",
      "****************************************************************************************************\n",
      "\n",
      "TYPE:         Class balancing detection\n",
      "STATUS:       PASSED\n",
      "DESCRIPTION:  Your inputs were analyzed, and all classes are balanced in your training data.\n",
      "              Learn more about imbalanced data: https://aka.ms/AutomatedMLImbalancedData\n",
      "\n",
      "****************************************************************************************************\n",
      "\n",
      "TYPE:         Missing feature values imputation\n",
      "STATUS:       PASSED\n",
      "DESCRIPTION:  No feature missing values were detected in the training data.\n",
      "              Learn more about missing value imputation: https://aka.ms/AutomatedMLFeaturization\n",
      "\n",
      "****************************************************************************************************\n",
      "\n",
      "TYPE:         High cardinality feature detection\n",
      "STATUS:       PASSED\n",
      "DESCRIPTION:  Your inputs were analyzed, and no high cardinality features were detected.\n",
      "              Learn more about high cardinality feature handling: https://aka.ms/AutomatedMLFeaturization\n",
      "\n",
      "****************************************************************************************************\n",
      "\n",
      "****************************************************************************************************\n",
      "ITERATION: The iteration being evaluated.\n",
      "PIPELINE: A summary description of the pipeline being evaluated.\n",
      "DURATION: Time taken for the current iteration.\n",
      "METRIC: The result of computing score on the fitted pipeline.\n",
      "BEST: The best observed score thus far.\n",
      "****************************************************************************************************\n",
      "\n",
      " ITERATION   PIPELINE                                       DURATION      METRIC      BEST\n",
      "         1   MaxAbsScaler XGBoostClassifier                 0:00:50       0.8847    0.8847\n",
      "         3   RobustScaler ExtremeRandomTrees                0:00:56       0.8856    0.8856\n",
      "         2   MinMaxScaler RandomForest                      0:00:51       0.8993    0.8993\n",
      "         0   MaxAbsScaler LightGBM                          0:01:19       0.8841    0.8993\n",
      "         4   MinMaxScaler RandomForest                      0:00:53       0.9155    0.9155\n",
      "         5   MinMaxScaler RandomForest                      0:00:57       0.8932    0.9155\n",
      "         6   StandardScalerWrapper RandomForest             0:00:50       0.8942    0.9155\n",
      "         7   MinMaxScaler ExtremeRandomTrees                0:00:43       0.8833    0.9155\n",
      "         8   MinMaxScaler ExtremeRandomTrees                0:00:49       0.8595    0.9155\n",
      "        10   MinMaxScaler ExtremeRandomTrees                0:00:55       0.8708    0.9155\n",
      "         9   SparseNormalizer KNN                           0:00:54       0.7496    0.9155\n",
      "        11   RobustScaler ExtremeRandomTrees                0:00:50       0.8786    0.9155\n",
      "        12   StandardScalerWrapper RandomForest             0:00:50       0.9100    0.9155\n",
      "        13   StandardScalerWrapper SGD                      0:00:49       0.8707    0.9155\n",
      "        14   RobustScaler RandomForest                      0:00:49       0.9053    0.9155\n",
      "        15   StandardScalerWrapper KNN                      0:00:48       0.5203    0.9155\n",
      "        16   MinMaxScaler RandomForest                      0:00:40       0.8884    0.9155\n",
      "        17   MinMaxScaler ExtremeRandomTrees                0:00:46       0.8215    0.9155\n",
      "        18   MaxAbsScaler RandomForest                      0:00:48       0.8797    0.9155\n",
      "        20   MaxAbsScaler RandomForest                      0:00:46       0.8879    0.9155\n",
      "        19   StandardScalerWrapper XGBoostClassifier        0:01:02       0.9089    0.9155\n",
      "        21   MaxAbsScaler ExtremeRandomTrees                0:00:52       0.8685    0.9155\n",
      "        23   MinMaxScaler RandomForest                      0:00:54       0.9052    0.9155\n",
      "        22   MaxAbsScaler ExtremeRandomTrees                0:01:05       0.8766    0.9155\n",
      "        25   MinMaxScaler RandomForest                      0:00:43       0.9077    0.9155\n",
      "        26   MaxAbsScaler ExtremeRandomTrees                0:00:48       0.8977    0.9155\n",
      "        24   MinMaxScaler RandomForest                      0:01:27       0.9086    0.9155\n",
      "        27   RobustScaler RandomForest                      0:00:51       0.9060    0.9155\n",
      "        28   StandardScalerWrapper XGBoostClassifier        0:00:46       0.9051    0.9155\n",
      "        29   RobustScaler LightGBM                          0:00:49       0.9012    0.9155\n",
      "        30   RobustScaler RandomForest                      0:00:43       0.7530    0.9155\n",
      "        31   StandardScalerWrapper XGBoostClassifier        0:00:49       0.8891    0.9155\n",
      "        32   MinMaxScaler LightGBM                          0:00:48       0.9057    0.9155\n",
      "        33   RobustScaler RandomForest                      0:00:58       0.9083    0.9155\n",
      "        35   TruncatedSVDWrapper RandomForest               0:00:32       0.8235    0.9155\n",
      "        34   StandardScalerWrapper LightGBM                 0:00:51          nan    0.9155\n",
      "        36                                                  0:00:23          nan    0.9155\n",
      "        37                                                  0:00:10          nan    0.9155\n",
      "        38    VotingEnsemble                                0:02:09       0.9206    0.9206\n",
      "        39    StackEnsemble                                 0:02:10       0.9091    0.9206\n"
     ]
    }
   ],
   "source": [
    "from azureml.widgets import RunDetails\n",
    "RunDetails(automl_run).show()\n",
    "automl_run.wait_for_completion(show_output = True)\n",
    "assert(automl_run.get_status() == \"Completed\")"
   ]
  },
  {
   "cell_type": "markdown",
   "metadata": {},
   "source": [
    "## Best Model\n",
    "\n",
    "TODO: In the cell below, get the best model from the automl experiments and display all the properties of the model.\n",
    "\n"
   ]
  },
  {
   "cell_type": "code",
   "execution_count": 14,
   "metadata": {
    "gather": {
     "logged": 1598431425670
    },
    "jupyter": {
     "outputs_hidden": false,
     "source_hidden": false
    },
    "nteract": {
     "transient": {
      "deleting": false
     }
    }
   },
   "outputs": [
    {
     "name": "stdout",
     "output_type": "stream",
     "text": [
      "Best Run ID:  AutoML_5eee7fb6-1dc5-4ab9-a45b-1516ae28d001_38\n",
      "------------------------------\n",
      "AutoML best run AUC_weighted:  {'AUC_weighted': 0.9205699647945071}\n",
      "------------------------------\n",
      "Metrics:  {'norm_macro_recall': 0.6525009320072248, 'AUC_macro': 0.9205699647945071, 'AUC_micro': 0.9285655965120888, 'weighted_accuracy': 0.85792421386688, 'accuracy': 0.8458620689655174, 'balanced_accuracy': 0.8262504660036125, 'average_precision_score_macro': 0.9190018238956021, 'f1_score_micro': 0.8458620689655174, 'matthews_correlation': 0.6530642442971815, 'average_precision_score_micro': 0.9303577038551134, 'recall_score_macro': 0.8262504660036125, 'precision_score_micro': 0.8458620689655174, 'precision_score_macro': 0.8281018048092857, 'recall_score_micro': 0.8458620689655174, 'average_precision_score_weighted': 0.9367037748248073, 'AUC_weighted': 0.9205699647945071, 'precision_score_weighted': 0.8603596389818058, 'recall_score_weighted': 0.8458620689655174, 'f1_score_macro': 0.8178842489702554, 'f1_score_weighted': 0.8447795061342387, 'log_loss': 0.41893634430957405, 'confusion_matrix': 'aml://artifactId/ExperimentRun/dcid.AutoML_5eee7fb6-1dc5-4ab9-a45b-1516ae28d001_38/confusion_matrix', 'accuracy_table': 'aml://artifactId/ExperimentRun/dcid.AutoML_5eee7fb6-1dc5-4ab9-a45b-1516ae28d001_38/accuracy_table'}\n",
      "------------------------------\n",
      "Fitted model and its hyperparameters :  ('prefittedsoftvotingclassifier', PreFittedSoftVotingClassifier(classification_labels=None,\n",
      "                              estimators=[('4',\n",
      "                                           Pipeline(memory=None,\n",
      "                                                    steps=[('minmaxscaler',\n",
      "                                                            MinMaxScaler(copy=True,\n",
      "                                                                         feature_range=(0,\n",
      "                                                                                        1))),\n",
      "                                                           ('randomforestclassifier',\n",
      "                                                            RandomForestClassifier(bootstrap=True,\n",
      "                                                                                   ccp_alpha=0.0,\n",
      "                                                                                   class_weight='balanced',\n",
      "                                                                                   criterion='gini',\n",
      "                                                                                   max_depth=None,\n",
      "                                                                                   max_features='log2',\n",
      "                                                                                   max_leaf_nodes=None,\n",
      "                                                                                   max_samples=N...\n",
      "                                                                                 min_weight_fraction_leaf=0.0,\n",
      "                                                                                 n_estimators=25,\n",
      "                                                                                 n_jobs=1,\n",
      "                                                                                 oob_score=False,\n",
      "                                                                                 random_state=None,\n",
      "                                                                                 verbose=0,\n",
      "                                                                                 warm_start=False))],\n",
      "                                                    verbose=False))],\n",
      "                              flatten_transform=None,\n",
      "                              weights=[0.2, 0.06666666666666667,\n",
      "                                       0.06666666666666667, 0.06666666666666667,\n",
      "                                       0.06666666666666667, 0.06666666666666667,\n",
      "                                       0.2, 0.06666666666666667,\n",
      "                                       0.06666666666666667, 0.06666666666666667,\n",
      "                                       0.06666666666666667]))\n"
     ]
    }
   ],
   "source": [
    "# Retrieving and saving the best automl model\n",
    "automl_best_run, fitted_automl_model = automl_run.get_output() \n",
    "\n",
    "run_dict = automl_best_run.get_details()\n",
    "\n",
    "print(\"Best Run ID: \", run_dict[\"runId\"])\n",
    "print(\"---\"*10)\n",
    "print(\"AutoML best run AUC_weighted: \", automl_best_run.get_metrics(name=\"AUC_weighted\"))\n",
    "print(\"---\"*10)\n",
    "print(\"Metrics: \", automl_best_run.get_metrics())\n",
    "print(\"---\"*10)\n",
    "print(\"Fitted model and its hyperparameters : \", fitted_automl_model.steps[-1])\n",
    "\n"
   ]
  },
  {
   "cell_type": "code",
   "execution_count": 13,
   "metadata": {},
   "outputs": [
    {
     "name": "stdout",
     "output_type": "stream",
     "text": [
      "AutoML Run Summary:  [['StackEnsemble', 1, 0.9090671778259878], ['VotingEnsemble', 1, 0.9205699647945071], ['Failed', 2, nan], ['RandomForest', 16, 0.9154799974243909], ['LightGBM', 4, nan], ['XGBoostClassifier', 4, 0.9089099837731132], ['ExtremeRandomTrees', 9, 0.8976559833653083], ['KNN', 2, 0.7496161006793443], ['SGD', 1, 0.870688942657478]]\n"
     ]
    }
   ],
   "source": [
    "print(\"AutoML Run Summary: \", automl_run.summary())"
   ]
  },
  {
   "cell_type": "code",
   "execution_count": 35,
   "metadata": {
    "gather": {
     "logged": 1598431426111
    },
    "jupyter": {
     "outputs_hidden": false,
     "source_hidden": false
    },
    "nteract": {
     "transient": {
      "deleting": false
     }
    }
   },
   "outputs": [
    {
     "ename": "ModelPathNotFoundException",
     "evalue": "ModelPathNotFoundException:\n\tMessage: Could not locate the provided model_path automl_best_model in the set of files uploaded to the run: ['accuracy_table', 'automl_driver.py', 'azureml-logs/55_azureml-execution-tvmps_96d65a381c5bb9f024ba84f4c039cf04aad0dfcab1389008fce107d5872044af_d.txt', 'azureml-logs/65_job_prep-tvmps_96d65a381c5bb9f024ba84f4c039cf04aad0dfcab1389008fce107d5872044af_d.txt', 'azureml-logs/70_driver_log.txt', 'azureml-logs/75_job_post-tvmps_96d65a381c5bb9f024ba84f4c039cf04aad0dfcab1389008fce107d5872044af_d.txt', 'azureml-logs/process_info.json', 'azureml-logs/process_status.json', 'confusion_matrix', 'explanation/4b448a66/classes.interpret.json', 'explanation/4b448a66/eval_data_viz.interpret.json', 'explanation/4b448a66/expected_values.interpret.json', 'explanation/4b448a66/features.interpret.json', 'explanation/4b448a66/global_names/0.interpret.json', 'explanation/4b448a66/global_rank/0.interpret.json', 'explanation/4b448a66/global_values/0.interpret.json', 'explanation/4b448a66/local_importance_values.interpret.json', 'explanation/4b448a66/per_class_names/0.interpret.json', 'explanation/4b448a66/per_class_rank/0.interpret.json', 'explanation/4b448a66/per_class_values/0.interpret.json', 'explanation/4b448a66/rich_metadata.interpret.json', 'explanation/4b448a66/visualization_dict.interpret.json', 'explanation/dd1291d2/classes.interpret.json', 'explanation/dd1291d2/eval_data_viz.interpret.json', 'explanation/dd1291d2/expected_values.interpret.json', 'explanation/dd1291d2/features.interpret.json', 'explanation/dd1291d2/global_names/0.interpret.json', 'explanation/dd1291d2/global_rank/0.interpret.json', 'explanation/dd1291d2/global_values/0.interpret.json', 'explanation/dd1291d2/local_importance_values.interpret.json', 'explanation/dd1291d2/per_class_names/0.interpret.json', 'explanation/dd1291d2/per_class_rank/0.interpret.json', 'explanation/dd1291d2/per_class_values/0.interpret.json', 'explanation/dd1291d2/rich_metadata.interpret.json', 'explanation/dd1291d2/visualization_dict.interpret.json', 'explanation/dd1291d2/ys_pred_proba_viz.interpret.json', 'explanation/dd1291d2/ys_pred_viz.interpret.json', 'logs/azureml/101_azureml.log', 'logs/azureml/azureml_automl.log', 'logs/azureml/dataprep/python_span_630a79ae-ab8a-45dc-910e-cfcf61efd6f9.jsonl', 'logs/azureml/dataprep/python_span_ca2d2138-0608-4c86-8cb3-075031f8c884.jsonl', 'logs/azureml/job_prep_azureml.log', 'logs/azureml/job_release_azureml.log', 'outputs/conda_env_v_1_0_0.yml', 'outputs/env_dependencies.json', 'outputs/internal_cross_validated_models.pkl', 'outputs/model.pkl', 'outputs/pipeline_graph.json', 'outputs/scoring_file_v_1_0_0.py']\n                See https://aka.ms/run-logging for more details.\n\tInnerException None\n\tErrorResponse \n{\n    \"error\": {\n        \"message\": \"Could not locate the provided model_path automl_best_model in the set of files uploaded to the run: ['accuracy_table', 'automl_driver.py', 'azureml-logs/55_azureml-execution-tvmps_96d65a381c5bb9f024ba84f4c039cf04aad0dfcab1389008fce107d5872044af_d.txt', 'azureml-logs/65_job_prep-tvmps_96d65a381c5bb9f024ba84f4c039cf04aad0dfcab1389008fce107d5872044af_d.txt', 'azureml-logs/70_driver_log.txt', 'azureml-logs/75_job_post-tvmps_96d65a381c5bb9f024ba84f4c039cf04aad0dfcab1389008fce107d5872044af_d.txt', 'azureml-logs/process_info.json', 'azureml-logs/process_status.json', 'confusion_matrix', 'explanation/4b448a66/classes.interpret.json', 'explanation/4b448a66/eval_data_viz.interpret.json', 'explanation/4b448a66/expected_values.interpret.json', 'explanation/4b448a66/features.interpret.json', 'explanation/4b448a66/global_names/0.interpret.json', 'explanation/4b448a66/global_rank/0.interpret.json', 'explanation/4b448a66/global_values/0.interpret.json', 'explanation/4b448a66/local_importance_values.interpret.json', 'explanation/4b448a66/per_class_names/0.interpret.json', 'explanation/4b448a66/per_class_rank/0.interpret.json', 'explanation/4b448a66/per_class_values/0.interpret.json', 'explanation/4b448a66/rich_metadata.interpret.json', 'explanation/4b448a66/visualization_dict.interpret.json', 'explanation/dd1291d2/classes.interpret.json', 'explanation/dd1291d2/eval_data_viz.interpret.json', 'explanation/dd1291d2/expected_values.interpret.json', 'explanation/dd1291d2/features.interpret.json', 'explanation/dd1291d2/global_names/0.interpret.json', 'explanation/dd1291d2/global_rank/0.interpret.json', 'explanation/dd1291d2/global_values/0.interpret.json', 'explanation/dd1291d2/local_importance_values.interpret.json', 'explanation/dd1291d2/per_class_names/0.interpret.json', 'explanation/dd1291d2/per_class_rank/0.interpret.json', 'explanation/dd1291d2/per_class_values/0.interpret.json', 'explanation/dd1291d2/rich_metadata.interpret.json', 'explanation/dd1291d2/visualization_dict.interpret.json', 'explanation/dd1291d2/ys_pred_proba_viz.interpret.json', 'explanation/dd1291d2/ys_pred_viz.interpret.json', 'logs/azureml/101_azureml.log', 'logs/azureml/azureml_automl.log', 'logs/azureml/dataprep/python_span_630a79ae-ab8a-45dc-910e-cfcf61efd6f9.jsonl', 'logs/azureml/dataprep/python_span_ca2d2138-0608-4c86-8cb3-075031f8c884.jsonl', 'logs/azureml/job_prep_azureml.log', 'logs/azureml/job_release_azureml.log', 'outputs/conda_env_v_1_0_0.yml', 'outputs/env_dependencies.json', 'outputs/internal_cross_validated_models.pkl', 'outputs/model.pkl', 'outputs/pipeline_graph.json', 'outputs/scoring_file_v_1_0_0.py']\\n                See https://aka.ms/run-logging for more details.\"\n    }\n}",
     "output_type": "error",
     "traceback": [
      "\u001b[0;31m---------------------------------------------------------------------------\u001b[0m",
      "\u001b[0;31mModelPathNotFoundException\u001b[0m                Traceback (most recent call last)",
      "\u001b[0;32m<ipython-input-35-2ae30619a5e6>\u001b[0m in \u001b[0;36m<module>\u001b[0;34m\u001b[0m\n\u001b[1;32m      2\u001b[0m \u001b[0mos\u001b[0m\u001b[0;34m.\u001b[0m\u001b[0mmakedirs\u001b[0m\u001b[0;34m(\u001b[0m\u001b[0;34m'outputs'\u001b[0m\u001b[0;34m,\u001b[0m \u001b[0mexist_ok\u001b[0m\u001b[0;34m=\u001b[0m\u001b[0;32mTrue\u001b[0m\u001b[0;34m)\u001b[0m\u001b[0;34m\u001b[0m\u001b[0;34m\u001b[0m\u001b[0m\n\u001b[1;32m      3\u001b[0m \u001b[0;34m\u001b[0m\u001b[0m\n\u001b[0;32m----> 4\u001b[0;31m \u001b[0mmodel\u001b[0m \u001b[0;34m=\u001b[0m \u001b[0mautoml_best_run\u001b[0m\u001b[0;34m.\u001b[0m\u001b[0mregister_model\u001b[0m\u001b[0;34m(\u001b[0m\u001b[0mmodel_name\u001b[0m \u001b[0;34m=\u001b[0m \u001b[0;34m'automl_best_model'\u001b[0m\u001b[0;34m)\u001b[0m\u001b[0;31m# model_path = './outputs/model.pkl')\u001b[0m\u001b[0;34m\u001b[0m\u001b[0;34m\u001b[0m\u001b[0m\n\u001b[0m",
      "\u001b[0;32m/anaconda/envs/azureml_py36/lib/python3.6/site-packages/azureml/core/run.py\u001b[0m in \u001b[0;36mregister_model\u001b[0;34m(self, model_name, model_path, tags, properties, model_framework, model_framework_version, description, datasets, sample_input_dataset, sample_output_dataset, resource_configuration, **kwargs)\u001b[0m\n\u001b[1;32m   2107\u001b[0m             \u001b[0mmodel_name\u001b[0m\u001b[0;34m,\u001b[0m \u001b[0mmodel_path\u001b[0m\u001b[0;34m,\u001b[0m \u001b[0mtags\u001b[0m\u001b[0;34m,\u001b[0m \u001b[0mproperties\u001b[0m\u001b[0;34m,\u001b[0m \u001b[0mmodel_framework\u001b[0m\u001b[0;34m,\u001b[0m \u001b[0mmodel_framework_version\u001b[0m\u001b[0;34m,\u001b[0m\u001b[0;34m\u001b[0m\u001b[0;34m\u001b[0m\u001b[0m\n\u001b[1;32m   2108\u001b[0m             \u001b[0mdescription\u001b[0m\u001b[0;34m=\u001b[0m\u001b[0mdescription\u001b[0m\u001b[0;34m,\u001b[0m \u001b[0mdatasets\u001b[0m\u001b[0;34m=\u001b[0m\u001b[0mdatasets\u001b[0m\u001b[0;34m,\u001b[0m \u001b[0munpack\u001b[0m\u001b[0;34m=\u001b[0m\u001b[0;32mFalse\u001b[0m\u001b[0;34m,\u001b[0m \u001b[0msample_input_dataset\u001b[0m\u001b[0;34m=\u001b[0m\u001b[0msample_input_dataset\u001b[0m\u001b[0;34m,\u001b[0m\u001b[0;34m\u001b[0m\u001b[0;34m\u001b[0m\u001b[0m\n\u001b[0;32m-> 2109\u001b[0;31m             sample_output_dataset=sample_output_dataset, resource_configuration=resource_configuration, **kwargs)\n\u001b[0m\u001b[1;32m   2110\u001b[0m \u001b[0;34m\u001b[0m\u001b[0m\n\u001b[1;32m   2111\u001b[0m     \u001b[0;32mdef\u001b[0m \u001b[0m_update_dataset_lineage\u001b[0m\u001b[0;34m(\u001b[0m\u001b[0mself\u001b[0m\u001b[0;34m,\u001b[0m \u001b[0mdatasets\u001b[0m\u001b[0;34m)\u001b[0m\u001b[0;34m:\u001b[0m\u001b[0;34m\u001b[0m\u001b[0;34m\u001b[0m\u001b[0m\n",
      "\u001b[0;32m/anaconda/envs/azureml_py36/lib/python3.6/site-packages/azureml/_run_impl/run_history_facade.py\u001b[0m in \u001b[0;36mregister_model\u001b[0;34m(self, model_name, model_path, tags, properties, model_framework, model_framework_version, asset_id, sample_input_dataset, sample_output_dataset, resource_configuration, **kwargs)\u001b[0m\n\u001b[1;32m    435\u001b[0m             raise ModelPathNotFoundException(\n\u001b[1;32m    436\u001b[0m                 \"\"\"Could not locate the provided model_path {} in the set of files uploaded to the run: {}\n\u001b[0;32m--> 437\u001b[0;31m                 See https://aka.ms/run-logging for more details.\"\"\".format(model_path, str(run_files)))\n\u001b[0m\u001b[1;32m    438\u001b[0m         \u001b[0martifacts\u001b[0m \u001b[0;34m=\u001b[0m \u001b[0;34m[\u001b[0m\u001b[0;34m{\u001b[0m\u001b[0;34m\"prefix\"\u001b[0m\u001b[0;34m:\u001b[0m \u001b[0martifact_prefix_id\u001b[0m\u001b[0;34m}\u001b[0m\u001b[0;34m]\u001b[0m\u001b[0;34m\u001b[0m\u001b[0;34m\u001b[0m\u001b[0m\n\u001b[1;32m    439\u001b[0m         \u001b[0mmetadata_dict\u001b[0m \u001b[0;34m=\u001b[0m \u001b[0;32mNone\u001b[0m\u001b[0;34m\u001b[0m\u001b[0;34m\u001b[0m\u001b[0m\n",
      "\u001b[0;31mModelPathNotFoundException\u001b[0m: ModelPathNotFoundException:\n\tMessage: Could not locate the provided model_path automl_best_model in the set of files uploaded to the run: ['accuracy_table', 'automl_driver.py', 'azureml-logs/55_azureml-execution-tvmps_96d65a381c5bb9f024ba84f4c039cf04aad0dfcab1389008fce107d5872044af_d.txt', 'azureml-logs/65_job_prep-tvmps_96d65a381c5bb9f024ba84f4c039cf04aad0dfcab1389008fce107d5872044af_d.txt', 'azureml-logs/70_driver_log.txt', 'azureml-logs/75_job_post-tvmps_96d65a381c5bb9f024ba84f4c039cf04aad0dfcab1389008fce107d5872044af_d.txt', 'azureml-logs/process_info.json', 'azureml-logs/process_status.json', 'confusion_matrix', 'explanation/4b448a66/classes.interpret.json', 'explanation/4b448a66/eval_data_viz.interpret.json', 'explanation/4b448a66/expected_values.interpret.json', 'explanation/4b448a66/features.interpret.json', 'explanation/4b448a66/global_names/0.interpret.json', 'explanation/4b448a66/global_rank/0.interpret.json', 'explanation/4b448a66/global_values/0.interpret.json', 'explanation/4b448a66/local_importance_values.interpret.json', 'explanation/4b448a66/per_class_names/0.interpret.json', 'explanation/4b448a66/per_class_rank/0.interpret.json', 'explanation/4b448a66/per_class_values/0.interpret.json', 'explanation/4b448a66/rich_metadata.interpret.json', 'explanation/4b448a66/visualization_dict.interpret.json', 'explanation/dd1291d2/classes.interpret.json', 'explanation/dd1291d2/eval_data_viz.interpret.json', 'explanation/dd1291d2/expected_values.interpret.json', 'explanation/dd1291d2/features.interpret.json', 'explanation/dd1291d2/global_names/0.interpret.json', 'explanation/dd1291d2/global_rank/0.interpret.json', 'explanation/dd1291d2/global_values/0.interpret.json', 'explanation/dd1291d2/local_importance_values.interpret.json', 'explanation/dd1291d2/per_class_names/0.interpret.json', 'explanation/dd1291d2/per_class_rank/0.interpret.json', 'explanation/dd1291d2/per_class_values/0.interpret.json', 'explanation/dd1291d2/rich_metadata.interpret.json', 'explanation/dd1291d2/visualization_dict.interpret.json', 'explanation/dd1291d2/ys_pred_proba_viz.interpret.json', 'explanation/dd1291d2/ys_pred_viz.interpret.json', 'logs/azureml/101_azureml.log', 'logs/azureml/azureml_automl.log', 'logs/azureml/dataprep/python_span_630a79ae-ab8a-45dc-910e-cfcf61efd6f9.jsonl', 'logs/azureml/dataprep/python_span_ca2d2138-0608-4c86-8cb3-075031f8c884.jsonl', 'logs/azureml/job_prep_azureml.log', 'logs/azureml/job_release_azureml.log', 'outputs/conda_env_v_1_0_0.yml', 'outputs/env_dependencies.json', 'outputs/internal_cross_validated_models.pkl', 'outputs/model.pkl', 'outputs/pipeline_graph.json', 'outputs/scoring_file_v_1_0_0.py']\n                See https://aka.ms/run-logging for more details.\n\tInnerException None\n\tErrorResponse \n{\n    \"error\": {\n        \"message\": \"Could not locate the provided model_path automl_best_model in the set of files uploaded to the run: ['accuracy_table', 'automl_driver.py', 'azureml-logs/55_azureml-execution-tvmps_96d65a381c5bb9f024ba84f4c039cf04aad0dfcab1389008fce107d5872044af_d.txt', 'azureml-logs/65_job_prep-tvmps_96d65a381c5bb9f024ba84f4c039cf04aad0dfcab1389008fce107d5872044af_d.txt', 'azureml-logs/70_driver_log.txt', 'azureml-logs/75_job_post-tvmps_96d65a381c5bb9f024ba84f4c039cf04aad0dfcab1389008fce107d5872044af_d.txt', 'azureml-logs/process_info.json', 'azureml-logs/process_status.json', 'confusion_matrix', 'explanation/4b448a66/classes.interpret.json', 'explanation/4b448a66/eval_data_viz.interpret.json', 'explanation/4b448a66/expected_values.interpret.json', 'explanation/4b448a66/features.interpret.json', 'explanation/4b448a66/global_names/0.interpret.json', 'explanation/4b448a66/global_rank/0.interpret.json', 'explanation/4b448a66/global_values/0.interpret.json', 'explanation/4b448a66/local_importance_values.interpret.json', 'explanation/4b448a66/per_class_names/0.interpret.json', 'explanation/4b448a66/per_class_rank/0.interpret.json', 'explanation/4b448a66/per_class_values/0.interpret.json', 'explanation/4b448a66/rich_metadata.interpret.json', 'explanation/4b448a66/visualization_dict.interpret.json', 'explanation/dd1291d2/classes.interpret.json', 'explanation/dd1291d2/eval_data_viz.interpret.json', 'explanation/dd1291d2/expected_values.interpret.json', 'explanation/dd1291d2/features.interpret.json', 'explanation/dd1291d2/global_names/0.interpret.json', 'explanation/dd1291d2/global_rank/0.interpret.json', 'explanation/dd1291d2/global_values/0.interpret.json', 'explanation/dd1291d2/local_importance_values.interpret.json', 'explanation/dd1291d2/per_class_names/0.interpret.json', 'explanation/dd1291d2/per_class_rank/0.interpret.json', 'explanation/dd1291d2/per_class_values/0.interpret.json', 'explanation/dd1291d2/rich_metadata.interpret.json', 'explanation/dd1291d2/visualization_dict.interpret.json', 'explanation/dd1291d2/ys_pred_proba_viz.interpret.json', 'explanation/dd1291d2/ys_pred_viz.interpret.json', 'logs/azureml/101_azureml.log', 'logs/azureml/azureml_automl.log', 'logs/azureml/dataprep/python_span_630a79ae-ab8a-45dc-910e-cfcf61efd6f9.jsonl', 'logs/azureml/dataprep/python_span_ca2d2138-0608-4c86-8cb3-075031f8c884.jsonl', 'logs/azureml/job_prep_azureml.log', 'logs/azureml/job_release_azureml.log', 'outputs/conda_env_v_1_0_0.yml', 'outputs/env_dependencies.json', 'outputs/internal_cross_validated_models.pkl', 'outputs/model.pkl', 'outputs/pipeline_graph.json', 'outputs/scoring_file_v_1_0_0.py']\\n                See https://aka.ms/run-logging for more details.\"\n    }\n}"
     ]
    }
   ],
   "source": [
    "#TODO: Save the best model\n",
    "os.makedirs('outputs', exist_ok=True)\n",
    "\n",
    "model = automl_best_run.register_model(model_name = 'automl_best_model')# model_path = './outputs/model.pkl')"
   ]
  },
  {
   "cell_type": "code",
   "execution_count": 29,
   "metadata": {},
   "outputs": [
    {
     "name": "stdout",
     "output_type": "stream",
     "text": [
      "Model(workspace=Workspace.create(name='quick-starts-ws-136251', subscription_id='976ee174-3882-4721-b90a-b5fef6b72f24', resource_group='aml-quickstarts-136251'), name=automl_best_model, id=automl_best_model:2, version=2, tags={}, properties={})\n"
     ]
    }
   ],
   "source": [
    "print(model)"
   ]
  },
  {
   "cell_type": "markdown",
   "metadata": {},
   "source": [
    "## Model Deployment\n",
    "\n",
    "Remember you have to deploy only one of the two models you trained.. Perform the steps in the rest of this notebook only if you wish to deploy this model.\n",
    "\n",
    "TODO: In the cell below, register the model, create an inference config and deploy the model as a web service."
   ]
  },
  {
   "cell_type": "code",
   "execution_count": 30,
   "metadata": {},
   "outputs": [
    {
     "data": {
      "text/plain": [
       "['accuracy_table',\n",
       " 'automl_driver.py',\n",
       " 'azureml-logs/55_azureml-execution-tvmps_96d65a381c5bb9f024ba84f4c039cf04aad0dfcab1389008fce107d5872044af_d.txt',\n",
       " 'azureml-logs/65_job_prep-tvmps_96d65a381c5bb9f024ba84f4c039cf04aad0dfcab1389008fce107d5872044af_d.txt',\n",
       " 'azureml-logs/70_driver_log.txt',\n",
       " 'azureml-logs/75_job_post-tvmps_96d65a381c5bb9f024ba84f4c039cf04aad0dfcab1389008fce107d5872044af_d.txt',\n",
       " 'azureml-logs/process_info.json',\n",
       " 'azureml-logs/process_status.json',\n",
       " 'confusion_matrix',\n",
       " 'explanation/4b448a66/classes.interpret.json',\n",
       " 'explanation/4b448a66/eval_data_viz.interpret.json',\n",
       " 'explanation/4b448a66/expected_values.interpret.json',\n",
       " 'explanation/4b448a66/features.interpret.json',\n",
       " 'explanation/4b448a66/global_names/0.interpret.json',\n",
       " 'explanation/4b448a66/global_rank/0.interpret.json',\n",
       " 'explanation/4b448a66/global_values/0.interpret.json',\n",
       " 'explanation/4b448a66/local_importance_values.interpret.json',\n",
       " 'explanation/4b448a66/per_class_names/0.interpret.json',\n",
       " 'explanation/4b448a66/per_class_rank/0.interpret.json',\n",
       " 'explanation/4b448a66/per_class_values/0.interpret.json',\n",
       " 'explanation/4b448a66/rich_metadata.interpret.json',\n",
       " 'explanation/4b448a66/visualization_dict.interpret.json',\n",
       " 'explanation/dd1291d2/classes.interpret.json',\n",
       " 'explanation/dd1291d2/eval_data_viz.interpret.json',\n",
       " 'explanation/dd1291d2/expected_values.interpret.json',\n",
       " 'explanation/dd1291d2/features.interpret.json',\n",
       " 'explanation/dd1291d2/global_names/0.interpret.json',\n",
       " 'explanation/dd1291d2/global_rank/0.interpret.json',\n",
       " 'explanation/dd1291d2/global_values/0.interpret.json',\n",
       " 'explanation/dd1291d2/local_importance_values.interpret.json',\n",
       " 'explanation/dd1291d2/per_class_names/0.interpret.json',\n",
       " 'explanation/dd1291d2/per_class_rank/0.interpret.json',\n",
       " 'explanation/dd1291d2/per_class_values/0.interpret.json',\n",
       " 'explanation/dd1291d2/rich_metadata.interpret.json',\n",
       " 'explanation/dd1291d2/visualization_dict.interpret.json',\n",
       " 'explanation/dd1291d2/ys_pred_proba_viz.interpret.json',\n",
       " 'explanation/dd1291d2/ys_pred_viz.interpret.json',\n",
       " 'logs/azureml/101_azureml.log',\n",
       " 'logs/azureml/azureml_automl.log',\n",
       " 'logs/azureml/dataprep/python_span_630a79ae-ab8a-45dc-910e-cfcf61efd6f9.jsonl',\n",
       " 'logs/azureml/dataprep/python_span_ca2d2138-0608-4c86-8cb3-075031f8c884.jsonl',\n",
       " 'logs/azureml/job_prep_azureml.log',\n",
       " 'logs/azureml/job_release_azureml.log',\n",
       " 'outputs/conda_env_v_1_0_0.yml',\n",
       " 'outputs/env_dependencies.json',\n",
       " 'outputs/internal_cross_validated_models.pkl',\n",
       " 'outputs/model.pkl',\n",
       " 'outputs/pipeline_graph.json',\n",
       " 'outputs/scoring_file_v_1_0_0.py']"
      ]
     },
     "execution_count": 30,
     "metadata": {},
     "output_type": "execute_result"
    }
   ],
   "source": [
    "automl_best_run.get_file_names()"
   ]
  },
  {
   "cell_type": "code",
   "execution_count": 31,
   "metadata": {
    "gather": {
     "logged": 1598431435189
    },
    "jupyter": {
     "outputs_hidden": false,
     "source_hidden": false
    },
    "nteract": {
     "transient": {
      "deleting": false
     }
    }
   },
   "outputs": [],
   "source": [
    "# Reference: https://docs.microsoft.com/en-us/azure/machine-learning/how-to-deploy-existing-model\n",
    "# https://github.com/Azure/MachineLearningNotebooks/blob/master/how-to-use-azureml/deployment/deploy-to-cloud/model-register-and-deploy.ipynb\n",
    "from azureml.core import Model\n",
    "# Downloading the scoring file and conda environment \n",
    "scoring_file = \"scoring_file_v_1_0_0.py\"\n",
    "conda_env = \"conda_env_v_1_0_0.yml\"\n",
    "\n",
    "automl_best_run.download_file('outputs/' + scoring_file , 'score.py')\n",
    "automl_best_run.download_file('outputs/' + conda_env, 'env.yml')\n",
    "\n",
    "\n"
   ]
  },
  {
   "cell_type": "code",
   "execution_count": 34,
   "metadata": {},
   "outputs": [
    {
     "ename": "SyntaxError",
     "evalue": "invalid syntax (<ipython-input-34-6891cb46c72b>, line 10)",
     "output_type": "error",
     "traceback": [
      "\u001b[0;36m  File \u001b[0;32m\"<ipython-input-34-6891cb46c72b>\"\u001b[0;36m, line \u001b[0;32m10\u001b[0m\n\u001b[0;31m    aci_config = AciWebservice.deploy_configuration(cpu_cores=1, memory_gb=1 auth_enabled = True)\u001b[0m\n\u001b[0m                                                                                        ^\u001b[0m\n\u001b[0;31mSyntaxError\u001b[0m\u001b[0;31m:\u001b[0m invalid syntax\n"
     ]
    }
   ],
   "source": [
    "# Creating the environment\n",
    "env=Environment.from_conda_specification(name='env',file_path = \"env.yml\")\n",
    "\n",
    "# Creating an inference config\n",
    "inference_config = InferenceConfig(entry_script=\"score.py\",\n",
    "                                   environment=env)\n",
    "\n",
    "# Deploying the model as a web service to an Azure Container Instance (ACI)\n",
    "service_name = 'hf-prediction'\n",
    "aci_config = AciWebservice.deploy_configuration(cpu_cores=1, memory_gb=1)\n",
    "\n",
    "deployed_model_webservice = Model.deploy(workspace=ws,\n",
    "                       name=service_name,\n",
    "                       models=[model],\n",
    "                       inference_config=inference_config,\n",
    "                       deployment_config=aci_config,\n",
    "                       overwrite=True)\n",
    "\n",
    "deployed_model_webservice.wait_for_deployment(show_output=True)\n"
   ]
  },
  {
   "cell_type": "code",
   "execution_count": 33,
   "metadata": {},
   "outputs": [
    {
     "name": "stdout",
     "output_type": "stream",
     "text": [
      "None\n"
     ]
    }
   ],
   "source": [
    "print(deployed_model_webservice.get_logs())"
   ]
  },
  {
   "cell_type": "markdown",
   "metadata": {
    "collapsed": true,
    "gather": {
     "logged": 1598431657736
    },
    "jupyter": {
     "outputs_hidden": false,
     "source_hidden": false
    },
    "nteract": {
     "transient": {
      "deleting": false
     }
    }
   },
   "source": [
    "TODO: In the cell below, send a request to the web service you deployed to test it."
   ]
  },
  {
   "cell_type": "code",
   "execution_count": null,
   "metadata": {
    "gather": {
     "logged": 1598432707604
    },
    "jupyter": {
     "outputs_hidden": false,
     "source_hidden": false
    },
    "nteract": {
     "transient": {
      "deleting": false
     }
    }
   },
   "outputs": [],
   "source": [
    "# Reference: https://github.com/Azure/MachineLearningNotebooks/blob/master/how-to-use-azureml/deployment/deploy-to-cloud/model-register-and-deploy.ipynb \n",
    "# and endpoint.py file used in Project 2\n",
    "\n",
    "\n",
    "scoring_uri = \n",
    "# If the service is authenticated, set the key or token\n",
    "# key = \n",
    "\n",
    "\n",
    "df.drop(columns=[\"DEATH_EVENT\"])\n",
    "\n",
    "input_data = json.dumps({\n",
    "    'data': df[0:2].to_dict()\n",
    "})\n",
    "\n",
    "with open(\"data.json\", \"w\") as _f:\n",
    "    _f.write(input_data)\n",
    "\n",
    "# Set the content type\n",
    "headers = {'Content-Type': 'application/json'}\n",
    "# If authentication is enabled, set the authorization header\n",
    "# headers['Authorization'] = f'Bearer {key}'\n",
    "\n",
    "# Make the request and display the response\n",
    "resp = requests.post(scoring_uri, input_data, headers=headers)\n",
    "print(resp.json())    \n",
    "    "
   ]
  },
  {
   "cell_type": "markdown",
   "metadata": {
    "collapsed": true,
    "gather": {
     "logged": 1598432765711
    },
    "jupyter": {
     "outputs_hidden": false,
     "source_hidden": false
    },
    "nteract": {
     "transient": {
      "deleting": false
     }
    }
   },
   "source": [
    "TODO: In the cell below, print the logs of the web service and delete the service"
   ]
  },
  {
   "cell_type": "code",
   "execution_count": null,
   "metadata": {
    "jupyter": {
     "outputs_hidden": false,
     "source_hidden": false
    },
    "nteract": {
     "transient": {
      "deleting": false
     }
    }
   },
   "outputs": [],
   "source": [
    "# Retrieve logs for this Webservice\n",
    "deployed_model_webservice.get_logs()\n",
    "\n",
    "# Delete service\n",
    "deployed_model_webservice.delete()"
   ]
  }
 ],
 "metadata": {
  "kernel_info": {
   "name": "python3"
  },
  "kernelspec": {
   "display_name": "Python 3",
   "language": "python",
   "name": "python3"
  },
  "language_info": {
   "codemirror_mode": {
    "name": "ipython",
    "version": 3
   },
   "file_extension": ".py",
   "mimetype": "text/x-python",
   "name": "python",
   "nbconvert_exporter": "python",
   "pygments_lexer": "ipython3",
   "version": "3.6.9"
  },
  "nteract": {
   "version": "nteract-front-end@1.0.0"
  }
 },
 "nbformat": 4,
 "nbformat_minor": 2
}
